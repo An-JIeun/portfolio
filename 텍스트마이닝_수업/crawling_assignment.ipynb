{
 "cells": [
  {
   "cell_type": "code",
   "execution_count": 1,
   "metadata": {},
   "outputs": [
    {
     "name": "stdout",
     "output_type": "stream",
     "text": [
      "hell world\n"
     ]
    }
   ],
   "source": [
    "print('hell world')"
   ]
  },
  {
   "cell_type": "markdown",
   "metadata": {},
   "source": [
    "# 0. 라이브러리 임포트 및 크롤러 준비"
   ]
  },
  {
   "cell_type": "code",
   "execution_count": 5,
   "metadata": {},
   "outputs": [],
   "source": [
    "import pandas as pd\n",
    "import numpy as np\n",
    "import selenium\n",
    "from selenium import webdriver\n",
    "driver = webdriver.Chrome()\n",
    "import bs4\n",
    "from bs4 import BeautifulSoup \n",
    "import requests as re\n",
    "import tqdm \n",
    "import urllib\n",
    "from urllib.request import urlopen \n"
   ]
  },
  {
   "cell_type": "code",
   "execution_count": 20,
   "metadata": {},
   "outputs": [],
   "source": [
    "html = urlopen('https://product.kyobobook.co.kr/bestseller/total')\n",
    "bs = BeautifulSoup(html, \"html.parser\")"
   ]
  },
  {
   "cell_type": "code",
   "execution_count": 24,
   "metadata": {},
   "outputs": [],
   "source": [
    "div = bs.find_all('ol', {\"class\":\"prod_list\"})"
   ]
  },
  {
   "cell_type": "code",
   "execution_count": 25,
   "metadata": {},
   "outputs": [
    {
     "data": {
      "text/plain": [
       "[]"
      ]
     },
     "execution_count": 25,
     "metadata": {},
     "output_type": "execute_result"
    }
   ],
   "source": [
    "div"
   ]
  },
  {
   "cell_type": "code",
   "execution_count": 21,
   "metadata": {},
   "outputs": [
    {
     "data": {
      "text/plain": [
       "\n",
       "<!DOCTYPE html PUBLIC \"-//W3C//DTD XHTML 1.0 Transitional//EN\" \"http://www.w3.org/TR/xhtml1/DTD/xhtml1-transitional.dtd\">\n",
       "\n",
       "<meta charset=\"utf-8\"/>\n",
       "<html xmlns=\"http://www.w3.org/1999/xhtml\">\n",
       "<head>\n",
       "<title> 서비스 점검 - 교보문고 </title>\n",
       "<meta content=\"width=device-width, initial-scale=1.0, maximum-scale=1.0, minimum-scale=1.0, user-scalable=no, target-densitydpi=medium-dpi\" name=\"viewport\"/>\n",
       "<meta content=\"\" name=\"author\">\n",
       "<meta content=\"\" name=\"keywords\">\n",
       "<meta content=\"\" name=\"description\"/>\n",
       "<style type=\"text/css\">\n",
       "\t* {padding:0;margin:0;list-style:none;}\n",
       "  </style>\n",
       "</meta></meta></head>\n",
       "<body>\n",
       "<style type=\"text/css\">\n",
       "\t.errorPage_wrap {width:680px;margin:117px auto 0;}\n",
       "\t.errorPage_wrap .logo {font-size: 0; line-height: 0; text-align:center;}\n",
       "\t.errorPage_wrap .title {font-size:45px; color:#333; margin:23px 0 0 0; text-align:center;}\n",
       "\t.errorPage_wrap .title strong{color:#ff6600;}\n",
       "\n",
       "\t.errorPage_wrap .errorMsg01_wrap {margin:45px 0 46px;text-align:center; font-size:18px; line-height:1.4; color:#444444;}\n",
       "\t.errorPage_wrap .errorMsg01_wrap p.txt01{margin-bottom:20px;}\n",
       "\t.errorPage_wrap .errorMsg02_wrap {padding:13px 0 38px; background-color:#eeeeee; font-size:18px; line-height:1.4; color:#444444; border-radius:20px; text-align:center;}\n",
       "\t.errorPage_wrap .errorMsg02_wrap .box_title{display:inline-block; margin:22px auto 0; color:#222222; font-weight:bold; border-bottom:2px solid #555;}\n",
       "\t.errorPage_wrap .errorMsg02_wrap .box_text{margin-top:8px;;}\n",
       "\t.errorPage_wrap .errorMsg03_wrap {margin:50px 0 30px;text-align:center; font-size:18px; line-height:1.4; color:#444444;}\n",
       "\t.errorPage_wrap .errorMsg03_wrap p.txt01 {margin-top: 20px;}\n",
       "\t.errorPage_wrap .errorMsg03_wrap p.txt01 strong{font-size:24px;line-height:1.4; font-weight:600;}\n",
       "\t.errorPage_wrap br {display:none;}\n",
       "\n",
       "\t@media screen and (max-width:768px){\n",
       "\t\t.errorPage_wrap {margin:40px 20px 0;width:auto !important;}\n",
       "\t\t.errorPage_wrap .title {font-size:6vw; font-weight:bold;}\n",
       "\t\t.errorPage_wrap .errorMsg01_wrap {margin:20px 0; font-size:2.5vw;}\n",
       "\t\t.errorPage_wrap .errorMsg02_wrap {padding:5px 20px 25px; font-size:2.5vw;}\n",
       "\t\t.errorPage_wrap .errorMsg02_wrap .box_title {margin-top: 15px;}\n",
       "\t\t.errorPage_wrap .errorMsg03_wrap {margin:20px 0; font-size:2.5vw;}\n",
       "\t\t.errorPage_wrap .errorMsg03_wrap strong{font-size:5vw;}\n",
       "\t\t.errorPage_wrap br {display:block;}\n",
       "\t} \n",
       "\n",
       "\t@media screen and (max-width:480px){\n",
       "\t\t.errorPage_wrap .logo img{width:120px; height:36px; }\n",
       "\t\t.errorPage_wrap .title {font-size:30px; }\n",
       "\t\t.errorPage_wrap .errorMsg01_wrap {margin:15px 0; font-size:14px;}\n",
       "\t\t.errorPage_wrap .errorMsg02_wrap {padding:0 10px 20px;font-size:14px;}\n",
       "\t\t.errorPage_wrap .errorMsg03_wrap {margin:15px 0; font-size:14px;}\n",
       "\t} \n",
       "\n",
       "\n",
       "\n",
       "</style>\n",
       "<div class=\"errorPage_wrap\">\n",
       "<div class=\"title\">서비스 <strong>점검 중</strong>입니다</div>\n",
       "<div class=\"errorMsg01_wrap\">\n",
       "<p class=\"txt01\">안녕하세요. <strong>교보문고</strong>입니다.</p>\n",
       "<p>홈페이지의 원활한 서비스를 위하여 <br/>임시 점검을 실시합니다.</p>\n",
       "<p>점검 중에는 서비스를 이용하실 수 없으니 <br/>고객님의 양해 부탁드립니다.</p>\n",
       "</div>\n",
       "<div class=\"errorMsg02_wrap\">\n",
       "<div class=\"box_title\">점검 일시</div>\n",
       "<div class=\"box_text\">2022년 10월 9일 21:00 ~ 22:00</div>\n",
       "<div class=\"box_title\">점검 범위</div>\n",
       "<div class=\"box_text\">인터넷/모바일 교보문고, 교보eBook 등 교보문고 모든 서비스</div>\n",
       "</div>\n",
       "<div class=\"errorMsg03_wrap\">\n",
       "<p>서비스 점검 시간 동안 이용에 <br/>불편 드리게된 점 사과 드리며,</p>\n",
       "<p>약속한 시간 내에<br/> 조속히 점검을 마칠 수 있도록 <br/>최선을 다하겠습니다.</p>\n",
       "<p class=\"txt01\"><strong>감사합니다.</strong></p>\n",
       "</div>\n",
       "</div>\n",
       "</body>\n",
       "</html>\n",
       "\n"
      ]
     },
     "execution_count": 21,
     "metadata": {},
     "output_type": "execute_result"
    }
   ],
   "source": [
    "bs"
   ]
  },
  {
   "cell_type": "code",
   "execution_count": null,
   "metadata": {},
   "outputs": [],
   "source": []
  }
 ],
 "metadata": {
  "kernelspec": {
   "display_name": "Python 3.9.12 ('base')",
   "language": "python",
   "name": "python3"
  },
  "language_info": {
   "codemirror_mode": {
    "name": "ipython",
    "version": 3
   },
   "file_extension": ".py",
   "mimetype": "text/x-python",
   "name": "python",
   "nbconvert_exporter": "python",
   "pygments_lexer": "ipython3",
   "version": "3.9.12"
  },
  "orig_nbformat": 4,
  "vscode": {
   "interpreter": {
    "hash": "a077222d77dfe082b8f1dd562ad70e458ac2ab76993a0b248ab0476e32e9e8dd"
   }
  }
 },
 "nbformat": 4,
 "nbformat_minor": 2
}
