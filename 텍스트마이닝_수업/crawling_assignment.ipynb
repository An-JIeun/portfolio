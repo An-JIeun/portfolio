{
 "cells": [
  {
   "cell_type": "code",
   "execution_count": 26,
   "metadata": {},
   "outputs": [
    {
     "name": "stdout",
     "output_type": "stream",
     "text": [
      "hell world\n"
     ]
    }
   ],
   "source": [
    "print('hell world')"
   ]
  },
  {
   "cell_type": "markdown",
   "metadata": {},
   "source": [
    "# 0. 라이브러리 임포트 및 크롤러 준비"
   ]
  },
  {
   "cell_type": "code",
   "execution_count": 30,
   "metadata": {},
   "outputs": [],
   "source": [
    "import pandas as pd\n",
    "import numpy as np\n",
    "import selenium\n",
    "from selenium import webdriver\n",
    "driver = webdriver.Chrome()\n",
    "import bs4\n",
    "from bs4 import BeautifulSoup \n",
    "import requests as re\n",
    "import tqdm \n",
    "import urllib\n",
    "from urllib.request import urlopen \n",
    "import time\n",
    "from time import sleep\n",
    "\n"
   ]
  },
  {
   "cell_type": "code",
   "execution_count": 31,
   "metadata": {},
   "outputs": [],
   "source": [
    "html = urlopen('https://product.kyobobook.co.kr/bestseller/total')\n",
    "sleep(5)\n",
    "bs = BeautifulSoup(html, \"html.parser\")"
   ]
  },
  {
   "cell_type": "code",
   "execution_count": 24,
   "metadata": {},
   "outputs": [],
   "source": [
    "div = bs.find_all('ol', {\"class\":\"prod_list\"})"
   ]
  },
  {
   "cell_type": "code",
   "execution_count": 25,
   "metadata": {},
   "outputs": [
    {
     "data": {
      "text/plain": [
       "[]"
      ]
     },
     "execution_count": 25,
     "metadata": {},
     "output_type": "execute_result"
    }
   ],
   "source": [
    "div"
   ]
  },
  {
   "cell_type": "code",
   "execution_count": 52,
   "metadata": {},
   "outputs": [
    {
     "data": {
      "text/plain": [
       "[<selenium.webdriver.remote.webelement.WebElement (session=\"6c7505ba8f701381022abc05bbf46bc2\", element=\"44ecca45-0946-4b8d-8820-4dcdf4a0280c\")>,\n",
       " <selenium.webdriver.remote.webelement.WebElement (session=\"6c7505ba8f701381022abc05bbf46bc2\", element=\"1cda2f04-722d-4670-a187-098aca3fe242\")>,\n",
       " <selenium.webdriver.remote.webelement.WebElement (session=\"6c7505ba8f701381022abc05bbf46bc2\", element=\"fdc7b2ec-6f51-4906-a2da-246965c2a807\")>,\n",
       " <selenium.webdriver.remote.webelement.WebElement (session=\"6c7505ba8f701381022abc05bbf46bc2\", element=\"b50d4ca3-063d-465e-a983-3334de2928e8\")>,\n",
       " <selenium.webdriver.remote.webelement.WebElement (session=\"6c7505ba8f701381022abc05bbf46bc2\", element=\"4b302384-d390-46aa-b55d-73fef08bcfc3\")>,\n",
       " <selenium.webdriver.remote.webelement.WebElement (session=\"6c7505ba8f701381022abc05bbf46bc2\", element=\"b7866bbd-226b-4dd6-852c-cb98b7ba31f4\")>,\n",
       " <selenium.webdriver.remote.webelement.WebElement (session=\"6c7505ba8f701381022abc05bbf46bc2\", element=\"b7547a1e-1c06-4b04-8dd5-a961c646a4c5\")>,\n",
       " <selenium.webdriver.remote.webelement.WebElement (session=\"6c7505ba8f701381022abc05bbf46bc2\", element=\"1fab23af-3684-4aab-8f3b-07662bfc335a\")>,\n",
       " <selenium.webdriver.remote.webelement.WebElement (session=\"6c7505ba8f701381022abc05bbf46bc2\", element=\"80e95dff-ecb7-4e2d-8383-a8709bab171b\")>,\n",
       " <selenium.webdriver.remote.webelement.WebElement (session=\"6c7505ba8f701381022abc05bbf46bc2\", element=\"a6b02455-7e2f-4fab-bb9d-4b9c813e1a67\")>,\n",
       " <selenium.webdriver.remote.webelement.WebElement (session=\"6c7505ba8f701381022abc05bbf46bc2\", element=\"1a5d32c1-4725-4723-81be-0665f811b1a8\")>,\n",
       " <selenium.webdriver.remote.webelement.WebElement (session=\"6c7505ba8f701381022abc05bbf46bc2\", element=\"89494f95-4971-439a-94f8-00176559424c\")>,\n",
       " <selenium.webdriver.remote.webelement.WebElement (session=\"6c7505ba8f701381022abc05bbf46bc2\", element=\"13a7d69a-1261-46ed-949e-2f9ea5770e81\")>,\n",
       " <selenium.webdriver.remote.webelement.WebElement (session=\"6c7505ba8f701381022abc05bbf46bc2\", element=\"e816d169-02e2-4999-a6d4-d7721891dc08\")>,\n",
       " <selenium.webdriver.remote.webelement.WebElement (session=\"6c7505ba8f701381022abc05bbf46bc2\", element=\"45ef3a24-8c94-4847-b148-3867da2b3f70\")>,\n",
       " <selenium.webdriver.remote.webelement.WebElement (session=\"6c7505ba8f701381022abc05bbf46bc2\", element=\"2f554897-b1f4-43fb-b680-09994927c296\")>,\n",
       " <selenium.webdriver.remote.webelement.WebElement (session=\"6c7505ba8f701381022abc05bbf46bc2\", element=\"2050ae57-b4fd-4140-a4bf-72573891bd25\")>,\n",
       " <selenium.webdriver.remote.webelement.WebElement (session=\"6c7505ba8f701381022abc05bbf46bc2\", element=\"05abc58e-00cf-4369-b20f-a5dab40d8a8e\")>,\n",
       " <selenium.webdriver.remote.webelement.WebElement (session=\"6c7505ba8f701381022abc05bbf46bc2\", element=\"18be6147-c853-4914-9e4b-e3a5e08ec412\")>,\n",
       " <selenium.webdriver.remote.webelement.WebElement (session=\"6c7505ba8f701381022abc05bbf46bc2\", element=\"34bb2637-3abc-46f4-9c3a-8dc9b8cd3f9e\")>]"
      ]
     },
     "execution_count": 52,
     "metadata": {},
     "output_type": "execute_result"
    }
   ],
   "source": [
    "driver.find_elements(By.CLASS_NAME,'prod_item' )"
   ]
  },
  {
   "cell_type": "code",
   "execution_count": 68,
   "metadata": {},
   "outputs": [
    {
     "name": "stdout",
     "output_type": "stream",
     "text": [
      "하얼빈\n",
      "역행자\n",
      "불편한 편의점 2\n",
      "불편한 편의점(40만부 기념 벚꽃 에디션)\n",
      "아버지의 해방일지\n",
      "파친코 1\n",
      "원씽(The One Thing)(리커버 특별판)\n",
      "잘될 수밖에 없는 너에게\n",
      "세상의 마지막 기차역\n",
      "마흔에 읽는 니체\n",
      "나는 나를 바꾸기로 했다\n",
      "부자 아빠 가난한 아빠 1(20주년 특별 기념판)\n",
      "심리학이 분노에 답하다\n",
      "흔한남매 11\n",
      "세상에서 가장 쉬운 본질육아\n",
      "기분을 관리하면 인생이 관리된다\n",
      "최소한의 이웃\n",
      "그릿(100쇄 기념 리커버 에디션)\n",
      "믹스(Mix)\n",
      "데일 카네기 인간관계론\n"
     ]
    },
    {
     "data": {
      "text/plain": [
       "['16,000원',\n",
       " '17,500원',\n",
       " '14,000원',\n",
       " '14,000원',\n",
       " '15,000원',\n",
       " '15,800원',\n",
       " '14,000원',\n",
       " '16,000원',\n",
       " '14,000원',\n",
       " '16,000원',\n",
       " '15,800원',\n",
       " '15,800원',\n",
       " '17,800원',\n",
       " '14,500원',\n",
       " '18,800원',\n",
       " '17,600원',\n",
       " '15,800원',\n",
       " '16,000원',\n",
       " '18,800원',\n",
       " '11,500원']"
      ]
     },
     "execution_count": 68,
     "metadata": {},
     "output_type": "execute_result"
    }
   ],
   "source": [
    "from selenium.webdriver.common.by import By\n",
    "driver.get(\"https://product.kyobobook.co.kr/bestseller/total\")\n",
    "prod_webd_list = driver.find_elements(By.CLASS_NAME,'prod_item' )\n",
    "def attr(class_name, idx):\n",
    "    attr = prod_webd_list[idx].find_element(By.CLASS_NAME, class_name).text\n",
    "    print(attr)\n",
    "    return attr\n",
    "prod_title_list = []\n",
    "prod_price_list = []\n",
    "for i in range(len(prod_webd_list)):\n",
    "    prod_webd_list[i].find_element(By.CLASS_NAME, 'prod_name')\n",
    "    prod_title_list.append(attr('prod_name', i))\n",
    "    prod_price_list.append(prod_webd_list[i].find_element(By.TAG_NAME, 's').text)\n",
    "prod_title_list\n",
    "prod_price_list\n",
    "\n"
   ]
  },
  {
   "cell_type": "code",
   "execution_count": 69,
   "metadata": {},
   "outputs": [
    {
     "data": {
      "text/plain": [
       "['하얼빈',\n",
       " '역행자',\n",
       " '불편한 편의점 2',\n",
       " '불편한 편의점(40만부 기념 벚꽃 에디션)',\n",
       " '아버지의 해방일지',\n",
       " '파친코 1',\n",
       " '원씽(The One Thing)(리커버 특별판)',\n",
       " '잘될 수밖에 없는 너에게',\n",
       " '세상의 마지막 기차역',\n",
       " '마흔에 읽는 니체',\n",
       " '나는 나를 바꾸기로 했다',\n",
       " '부자 아빠 가난한 아빠 1(20주년 특별 기념판)',\n",
       " '심리학이 분노에 답하다',\n",
       " '흔한남매 11',\n",
       " '세상에서 가장 쉬운 본질육아',\n",
       " '기분을 관리하면 인생이 관리된다',\n",
       " '최소한의 이웃',\n",
       " '그릿(100쇄 기념 리커버 에디션)',\n",
       " '믹스(Mix)',\n",
       " '데일 카네기 인간관계론']"
      ]
     },
     "execution_count": 69,
     "metadata": {},
     "output_type": "execute_result"
    }
   ],
   "source": [
    "prod_title_list"
   ]
  },
  {
   "cell_type": "code",
   "execution_count": 59,
   "metadata": {},
   "outputs": [
    {
     "data": {
      "text/plain": [
       "<selenium.webdriver.remote.webelement.WebElement (session=\"6c7505ba8f701381022abc05bbf46bc2\", element=\"fbdfbb40-86f7-419c-9b46-22ba13920a67\")>"
      ]
     },
     "execution_count": 59,
     "metadata": {},
     "output_type": "execute_result"
    }
   ],
   "source": [
    "prod_webd_list = driver.find_elements(By.CLASS_NAME,'prod_item' )\n",
    "prod_webd_list[0].find_element(By.CLASS_NAME,'prod_name')"
   ]
  },
  {
   "cell_type": "code",
   "execution_count": 32,
   "metadata": {},
   "outputs": [
    {
     "data": {
      "text/plain": [
       "\n",
       "<!DOCTYPE html PUBLIC \"-//W3C//DTD XHTML 1.0 Transitional//EN\" \"http://www.w3.org/TR/xhtml1/DTD/xhtml1-transitional.dtd\">\n",
       "\n",
       "<meta charset=\"utf-8\"/>\n",
       "<html xmlns=\"http://www.w3.org/1999/xhtml\">\n",
       "<head>\n",
       "<title> 서비스 점검 - 교보문고 </title>\n",
       "<meta content=\"width=device-width, initial-scale=1.0, maximum-scale=1.0, minimum-scale=1.0, user-scalable=no, target-densitydpi=medium-dpi\" name=\"viewport\"/>\n",
       "<meta content=\"\" name=\"author\">\n",
       "<meta content=\"\" name=\"keywords\">\n",
       "<meta content=\"\" name=\"description\"/>\n",
       "<style type=\"text/css\">\n",
       "\t* {padding:0;margin:0;list-style:none;}\n",
       "  </style>\n",
       "</meta></meta></head>\n",
       "<body>\n",
       "<style type=\"text/css\">\n",
       "\t.errorPage_wrap {width:680px;margin:117px auto 0;}\n",
       "\t.errorPage_wrap .logo {font-size: 0; line-height: 0; text-align:center;}\n",
       "\t.errorPage_wrap .title {font-size:45px; color:#333; margin:23px 0 0 0; text-align:center;}\n",
       "\t.errorPage_wrap .title strong{color:#ff6600;}\n",
       "\n",
       "\t.errorPage_wrap .errorMsg01_wrap {margin:45px 0 46px;text-align:center; font-size:18px; line-height:1.4; color:#444444;}\n",
       "\t.errorPage_wrap .errorMsg01_wrap p.txt01{margin-bottom:20px;}\n",
       "\t.errorPage_wrap .errorMsg02_wrap {padding:13px 0 38px; background-color:#eeeeee; font-size:18px; line-height:1.4; color:#444444; border-radius:20px; text-align:center;}\n",
       "\t.errorPage_wrap .errorMsg02_wrap .box_title{display:inline-block; margin:22px auto 0; color:#222222; font-weight:bold; border-bottom:2px solid #555;}\n",
       "\t.errorPage_wrap .errorMsg02_wrap .box_text{margin-top:8px;;}\n",
       "\t.errorPage_wrap .errorMsg03_wrap {margin:50px 0 30px;text-align:center; font-size:18px; line-height:1.4; color:#444444;}\n",
       "\t.errorPage_wrap .errorMsg03_wrap p.txt01 {margin-top: 20px;}\n",
       "\t.errorPage_wrap .errorMsg03_wrap p.txt01 strong{font-size:24px;line-height:1.4; font-weight:600;}\n",
       "\t.errorPage_wrap br {display:none;}\n",
       "\n",
       "\t@media screen and (max-width:768px){\n",
       "\t\t.errorPage_wrap {margin:40px 20px 0;width:auto !important;}\n",
       "\t\t.errorPage_wrap .title {font-size:6vw; font-weight:bold;}\n",
       "\t\t.errorPage_wrap .errorMsg01_wrap {margin:20px 0; font-size:2.5vw;}\n",
       "\t\t.errorPage_wrap .errorMsg02_wrap {padding:5px 20px 25px; font-size:2.5vw;}\n",
       "\t\t.errorPage_wrap .errorMsg02_wrap .box_title {margin-top: 15px;}\n",
       "\t\t.errorPage_wrap .errorMsg03_wrap {margin:20px 0; font-size:2.5vw;}\n",
       "\t\t.errorPage_wrap .errorMsg03_wrap strong{font-size:5vw;}\n",
       "\t\t.errorPage_wrap br {display:block;}\n",
       "\t} \n",
       "\n",
       "\t@media screen and (max-width:480px){\n",
       "\t\t.errorPage_wrap .logo img{width:120px; height:36px; }\n",
       "\t\t.errorPage_wrap .title {font-size:30px; }\n",
       "\t\t.errorPage_wrap .errorMsg01_wrap {margin:15px 0; font-size:14px;}\n",
       "\t\t.errorPage_wrap .errorMsg02_wrap {padding:0 10px 20px;font-size:14px;}\n",
       "\t\t.errorPage_wrap .errorMsg03_wrap {margin:15px 0; font-size:14px;}\n",
       "\t} \n",
       "\n",
       "\n",
       "\n",
       "</style>\n",
       "<div class=\"errorPage_wrap\">\n",
       "<div class=\"title\">서비스 <strong>점검 중</strong>입니다</div>\n",
       "<div class=\"errorMsg01_wrap\">\n",
       "<p class=\"txt01\">안녕하세요. <strong>교보문고</strong>입니다.</p>\n",
       "<p>홈페이지의 원활한 서비스를 위하여 <br/>임시 점검을 실시합니다.</p>\n",
       "<p>점검 중에는 서비스를 이용하실 수 없으니 <br/>고객님의 양해 부탁드립니다.</p>\n",
       "</div>\n",
       "<div class=\"errorMsg02_wrap\">\n",
       "<div class=\"box_title\">점검 일시</div>\n",
       "<div class=\"box_text\">2022년 10월 9일 21:00 ~ 22:00</div>\n",
       "<div class=\"box_title\">점검 범위</div>\n",
       "<div class=\"box_text\">인터넷/모바일 교보문고, 교보eBook 등 교보문고 모든 서비스</div>\n",
       "</div>\n",
       "<div class=\"errorMsg03_wrap\">\n",
       "<p>서비스 점검 시간 동안 이용에 <br/>불편 드리게된 점 사과 드리며,</p>\n",
       "<p>약속한 시간 내에<br/> 조속히 점검을 마칠 수 있도록 <br/>최선을 다하겠습니다.</p>\n",
       "<p class=\"txt01\"><strong>감사합니다.</strong></p>\n",
       "</div>\n",
       "</div>\n",
       "</body>\n",
       "</html>\n",
       "\n"
      ]
     },
     "execution_count": 32,
     "metadata": {},
     "output_type": "execute_result"
    }
   ],
   "source": [
    "bs"
   ]
  },
  {
   "cell_type": "code",
   "execution_count": null,
   "metadata": {},
   "outputs": [],
   "source": []
  }
 ],
 "metadata": {
  "kernelspec": {
   "display_name": "Python 3.9.12 ('base')",
   "language": "python",
   "name": "python3"
  },
  "language_info": {
   "codemirror_mode": {
    "name": "ipython",
    "version": 3
   },
   "file_extension": ".py",
   "mimetype": "text/x-python",
   "name": "python",
   "nbconvert_exporter": "python",
   "pygments_lexer": "ipython3",
   "version": "3.9.12"
  },
  "orig_nbformat": 4,
  "vscode": {
   "interpreter": {
    "hash": "a077222d77dfe082b8f1dd562ad70e458ac2ab76993a0b248ab0476e32e9e8dd"
   }
  }
 },
 "nbformat": 4,
 "nbformat_minor": 2
}
