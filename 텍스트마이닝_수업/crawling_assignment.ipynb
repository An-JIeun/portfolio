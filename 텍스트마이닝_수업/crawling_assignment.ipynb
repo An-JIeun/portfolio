{
 "cells": [
  {
   "cell_type": "code",
   "execution_count": 26,
   "metadata": {},
   "outputs": [
    {
     "name": "stdout",
     "output_type": "stream",
     "text": [
      "hell world\n"
     ]
    }
   ],
   "source": [
    "print('hell world')"
   ]
  },
  {
   "cell_type": "markdown",
   "metadata": {},
   "source": [
    "# 0. 라이브러리 임포트 및 크롤러 준비"
   ]
  },
  {
   "cell_type": "code",
   "execution_count": 87,
   "metadata": {},
   "outputs": [],
   "source": [
    "import pandas as pd\n",
    "import numpy as np\n",
    "import selenium\n",
    "from selenium import webdriver\n",
    "driver = webdriver.Chrome()\n",
    "import bs4\n",
    "from bs4 import BeautifulSoup \n",
    "import requests as re\n",
    "import tqdm \n",
    "import urllib\n",
    "from urllib.request import urlopen \n",
    "import time\n",
    "from time import sleep\n",
    "\n"
   ]
  },
  {
   "cell_type": "code",
   "execution_count": 88,
   "metadata": {},
   "outputs": [],
   "source": [
    "html = urlopen('https://product.kyobobook.co.kr/bestseller/total')\n",
    "sleep(5)\n",
    "bs = BeautifulSoup(html, \"html.parser\")"
   ]
  },
  {
   "cell_type": "code",
   "execution_count": 75,
   "metadata": {},
   "outputs": [],
   "source": [
    "div = bs.find_all('ol', {\"class\":\"prod_list\"})"
   ]
  },
  {
   "cell_type": "code",
   "execution_count": 76,
   "metadata": {},
   "outputs": [
    {
     "data": {
      "text/plain": [
       "[]"
      ]
     },
     "execution_count": 76,
     "metadata": {},
     "output_type": "execute_result"
    }
   ],
   "source": [
    "div"
   ]
  },
  {
   "cell_type": "code",
   "execution_count": 77,
   "metadata": {},
   "outputs": [
    {
     "data": {
      "text/plain": [
       "[]"
      ]
     },
     "execution_count": 77,
     "metadata": {},
     "output_type": "execute_result"
    }
   ],
   "source": [
    "driver.find_elements(By.CLASS_NAME,'prod_item' )"
   ]
  },
  {
   "cell_type": "code",
   "execution_count": 92,
   "metadata": {},
   "outputs": [
    {
     "data": {
      "text/plain": [
       "['김훈 · 문학동네 · 2022.08.03 출시',\n",
       " '자청 · 웅진지식하우스 · 2022.06.03 출시',\n",
       " '김호연 · 나무옆의자 · 2022.08.10 출시',\n",
       " '김호연 · 나무옆의자 · 2021.04.20 출시',\n",
       " '정지아 · 창비 · 2022.09.02 출시',\n",
       " '이민진 외 · 인플루엔셜 · 2022.08.05 출시',\n",
       " '게리 켈러 외 · 비즈니스북스 · 2013.08.30 출시',\n",
       " '최서영 · 북로망스 · 2022.08.18 출시',\n",
       " '무라세 다케시 외 · 모모 · 2022.05.09 출시',\n",
       " '장재형 · 유노북스 · 2022.09.01 출시',\n",
       " '우즈훙 외 · 리드리드출판 · 2022.10.12 출시',\n",
       " '로버트 기요사키 외 · 민음인 · 2018.02.22 출시',\n",
       " '충페이충 외 · 미디어숲 · 2022.09.30 출시',\n",
       " '백난도 외 · 미래엔아이세움 · 2022.07.28 출시',\n",
       " '지나영 · 21세기북스 · 2022.09.28 출시',\n",
       " '김다슬 · 클라우디아 · 2022.04.12 출시',\n",
       " '허지웅 · 김영사 · 2022.08.22 출시',\n",
       " '앤절라 더크워스 외 · 비즈니스북스 · 2019.02.20 출시',\n",
       " '안성은(Brand Boy) · 더퀘스트 · 2022.08.16 출시',\n",
       " '데일 카네기 외 · 현대지성 · 2019.10.07 출시']"
      ]
     },
     "execution_count": 92,
     "metadata": {},
     "output_type": "execute_result"
    }
   ],
   "source": [
    "from selenium.webdriver.common.by import By\n",
    "driver.get(\"https://product.kyobobook.co.kr/bestseller/total\")\n",
    "prod_webd_list = driver.find_elements(By.CLASS_NAME,'prod_item' )\n",
    "def attr(class_name, idx):\n",
    "    attr = prod_webd_list[idx].find_element(By.CLASS_NAME, class_name).text\n",
    "    #print(attr)\n",
    "    return attr\n",
    "prod_title_list = []\n",
    "prod_ori_price_list = []\n",
    "prod_event_price_list = []\n",
    "prod_info_list = []\n",
    "prod_introduction = []\n",
    "prod_rank = []\n",
    "\n",
    "for i in range(len(prod_webd_list)):\n",
    "    prod_webd_list[i].find_element(By.CLASS_NAME, 'prod_name')\n",
    "    prod_title_list.append(attr('prod_name', i))\n",
    "    prod_info_list.append(attr('prod_author',i))\n",
    "    prod_event_price_list.append(attr('price',i))\n",
    "    prod_introduction.append(attr('prod_introduction',i))\n",
    "    prod_rank.append(attr('prod_rank',i))\n",
    "    prod_ori_price_list.append(prod_webd_list[i].find_element(By.TAG_NAME, 's').text)\n",
    "prod_title_list\n",
    "#prod_price_list\n",
    "prod_info_list\n",
    "\n"
   ]
  },
  {
   "cell_type": "code",
   "execution_count": 93,
   "metadata": {},
   "outputs": [
    {
     "data": {
      "text/plain": [
       "['Best 1',\n",
       " '2',\n",
       " '3',\n",
       " '4',\n",
       " '5',\n",
       " '6',\n",
       " '7',\n",
       " '8',\n",
       " '9',\n",
       " '10',\n",
       " '11',\n",
       " '12',\n",
       " '13',\n",
       " '14',\n",
       " '15',\n",
       " '16',\n",
       " '17',\n",
       " '18',\n",
       " '19',\n",
       " '20']"
      ]
     },
     "execution_count": 93,
     "metadata": {},
     "output_type": "execute_result"
    }
   ],
   "source": [
    "prod_rank"
   ]
  },
  {
   "cell_type": "code",
   "execution_count": 94,
   "metadata": {},
   "outputs": [
    {
     "data": {
      "text/plain": [
       "['2022.08.03',\n",
       " '2022.06.03',\n",
       " '2022.08.10',\n",
       " '2021.04.20',\n",
       " '2022.09.02',\n",
       " '2022.08.05',\n",
       " '2013.08.30',\n",
       " '2022.08.18',\n",
       " '2022.05.09',\n",
       " '2022.09.01',\n",
       " '2022.10.12',\n",
       " '2018.02.22',\n",
       " '2022.09.30',\n",
       " '2022.07.28',\n",
       " '2022.09.28',\n",
       " '2022.04.12',\n",
       " '2022.08.22',\n",
       " '2019.02.20',\n",
       " '2022.08.16',\n",
       " '2019.10.07']"
      ]
     },
     "execution_count": 94,
     "metadata": {},
     "output_type": "execute_result"
    }
   ],
   "source": [
    "author= []\n",
    "date = []\n",
    "publish = []\n",
    "\n",
    "for x in prod_info_list:\n",
    "    li = x.split(' · ')\n",
    "    author.append(li[0])\n",
    "    publish.append(li[1])\n",
    "    d = li[2]\n",
    "    d = d.replace(' 출시','')\n",
    "    date.append(d)\n",
    "date"
   ]
  },
  {
   "cell_type": "code",
   "execution_count": 95,
   "metadata": {},
   "outputs": [],
   "source": [
    "meta = pd.DataFrame()\n",
    "meta['랭킹'] = prod_rank\n",
    "meta['제목'] = prod_title_list\n",
    "meta['저자'] = author\n",
    "meta['출판사'] = publish\n",
    "meta['발행일'] = date\n",
    "meta['정가'] = prod_ori_price_list\n",
    "meta['행사가'] = prod_event_price_list\n",
    "meta['설명'] = prod_introduction"
   ]
  },
  {
   "cell_type": "code",
   "execution_count": 96,
   "metadata": {},
   "outputs": [
    {
     "data": {
      "text/html": [
       "<div>\n",
       "<style scoped>\n",
       "    .dataframe tbody tr th:only-of-type {\n",
       "        vertical-align: middle;\n",
       "    }\n",
       "\n",
       "    .dataframe tbody tr th {\n",
       "        vertical-align: top;\n",
       "    }\n",
       "\n",
       "    .dataframe thead th {\n",
       "        text-align: right;\n",
       "    }\n",
       "</style>\n",
       "<table border=\"1\" class=\"dataframe\">\n",
       "  <thead>\n",
       "    <tr style=\"text-align: right;\">\n",
       "      <th></th>\n",
       "      <th>랭킹</th>\n",
       "      <th>제목</th>\n",
       "      <th>저자</th>\n",
       "      <th>출판사</th>\n",
       "      <th>발행일</th>\n",
       "      <th>정가</th>\n",
       "      <th>행사가</th>\n",
       "      <th>설명</th>\n",
       "    </tr>\n",
       "  </thead>\n",
       "  <tbody>\n",
       "    <tr>\n",
       "      <th>0</th>\n",
       "      <td>Best 1</td>\n",
       "      <td>하얼빈</td>\n",
       "      <td>김훈</td>\n",
       "      <td>문학동네</td>\n",
       "      <td>2022.08.03</td>\n",
       "      <td>16,000원</td>\n",
       "      <td>14,400원</td>\n",
       "      <td>‘우리 시대 최고의 문장가’ ‘작가들의 작가’로 일컬어지는 소설가 김훈의 신작 장편...</td>\n",
       "    </tr>\n",
       "    <tr>\n",
       "      <th>1</th>\n",
       "      <td>2</td>\n",
       "      <td>역행자</td>\n",
       "      <td>자청</td>\n",
       "      <td>웅진지식하우스</td>\n",
       "      <td>2022.06.03</td>\n",
       "      <td>17,500원</td>\n",
       "      <td>15,750원</td>\n",
       "      <td>대부분의 사람들은 유전자와 본성의 명령을 그대로 따르기 때문에 평범함을 벗어날 수 ...</td>\n",
       "    </tr>\n",
       "    <tr>\n",
       "      <th>2</th>\n",
       "      <td>3</td>\n",
       "      <td>불편한 편의점 2</td>\n",
       "      <td>김호연</td>\n",
       "      <td>나무옆의자</td>\n",
       "      <td>2022.08.10</td>\n",
       "      <td>14,000원</td>\n",
       "      <td>12,600원</td>\n",
       "      <td>출간 후 1년이 넘도록 독자의 사랑을 받으며 베스트셀러 상위권을 지키고 있는 소설,...</td>\n",
       "    </tr>\n",
       "    <tr>\n",
       "      <th>3</th>\n",
       "      <td>4</td>\n",
       "      <td>불편한 편의점(40만부 기념 벚꽃 에디션)</td>\n",
       "      <td>김호연</td>\n",
       "      <td>나무옆의자</td>\n",
       "      <td>2021.04.20</td>\n",
       "      <td>14,000원</td>\n",
       "      <td>12,600원</td>\n",
       "      <td>누적 판매 40만부 돌파, 2022년 가장 사랑받는 소설 ★★★전 서점 종합베스트 ...</td>\n",
       "    </tr>\n",
       "    <tr>\n",
       "      <th>4</th>\n",
       "      <td>5</td>\n",
       "      <td>아버지의 해방일지</td>\n",
       "      <td>정지아</td>\n",
       "      <td>창비</td>\n",
       "      <td>2022.09.02</td>\n",
       "      <td>15,000원</td>\n",
       "      <td>13,500원</td>\n",
       "      <td>김유정문학상 심훈문학대상 이효석문학상 등을 수상하며 문학성을 두루 입증받은 ‘리얼리...</td>\n",
       "    </tr>\n",
       "    <tr>\n",
       "      <th>5</th>\n",
       "      <td>6</td>\n",
       "      <td>파친코 1</td>\n",
       "      <td>이민진 외</td>\n",
       "      <td>인플루엔셜</td>\n",
       "      <td>2022.08.05</td>\n",
       "      <td>15,800원</td>\n",
       "      <td>14,220원</td>\n",
       "      <td>“내게 ‘한국인’은 이야기의 주인공이 될 가치가 있는 이들이다. 나는 가능한 한 오...</td>\n",
       "    </tr>\n",
       "    <tr>\n",
       "      <th>6</th>\n",
       "      <td>7</td>\n",
       "      <td>원씽(The One Thing)(리커버 특별판)</td>\n",
       "      <td>게리 켈러 외</td>\n",
       "      <td>비즈니스북스</td>\n",
       "      <td>2013.08.30</td>\n",
       "      <td>14,000원</td>\n",
       "      <td>12,600원</td>\n",
       "      <td>복잡한 세상을 이기는 단순함의 힘『원씽(THE ONE THING)』. 전 세계에서 ...</td>\n",
       "    </tr>\n",
       "    <tr>\n",
       "      <th>7</th>\n",
       "      <td>8</td>\n",
       "      <td>잘될 수밖에 없는 너에게</td>\n",
       "      <td>최서영</td>\n",
       "      <td>북로망스</td>\n",
       "      <td>2022.08.18</td>\n",
       "      <td>16,000원</td>\n",
       "      <td>14,400원</td>\n",
       "      <td>최선을 다해 내 삶을 최고로 만들고 싶다면 반드시 읽어야 할 인생 참고서! 50만 ...</td>\n",
       "    </tr>\n",
       "    <tr>\n",
       "      <th>8</th>\n",
       "      <td>9</td>\n",
       "      <td>세상의 마지막 기차역</td>\n",
       "      <td>무라세 다케시 외</td>\n",
       "      <td>모모</td>\n",
       "      <td>2022.05.09</td>\n",
       "      <td>14,000원</td>\n",
       "      <td>12,600원</td>\n",
       "      <td>봄이 시작되는 3월, 급행열차 한 대가 탈선해 절벽 아래로 떨어졌다. 수많은 중상자...</td>\n",
       "    </tr>\n",
       "    <tr>\n",
       "      <th>9</th>\n",
       "      <td>10</td>\n",
       "      <td>마흔에 읽는 니체</td>\n",
       "      <td>장재형</td>\n",
       "      <td>유노북스</td>\n",
       "      <td>2022.09.01</td>\n",
       "      <td>16,000원</td>\n",
       "      <td>14,400원</td>\n",
       "      <td>마흔, 인생의 중반에서 후반으로 넘어가는 과도기의 나이다. 사십 대에는 안정적인 삶...</td>\n",
       "    </tr>\n",
       "    <tr>\n",
       "      <th>10</th>\n",
       "      <td>11</td>\n",
       "      <td>나는 나를 바꾸기로 했다</td>\n",
       "      <td>우즈훙 외</td>\n",
       "      <td>리드리드출판</td>\n",
       "      <td>2022.10.12</td>\n",
       "      <td>15,800원</td>\n",
       "      <td>14,220원</td>\n",
       "      <td>중국의 아마존인 당당왕에서 10년 연속 심리학 베스트셀러에 오른 우즈훙은 20여 년...</td>\n",
       "    </tr>\n",
       "    <tr>\n",
       "      <th>11</th>\n",
       "      <td>12</td>\n",
       "      <td>부자 아빠 가난한 아빠 1(20주년 특별 기념판)</td>\n",
       "      <td>로버트 기요사키 외</td>\n",
       "      <td>민음인</td>\n",
       "      <td>2018.02.22</td>\n",
       "      <td>15,800원</td>\n",
       "      <td>14,220원</td>\n",
       "      <td>기존 《부자 아빠 가난한 아빠》 제1권에는 없던 41개의 ‘20년 전 그리고 오늘’...</td>\n",
       "    </tr>\n",
       "    <tr>\n",
       "      <th>12</th>\n",
       "      <td>13</td>\n",
       "      <td>심리학이 분노에 답하다</td>\n",
       "      <td>충페이충 외</td>\n",
       "      <td>미디어숲</td>\n",
       "      <td>2022.09.30</td>\n",
       "      <td>17,800원</td>\n",
       "      <td>16,020원</td>\n",
       "      <td>우리는 매일 이런저런 이유로 화를 낸다. 그래서 익숙한 듯하지만, 한편으론 분노의 ...</td>\n",
       "    </tr>\n",
       "    <tr>\n",
       "      <th>13</th>\n",
       "      <td>14</td>\n",
       "      <td>흔한남매 11</td>\n",
       "      <td>백난도 외</td>\n",
       "      <td>미래엔아이세움</td>\n",
       "      <td>2022.07.28</td>\n",
       "      <td>14,500원</td>\n",
       "      <td>13,050원</td>\n",
       "      <td>여름 햇살처럼 반짝이는 웃음 가득한 흔한 일상! 왁자지껄 물총 싸움, 치과가 안 무...</td>\n",
       "    </tr>\n",
       "    <tr>\n",
       "      <th>14</th>\n",
       "      <td>15</td>\n",
       "      <td>세상에서 가장 쉬운 본질육아</td>\n",
       "      <td>지나영</td>\n",
       "      <td>21세기북스</td>\n",
       "      <td>2022.09.28</td>\n",
       "      <td>18,800원</td>\n",
       "      <td>16,920원</td>\n",
       "      <td>한국인 최초 존스홉킨스 소아정신과 교수이자 의사로서, 지나영은 20년 가까이 수많은...</td>\n",
       "    </tr>\n",
       "    <tr>\n",
       "      <th>15</th>\n",
       "      <td>16</td>\n",
       "      <td>기분을 관리하면 인생이 관리된다</td>\n",
       "      <td>김다슬</td>\n",
       "      <td>클라우디아</td>\n",
       "      <td>2022.04.12</td>\n",
       "      <td>17,600원</td>\n",
       "      <td>15,840원</td>\n",
       "      <td>기분에 따라 그날 하루가 달라진다. 기분이 별로 좋지 않은 날엔 어떤 일을 해도 과...</td>\n",
       "    </tr>\n",
       "    <tr>\n",
       "      <th>16</th>\n",
       "      <td>17</td>\n",
       "      <td>최소한의 이웃</td>\n",
       "      <td>허지웅</td>\n",
       "      <td>김영사</td>\n",
       "      <td>2022.08.22</td>\n",
       "      <td>15,800원</td>\n",
       "      <td>14,220원</td>\n",
       "      <td>적의와 호의, 소음과 평정, 변해야 할 것과 변치 말아야 할 것을 떠올리다 보면 결...</td>\n",
       "    </tr>\n",
       "    <tr>\n",
       "      <th>17</th>\n",
       "      <td>18</td>\n",
       "      <td>그릿(100쇄 기념 리커버 에디션)</td>\n",
       "      <td>앤절라 더크워스 외</td>\n",
       "      <td>비즈니스북스</td>\n",
       "      <td>2019.02.20</td>\n",
       "      <td>16,000원</td>\n",
       "      <td>14,400원</td>\n",
       "      <td>평균보다 떨어지는 IQ, 특별할 것 없는 재능, 불우한 가정환경에도 놀라운 성공을 ...</td>\n",
       "    </tr>\n",
       "    <tr>\n",
       "      <th>18</th>\n",
       "      <td>19</td>\n",
       "      <td>믹스(Mix)</td>\n",
       "      <td>안성은(Brand Boy)</td>\n",
       "      <td>더퀘스트</td>\n",
       "      <td>2022.08.16</td>\n",
       "      <td>18,800원</td>\n",
       "      <td>16,920원</td>\n",
       "      <td>일정한 패턴을 읽기 힘든 변종들의 시대, 관점을 바꿔야 새로운 기회가 보인다! 브랜...</td>\n",
       "    </tr>\n",
       "    <tr>\n",
       "      <th>19</th>\n",
       "      <td>20</td>\n",
       "      <td>데일 카네기 인간관계론</td>\n",
       "      <td>데일 카네기 외</td>\n",
       "      <td>현대지성</td>\n",
       "      <td>2019.10.07</td>\n",
       "      <td>11,500원</td>\n",
       "      <td>10,350원</td>\n",
       "      <td>인간관계는 친구를 만들고 적을 만들지 않는 것에서 시작된다. 『데일 카네기 인간관계...</td>\n",
       "    </tr>\n",
       "  </tbody>\n",
       "</table>\n",
       "</div>"
      ],
      "text/plain": [
       "        랭킹                           제목              저자      출판사         발행일  \\\n",
       "0   Best 1                          하얼빈              김훈     문학동네  2022.08.03   \n",
       "1        2                          역행자              자청  웅진지식하우스  2022.06.03   \n",
       "2        3                    불편한 편의점 2             김호연    나무옆의자  2022.08.10   \n",
       "3        4      불편한 편의점(40만부 기념 벚꽃 에디션)             김호연    나무옆의자  2021.04.20   \n",
       "4        5                    아버지의 해방일지             정지아       창비  2022.09.02   \n",
       "5        6                        파친코 1           이민진 외    인플루엔셜  2022.08.05   \n",
       "6        7   원씽(The One Thing)(리커버 특별판)         게리 켈러 외   비즈니스북스  2013.08.30   \n",
       "7        8                잘될 수밖에 없는 너에게             최서영     북로망스  2022.08.18   \n",
       "8        9                  세상의 마지막 기차역       무라세 다케시 외       모모  2022.05.09   \n",
       "9       10                    마흔에 읽는 니체             장재형     유노북스  2022.09.01   \n",
       "10      11                나는 나를 바꾸기로 했다           우즈훙 외   리드리드출판  2022.10.12   \n",
       "11      12  부자 아빠 가난한 아빠 1(20주년 특별 기념판)      로버트 기요사키 외      민음인  2018.02.22   \n",
       "12      13                 심리학이 분노에 답하다          충페이충 외     미디어숲  2022.09.30   \n",
       "13      14                      흔한남매 11           백난도 외  미래엔아이세움  2022.07.28   \n",
       "14      15              세상에서 가장 쉬운 본질육아             지나영   21세기북스  2022.09.28   \n",
       "15      16            기분을 관리하면 인생이 관리된다             김다슬    클라우디아  2022.04.12   \n",
       "16      17                      최소한의 이웃             허지웅      김영사  2022.08.22   \n",
       "17      18          그릿(100쇄 기념 리커버 에디션)      앤절라 더크워스 외   비즈니스북스  2019.02.20   \n",
       "18      19                      믹스(Mix)  안성은(Brand Boy)     더퀘스트  2022.08.16   \n",
       "19      20                 데일 카네기 인간관계론        데일 카네기 외     현대지성  2019.10.07   \n",
       "\n",
       "         정가      행사가                                                 설명  \n",
       "0   16,000원  14,400원  ‘우리 시대 최고의 문장가’ ‘작가들의 작가’로 일컬어지는 소설가 김훈의 신작 장편...  \n",
       "1   17,500원  15,750원  대부분의 사람들은 유전자와 본성의 명령을 그대로 따르기 때문에 평범함을 벗어날 수 ...  \n",
       "2   14,000원  12,600원  출간 후 1년이 넘도록 독자의 사랑을 받으며 베스트셀러 상위권을 지키고 있는 소설,...  \n",
       "3   14,000원  12,600원  누적 판매 40만부 돌파, 2022년 가장 사랑받는 소설 ★★★전 서점 종합베스트 ...  \n",
       "4   15,000원  13,500원  김유정문학상 심훈문학대상 이효석문학상 등을 수상하며 문학성을 두루 입증받은 ‘리얼리...  \n",
       "5   15,800원  14,220원  “내게 ‘한국인’은 이야기의 주인공이 될 가치가 있는 이들이다. 나는 가능한 한 오...  \n",
       "6   14,000원  12,600원  복잡한 세상을 이기는 단순함의 힘『원씽(THE ONE THING)』. 전 세계에서 ...  \n",
       "7   16,000원  14,400원  최선을 다해 내 삶을 최고로 만들고 싶다면 반드시 읽어야 할 인생 참고서! 50만 ...  \n",
       "8   14,000원  12,600원  봄이 시작되는 3월, 급행열차 한 대가 탈선해 절벽 아래로 떨어졌다. 수많은 중상자...  \n",
       "9   16,000원  14,400원  마흔, 인생의 중반에서 후반으로 넘어가는 과도기의 나이다. 사십 대에는 안정적인 삶...  \n",
       "10  15,800원  14,220원  중국의 아마존인 당당왕에서 10년 연속 심리학 베스트셀러에 오른 우즈훙은 20여 년...  \n",
       "11  15,800원  14,220원  기존 《부자 아빠 가난한 아빠》 제1권에는 없던 41개의 ‘20년 전 그리고 오늘’...  \n",
       "12  17,800원  16,020원  우리는 매일 이런저런 이유로 화를 낸다. 그래서 익숙한 듯하지만, 한편으론 분노의 ...  \n",
       "13  14,500원  13,050원  여름 햇살처럼 반짝이는 웃음 가득한 흔한 일상! 왁자지껄 물총 싸움, 치과가 안 무...  \n",
       "14  18,800원  16,920원  한국인 최초 존스홉킨스 소아정신과 교수이자 의사로서, 지나영은 20년 가까이 수많은...  \n",
       "15  17,600원  15,840원  기분에 따라 그날 하루가 달라진다. 기분이 별로 좋지 않은 날엔 어떤 일을 해도 과...  \n",
       "16  15,800원  14,220원  적의와 호의, 소음과 평정, 변해야 할 것과 변치 말아야 할 것을 떠올리다 보면 결...  \n",
       "17  16,000원  14,400원  평균보다 떨어지는 IQ, 특별할 것 없는 재능, 불우한 가정환경에도 놀라운 성공을 ...  \n",
       "18  18,800원  16,920원  일정한 패턴을 읽기 힘든 변종들의 시대, 관점을 바꿔야 새로운 기회가 보인다! 브랜...  \n",
       "19  11,500원  10,350원  인간관계는 친구를 만들고 적을 만들지 않는 것에서 시작된다. 『데일 카네기 인간관계...  "
      ]
     },
     "execution_count": 96,
     "metadata": {},
     "output_type": "execute_result"
    }
   ],
   "source": [
    "meta"
   ]
  },
  {
   "cell_type": "code",
   "execution_count": 91,
   "metadata": {},
   "outputs": [
    {
     "data": {
      "text/plain": [
       "['14,400원',\n",
       " '15,750원',\n",
       " '12,600원',\n",
       " '12,600원',\n",
       " '13,500원',\n",
       " '14,220원',\n",
       " '12,600원',\n",
       " '14,400원',\n",
       " '12,600원',\n",
       " '14,400원',\n",
       " '14,220원',\n",
       " '14,220원',\n",
       " '16,020원',\n",
       " '13,050원',\n",
       " '16,920원',\n",
       " '15,840원',\n",
       " '14,220원',\n",
       " '14,400원',\n",
       " '16,920원',\n",
       " '10,350원']"
      ]
     },
     "execution_count": 91,
     "metadata": {},
     "output_type": "execute_result"
    }
   ],
   "source": [
    "prod_event_price_list"
   ]
  },
  {
   "cell_type": "code",
   "execution_count": 90,
   "metadata": {},
   "outputs": [
    {
     "data": {
      "text/plain": [
       "['16,000원',\n",
       " '17,500원',\n",
       " '14,000원',\n",
       " '14,000원',\n",
       " '15,000원',\n",
       " '15,800원',\n",
       " '14,000원',\n",
       " '16,000원',\n",
       " '14,000원',\n",
       " '16,000원',\n",
       " '15,800원',\n",
       " '15,800원',\n",
       " '17,800원',\n",
       " '14,500원',\n",
       " '18,800원',\n",
       " '17,600원',\n",
       " '15,800원',\n",
       " '16,000원',\n",
       " '18,800원',\n",
       " '11,500원']"
      ]
     },
     "execution_count": 90,
     "metadata": {},
     "output_type": "execute_result"
    }
   ],
   "source": [
    "prod_ori_price_list"
   ]
  },
  {
   "cell_type": "code",
   "execution_count": 85,
   "metadata": {},
   "outputs": [
    {
     "data": {
      "text/plain": [
       "['문학동네',\n",
       " '웅진지식하우스',\n",
       " '나무옆의자',\n",
       " '나무옆의자',\n",
       " '창비',\n",
       " '인플루엔셜',\n",
       " '비즈니스북스',\n",
       " '북로망스',\n",
       " '모모',\n",
       " '유노북스',\n",
       " '리드리드출판',\n",
       " '민음인',\n",
       " '미디어숲',\n",
       " '미래엔아이세움',\n",
       " '21세기북스',\n",
       " '클라우디아',\n",
       " '김영사',\n",
       " '비즈니스북스',\n",
       " '더퀘스트',\n",
       " '현대지성']"
      ]
     },
     "execution_count": 85,
     "metadata": {},
     "output_type": "execute_result"
    }
   ],
   "source": [
    "publish"
   ]
  },
  {
   "cell_type": "code",
   "execution_count": 83,
   "metadata": {},
   "outputs": [
    {
     "data": {
      "text/plain": [
       "['김훈',\n",
       " '자청',\n",
       " '김호연',\n",
       " '김호연',\n",
       " '정지아',\n",
       " '이민진 외',\n",
       " '게리 켈러 외',\n",
       " '최서영',\n",
       " '무라세 다케시 외',\n",
       " '장재형',\n",
       " '우즈훙 외',\n",
       " '로버트 기요사키 외',\n",
       " '충페이충 외',\n",
       " '백난도 외',\n",
       " '지나영',\n",
       " '김다슬',\n",
       " '허지웅',\n",
       " '앤절라 더크워스 외',\n",
       " '안성은(Brand Boy)',\n",
       " '데일 카네기 외']"
      ]
     },
     "execution_count": 83,
     "metadata": {},
     "output_type": "execute_result"
    }
   ],
   "source": [
    "author"
   ]
  },
  {
   "cell_type": "code",
   "execution_count": 59,
   "metadata": {},
   "outputs": [
    {
     "data": {
      "text/plain": [
       "<selenium.webdriver.remote.webelement.WebElement (session=\"6c7505ba8f701381022abc05bbf46bc2\", element=\"fbdfbb40-86f7-419c-9b46-22ba13920a67\")>"
      ]
     },
     "execution_count": 59,
     "metadata": {},
     "output_type": "execute_result"
    }
   ],
   "source": [
    "prod_webd_list = driver.find_elements(By.CLASS_NAME,'prod_item' )\n",
    "prod_webd_list[0].find_element(By.CLASS_NAME,'prod_name')"
   ]
  },
  {
   "cell_type": "code",
   "execution_count": 32,
   "metadata": {},
   "outputs": [
    {
     "data": {
      "text/plain": [
       "\n",
       "<!DOCTYPE html PUBLIC \"-//W3C//DTD XHTML 1.0 Transitional//EN\" \"http://www.w3.org/TR/xhtml1/DTD/xhtml1-transitional.dtd\">\n",
       "\n",
       "<meta charset=\"utf-8\"/>\n",
       "<html xmlns=\"http://www.w3.org/1999/xhtml\">\n",
       "<head>\n",
       "<title> 서비스 점검 - 교보문고 </title>\n",
       "<meta content=\"width=device-width, initial-scale=1.0, maximum-scale=1.0, minimum-scale=1.0, user-scalable=no, target-densitydpi=medium-dpi\" name=\"viewport\"/>\n",
       "<meta content=\"\" name=\"author\">\n",
       "<meta content=\"\" name=\"keywords\">\n",
       "<meta content=\"\" name=\"description\"/>\n",
       "<style type=\"text/css\">\n",
       "\t* {padding:0;margin:0;list-style:none;}\n",
       "  </style>\n",
       "</meta></meta></head>\n",
       "<body>\n",
       "<style type=\"text/css\">\n",
       "\t.errorPage_wrap {width:680px;margin:117px auto 0;}\n",
       "\t.errorPage_wrap .logo {font-size: 0; line-height: 0; text-align:center;}\n",
       "\t.errorPage_wrap .title {font-size:45px; color:#333; margin:23px 0 0 0; text-align:center;}\n",
       "\t.errorPage_wrap .title strong{color:#ff6600;}\n",
       "\n",
       "\t.errorPage_wrap .errorMsg01_wrap {margin:45px 0 46px;text-align:center; font-size:18px; line-height:1.4; color:#444444;}\n",
       "\t.errorPage_wrap .errorMsg01_wrap p.txt01{margin-bottom:20px;}\n",
       "\t.errorPage_wrap .errorMsg02_wrap {padding:13px 0 38px; background-color:#eeeeee; font-size:18px; line-height:1.4; color:#444444; border-radius:20px; text-align:center;}\n",
       "\t.errorPage_wrap .errorMsg02_wrap .box_title{display:inline-block; margin:22px auto 0; color:#222222; font-weight:bold; border-bottom:2px solid #555;}\n",
       "\t.errorPage_wrap .errorMsg02_wrap .box_text{margin-top:8px;;}\n",
       "\t.errorPage_wrap .errorMsg03_wrap {margin:50px 0 30px;text-align:center; font-size:18px; line-height:1.4; color:#444444;}\n",
       "\t.errorPage_wrap .errorMsg03_wrap p.txt01 {margin-top: 20px;}\n",
       "\t.errorPage_wrap .errorMsg03_wrap p.txt01 strong{font-size:24px;line-height:1.4; font-weight:600;}\n",
       "\t.errorPage_wrap br {display:none;}\n",
       "\n",
       "\t@media screen and (max-width:768px){\n",
       "\t\t.errorPage_wrap {margin:40px 20px 0;width:auto !important;}\n",
       "\t\t.errorPage_wrap .title {font-size:6vw; font-weight:bold;}\n",
       "\t\t.errorPage_wrap .errorMsg01_wrap {margin:20px 0; font-size:2.5vw;}\n",
       "\t\t.errorPage_wrap .errorMsg02_wrap {padding:5px 20px 25px; font-size:2.5vw;}\n",
       "\t\t.errorPage_wrap .errorMsg02_wrap .box_title {margin-top: 15px;}\n",
       "\t\t.errorPage_wrap .errorMsg03_wrap {margin:20px 0; font-size:2.5vw;}\n",
       "\t\t.errorPage_wrap .errorMsg03_wrap strong{font-size:5vw;}\n",
       "\t\t.errorPage_wrap br {display:block;}\n",
       "\t} \n",
       "\n",
       "\t@media screen and (max-width:480px){\n",
       "\t\t.errorPage_wrap .logo img{width:120px; height:36px; }\n",
       "\t\t.errorPage_wrap .title {font-size:30px; }\n",
       "\t\t.errorPage_wrap .errorMsg01_wrap {margin:15px 0; font-size:14px;}\n",
       "\t\t.errorPage_wrap .errorMsg02_wrap {padding:0 10px 20px;font-size:14px;}\n",
       "\t\t.errorPage_wrap .errorMsg03_wrap {margin:15px 0; font-size:14px;}\n",
       "\t} \n",
       "\n",
       "\n",
       "\n",
       "</style>\n",
       "<div class=\"errorPage_wrap\">\n",
       "<div class=\"title\">서비스 <strong>점검 중</strong>입니다</div>\n",
       "<div class=\"errorMsg01_wrap\">\n",
       "<p class=\"txt01\">안녕하세요. <strong>교보문고</strong>입니다.</p>\n",
       "<p>홈페이지의 원활한 서비스를 위하여 <br/>임시 점검을 실시합니다.</p>\n",
       "<p>점검 중에는 서비스를 이용하실 수 없으니 <br/>고객님의 양해 부탁드립니다.</p>\n",
       "</div>\n",
       "<div class=\"errorMsg02_wrap\">\n",
       "<div class=\"box_title\">점검 일시</div>\n",
       "<div class=\"box_text\">2022년 10월 9일 21:00 ~ 22:00</div>\n",
       "<div class=\"box_title\">점검 범위</div>\n",
       "<div class=\"box_text\">인터넷/모바일 교보문고, 교보eBook 등 교보문고 모든 서비스</div>\n",
       "</div>\n",
       "<div class=\"errorMsg03_wrap\">\n",
       "<p>서비스 점검 시간 동안 이용에 <br/>불편 드리게된 점 사과 드리며,</p>\n",
       "<p>약속한 시간 내에<br/> 조속히 점검을 마칠 수 있도록 <br/>최선을 다하겠습니다.</p>\n",
       "<p class=\"txt01\"><strong>감사합니다.</strong></p>\n",
       "</div>\n",
       "</div>\n",
       "</body>\n",
       "</html>\n",
       "\n"
      ]
     },
     "execution_count": 32,
     "metadata": {},
     "output_type": "execute_result"
    }
   ],
   "source": [
    "bs"
   ]
  },
  {
   "cell_type": "code",
   "execution_count": null,
   "metadata": {},
   "outputs": [],
   "source": []
  }
 ],
 "metadata": {
  "kernelspec": {
   "display_name": "Python 3.9.12 ('base')",
   "language": "python",
   "name": "python3"
  },
  "language_info": {
   "codemirror_mode": {
    "name": "ipython",
    "version": 3
   },
   "file_extension": ".py",
   "mimetype": "text/x-python",
   "name": "python",
   "nbconvert_exporter": "python",
   "pygments_lexer": "ipython3",
   "version": "3.9.12"
  },
  "orig_nbformat": 4,
  "vscode": {
   "interpreter": {
    "hash": "a077222d77dfe082b8f1dd562ad70e458ac2ab76993a0b248ab0476e32e9e8dd"
   }
  }
 },
 "nbformat": 4,
 "nbformat_minor": 2
}
