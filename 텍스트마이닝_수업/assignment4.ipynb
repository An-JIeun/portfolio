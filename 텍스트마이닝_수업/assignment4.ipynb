{
 "cells": [
  {
   "cell_type": "markdown",
   "metadata": {},
   "source": [
    "# 0. 라이브러리 임포트"
   ]
  },
  {
   "cell_type": "code",
   "execution_count": 14,
   "metadata": {},
   "outputs": [
    {
     "name": "stdout",
     "output_type": "stream",
     "text": [
      "Requirement already satisfied: gensim in c:\\users\\user\\appdata\\roaming\\python\\python39\\site-packages (4.2.0)\n",
      "Requirement already satisfied: numpy>=1.17.0 in c:\\users\\user\\anaconda3\\lib\\site-packages (from gensim) (1.21.5)\n",
      "Requirement already satisfied: Cython==0.29.28 in c:\\users\\user\\anaconda3\\lib\\site-packages (from gensim) (0.29.28)\n",
      "Requirement already satisfied: scipy>=0.18.1 in c:\\users\\user\\anaconda3\\lib\\site-packages (from gensim) (1.7.3)\n",
      "Requirement already satisfied: smart-open>=1.8.1 in c:\\users\\user\\anaconda3\\lib\\site-packages (from gensim) (5.2.1)\n",
      "Note: you may need to restart the kernel to use updated packages.\n",
      "Requirement already satisfied: pyLDAvis in c:\\users\\user\\anaconda3\\lib\\site-packages (3.3.1)\n",
      "Requirement already satisfied: joblib in c:\\users\\user\\anaconda3\\lib\\site-packages (from pyLDAvis) (1.1.0)\n",
      "Requirement already satisfied: scipy in c:\\users\\user\\anaconda3\\lib\\site-packages (from pyLDAvis) (1.7.3)\n",
      "Requirement already satisfied: pandas>=1.2.0 in c:\\users\\user\\anaconda3\\lib\\site-packages (from pyLDAvis) (1.4.2)\n",
      "Requirement already satisfied: numpy>=1.20.0 in c:\\users\\user\\anaconda3\\lib\\site-packages (from pyLDAvis) (1.21.5)\n",
      "Requirement already satisfied: scikit-learn in c:\\users\\user\\anaconda3\\lib\\site-packages (from pyLDAvis) (1.0.2)\n",
      "Requirement already satisfied: sklearn in c:\\users\\user\\anaconda3\\lib\\site-packages (from pyLDAvis) (0.0)\n",
      "Requirement already satisfied: future in c:\\users\\user\\anaconda3\\lib\\site-packages (from pyLDAvis) (0.18.2)\n",
      "Requirement already satisfied: numexpr in c:\\users\\user\\anaconda3\\lib\\site-packages (from pyLDAvis) (2.8.1)\n",
      "Requirement already satisfied: funcy in c:\\users\\user\\anaconda3\\lib\\site-packages (from pyLDAvis) (1.17)\n",
      "Requirement already satisfied: setuptools in c:\\users\\user\\anaconda3\\lib\\site-packages (from pyLDAvis) (61.2.0)\n",
      "Requirement already satisfied: jinja2 in c:\\users\\user\\anaconda3\\lib\\site-packages (from pyLDAvis) (2.11.3)\n",
      "Requirement already satisfied: gensim in c:\\users\\user\\appdata\\roaming\\python\\python39\\site-packages (from pyLDAvis) (4.2.0)\n",
      "Requirement already satisfied: pytz>=2020.1 in c:\\users\\user\\anaconda3\\lib\\site-packages (from pandas>=1.2.0->pyLDAvis) (2021.3)\n",
      "Requirement already satisfied: python-dateutil>=2.8.1 in c:\\users\\user\\anaconda3\\lib\\site-packages (from pandas>=1.2.0->pyLDAvis) (2.8.2)\n",
      "Requirement already satisfied: six>=1.5 in c:\\users\\user\\anaconda3\\lib\\site-packages (from python-dateutil>=2.8.1->pandas>=1.2.0->pyLDAvis) (1.16.0)\n",
      "Requirement already satisfied: Cython==0.29.28 in c:\\users\\user\\anaconda3\\lib\\site-packages (from gensim->pyLDAvis) (0.29.28)\n",
      "Requirement already satisfied: smart-open>=1.8.1 in c:\\users\\user\\anaconda3\\lib\\site-packages (from gensim->pyLDAvis) (5.2.1)\n",
      "Requirement already satisfied: MarkupSafe>=0.23 in c:\\users\\user\\anaconda3\\lib\\site-packages (from jinja2->pyLDAvis) (2.0.1)\n",
      "Requirement already satisfied: packaging in c:\\users\\user\\anaconda3\\lib\\site-packages (from numexpr->pyLDAvis) (21.3)\n",
      "Requirement already satisfied: pyparsing!=3.0.5,>=2.0.2 in c:\\users\\user\\anaconda3\\lib\\site-packages (from packaging->numexpr->pyLDAvis) (3.0.4)\n",
      "Requirement already satisfied: threadpoolctl>=2.0.0 in c:\\users\\user\\anaconda3\\lib\\site-packages (from scikit-learn->pyLDAvis) (2.2.0)\n",
      "Note: you may need to restart the kernel to use updated packages.\n"
     ]
    }
   ],
   "source": [
    "#%pip install selenium\n",
    "%pip install gensim\n",
    "%pip install pyLDAvis\n",
    "\n",
    "# 크롤링\n",
    "import bs4\n",
    "from bs4 import BeautifulSoup\n",
    "import pandas as pd\n",
    "import numpy\n",
    "import warnings\n",
    "import re\n",
    "import requests\n",
    "import urllib\n",
    "import time\n",
    "import selenium\n",
    "from selenium.webdriver.common.by import By\n",
    "from selenium import webdriver\n",
    "import urllib\n",
    "from urllib.request import urlopen \n",
    "\n",
    "#options = webdriver.ChromeOptions()\n",
    "#options.add_argument('headless') # 옵션 적용 시 에러 발생\n",
    "driver = webdriver.Chrome()\n",
    "warnings.filterwarnings(action='ignore')\n",
    "\n",
    "# 시각화 라이브러리\n",
    "import matplotlib.pyplot as plt\n",
    "from matplotlib import font_manager, rc\n",
    "from wordcloud import WordCloud\n",
    "from collections import Counter\n",
    "import  numpy as np\n",
    "from PIL import Image\n",
    "\n",
    "# 폰트 설정\n",
    "font_path = r'C:\\\\windows\\\\fonts\\\\nanumgothicbold.ttf'\n",
    "font = font_manager.FontProperties(fname = font_path).get_name()\n",
    "rc('font',family = font)\n",
    "\n",
    "\n",
    "# 자연어처리\n",
    "from konlpy import *\n",
    "from konlpy.tag import *\n",
    "kom = Komoran()\n",
    "\n",
    "\n",
    "# LDA 라이브러리\n",
    "import gensim\n",
    "from gensim import corpora\n",
    "import pyLDAvis.gensim_models \n",
    "\n"
   ]
  },
  {
   "cell_type": "markdown",
   "metadata": {},
   "source": [
    "# 1. 크롤링\n",
    "- 개요, 연혁, 교육이념, 교육목표, 전공소개, 학과 안내, 강의교과목\n",
    "- 개별 페이지를 문서 하나로 봄"
   ]
  },
  {
   "cell_type": "markdown",
   "metadata": {},
   "source": [
    "## 1-1. 중앙대학교"
   ]
  },
  {
   "cell_type": "code",
   "execution_count": 17,
   "metadata": {},
   "outputs": [],
   "source": [
    "# 세부 페이지 접속 함수\n",
    "def go_to(dept1_idx, dept2_idx):\n",
    "    driver = webdriver.Chrome()\n",
    "    driver.get(\"https://lis.cau.ac.kr/\")\n",
    "    time.sleep(1)\n",
    "    driver.find_element('xpath','//*[@id=\"gnavigation\"]').click()\n",
    "    driver.find_element('xpath','//*[@id=\"gnavigation\"]/ul/li[1]/a').click()\n",
    "    driver.find_element('xpath','//*[@id=\"gnavigation\"]/ul/li[1]/div/div/ul/li[%s]/a[%s]'%(dept1_idx, dept2_idx)).click()\n",
    "    return driver"
   ]
  },
  {
   "cell_type": "code",
   "execution_count": 18,
   "metadata": {},
   "outputs": [],
   "source": [
    "# 크롤링\n",
    "cau = ' '\n",
    "\n",
    "# 개요 / 연혁\n",
    "driver = go_to(1,1)\n",
    "c_1 = ' '\n",
    "cont1 = driver.find_element('xpath','//*[@id=\"contents\"]/dl[1]/dd[4]').text\n",
    "cont2 = driver.find_element('xpath','//*[@id=\"contents\"]/dl[1]/dd[6]').text\n",
    "cau = cau + cont1+cont2\n",
    "c_1 = cont1 + cont2 \n",
    "driver.close()\n",
    "\n",
    "# 교육 이념\n",
    "driver = go_to(1,2)\n",
    "c_2 = ' '\n",
    "cont3 = driver.find_element('xpath', '//*[@id=\"contents\"]/dl[1]/dd[3]/span').text\n",
    "cont4 = driver.find_element('xpath','//*[@id=\"contents\"]/dl[1]/dd[6]/span').text\n",
    "cont5 = driver.find_element('xpath','//*[@id=\"contents\"]/dl[1]/dd[8]/span').text\n",
    "cont6 = driver.find_element('xpath','//*[@id=\"contents\"]/dl[1]/dd[10]/span').text\n",
    "cont7 = driver.find_element('xpath','//*[@id=\"contents\"]/dl[1]/dd[12]').text\n",
    "cont8 = driver.find_element('xpath','//*[@id=\"contents\"]/dl[1]/dd[14]/span').text\n",
    "cau = cont3+cont4+cont5+cont6+cont7+cont8+cau\n",
    "c_2 = cont3+cont4+cont5+cont6+cont7+cont8\n",
    "driver.close()\n",
    "\n",
    "# 교과 과정\n",
    "temp_li=[]\n",
    "driver = go_to(3,3)\n",
    "c_3 = ' '\n",
    "td = driver.find_elements('xpath','//*[@id=\"contents\"]/dl[1]/table[1]/tbody')\n",
    "td = td[0].text.split('\\n')\n",
    "temp_li += td\n",
    "for x in range(1,5,1):\n",
    "    text= driver.find_element('xpath','//*[@id=\"contents\"]/dl[1]/div[%s]'%str(x)).text\n",
    "    temp_li.append(text)\n",
    "for x in temp_li:\n",
    "    cau += x\n",
    "    c_3 += x\n",
    "driver.close()"
   ]
  },
  {
   "cell_type": "markdown",
   "metadata": {},
   "source": [
    "## 1-2. 연세대학교"
   ]
  },
  {
   "cell_type": "code",
   "execution_count": 19,
   "metadata": {},
   "outputs": [],
   "source": [
    "# 옵션\n",
    "options = webdriver.ChromeOptions()\n",
    "options.add_argument('headless') # 옵션 적용 시 에러 발생\n",
    "\n",
    "# 세부 페이지 접속 함수\n",
    "def go_to_y(dept1_idx, dept2_idx):\n",
    "    driver = webdriver.Chrome(options = options)\n",
    "    driver.get(\"https://yslis.yonsei.ac.kr/doai/index.do\")\n",
    "    time.sleep(1)\n",
    "    \n",
    "    # 마우스 오버 \n",
    "    action_dir = driver.find_element('xpath','//*[@id=\"item_body\"]/header/div[2]/div/div/ul/li[%s]/a'%dept1_idx)\n",
    "    act = webdriver.ActionChains(driver)\n",
    "    act.move_to_element(action_dir).perform() # 마우스 오버 시켜야 상세 메뉴 나타남\n",
    "    act.perform()\n",
    "\n",
    "    # 요소 찾기\n",
    "    driver.find_element('xpath','//*[@id=\"item_body\"]/header/div[2]/div/div/ul/li[%s]/ul/li[%s]/a'%(dept1_idx, dept2_idx)).click()\n",
    "    return driver"
   ]
  },
  {
   "cell_type": "code",
   "execution_count": 20,
   "metadata": {
    "notebookRunGroups": {
     "groupValue": "2"
    }
   },
   "outputs": [],
   "source": [
    "# 크롤링\n",
    "yon = ''\n",
    "\n",
    "# 학과 소개\n",
    "y_1 = ' '\n",
    "driver  = go_to_y(1,1)\n",
    "t = driver.find_element('xpath','//*[@id=\"jwxe_main_content\"]/div').text\n",
    "yon += t\n",
    "y_1 += t\n",
    "driver.close()\n",
    "\n",
    "# 학과 연혁\n",
    "y_2 = ' '\n",
    "driver = go_to_y(1,2)\n",
    "t = driver.find_element('xpath','//*[@id=\"his2000\"]').text\n",
    "yon += t\n",
    "driver.find_element('xpath','//*[@id=\"jwxe_main_content\"]/div/div/div[1]/ul/li[2]/a').click()\n",
    "t2 = driver.find_element('xpath','//*[@id=\"his1990\"]').text\n",
    "yon += t2\n",
    "y_2 += t2\n",
    "y_2 += t\n",
    "driver.close()\n",
    "\n",
    "# 교과 과정\n",
    "y_3 = ' '\n",
    "driver = go_to_y(3,1)\n",
    "t = driver.find_element('xpath','//*[@id=\"jwxe_main_content\"]').text\n",
    "re_comp  = re.compile('[A-Z]{3}[0-9]{4}') # 과목코드 제거\n",
    "skk = re_comp.sub('',yon)\n",
    "yon += t\n",
    "y_3 += t\n",
    "driver.close()\n"
   ]
  },
  {
   "cell_type": "markdown",
   "metadata": {},
   "source": [
    "## 1-3. 성균관대학교"
   ]
  },
  {
   "cell_type": "code",
   "execution_count": 21,
   "metadata": {},
   "outputs": [],
   "source": [
    "# 세부 페이지 접속 함수\n",
    "def go_to_s(dept1_idx, dept2_idx):\n",
    "    driver = webdriver.Chrome()  # 창 제거 옵션 선택 시 에러 발생\n",
    "    driver.get(\"https://lis.skku.edu/lis/index.do\")\n",
    "    driver.maximize_window() # 창을 최대화 했을 때 메뉴의 태그가 달라짐\n",
    "    time.sleep(1)\n",
    "    \n",
    "    # 마우스 오버 \n",
    "    action_dir = driver.find_element('xpath','//*[@id=\"item_body\"]/header/div[2]/div[2]/div/div[2]/div/ul/li[%s]/a'%dept1_idx)\n",
    "    act = webdriver.ActionChains(driver)\n",
    "    act.move_to_element(action_dir).perform() # 마우스 오버 시켜야 상세 메뉴 나타남\n",
    "    act.perform()\n",
    "\n",
    "    # 요소 찾기\n",
    "    driver.find_element('xpath','//*[@id=\"item_body\"]/header/div[2]/div[2]/div/div[2]/div/ul/li[%s]/ul/li[%s]/a'%(dept1_idx, dept2_idx)).click()\n",
    "    return driver\n"
   ]
  },
  {
   "cell_type": "code",
   "execution_count": 22,
   "metadata": {},
   "outputs": [],
   "source": [
    "# 크롤링\n",
    "skk = ' '\n",
    "\n",
    "# 인사말  - 준비중\n",
    "\n",
    "# 학과 연혁\n",
    "s_1 = ' '\n",
    "driver = go_to_s(1,2)\n",
    "t = driver.find_element('xpath', '//*[@id=\"jwxe_main_content\"]').text\n",
    "skk += t\n",
    "s_1 += t\n",
    "driver.close()\n",
    "\n",
    "# 교육 목표 및 학과 안내\n",
    "s_2 = ' '\n",
    "driver = go_to_s(1,3)\n",
    "t = driver.find_element('xpath','//*[@id=\"jwxe_main_content\"]').text\n",
    "skk += t\n",
    "s_2 += t\n",
    "driver.close()\n",
    "\n",
    "# 교육과정\n",
    "driver = go_to_s(2,1)\n",
    "s_3 = ' '\n",
    "for i in range(2,5,1):\n",
    "    t = driver.find_element('xpath','//*[@id=\"jwxe_main_content\"]/div[1]/div/table/tbody').text\n",
    "    skk += t\n",
    "    s_3 += t\n",
    "    driver.find_element('xpath','//*[@id=\"jwxe_main_content\"]/div[2]/ul/li[%s]'%i).click()\n",
    "\n",
    "# 과목코드, 개설여부 -> 전처리 단계에서 다른 학교들과 한번에 처리하려면 복잡해짐 -> 미리 전처리\n",
    "skk = skk.replace('Yes','')\n",
    "skk = skk.replace('No','')\n",
    "s_3 = s_3.replace('Yes','')\n",
    "s_3 = s_3.replace('No','')\n",
    "re_comp  = re.compile('[A-Z]{3}[0-9]{3}') # 과목코드 제거\n",
    "skk = re_comp.sub('',skk)\n",
    "s_3 = re_comp.sub('', s_3)\n",
    "skk = re.sub('[0-9]*[0-9]','',skk) # 이수 학기 제거\n",
    "s_3 = re.sub('[0-9]*[0-9]','',s_3)\n",
    "skk = re.sub(\"[0-9]*' '*[0-9]\",'',skk) # 학점 제거\n",
    "s_3 = re.sub(\"[0-9]*' '*[0-9]\",'',s_3)\n",
    "driver.close()\n",
    "\n",
    "# 과정소개  - 준비중\n"
   ]
  },
  {
   "cell_type": "markdown",
   "metadata": {},
   "source": [
    "\n"
   ]
  },
  {
   "cell_type": "markdown",
   "metadata": {},
   "source": [
    "## 2-0. 특수기호 제거"
   ]
  },
  {
   "cell_type": "code",
   "execution_count": 23,
   "metadata": {},
   "outputs": [],
   "source": [
    "cau = re.sub('[(-:*→•)]',' ',cau)\n",
    "skk = re.sub('[(-:*→•\\n)]',' ',skk)\n",
    "yon = re.sub('[(-:*→•▹ㆍ\\n)]',' ',yon)"
   ]
  },
  {
   "cell_type": "code",
   "execution_count": 24,
   "metadata": {},
   "outputs": [],
   "source": [
    "all_texts = []\n",
    "all_texts.append(kom.nouns(cau))\n",
    "all_texts.append(kom.nouns(skk))\n",
    "all_texts.append(kom.nouns(yon))"
   ]
  },
  {
   "cell_type": "markdown",
   "metadata": {},
   "source": [
    "## 2-1. 토큰화 (명사 추출)"
   ]
  },
  {
   "cell_type": "code",
   "execution_count": 25,
   "metadata": {},
   "outputs": [],
   "source": [
    "cau_docs = []\n",
    "cau_docs.append(kom.nouns(c_1))\n",
    "cau_docs.append(kom.nouns(c_2))\n",
    "cau_docs.append(kom.nouns(c_3))"
   ]
  },
  {
   "cell_type": "code",
   "execution_count": 26,
   "metadata": {},
   "outputs": [],
   "source": [
    "yon_docs = []\n",
    "y_1 = re.sub('[(-:*→•▹ㆍ\\n)]',' ',y_1)\n",
    "y_2 = re.sub('[(-:*→•▹ㆍ\\n\\t\\r)]',' ',y_2)\n",
    "y_3 = re.sub('[(-:*→•▹ㆍ\\n)]',' ',y_3)\n",
    "\n",
    "yon_docs.append(kom.nouns(y_1))\n",
    "yon_docs.append(kom.nouns(y_2))\n",
    "yon_docs.append(kom.nouns(y_3))"
   ]
  },
  {
   "cell_type": "code",
   "execution_count": 27,
   "metadata": {},
   "outputs": [],
   "source": [
    "s_1 =s_1.replace('\\n',' ')\n",
    "s_2 =s_2.replace('\\n',' ')\n",
    "s_3 =s_3.replace('\\n',' ')\n",
    "\n",
    "skk_docs = []\n",
    "skk_docs.append(kom.nouns(s_1))\n",
    "skk_docs.append(kom.nouns(s_2))\n",
    "skk_docs.append(kom.nouns(s_3))"
   ]
  },
  {
   "cell_type": "markdown",
   "metadata": {},
   "source": [
    "## 2-2. 불용어 제거"
   ]
  },
  {
   "cell_type": "markdown",
   "metadata": {},
   "source": [
    "### 2-2-2. 불용어 제거\n",
    "- 한 글자 단어 위주로 제거 ('웹' 은 예외로 함)\n",
    "- 문헌정보학, 문헌정보, 문헌정보학과 삭제\n",
    "- 큰 의미 없이 반복되는 단어('전선','전공 등) 삭제\n",
    "- 타 토큰들과 비교했을 때, 이상치 수준으로 빈도수가 큰 경우(정보)"
   ]
  },
  {
   "cell_type": "code",
   "execution_count": 104,
   "metadata": {},
   "outputs": [],
   "source": [
    "stopwords = ['문헌정보학','문헌정보','문헌정보학과','전선','전공','관련','정보','대학']"
   ]
  },
  {
   "cell_type": "code",
   "execution_count": 105,
   "metadata": {},
   "outputs": [],
   "source": [
    "cau_t_list = []\n",
    "skk_t_list = []\n",
    "yon_t_list = []\n",
    "\n",
    "# 각 문서별로 불용어 제거한 후 리스트에 추가하는 함수\n",
    "def appending_non_stopwords(vacant_list, word_list):\n",
    "    for t in word_list:\n",
    "        if len(t) > 1 and t not in stopwords:\n",
    "            vacant_list.append(t)\n",
    "    return vacant_list\n",
    "\n"
   ]
  },
  {
   "cell_type": "code",
   "execution_count": 106,
   "metadata": {},
   "outputs": [],
   "source": [
    "# 중앙대학교\n",
    "c_1_n = []\n",
    "c_2_n = []\n",
    "c_3_n = []\n",
    "c_v_list = [c_1_n, c_2_n, c_3_n]\n",
    "for i in range(len(cau_docs)):\n",
    "    c_v_list[i] = appending_non_stopwords(c_v_list[i],cau_docs[i])\n"
   ]
  },
  {
   "cell_type": "code",
   "execution_count": 107,
   "metadata": {},
   "outputs": [],
   "source": [
    "# 연세대학교\n",
    "y_1_n = []\n",
    "y_2_n = []\n",
    "y_3_n = []\n",
    "y_v_list = [y_1_n, y_2_n, y_3_n]\n",
    "for i in range(len(yon_docs)):\n",
    "    y_v_list[i] = appending_non_stopwords(y_v_list[i],yon_docs[i])"
   ]
  },
  {
   "cell_type": "code",
   "execution_count": 108,
   "metadata": {},
   "outputs": [],
   "source": [
    "# 성균관대학교  \n",
    "s_1_n = []\n",
    "s_2_n = []\n",
    "s_3_n = []\n",
    "s_v_list = [s_1_n, s_2_n, s_3_n]\n",
    "for i in range(len(skk_docs)):\n",
    "    s_v_list[i] = appending_non_stopwords(s_v_list[i],skk_docs[i])"
   ]
  },
  {
   "cell_type": "markdown",
   "metadata": {},
   "source": [
    "# 3. Topic Modeling"
   ]
  },
  {
   "cell_type": "markdown",
   "metadata": {},
   "source": [
    "- 학과별 홈페이지에서 개별 항목별 페이지(연혁, 소개, 이수 과목 ... etc)를 개별 문서로 보고 진행."
   ]
  },
  {
   "cell_type": "markdown",
   "metadata": {},
   "source": [
    "### 3-1. 텍스트 정수 인코딩"
   ]
  },
  {
   "cell_type": "code",
   "execution_count": 109,
   "metadata": {},
   "outputs": [
    {
     "name": "stdout",
     "output_type": "stream",
     "text": [
      "432\n",
      "[(5, 1), (7, 1), (8, 1), (9, 1), (10, 1), (11, 1), (16, 1), (17, 1), (18, 2), (21, 1), (24, 1), (25, 5), (27, 2), (28, 1), (30, 1), (34, 1), (41, 1), (43, 1), (45, 1), (47, 1), (48, 4), (54, 3), (59, 1), (64, 1), (65, 1), (66, 2), (70, 1), (71, 1), (73, 1), (76, 4), (77, 1), (78, 1), (80, 6), (81, 1), (84, 2), (85, 1), (86, 13), (87, 1), (88, 1), (89, 1), (92, 2), (93, 1), (95, 1), (96, 1), (99, 1), (101, 1), (103, 1), (105, 1), (106, 1), (109, 1), (110, 4), (115, 7), (117, 1), (120, 3), (122, 2), (125, 1), (126, 1), (127, 2), (128, 1), (130, 2), (133, 1), (134, 2), (135, 1), (136, 2), (137, 3), (138, 1), (139, 1), (140, 2), (144, 1), (146, 2), (151, 3), (152, 2), (154, 1), (158, 6), (159, 1), (160, 1), (165, 6), (169, 1), (170, 1), (172, 1), (173, 1), (176, 2), (185, 1), (186, 1), (187, 2), (189, 1), (190, 6), (192, 1), (193, 1), (197, 2), (198, 1), (199, 2), (200, 4), (202, 1), (203, 1), (205, 1), (206, 2), (207, 1), (208, 2), (209, 1), (210, 4), (211, 2), (212, 1), (213, 1), (214, 1), (215, 1), (216, 1), (217, 1), (218, 1), (219, 2), (220, 2), (221, 2), (222, 1), (223, 1), (224, 1), (225, 1), (226, 2), (227, 3), (228, 1), (229, 1), (230, 2), (231, 1), (232, 3), (233, 1), (234, 1), (235, 1), (236, 3), (237, 1), (238, 1), (239, 6), (240, 1), (241, 1), (242, 1), (243, 1), (244, 1), (245, 1), (246, 2), (247, 1), (248, 1), (249, 1), (250, 1), (251, 4), (252, 1), (253, 1), (254, 1), (255, 1), (256, 1), (257, 2), (258, 1), (259, 1), (260, 1), (261, 1), (262, 1), (263, 1), (264, 1), (265, 1), (266, 1), (267, 1), (268, 1), (269, 2), (270, 1), (271, 2), (272, 1), (273, 1), (274, 1), (275, 10), (276, 1), (277, 1), (278, 1), (279, 1), (280, 2), (281, 1), (282, 2), (283, 1), (284, 7), (285, 1), (286, 4), (287, 3), (288, 1), (289, 1), (290, 1), (291, 1), (292, 1), (293, 2), (294, 2), (295, 3), (296, 1), (297, 1), (298, 2), (299, 5), (300, 1), (301, 1), (302, 1), (303, 1), (304, 1), (305, 2), (306, 1), (307, 1), (308, 1), (309, 2), (310, 5), (311, 1), (312, 5), (313, 3), (314, 2), (315, 1), (316, 1), (317, 1), (318, 1), (319, 1), (320, 1), (321, 1), (322, 2), (323, 1), (324, 1), (325, 3), (326, 1), (327, 3), (328, 2), (329, 1), (330, 1), (331, 1), (332, 1), (333, 2), (334, 2), (335, 1), (336, 2), (337, 1), (338, 1), (339, 3), (340, 3), (341, 1), (342, 2), (343, 2), (344, 1), (345, 3), (346, 1)]\n"
     ]
    }
   ],
   "source": [
    "# 중앙대학교\n",
    "dictionary_cau = corpora.Dictionary(c_v_list)\n",
    "corpus_cau = [dictionary_cau.doc2bow(text) for text in c_v_list]\n",
    "\n",
    "print(len(dictionary_cau))\n",
    "print(corpus_cau[1])"
   ]
  },
  {
   "cell_type": "code",
   "execution_count": 110,
   "metadata": {},
   "outputs": [
    {
     "name": "stdout",
     "output_type": "stream",
     "text": [
      "386\n",
      "[(0, 3), (1, 4), (2, 1), (3, 1), (4, 1), (5, 5), (6, 1), (7, 4), (8, 1), (9, 6), (10, 4), (11, 2), (12, 1), (13, 1), (14, 3), (15, 2), (16, 1), (17, 2), (18, 1), (19, 3), (20, 3), (21, 5), (22, 3), (23, 1), (24, 2), (25, 1), (26, 1), (27, 5), (28, 2), (29, 5), (30, 1), (31, 3), (32, 2), (33, 1), (34, 9), (35, 2), (36, 1), (37, 1), (38, 4), (39, 1), (40, 1), (41, 3), (42, 2), (43, 9), (44, 1), (45, 1), (46, 1), (47, 1), (48, 2), (49, 1), (50, 4), (51, 2), (52, 3), (53, 1), (54, 6), (55, 2), (56, 5), (57, 1), (58, 1), (59, 1), (60, 3), (61, 2), (62, 1), (63, 1), (64, 1), (65, 1), (66, 1), (67, 6), (68, 4), (69, 4), (70, 1), (71, 2), (72, 8), (73, 1), (74, 7), (75, 1), (76, 3), (77, 1), (78, 1), (79, 4), (80, 4), (81, 1), (82, 1), (83, 1), (84, 3), (85, 6), (86, 1), (87, 2), (88, 5), (89, 1), (90, 1), (91, 2), (92, 2), (93, 1), (94, 2), (95, 1), (96, 1), (97, 1), (98, 1), (99, 1), (100, 1), (101, 3), (102, 4), (103, 1), (104, 6), (105, 9), (106, 2), (107, 2), (108, 3), (109, 5), (110, 1), (111, 1), (112, 2), (113, 1), (114, 1), (115, 1), (116, 2), (117, 3), (118, 1), (119, 7), (120, 7), (121, 10), (122, 1), (123, 2), (124, 3), (125, 5), (126, 4), (127, 3), (128, 2), (129, 2), (130, 4), (131, 6), (132, 2), (133, 4), (134, 2), (135, 1), (136, 1), (137, 1), (138, 3), (139, 1), (140, 2), (141, 1), (142, 1), (143, 2), (144, 2), (145, 6), (146, 5), (147, 1), (148, 3), (149, 1), (150, 5), (151, 1), (152, 2), (153, 1), (154, 1), (155, 8), (156, 2), (157, 1), (158, 3), (159, 2), (160, 4), (161, 1), (162, 4), (163, 1), (164, 1), (165, 9), (166, 2), (167, 1), (168, 1), (169, 3), (170, 2), (171, 1), (172, 2), (173, 2), (174, 2), (175, 5), (176, 5), (177, 2), (178, 2), (179, 1), (180, 2), (181, 1), (182, 2), (183, 3), (184, 1), (185, 2), (186, 1), (187, 3), (188, 3), (189, 2), (190, 2), (191, 1), (192, 1), (193, 1), (194, 2), (195, 2), (196, 3), (197, 1), (198, 1), (199, 4), (200, 5), (201, 1), (202, 1), (203, 1), (204, 11), (205, 1), (206, 2), (207, 1), (208, 1), (209, 3), (210, 1), (211, 3), (212, 3), (213, 4), (214, 1)]\n"
     ]
    }
   ],
   "source": [
    "# 연세대학교\n",
    "dictionary_yon = corpora.Dictionary(y_v_list)\n",
    "corpus_yon = [dictionary_yon.doc2bow(text) for text in y_v_list]\n",
    "\n",
    "print(len(dictionary_yon))\n",
    "print(corpus_yon[0])"
   ]
  },
  {
   "cell_type": "code",
   "execution_count": 111,
   "metadata": {},
   "outputs": [
    {
     "name": "stdout",
     "output_type": "stream",
     "text": [
      "264\n",
      "[(1, 1), (15, 2), (21, 3), (24, 1), (25, 1), (26, 1), (35, 1), (37, 5), (38, 2), (40, 1), (44, 2), (46, 1), (49, 1), (51, 1), (52, 1), (53, 1), (56, 1), (57, 2), (60, 1), (61, 2), (66, 1), (68, 3), (76, 1), (77, 2), (78, 1), (79, 3), (81, 1), (85, 1), (90, 2), (93, 3), (96, 4), (103, 1), (104, 1), (105, 1), (106, 1), (107, 2), (108, 1), (109, 1), (110, 1), (111, 1), (112, 1), (113, 1), (114, 2), (115, 1), (116, 1), (117, 4), (118, 1), (119, 1), (120, 1), (121, 1), (122, 1), (123, 1), (124, 1), (125, 1), (126, 1), (127, 1), (128, 1), (129, 1), (130, 1), (131, 1), (132, 1), (133, 1), (134, 1), (135, 1), (136, 2), (137, 1), (138, 1), (139, 1), (140, 1), (141, 1), (142, 1), (143, 1), (144, 1), (145, 6), (146, 1), (147, 3), (148, 1), (149, 1), (150, 1), (151, 1), (152, 1), (153, 1), (154, 1), (155, 4), (156, 1), (157, 1), (158, 2), (159, 1), (160, 1), (161, 1), (162, 1), (163, 1), (164, 1), (165, 1), (166, 1), (167, 4), (168, 1), (169, 1), (170, 3), (171, 2), (172, 1), (173, 2), (174, 1), (175, 1), (176, 1), (177, 1), (178, 2), (179, 1), (180, 1), (181, 1), (182, 1), (183, 1), (184, 1), (185, 2), (186, 1), (187, 1), (188, 1), (189, 1), (190, 1), (191, 3), (192, 1), (193, 1), (194, 1), (195, 1), (196, 1), (197, 1), (198, 1), (199, 3), (200, 1), (201, 1), (202, 1), (203, 2), (204, 1), (205, 1), (206, 2), (207, 1), (208, 1), (209, 1)]\n"
     ]
    }
   ],
   "source": [
    "# 성균관대학교\n",
    "dictionary_skk = corpora.Dictionary(s_v_list)\n",
    "corpus_skk = [dictionary_skk.doc2bow(text) for text in s_v_list]\n",
    "\n",
    "print(len(dictionary_skk))\n",
    "print(corpus_skk[1])"
   ]
  },
  {
   "cell_type": "markdown",
   "metadata": {},
   "source": [
    "### 3-2. LDA 모델 훈련\n",
    "- 세 대학 모두, 토픽 개수를 10개로 설정 했을 때, 토픽에 따른 단어 그룹이 크게 2개 정도 나오고, 나머지 8개 토픽은 거의 의미가 없는 수준으로 적은 단어로 형성된 토픽 그룹이 생성됨.\n",
    "- 따라서, 토픽의 개수를 2개로 설정하여 다시 훈련시켰음.\n",
    "- 학습 토픽 수가 적고, 대체적으로 모든 문서에서 사용되는 단어 집합이 비슷하여 명확히 토픽이 구분되지 않는 현상 발생."
   ]
  },
  {
   "cell_type": "markdown",
   "metadata": {},
   "source": [
    "__(1) 중앙대학교__"
   ]
  },
  {
   "cell_type": "code",
   "execution_count": 112,
   "metadata": {},
   "outputs": [
    {
     "name": "stdout",
     "output_type": "stream",
     "text": [
      "(0, '0.022*\"사회\" + 0.017*\"양성\" + 0.012*\"연구\" + 0.012*\"운영\" + 0.010*\"중앙대학교\" + 0.010*\"처리\" + 0.010*\"학문\" + 0.010*\"분야\" + 0.010*\"데이터\" + 0.009*\"교육\" + 0.009*\"지식\" + 0.009*\"중심\" + 0.009*\"전문가\" + 0.007*\"도서관\" + 0.007*\"실습\" + 0.007*\"현상\" + 0.007*\"변화\" + 0.007*\"융합\" + 0.007*\"경쟁력\" + 0.007*\"바탕\" + 0.006*\"조직\" + 0.006*\"목표\" + 0.006*\"자료\" + 0.006*\"전국\" + 0.006*\"영역\" + 0.006*\"능력\" + 0.006*\"컴퓨터\" + 0.006*\"현장\" + 0.006*\"이론\" + 0.006*\"기여\"')\n",
      "(1, '0.020*\"학점\" + 0.015*\"졸업\" + 0.015*\"도서관\" + 0.012*\"학과\" + 0.012*\"개최\" + 0.011*\"필수\" + 0.011*\"사회\" + 0.011*\"이수\" + 0.010*\"학기\" + 0.010*\"체육\" + 0.010*\"학술\" + 0.010*\"대회\" + 0.008*\"과정\" + 0.008*\"우승\" + 0.007*\"현상\" + 0.007*\"문헌\" + 0.007*\"기준\" + 0.007*\"과학\" + 0.007*\"관리\" + 0.007*\"동문\" + 0.007*\"변경\" + 0.006*\"영역\" + 0.006*\"포함\" + 0.006*\"실습\" + 0.006*\"학문\" + 0.006*\"일반\" + 0.006*\"사서\" + 0.006*\"사항\" + 0.006*\"대학원\" + 0.006*\"개론\"')\n"
     ]
    }
   ],
   "source": [
    "ldamodel_cau = gensim.models.ldamodel.LdaModel(corpus_cau, num_topics = 2,\n",
    " id2word = dictionary_cau, passes = 15 )\n",
    "topics_cau = ldamodel_cau.print_topics(num_words = 30)\n",
    "for topic in topics_cau:\n",
    "    print(topic)"
   ]
  },
  {
   "cell_type": "markdown",
   "metadata": {},
   "source": [
    "- topic 0에는 '학점'이나 '졸업', '필수', '학년' 등 교과 과정에 대한 단어가 다수 나타난다. 따라서 topic 0은 '교과과정'이라고 볼 수 있다.\n",
    "- topic 1에는 topic 0 보다는 다양한 종류의 단어가 다수 포함되어 있어, 명확히 어떤 주제라고 상정하긴 어려우나, 대체적으로 '사회' 나 '학문', '데이터', '대학원', '동문', '전문가' 등 진로에 관한 단어가 다수 포함되어 있으므로, topic 1을 '진로' 라고 볼 수 있다."
   ]
  },
  {
   "cell_type": "markdown",
   "metadata": {},
   "source": [
    "__(2) 연세대학교__"
   ]
  },
  {
   "cell_type": "code",
   "execution_count": 113,
   "metadata": {},
   "outputs": [
    {
     "name": "stdout",
     "output_type": "stream",
     "text": [
      "(0, '0.015*\"지식\" + 0.015*\"현상\" + 0.014*\"도서관\" + 0.014*\"이론\" + 0.012*\"능력\" + 0.012*\"영역\" + 0.011*\"조직\" + 0.011*\"서비스\" + 0.011*\"색인\" + 0.010*\"응용\" + 0.010*\"연구\" + 0.010*\"융합\" + 0.008*\"기반\" + 0.008*\"분류\" + 0.008*\"정보기술\" + 0.008*\"교육\" + 0.008*\"검색\" + 0.008*\"문제\" + 0.008*\"자원\" + 0.008*\"시대\" + 0.007*\"시스템\" + 0.007*\"요소\" + 0.007*\"제공\" + 0.007*\"개발\" + 0.007*\"커뮤니케이션\" + 0.007*\"컴퓨터\" + 0.007*\"문헌\" + 0.007*\"기술\" + 0.007*\"이해\" + 0.007*\"해결\"')\n",
      "(1, '0.019*\"분석\" + 0.018*\"도서관\" + 0.018*\"평가\" + 0.014*\"이론\" + 0.013*\"서비스\" + 0.013*\"관리\" + 0.013*\"능력\" + 0.013*\"사회\" + 0.011*\"실제\" + 0.011*\"센터\" + 0.011*\"시스템\" + 0.011*\"기법\" + 0.011*\"처리\" + 0.010*\"기술\" + 0.010*\"방법\" + 0.010*\"업무\" + 0.009*\"조직\" + 0.009*\"적용\" + 0.009*\"기본\" + 0.009*\"개념\" + 0.008*\"데이터\" + 0.008*\"커뮤니케이션\" + 0.008*\"자료\" + 0.008*\"학술\" + 0.008*\"기능\" + 0.008*\"선택\" + 0.008*\"시각\" + 0.007*\"교육\" + 0.007*\"이해\" + 0.007*\"개발\"')\n"
     ]
    }
   ],
   "source": [
    "ldamodel_yon = gensim.models.ldamodel.LdaModel(corpus_yon, num_topics = 2,\n",
    " id2word = dictionary_yon, passes = 15 )\n",
    "topics_yon = ldamodel_yon.print_topics(num_words = 30)\n",
    "for topic in topics_yon:\n",
    "    print(topic)"
   ]
  },
  {
   "cell_type": "markdown",
   "metadata": {},
   "source": [
    "- topic 0에는 '색인' ,'조직' , '분류', '검색' 등 자료조직과 관련된 단어가 다수 포함됨. 따라서 topic 0을 '자료조직'으로 봄.\n",
    "- topic 1에는 '분석', '처리', '데이터' 등 데이터 사이언스와 관련된 단어가 다수 포함됨. 따라서 topic 1을 '데이터사이언스'로 봄"
   ]
  },
  {
   "cell_type": "markdown",
   "metadata": {},
   "source": [
    "__(3) 성균관대학교__"
   ]
  },
  {
   "cell_type": "code",
   "execution_count": 114,
   "metadata": {},
   "outputs": [
    {
     "name": "stdout",
     "output_type": "stream",
     "text": [
      "(0, '0.150*\"학사\" + 0.096*\"데이터\" + 0.071*\"사이언스\" + 0.049*\"융합\" + 0.036*\"실습\" + 0.027*\"현장\" + 0.021*\"학기\" + 0.021*\"도전\" + 0.019*\"연구\" + 0.017*\"학점\" + 0.016*\"인문학\" + 0.016*\"인공지능\" + 0.012*\"석사\" + 0.012*\"개론\" + 0.011*\"박사\" + 0.011*\"대학원\" + 0.011*\"문화\" + 0.011*\"문과\" + 0.011*\"창업\" + 0.007*\"국제\" + 0.007*\"분석\" + 0.007*\"비교\" + 0.007*\"활용\" + 0.007*\"과학\" + 0.007*\"하계\" + 0.007*\"컴퓨터\" + 0.006*\"교육\" + 0.006*\"응용\" + 0.004*\"글로벌\" + 0.004*\"사회과학\"')\n",
      "(1, '0.047*\"교수\" + 0.023*\"학과\" + 0.021*\"부임\" + 0.021*\"3월\" + 0.012*\"도서관\" + 0.012*\"분야\" + 0.012*\"데이터\" + 0.010*\"글로벌\" + 0.010*\"정원\" + 0.010*\"정년\" + 0.010*\"과정\" + 0.008*\"일반\" + 0.008*\"퇴임\" + 0.008*\"영역\" + 0.008*\"명예\" + 0.008*\"본교\" + 0.008*\"창설\" + 0.008*\"시대\" + 0.008*\"전문가\" + 0.008*\"8월\" + 0.008*\"특성\" + 0.008*\"프로그램\" + 0.008*\"주년\" + 0.008*\"천혜\" + 0.008*\"최초\" + 0.008*\"추대\" + 0.008*\"연수\" + 0.008*\"교육\" + 0.008*\"박사\" + 0.008*\"연구\"')\n"
     ]
    }
   ],
   "source": [
    "ldamodel_skk = gensim.models.ldamodel.LdaModel(corpus_skk, num_topics = 2,\n",
    " id2word = dictionary_skk, passes = 15 )\n",
    "topics_skk = ldamodel_skk.print_topics(num_words = 30)\n",
    "for topic in topics_skk:\n",
    "    print(topic)"
   ]
  },
  {
   "cell_type": "markdown",
   "metadata": {},
   "source": [
    "- topic 0에는 '현장' , '대학원' , '박사' , '석사', '창업' 등 졸업 이후 진로와 관련된 단어가 다수 포함되어 있음. 따라서 topic 0을 '진로'라고 상정함.\n",
    "- topic 2에는 '교수' , '부임', '정년' , '명예' 등 교수에 관한 단어들이 다수 포함되어 있음. 따라서 topic 2를 '교수'라고 상정함."
   ]
  },
  {
   "cell_type": "markdown",
   "metadata": {},
   "source": [
    "### 3-3. LDA 시각화 및 word cloud와의 비교분석"
   ]
  },
  {
   "cell_type": "markdown",
   "metadata": {},
   "source": [
    "- 문서 별 개별 토픽의 비중이 매우 높게 나옴. 이는 학습시킨 문서의 수와 문서 내의 단어 수가 적어서 발생한 현상으로 보임."
   ]
  },
  {
   "cell_type": "markdown",
   "metadata": {},
   "source": [
    "__(1) 중앙대학교__"
   ]
  },
  {
   "cell_type": "code",
   "execution_count": 115,
   "metadata": {},
   "outputs": [
    {
     "data": {
      "text/html": [
       "\n",
       "<link rel=\"stylesheet\" type=\"text/css\" href=\"https://cdn.jsdelivr.net/gh/bmabey/pyLDAvis@3.3.1/pyLDAvis/js/ldavis.v1.0.0.css\">\n",
       "\n",
       "\n",
       "<div id=\"ldavis_el5525220071092842406857738833\"></div>\n",
       "<script type=\"text/javascript\">\n",
       "\n",
       "var ldavis_el5525220071092842406857738833_data = {\"mdsDat\": {\"x\": [0.07782549465094214, -0.07782549465094214], \"y\": [0.0, 0.0], \"topics\": [1, 2], \"cluster\": [1, 1], \"Freq\": [58.16538119652556, 41.83461880347444]}, \"tinfo\": {\"Term\": [\"\\uc591\\uc131\", \"\\ud559\\uc810\", \"\\uc6b4\\uc601\", \"\\uc911\\uc2ec\", \"\\uc804\\ubb38\\uac00\", \"\\uac1c\\ucd5c\", \"\\ucc98\\ub9ac\", \"\\ubd84\\uc57c\", \"\\uc774\\uc218\", \"\\uc0ac\\ud68c\", \"\\uacbd\\uc7c1\\ub825\", \"\\ubc14\\ud0d5\", \"\\uccb4\\uc721\", \"\\ud559\\uc220\", \"\\ub300\\ud68c\", \"\\uc5f0\\uad6c\", \"\\uc6b0\\uc2b9\", \"\\ub2a5\\ub825\", \"\\ucef4\\ud4e8\\ud130\", \"\\ud604\\uc7a5\", \"\\uc774\\ub860\", \"\\uae30\\uc5ec\", \"\\uae00\\ub85c\\ubc8c\", \"\\uc9c0\\uc2dd\\uc778\", \"\\ud6a8\\uc728\", \"\\ud604\\uc7ac\", \"\\ucde8\\uc5c5\", \"\\ubcc0\\ud654\", \"\\uc735\\ud569\", \"\\uad50\\uc721\", \"\\ud559\\uc810\", \"\\uac1c\\ucd5c\", \"\\uc774\\uc218\", \"\\uccb4\\uc721\", \"\\ud559\\uc220\", \"\\ub300\\ud68c\", \"\\uc6b0\\uc2b9\", \"\\uae30\\uc900\", \"\\ub3d9\\ubb38\", \"\\ubcc0\\uacbd\", \"\\uc0ac\\ud56d\", \"\\uac1c\\ub860\", \"\\ud559\\ub144\", \"\\uc778\\uac00\", \"\\uae30\\ub85d\", \"\\ubcf5\\uc218\", \"\\uc9c0\\ub3c4\", \"\\ud3b8\\uc785\", \"\\uc11c\\ube44\\uc2a4\", \"\\ub3c5\\uc11c\", \"\\uacf5\\uc9c0\", \"\\ud3b8\\uc81c\", \"\\uc758\\uac70\", \"\\ucd95\\uad6c\", \"3\\ub144\", \"\\uc9c0\\uae09\", \"\\uc138\\ubbf8\\ub098\", \"\\ubc1c\\ud45c\", \"4\\ub144\", \"\\ubb38\\ub9ac\\uacfc\", \"\\ud544\\uc218\", \"\\uc878\\uc5c5\", \"\\ud559\\uae30\", \"\\ud559\\uacfc\", \"\\uacfc\\uc815\", \"\\ub3c4\\uc11c\\uad00\", \"\\ubb38\\ud5cc\", \"\\uacfc\\ud559\", \"\\uad00\\ub9ac\", \"\\ud3ec\\ud568\", \"\\uc77c\\ubc18\", \"\\ub300\\ud559\\uc6d0\", \"\\uc0ac\\ud68c\", \"\\ud604\\uc0c1\", \"\\uc0ac\\uc11c\", \"\\uc601\\uc5ed\", \"\\uc2e4\\uc2b5\", \"\\ud559\\ubb38\", \"\\uc591\\uc131\", \"\\uc911\\uc2ec\", \"\\uc804\\ubb38\\uac00\", \"\\uacbd\\uc7c1\\ub825\", \"\\ubc14\\ud0d5\", \"\\ub2a5\\ub825\", \"\\ucef4\\ud4e8\\ud130\", \"\\ud604\\uc7a5\", \"\\uc774\\ub860\", \"\\uae30\\uc5ec\", \"\\uae00\\ub85c\\ubc8c\", \"\\uc9c0\\uc2dd\\uc778\", \"\\ud6a8\\uc728\", \"\\ud604\\uc7ac\", \"\\ucde8\\uc5c5\", \"\\uc6b4\\uc601\", \"\\uc2dc\\ubbfc\", \"\\uae30\\ubc18\", \"\\uad50\\uc721 \\ud504\\ub85c\\uadf8\\ub7a8\", \"\\uacbd\\ud5d8\", \"\\uc778\\ud134\\uc2ed\", \"\\uc815\\uc2e0\", \"\\ubbf8\\ub798\", \"\\ud655\\ubcf4\", \"21\\uc138\\uae30\", \"\\uc6b0\\ub9ac\\ub098\\ub77c\", \"\\uc678\\ubd80\", \"\\ucf58\\ud150\\uce20\", \"\\uc0b0\\uc5c5\", \"\\ud504\\ub85c\\uadf8\\ub7a8\", \"\\ucc98\\ub9ac\", \"\\ubd84\\uc57c\", \"\\uc0ac\\ud68c\", \"\\uc5f0\\uad6c\", \"\\ubcc0\\ud654\", \"\\uc735\\ud569\", \"\\uad50\\uc721\", \"\\uc9c0\\uc2dd\", \"\\uc911\\uc559\\ub300\\ud559\\uad50\", \"\\ub370\\uc774\\ud130\", \"\\ud559\\ubb38\", \"\\ubaa9\\ud45c\", \"\\uc2e4\\uc2b5\", \"\\ud604\\uc0c1\", \"\\ub3c4\\uc11c\\uad00\", \"\\uc870\\uc9c1\", \"\\uc790\\ub8cc\", \"\\uc804\\uad6d\", \"\\uc601\\uc5ed\"], \"Freq\": [7.0, 11.0, 5.0, 3.0, 3.0, 7.0, 5.0, 5.0, 6.0, 14.0, 3.0, 3.0, 5.0, 5.0, 5.0, 7.0, 5.0, 2.0, 2.0, 2.0, 2.0, 2.0, 2.0, 2.0, 2.0, 2.0, 2.0, 4.0, 4.0, 5.0, 11.201217085228413, 6.863869489411289, 6.143009525100859, 5.419008752634778, 5.418787606042091, 5.418684930838344, 4.696737662447207, 3.975027336833948, 3.973801026323552, 3.973484839349961, 3.2522202294288665, 3.252030938476317, 3.2520032951522313, 3.2512429721049956, 3.251165044258049, 2.5297203578257665, 2.5295708206059504, 2.529493156028757, 2.529400221805878, 2.5293586251848725, 2.529306234503986, 2.5291990837144347, 2.5290856144508065, 2.529046650527333, 2.52897477788471, 2.5288065485124163, 2.528775219411786, 2.5285927734728197, 2.528577767096887, 2.528564866878981, 6.145928133584812, 8.31376920926401, 5.422175361226243, 6.866648038386541, 4.698251990067602, 8.313212130466242, 3.9763123564993075, 3.9748851711672213, 3.974870164791289, 3.253930693015394, 3.2535223616281836, 3.2520783270318927, 6.144742893155915, 3.9768631168229978, 3.25312034871505, 3.2545009353008205, 3.2537748373215005, 3.2537682555776706, 6.8553665212388175, 3.591586086388193, 3.591226694383039, 2.9389415662091305, 2.938474621696639, 2.286201990821118, 2.2861069356121684, 2.286076639131228, 2.2860448278262404, 2.28589883665871, 2.2857323953665443, 2.285698879884504, 2.285490402225034, 2.285458212214035, 2.2853623995930614, 4.901919112116859, 1.6329839203872556, 1.6329149958931164, 1.6329119662450224, 1.6329042027717815, 1.632895492533511, 1.6328807229990527, 1.632871255348759, 1.6328610302864417, 1.6328595154623946, 1.63284228433886, 1.6328038456786669, 1.63279589285242, 1.6327860464961146, 1.6327731704917148, 4.249124624357143, 4.248739859049201, 8.826317722224012, 4.904738578374363, 2.940933559830953, 2.940854599627502, 3.594731618521816, 3.594111298074564, 4.249517342491331, 4.2466842428174045, 4.249088268580015, 2.2882210619227807, 2.9415877744662566, 2.9415264240923524, 2.9431277824630513, 2.288823772540486, 2.2880551886896328, 2.287973956250112, 2.2871839755095946], \"Total\": [7.0, 11.0, 5.0, 3.0, 3.0, 7.0, 5.0, 5.0, 6.0, 14.0, 3.0, 3.0, 5.0, 5.0, 5.0, 7.0, 5.0, 2.0, 2.0, 2.0, 2.0, 2.0, 2.0, 2.0, 2.0, 2.0, 2.0, 4.0, 4.0, 5.0, 11.533091672501888, 7.195043446893894, 6.472230424673476, 5.7491151852085025, 5.749094374096033, 5.749084552872542, 5.026167016010168, 4.303272831735042, 4.303154875375419, 4.303124493095074, 3.5802726789404695, 3.5802544447596043, 3.5802519853853, 3.5801790137493965, 3.5801714305441332, 2.857302643823778, 2.8572879969515235, 2.85728058233951, 2.8572716261747373, 2.8572677108019016, 2.857262658372484, 2.8572522669689357, 2.857241403365367, 2.857237611762735, 2.857230545186373, 2.857214673976433, 2.857211321782421, 2.857194181017585, 2.857192689712447, 2.857191316358773, 7.126210917244248, 9.948900771443919, 6.403120691053242, 8.502756094017755, 5.680013526026432, 11.256339912929294, 4.957096830947814, 4.956960370380286, 4.956958997420776, 4.234137546119474, 4.234098642446728, 4.233960386178963, 14.971060615379926, 6.91838954091535, 4.887805605860107, 5.541684910810416, 6.195362611787758, 7.502856524157686, 7.226752276721052, 3.9574924414058366, 3.95752986273619, 3.3036283899125225, 3.3036773553901417, 2.649774327841785, 2.6497843501730802, 2.649787653494392, 2.6497912190624904, 2.649806414801355, 2.649824163610271, 2.6498274071675207, 2.649849553811852, 2.6498534646657603, 2.6498632890332576, 5.9876439692100005, 1.9959712061988781, 1.9959784982982898, 1.9959790557005832, 1.9959798814030403, 1.9959807805107617, 1.9959823666097207, 1.995983462658274, 1.995984492377906, 1.9959844584462205, 1.9959863143797927, 1.9959905254196177, 1.9959915895824178, 1.9959924714685553, 1.9959939107569857, 5.333795349358479, 5.333835633067076, 14.971060615379926, 7.433381636370044, 4.026374612130146, 4.026382794215004, 5.403133659396835, 5.403199683196171, 6.779790303529061, 6.78009090372745, 7.502856524157686, 3.3725171540653163, 6.195362611787758, 6.91838954091535, 11.256339912929294, 4.095471120510441, 4.8185722007885765, 4.09556130887386, 5.541684910810416], \"Category\": [\"Default\", \"Default\", \"Default\", \"Default\", \"Default\", \"Default\", \"Default\", \"Default\", \"Default\", \"Default\", \"Default\", \"Default\", \"Default\", \"Default\", \"Default\", \"Default\", \"Default\", \"Default\", \"Default\", \"Default\", \"Default\", \"Default\", \"Default\", \"Default\", \"Default\", \"Default\", \"Default\", \"Default\", \"Default\", \"Default\", \"Topic1\", \"Topic1\", \"Topic1\", \"Topic1\", \"Topic1\", \"Topic1\", \"Topic1\", \"Topic1\", \"Topic1\", \"Topic1\", \"Topic1\", \"Topic1\", \"Topic1\", \"Topic1\", \"Topic1\", \"Topic1\", \"Topic1\", \"Topic1\", \"Topic1\", \"Topic1\", \"Topic1\", \"Topic1\", \"Topic1\", \"Topic1\", \"Topic1\", \"Topic1\", \"Topic1\", \"Topic1\", \"Topic1\", \"Topic1\", \"Topic1\", \"Topic1\", \"Topic1\", \"Topic1\", \"Topic1\", \"Topic1\", \"Topic1\", \"Topic1\", \"Topic1\", \"Topic1\", \"Topic1\", \"Topic1\", \"Topic1\", \"Topic1\", \"Topic1\", \"Topic1\", \"Topic1\", \"Topic1\", \"Topic2\", \"Topic2\", \"Topic2\", \"Topic2\", \"Topic2\", \"Topic2\", \"Topic2\", \"Topic2\", \"Topic2\", \"Topic2\", \"Topic2\", \"Topic2\", \"Topic2\", \"Topic2\", \"Topic2\", \"Topic2\", \"Topic2\", \"Topic2\", \"Topic2\", \"Topic2\", \"Topic2\", \"Topic2\", \"Topic2\", \"Topic2\", \"Topic2\", \"Topic2\", \"Topic2\", \"Topic2\", \"Topic2\", \"Topic2\", \"Topic2\", \"Topic2\", \"Topic2\", \"Topic2\", \"Topic2\", \"Topic2\", \"Topic2\", \"Topic2\", \"Topic2\", \"Topic2\", \"Topic2\", \"Topic2\", \"Topic2\", \"Topic2\", \"Topic2\", \"Topic2\", \"Topic2\", \"Topic2\", \"Topic2\"], \"logprob\": [30.0, 29.0, 28.0, 27.0, 26.0, 25.0, 24.0, 23.0, 22.0, 21.0, 20.0, 19.0, 18.0, 17.0, 16.0, 15.0, 14.0, 13.0, 12.0, 11.0, 10.0, 9.0, 8.0, 7.0, 6.0, 5.0, 4.0, 3.0, 2.0, 1.0, -3.9215, -4.4112, -4.5222, -4.6476, -4.6476, -4.6476, -4.7906, -4.9574, -4.9578, -4.9578, -5.1581, -5.1582, -5.1582, -5.1584, -5.1585, -5.4094, -5.4094, -5.4095, -5.4095, -5.4095, -5.4095, -5.4096, -5.4096, -5.4096, -5.4097, -5.4097, -5.4097, -5.4098, -5.4098, -5.4098, -4.5217, -4.2196, -4.647, -4.4108, -4.7903, -4.2196, -4.9571, -4.9575, -4.9575, -5.1576, -5.1577, -5.1582, -4.5219, -4.957, -5.1579, -5.1574, -5.1577, -5.1577, -4.0829, -4.7293, -4.7294, -4.9299, -4.93, -5.181, -5.1811, -5.1811, -5.1811, -5.1812, -5.1812, -5.1812, -5.1813, -5.1813, -5.1814, -4.4183, -5.5175, -5.5175, -5.5175, -5.5175, -5.5176, -5.5176, -5.5176, -5.5176, -5.5176, -5.5176, -5.5176, -5.5176, -5.5176, -5.5176, -4.5612, -4.5613, -3.8302, -4.4177, -4.9292, -4.9292, -4.7284, -4.7286, -4.5611, -4.5618, -4.5612, -5.1801, -4.929, -4.929, -4.9284, -5.1799, -5.1802, -5.1802, -5.1806], \"loglift\": [30.0, 29.0, 28.0, 27.0, 26.0, 25.0, 24.0, 23.0, 22.0, 21.0, 20.0, 19.0, 18.0, 17.0, 16.0, 15.0, 14.0, 13.0, 12.0, 11.0, 10.0, 9.0, 8.0, 7.0, 6.0, 5.0, 4.0, 3.0, 2.0, 1.0, 0.5127, 0.4948, 0.4897, 0.4827, 0.4827, 0.4827, 0.4741, 0.4625, 0.4623, 0.4622, 0.4458, 0.4457, 0.4457, 0.4455, 0.4455, 0.4201, 0.4201, 0.42, 0.42, 0.42, 0.42, 0.4199, 0.4199, 0.4199, 0.4198, 0.4198, 0.4198, 0.4197, 0.4197, 0.4197, 0.3939, 0.3623, 0.3756, 0.3282, 0.3521, 0.2388, 0.3214, 0.3211, 0.3211, 0.2786, 0.2784, 0.278, -0.3486, -0.0118, 0.1348, 0.0096, -0.1021, -0.2936, 0.8187, 0.7744, 0.7743, 0.7545, 0.7543, 0.7239, 0.7238, 0.7238, 0.7238, 0.7237, 0.7236, 0.7236, 0.7235, 0.7235, 0.7235, 0.6714, 0.6707, 0.6707, 0.6707, 0.6707, 0.6707, 0.6707, 0.6706, 0.6706, 0.6706, 0.6706, 0.6706, 0.6706, 0.6706, 0.6706, 0.6441, 0.644, 0.3431, 0.4557, 0.5573, 0.5573, 0.4639, 0.4638, 0.4043, 0.4036, 0.3029, 0.4836, 0.1266, 0.0162, -0.47, 0.2896, 0.1267, 0.2892, -0.0135]}, \"token.table\": {\"Topic\": [2, 1, 1, 1, 1, 2, 2, 1, 1, 2, 1, 2, 1, 2, 1, 2, 2, 2, 1, 2, 2, 1, 2, 1, 2, 1, 1, 2, 1, 2, 1, 1, 1, 2, 1, 1, 2, 2, 2, 1, 1, 1, 2, 1, 1, 2, 1, 2, 1, 1, 2, 2, 1, 1, 2, 1, 2, 2, 1, 2, 1, 2, 2, 2, 1, 1, 2, 1, 2, 1, 2, 1, 1, 2, 1, 2, 1, 2, 1, 2, 2, 2, 1, 2, 1, 2, 2, 1, 2, 1, 1, 1, 2, 2, 1, 2, 1, 1, 2, 2, 2, 1, 1, 1, 2, 2, 1, 2, 1, 2, 1, 2, 1, 1, 2, 1, 1, 1, 2, 2, 2, 2, 2], \"Freq\": [1.0020118100302773, 1.0499677756330001, 1.0499816868500826, 0.8379292718681157, 0.9728919709333937, 0.9080924504585207, 1.0020141077745401, 1.0499559748941036, 0.8802795938934763, 0.17605591877869525, 0.8069461325334601, 0.20173653313336504, 0.806946356038308, 0.201736589009577, 0.3701555663946438, 0.7403111327892876, 1.0020145222906687, 0.7547670624586224, 0.837948701116819, 1.002014802115924, 0.7547721180039229, 0.9295250746133228, 0.754781257779405, 0.7085564640125083, 0.2361854880041694, 0.8697036813455351, 0.44247194360634723, 0.5899625914751296, 0.7107105917093899, 0.2665164718910212, 1.049954118285276, 0.9295505543827373, 0.2965144295247172, 0.5930288590494344, 1.0499821915401952, 0.806923918658895, 0.20173097966472375, 1.0020123099298512, 0.9080789911597528, 1.0499811388148477, 0.929557117489518, 0.24836238460955123, 0.7450871538286536, 1.0499412816786036, 0.18748234268797245, 0.7499293707518898, 0.6137723636969581, 0.40918157579797204, 0.837925004328946, 0.40077320866873906, 0.6011598130031086, 1.0020077873983644, 1.0499526795134786, 1.0499748398478634, 1.0020184628859423, 0.48423315760274904, 0.48423315760274904, 0.9686232116394151, 0.4035848213848731, 0.6726413689747885, 0.5413516012337266, 0.3609010674891511, 1.0020087643349607, 1.0020108783268158, 0.9947938427181554, 0.16701059801522206, 0.8350529900761102, 0.2483618799078847, 0.745085639723654, 1.0499637855123078, 0.7547764463902217, 0.9270374517456554, 0.8379469262510996, 1.0020136564081594, 0.7085333274773239, 0.23617777582577462, 0.6225910653593691, 0.41506071023957947, 0.48833355165910874, 0.48833355165910874, 1.0107314761320454, 1.0020128601622385, 0.48834430548999436, 0.48834430548999436, 0.804108934623431, 0.20102723365585776, 1.0107410334254645, 0.4424915617874524, 0.5899887490499365, 1.049973607977048, 1.0499466638297357, 0.370151043319749, 0.740302086639498, 0.7547661385757419, 0.18748375865607117, 0.7499350346242847, 0.8696990474054427, 1.0499651788320081, 0.7547559182683928, 0.7547784029554566, 1.002008230114046, 1.049949388429901, 1.049959793428564, 0.7085268174033357, 0.23617560580111188, 1.0020070648619839, 0.84196216891097, 0.14032702815182832, 0.8232624719089564, 0.23521784911684468, 0.7808692419285878, 0.15617384838571755, 0.8379298474649531, 0.3998477100475805, 0.5331302800634407, 0.8697021956238424, 0.9537772101670772, 0.5781692366907072, 0.4336269275180304, 0.754777462021348, 0.7547587165361501, 1.0020117929961019, 0.7547598304677211], \"Term\": [\"21\\uc138\\uae30\", \"3\\ub144\", \"4\\ub144\", \"\\uac1c\\ub860\", \"\\uac1c\\ucd5c\", \"\\uacbd\\uc7c1\\ub825\", \"\\uacbd\\ud5d8\", \"\\uacf5\\uc9c0\", \"\\uacfc\\uc815\", \"\\uacfc\\uc815\", \"\\uacfc\\ud559\", \"\\uacfc\\ud559\", \"\\uad00\\ub9ac\", \"\\uad00\\ub9ac\", \"\\uad50\\uc721\", \"\\uad50\\uc721\", \"\\uad50\\uc721 \\ud504\\ub85c\\uadf8\\ub7a8\", \"\\uae00\\ub85c\\ubc8c\", \"\\uae30\\ub85d\", \"\\uae30\\ubc18\", \"\\uae30\\uc5ec\", \"\\uae30\\uc900\", \"\\ub2a5\\ub825\", \"\\ub300\\ud559\\uc6d0\", \"\\ub300\\ud559\\uc6d0\", \"\\ub300\\ud68c\", \"\\ub370\\uc774\\ud130\", \"\\ub370\\uc774\\ud130\", \"\\ub3c4\\uc11c\\uad00\", \"\\ub3c4\\uc11c\\uad00\", \"\\ub3c5\\uc11c\", \"\\ub3d9\\ubb38\", \"\\ubaa9\\ud45c\", \"\\ubaa9\\ud45c\", \"\\ubb38\\ub9ac\\uacfc\", \"\\ubb38\\ud5cc\", \"\\ubb38\\ud5cc\", \"\\ubbf8\\ub798\", \"\\ubc14\\ud0d5\", \"\\ubc1c\\ud45c\", \"\\ubcc0\\uacbd\", \"\\ubcc0\\ud654\", \"\\ubcc0\\ud654\", \"\\ubcf5\\uc218\", \"\\ubd84\\uc57c\", \"\\ubd84\\uc57c\", \"\\uc0ac\\uc11c\", \"\\uc0ac\\uc11c\", \"\\uc0ac\\ud56d\", \"\\uc0ac\\ud68c\", \"\\uc0ac\\ud68c\", \"\\uc0b0\\uc5c5\", \"\\uc11c\\ube44\\uc2a4\", \"\\uc138\\ubbf8\\ub098\", \"\\uc2dc\\ubbfc\", \"\\uc2e4\\uc2b5\", \"\\uc2e4\\uc2b5\", \"\\uc591\\uc131\", \"\\uc5f0\\uad6c\", \"\\uc5f0\\uad6c\", \"\\uc601\\uc5ed\", \"\\uc601\\uc5ed\", \"\\uc678\\ubd80\", \"\\uc6b0\\ub9ac\\ub098\\ub77c\", \"\\uc6b0\\uc2b9\", \"\\uc6b4\\uc601\", \"\\uc6b4\\uc601\", \"\\uc735\\ud569\", \"\\uc735\\ud569\", \"\\uc758\\uac70\", \"\\uc774\\ub860\", \"\\uc774\\uc218\", \"\\uc778\\uac00\", \"\\uc778\\ud134\\uc2ed\", \"\\uc77c\\ubc18\", \"\\uc77c\\ubc18\", \"\\uc790\\ub8cc\", \"\\uc790\\ub8cc\", \"\\uc804\\uad6d\", \"\\uc804\\uad6d\", \"\\uc804\\ubb38\\uac00\", \"\\uc815\\uc2e0\", \"\\uc870\\uc9c1\", \"\\uc870\\uc9c1\", \"\\uc878\\uc5c5\", \"\\uc878\\uc5c5\", \"\\uc911\\uc2ec\", \"\\uc911\\uc559\\ub300\\ud559\\uad50\", \"\\uc911\\uc559\\ub300\\ud559\\uad50\", \"\\uc9c0\\uae09\", \"\\uc9c0\\ub3c4\", \"\\uc9c0\\uc2dd\", \"\\uc9c0\\uc2dd\", \"\\uc9c0\\uc2dd\\uc778\", \"\\ucc98\\ub9ac\", \"\\ucc98\\ub9ac\", \"\\uccb4\\uc721\", \"\\ucd95\\uad6c\", \"\\ucde8\\uc5c5\", \"\\ucef4\\ud4e8\\ud130\", \"\\ucf58\\ud150\\uce20\", \"\\ud3b8\\uc785\", \"\\ud3b8\\uc81c\", \"\\ud3ec\\ud568\", \"\\ud3ec\\ud568\", \"\\ud504\\ub85c\\uadf8\\ub7a8\", \"\\ud544\\uc218\", \"\\ud544\\uc218\", \"\\ud559\\uacfc\", \"\\ud559\\uacfc\", \"\\ud559\\uae30\", \"\\ud559\\uae30\", \"\\ud559\\ub144\", \"\\ud559\\ubb38\", \"\\ud559\\ubb38\", \"\\ud559\\uc220\", \"\\ud559\\uc810\", \"\\ud604\\uc0c1\", \"\\ud604\\uc0c1\", \"\\ud604\\uc7a5\", \"\\ud604\\uc7ac\", \"\\ud655\\ubcf4\", \"\\ud6a8\\uc728\"]}, \"R\": 30, \"lambda.step\": 0.01, \"plot.opts\": {\"xlab\": \"PC1\", \"ylab\": \"PC2\"}, \"topic.order\": [2, 1]};\n",
       "\n",
       "function LDAvis_load_lib(url, callback){\n",
       "  var s = document.createElement('script');\n",
       "  s.src = url;\n",
       "  s.async = true;\n",
       "  s.onreadystatechange = s.onload = callback;\n",
       "  s.onerror = function(){console.warn(\"failed to load library \" + url);};\n",
       "  document.getElementsByTagName(\"head\")[0].appendChild(s);\n",
       "}\n",
       "\n",
       "if(typeof(LDAvis) !== \"undefined\"){\n",
       "   // already loaded: just create the visualization\n",
       "   !function(LDAvis){\n",
       "       new LDAvis(\"#\" + \"ldavis_el5525220071092842406857738833\", ldavis_el5525220071092842406857738833_data);\n",
       "   }(LDAvis);\n",
       "}else if(typeof define === \"function\" && define.amd){\n",
       "   // require.js is available: use it to load d3/LDAvis\n",
       "   require.config({paths: {d3: \"https://d3js.org/d3.v5\"}});\n",
       "   require([\"d3\"], function(d3){\n",
       "      window.d3 = d3;\n",
       "      LDAvis_load_lib(\"https://cdn.jsdelivr.net/gh/bmabey/pyLDAvis@3.3.1/pyLDAvis/js/ldavis.v3.0.0.js\", function(){\n",
       "        new LDAvis(\"#\" + \"ldavis_el5525220071092842406857738833\", ldavis_el5525220071092842406857738833_data);\n",
       "      });\n",
       "    });\n",
       "}else{\n",
       "    // require.js not available: dynamically load d3 & LDAvis\n",
       "    LDAvis_load_lib(\"https://d3js.org/d3.v5.js\", function(){\n",
       "         LDAvis_load_lib(\"https://cdn.jsdelivr.net/gh/bmabey/pyLDAvis@3.3.1/pyLDAvis/js/ldavis.v3.0.0.js\", function(){\n",
       "                 new LDAvis(\"#\" + \"ldavis_el5525220071092842406857738833\", ldavis_el5525220071092842406857738833_data);\n",
       "            })\n",
       "         });\n",
       "}\n",
       "</script>"
      ],
      "text/plain": [
       "<IPython.core.display.HTML object>"
      ]
     },
     "execution_count": 115,
     "metadata": {},
     "output_type": "execute_result"
    }
   ],
   "source": [
    "import pyLDAvis.gensim_models\n",
    "\n",
    "pyLDAvis.enable_notebook()\n",
    "vis_cau = pyLDAvis.gensim_models.prepare(ldamodel_cau, corpus_cau, dictionary_cau)\n",
    "pyLDAvis.display(vis_cau)"
   ]
  },
  {
   "cell_type": "code",
   "execution_count": 116,
   "metadata": {},
   "outputs": [
    {
     "name": "stdout",
     "output_type": "stream",
     "text": [
      "0 번째 문서의 topic 비율은 [(1, 0.99799573)]\n",
      "1 번째 문서의 topic 비율은 [(0, 0.9985039)]\n",
      "2 번째 문서의 topic 비율은 [(1, 0.9975462)]\n"
     ]
    }
   ],
   "source": [
    "for i, topic_list in enumerate(ldamodel_cau[corpus_cau]):\n",
    "    if i==4:\n",
    "        break\n",
    "    print(i,'번째 문서의 topic 비율은',topic_list)"
   ]
  },
  {
   "cell_type": "markdown",
   "metadata": {},
   "source": [
    "[cauimg](./img/cauwc.png)"
   ]
  },
  {
   "cell_type": "markdown",
   "metadata": {},
   "source": [
    "__(2) 연세대학교__"
   ]
  },
  {
   "cell_type": "code",
   "execution_count": 117,
   "metadata": {},
   "outputs": [
    {
     "data": {
      "text/html": [
       "\n",
       "<link rel=\"stylesheet\" type=\"text/css\" href=\"https://cdn.jsdelivr.net/gh/bmabey/pyLDAvis@3.3.1/pyLDAvis/js/ldavis.v1.0.0.css\">\n",
       "\n",
       "\n",
       "<div id=\"ldavis_el5525220071092301441129724387\"></div>\n",
       "<script type=\"text/javascript\">\n",
       "\n",
       "var ldavis_el5525220071092301441129724387_data = {\"mdsDat\": {\"x\": [0.0726279196239321, -0.0726279196239321], \"y\": [0.0, 0.0], \"topics\": [1, 2], \"cluster\": [1, 1], \"Freq\": [52.140435523165785, 47.85956447683421]}, \"tinfo\": {\"Term\": [\"\\uc601\\uc5ed\", \"\\uc9c0\\uc2dd\", \"\\uc0c9\\uc778\", \"\\ucc98\\ub9ac\", \"\\uc735\\ud569\", \"\\uc790\\uc6d0\", \"\\uc2dc\\ub300\", \"\\uae30\\ubcf8\", \"\\uac1c\\ub150\", \"\\ud3c9\\uac00\", \"\\uae30\\ub2a5\", \"\\uc120\\ud0dd\", \"\\uc2dc\\uac01\", \"\\ud574\\uacb0\", \"\\uc815\\ubcf4\\uc6d0\", \"\\ubd84\\uc11d\", \"\\uc18c\\ud504\\ud2b8\\uc6e8\\uc5b4\", \"\\ud604\\uc0c1\", \"\\uc5ed\\ud560\", \"\\uc778\\uac04\", \"\\uac00\\uce58\", \"\\ud568\\uc591\", \"\\uc18c\\uc591\", \"\\uac1c\\uc778\", \"\\uae30\\ubc18\", \"\\uc2e4\\uc81c\", \"\\uae30\\ubc95\", \"\\uc751\\uc6a9\", \"\\ud504\\ub85c\\uadf8\\ub798\\ubc0d\", \"\\uc18c\\uac1c\", \"\\ucc98\\ub9ac\", \"\\uae30\\ubcf8\", \"\\uac1c\\ub150\", \"\\uae30\\ub2a5\", \"\\uc120\\ud0dd\", \"\\uc2dc\\uac01\", \"\\uc18c\\ud504\\ud2b8\\uc6e8\\uc5b4\", \"\\ud504\\ub85c\\uadf8\\ub798\\ubc0d\", \"\\uc18c\\uac1c\", \"\\ud14d\\uc2a4\\ud2b8\", \"\\ud1b5\\uacc4\", \"\\uc11c\\uc9c0\", \"\\ud559\\uc2b5\", \"\\uc2b5\\ub4dd\", \"\\uc18c\\uc15c \\ub124\\ud2b8\\uc6cc\\ud06c \\uc11c\\ube44\\uc2a4\", \"\\uc5b8\\uc5b4\", \"\\uc218\\ud589\", \"\\ub514\\uc9c0\\ud138\\ub3c4\\uc11c\\uad00\", \"\\uccb4\\uacc4\", \"\\ub124\\ud2b8\\uc6cc\\ud06c\", \"\\uc18c\\uc15c \\ub124\\ud2b8\\uc6cc\\ud06c\", \"\\uad6c\\uc870\", \"\\ubc30\\uc591\", \"\\uacf5\\uacf5\", \"\\uc5ed\\uc0ac\", \"\\uc778\\ud130\\ud398\\uc774\\uc2a4\", \"\\uc5f0\\uc2b5\", \"\\ubcc0\\ud654\", \"\\uae30\\uad00\", \"\\uc720\\ud1b5\", \"\\ud3c9\\uac00\", \"\\ub370\\uc774\\ud130\", \"\\ud559\\uc220\", \"\\uc2e4\\uc81c\", \"\\uae30\\ubc95\", \"\\ubd84\\uc11d\", \"\\ubc29\\ubc95\", \"\\uad00\\ub9ac\", \"\\uc801\\uc6a9\", \"\\uc0ac\\ud68c\", \"\\uc5c5\\ubb34\", \"\\uc13c\\ud130\", \"\\ub3c4\\uc11c\\uad00\", \"\\uc2dc\\uc2a4\\ud15c\", \"\\uae30\\uc220\", \"\\uc11c\\ube44\\uc2a4\", \"\\uc774\\ub860\", \"\\ub2a5\\ub825\", \"\\uc790\\ub8cc\", \"\\uc870\\uc9c1\", \"\\uc774\\uc6a9\", \"\\ucee4\\ubba4\\ub2c8\\ucf00\\uc774\\uc158\", \"\\uc774\\uc6a9\\uc790\", \"\\uad50\\uc721\", \"\\uc774\\ud574\", \"\\uac1c\\ubc1c\", \"\\uc601\\uc5ed\", \"\\uc0c9\\uc778\", \"\\uc735\\ud569\", \"\\uc790\\uc6d0\", \"\\uc2dc\\ub300\", \"\\ud574\\uacb0\", \"\\uc815\\ubcf4\\uc6d0\", \"\\uc5ed\\ud560\", \"\\uc778\\uac04\", \"\\uac00\\uce58\", \"\\ud568\\uc591\", \"\\uc18c\\uc591\", \"\\uac1c\\uc778\", \"\\uc9c0\\uc2dd\", \"\\uc0ac\\uc5c5\", \"\\uc778\\ub825\", \"\\uc8fc\\ub3c4\", \"\\uad50\\uc721\\uacfc\\uc815\", \"\\ucc38\\uace0\", \"\\uc804\\ubb38\", \"\\uc721\\uc131\", \"\\uc815\\ubcf4\\ud654\", \"\\uace0\\ucc30\", \"\\ud559\\ubb38\", \"\\ud574\\uc678\", \"\\uc5f0\\uc138\\ub300\\ud559\\uad50\", \"\\uac1c\\ucd5c\", \"\\ucc3d\\ub9bd\", \"\\ud559\\uc704\", \"\\uae30\\ub150\\ud589\\uc0ac\", \"\\uae30\\ubc18\", \"\\uc751\\uc6a9\", \"\\ud604\\uc0c1\", \"\\uc815\\ubcf4\\uae30\\uc220\", \"\\uc5f0\\uad6c\", \"\\uc8fc\\uc81c\", \"\\ubd84\\ub958\", \"\\uac80\\uc0c9\", \"\\ubb38\\uc81c\", \"\\uc694\\uc18c\", \"\\uc81c\\uacf5\", \"\\uc774\\ub860\", \"\\uc870\\uc9c1\", \"\\ub2a5\\ub825\", \"\\ud6a8\\uc728\", \"\\uc791\\uc5c5\", \"\\ub3c4\\uc11c\\uad00\", \"\\uc11c\\ube44\\uc2a4\", \"\\uad50\\uc721\", \"\\ucef4\\ud4e8\\ud130\", \"\\ubb38\\ud5cc\", \"\\uac1c\\ubc1c\", \"\\uc774\\ud574\", \"\\ucee4\\ubba4\\ub2c8\\ucf00\\uc774\\uc158\", \"\\uae30\\uc220\", \"\\uc2dc\\uc2a4\\ud15c\"], \"Freq\": [7.0, 9.0, 6.0, 7.0, 6.0, 5.0, 5.0, 6.0, 6.0, 13.0, 5.0, 5.0, 5.0, 4.0, 4.0, 15.0, 4.0, 12.0, 3.0, 3.0, 3.0, 3.0, 3.0, 3.0, 6.0, 9.0, 9.0, 7.0, 3.0, 3.0, 7.28592950685358, 5.751825358461863, 5.751690987832463, 4.985651724856445, 4.985476510291236, 4.9854232355923545, 4.217985807741257, 3.4519637110571, 3.451533961819459, 3.451339509168543, 3.4512738037065893, 3.4512246725953992, 3.451090301965999, 2.6847006098595627, 2.6846396399263988, 2.6845845894042215, 2.684504973326449, 2.684363203433316, 2.684116659965716, 2.6841095566725315, 1.9177115773907139, 1.917697222819071, 1.917679612571385, 1.9176516433544726, 1.9176470558109577, 1.9176096155364664, 1.9175677357037348, 1.9175436141039637, 1.9175351789433075, 1.9175285196059473, 11.12814104215466, 5.000647960650381, 4.988222525048008, 7.291567153877399, 7.289848156926835, 11.893548112037289, 6.52232430567533, 8.059652165290453, 5.754861424356989, 8.059388159560442, 6.52213133287716, 7.290547831305474, 11.133682794720494, 7.289957666030091, 6.525700145761097, 8.062896002511215, 8.831812691167912, 8.059479318489638, 4.989813070780159, 5.7560393871433595, 4.222066353705001, 4.990458286577719, 4.2216410440256, 4.2241961577780485, 4.223692711873622, 4.222792369462531, 7.129847825417228, 6.378522773681345, 5.627842124526161, 4.877870535546201, 4.8775852814527205, 4.126872575170841, 4.126512068330795, 3.3773497859646233, 3.3768075315164454, 3.3766972332669662, 3.3766923431967926, 3.376546727773835, 3.376482341849878, 8.633987226927527, 2.627611562000186, 2.626924507140746, 2.6269046751894853, 2.62689190667292, 2.6268136655501366, 2.6267954636222672, 2.6267204825462667, 2.6264765223786997, 2.6263436754723073, 2.625724266583607, 1.876940285479503, 1.8769203176929594, 1.8768921997894592, 1.876880110449307, 1.8768532150633501, 1.876842076570176, 4.880078673900304, 5.631269520376969, 8.632027395470034, 4.878818665818816, 5.629951918135655, 3.3791906257145494, 4.87935603019682, 4.8785111347389885, 4.878443760438814, 4.1305360527428245, 4.129131244250075, 7.880116621995539, 6.383789379258687, 7.133823995809778, 3.377489424635146, 3.3773690745747538, 7.880628449340412, 6.379423089934481, 4.878655663479685, 4.128696843016289, 4.128576764626462, 4.128971773628291, 4.128091289326416, 4.128775084139073, 4.12846891141207, 4.1316077931226145], \"Total\": [7.0, 9.0, 6.0, 7.0, 6.0, 5.0, 5.0, 6.0, 6.0, 13.0, 5.0, 5.0, 5.0, 4.0, 4.0, 15.0, 4.0, 12.0, 3.0, 3.0, 3.0, 3.0, 3.0, 3.0, 6.0, 9.0, 9.0, 7.0, 3.0, 3.0, 7.666262321408207, 6.131350564343735, 6.131347919979645, 5.363913764486508, 5.363909328830361, 5.363909369479903, 4.596444910407566, 3.829011077631247, 3.8290017046344627, 3.8289972515850965, 3.828996203717665, 3.828994784749492, 3.828992276220685, 3.0615509473562845, 3.0615493034828005, 3.0615482814442814, 3.061546634818727, 3.061543450872676, 3.0615380829493493, 3.0615378732967575, 2.2940965771680357, 2.2940965192598872, 2.294095786546066, 2.29409522209742, 2.294095218994693, 2.294094386328865, 2.2940935287514814, 2.2940932462438086, 2.2940928253648263, 2.29409261820339, 13.756793102419635, 6.1152264418466835, 6.114959961978908, 9.168428926563553, 9.168393336270372, 15.275272065772509, 8.400927758355106, 10.686964346327768, 7.633462296166394, 11.438016155534422, 9.151979286970231, 10.670521683259551, 19.014311244060906, 11.421565459152706, 10.654169057173167, 14.442319092445697, 16.711929313163452, 15.193303314299417, 8.36816260442479, 12.139828766402047, 6.098577943032588, 9.119233370716792, 6.8496253380412675, 9.102851821257733, 8.351784001200038, 8.351764143090822, 7.518817833810752, 6.767766110877185, 6.016700515026266, 5.265620331357436, 5.265626423273462, 4.514561623026824, 4.514569007579608, 3.7634711148170736, 3.7634827692519845, 3.7634853097744414, 3.7634855251962436, 3.7634881540221863, 3.763489917516007, 9.788282284365195, 3.012385114963581, 3.0124001392434936, 3.012400766256456, 3.0124011314330175, 3.012402876351193, 3.012402987601064, 3.0124047738862982, 3.0124098729360007, 3.0124127285264803, 3.012425808701719, 2.261319642667497, 2.2613201708414947, 2.2613206880886434, 2.2613208815262884, 2.2613216223903763, 2.2613217677743958, 6.032964393574654, 7.551482048909602, 12.09071585337868, 6.8004551086643215, 8.318974881897773, 4.530823872016732, 7.56790721690329, 7.567925963508431, 7.567926958405154, 6.049336949740383, 6.0493673024413805, 16.711929313163452, 12.139828766402047, 15.193303314299417, 4.530861719892611, 4.530864123617557, 19.014311244060906, 14.442319092445697, 9.102851821257733, 6.816841366187967, 6.8168441155761155, 8.351764143090822, 8.351784001200038, 9.119233370716792, 10.654169057173167, 11.421565459152706], \"Category\": [\"Default\", \"Default\", \"Default\", \"Default\", \"Default\", \"Default\", \"Default\", \"Default\", \"Default\", \"Default\", \"Default\", \"Default\", \"Default\", \"Default\", \"Default\", \"Default\", \"Default\", \"Default\", \"Default\", \"Default\", \"Default\", \"Default\", \"Default\", \"Default\", \"Default\", \"Default\", \"Default\", \"Default\", \"Default\", \"Default\", \"Topic1\", \"Topic1\", \"Topic1\", \"Topic1\", \"Topic1\", \"Topic1\", \"Topic1\", \"Topic1\", \"Topic1\", \"Topic1\", \"Topic1\", \"Topic1\", \"Topic1\", \"Topic1\", \"Topic1\", \"Topic1\", \"Topic1\", \"Topic1\", \"Topic1\", \"Topic1\", \"Topic1\", \"Topic1\", \"Topic1\", \"Topic1\", \"Topic1\", \"Topic1\", \"Topic1\", \"Topic1\", \"Topic1\", \"Topic1\", \"Topic1\", \"Topic1\", \"Topic1\", \"Topic1\", \"Topic1\", \"Topic1\", \"Topic1\", \"Topic1\", \"Topic1\", \"Topic1\", \"Topic1\", \"Topic1\", \"Topic1\", \"Topic1\", \"Topic1\", \"Topic1\", \"Topic1\", \"Topic1\", \"Topic1\", \"Topic1\", \"Topic1\", \"Topic1\", \"Topic1\", \"Topic1\", \"Topic1\", \"Topic1\", \"Topic2\", \"Topic2\", \"Topic2\", \"Topic2\", \"Topic2\", \"Topic2\", \"Topic2\", \"Topic2\", \"Topic2\", \"Topic2\", \"Topic2\", \"Topic2\", \"Topic2\", \"Topic2\", \"Topic2\", \"Topic2\", \"Topic2\", \"Topic2\", \"Topic2\", \"Topic2\", \"Topic2\", \"Topic2\", \"Topic2\", \"Topic2\", \"Topic2\", \"Topic2\", \"Topic2\", \"Topic2\", \"Topic2\", \"Topic2\", \"Topic2\", \"Topic2\", \"Topic2\", \"Topic2\", \"Topic2\", \"Topic2\", \"Topic2\", \"Topic2\", \"Topic2\", \"Topic2\", \"Topic2\", \"Topic2\", \"Topic2\", \"Topic2\", \"Topic2\", \"Topic2\", \"Topic2\", \"Topic2\", \"Topic2\", \"Topic2\", \"Topic2\", \"Topic2\", \"Topic2\", \"Topic2\", \"Topic2\", \"Topic2\"], \"logprob\": [30.0, 29.0, 28.0, 27.0, 26.0, 25.0, 24.0, 23.0, 22.0, 21.0, 20.0, 19.0, 18.0, 17.0, 16.0, 15.0, 14.0, 13.0, 12.0, 11.0, 10.0, 9.0, 8.0, 7.0, 6.0, 5.0, 4.0, 3.0, 2.0, 1.0, -4.4686, -4.705, -4.7051, -4.848, -4.848, -4.848, -5.0152, -5.2156, -5.2157, -5.2158, -5.2158, -5.2158, -5.2159, -5.467, -5.467, -5.467, -5.4671, -5.4671, -5.4672, -5.4672, -5.8034, -5.8034, -5.8034, -5.8035, -5.8035, -5.8035, -5.8035, -5.8035, -5.8035, -5.8035, -4.0451, -4.845, -4.8475, -4.4678, -4.4681, -3.9786, -4.5793, -4.3677, -4.7045, -4.3677, -4.5794, -4.468, -4.0446, -4.4681, -4.5788, -4.3673, -4.2762, -4.3677, -4.8472, -4.7043, -5.0142, -4.847, -5.0143, -5.0137, -5.0138, -5.0141, -4.4046, -4.516, -4.6412, -4.7842, -4.7842, -4.9514, -4.9515, -5.1518, -5.152, -5.152, -5.152, -5.152, -5.1521, -4.2132, -5.4028, -5.4031, -5.4031, -5.4031, -5.4031, -5.4031, -5.4032, -5.4032, -5.4033, -5.4035, -5.7392, -5.7393, -5.7393, -5.7393, -5.7393, -5.7393, -4.7837, -4.6406, -4.2134, -4.784, -4.6408, -5.1513, -4.7839, -4.784, -4.7841, -4.9505, -4.9508, -4.3045, -4.5151, -4.404, -5.1518, -5.1518, -4.3045, -4.5158, -4.784, -4.9509, -4.951, -4.9509, -4.9511, -4.9509, -4.951, -4.9502], \"loglift\": [30.0, 29.0, 28.0, 27.0, 26.0, 25.0, 24.0, 23.0, 22.0, 21.0, 20.0, 19.0, 18.0, 17.0, 16.0, 15.0, 14.0, 13.0, 12.0, 11.0, 10.0, 9.0, 8.0, 7.0, 6.0, 5.0, 4.0, 3.0, 2.0, 1.0, 0.6003, 0.5873, 0.5873, 0.5781, 0.5781, 0.5781, 0.5653, 0.5476, 0.5474, 0.5474, 0.5474, 0.5474, 0.5473, 0.5199, 0.5199, 0.5198, 0.5198, 0.5198, 0.5197, 0.5197, 0.472, 0.472, 0.472, 0.472, 0.472, 0.472, 0.4719, 0.4719, 0.4719, 0.4719, 0.4392, 0.45, 0.4476, 0.4222, 0.422, 0.401, 0.3981, 0.3691, 0.3687, 0.3011, 0.3125, 0.2703, 0.116, 0.2022, 0.161, 0.0683, 0.0135, 0.0172, 0.1342, -0.095, 0.2835, 0.0484, 0.1673, -0.1165, -0.0305, -0.0307, 0.6838, 0.6777, 0.6701, 0.6604, 0.6603, 0.6471, 0.647, 0.6286, 0.6285, 0.6285, 0.6285, 0.6284, 0.6284, 0.6114, 0.6002, 0.6, 0.6, 0.6, 0.5999, 0.5999, 0.5999, 0.5998, 0.5998, 0.5995, 0.5506, 0.5506, 0.5506, 0.5506, 0.5505, 0.5505, 0.5248, 0.4435, 0.3999, 0.4048, 0.3465, 0.4436, 0.298, 0.2978, 0.2978, 0.3554, 0.355, -0.0149, 0.0942, -0.0191, 0.4431, 0.4431, -0.1439, -0.0802, 0.1132, 0.2355, 0.2354, 0.0325, 0.0322, -0.0555, -0.2111, -0.2799]}, \"token.table\": {\"Topic\": [2, 1, 1, 2, 2, 2, 1, 2, 2, 1, 1, 2, 1, 2, 2, 1, 1, 2, 1, 1, 2, 1, 2, 1, 1, 2, 1, 1, 2, 1, 2, 1, 2, 1, 1, 2, 1, 2, 1, 2, 1, 1, 1, 2, 1, 2, 2, 1, 2, 2, 1, 2, 1, 1, 1, 2, 1, 1, 1, 2, 1, 1, 1, 1, 2, 1, 2, 1, 2, 1, 1, 2, 1, 2, 1, 2, 2, 1, 2, 1, 2, 1, 2, 2, 1, 2, 1, 2, 1, 2, 1, 2, 1, 2, 2, 2, 1, 1, 2, 2, 1, 2, 1, 2, 2, 1, 2, 2, 2, 1, 2, 1, 2, 2, 1, 2, 1, 2, 2, 2, 1, 1, 1, 2, 1, 2, 1, 1, 1, 2, 1, 2, 1, 2, 1, 2, 2, 2, 2, 1, 2, 1, 2], \"Freq\": [0.7971334422930962, 0.9785776436610889, 0.47894072814653016, 0.47894072814653016, 0.79713246634126, 0.8844389079951672, 0.39640979767318224, 0.6606829961219705, 0.9958794728195987, 0.8718033936583774, 0.7485755300333666, 0.2807158237625125, 0.4394227302106433, 0.5492784127633041, 0.9958833067403882, 0.8718029007102249, 0.871804304467036, 0.884438485712898, 0.9321551798807963, 0.16575599237168373, 0.8287799618584186, 0.7634925491588413, 0.21814072833109752, 0.9785772216145019, 0.6570197978308864, 0.37543988447479226, 0.9798996857646279, 0.5265477713770562, 0.4607292999549242, 0.8176312108060048, 0.16352624216120096, 0.5785116199481501, 0.42073572359865463, 0.9798979005654376, 0.39640974556025743, 0.6606829092670957, 0.44008634334840724, 0.5867817911312097, 0.8332413039783827, 0.2380689439938236, 0.8718031791563292, 0.8718041445240569, 0.3964107796273392, 0.660684632712232, 0.785583389175015, 0.19639584729375376, 0.9958886017255696, 0.6994219881503755, 0.2622832455563908, 0.8865554603544546, 0.5539276586254446, 0.4154457439690834, 0.78349545210892, 0.9321559507215396, 0.6560129118131076, 0.2811483907770461, 0.7834940361527983, 0.8718028787039622, 0.9798960273438084, 0.7971328398612822, 0.8702377767963546, 0.9798968814916089, 0.9798955011970534, 0.9321559436573424, 0.9495546394823181, 0.6128757064900003, 0.35021468942285733, 0.7634895854096664, 0.21813988154561897, 0.9798963544630934, 0.7648618709141938, 0.3277979446775116, 0.8718033948374776, 0.7971364488992012, 0.36062135570670484, 0.7212427114134097, 0.8844391102988964, 0.8718040371651559, 0.9309974193712045, 0.33061474614764735, 0.6612294922952947, 0.8718043831928166, 0.9958821025667494, 0.9972243067467697, 0.2648486730215813, 0.794546019064744, 0.5385374621535162, 0.47869996635868106, 0.6558906088213335, 0.32794530441066677, 0.5839735463755815, 0.4379801597816861, 0.47893958936500924, 0.47893958936500924, 0.7971339803945133, 0.9958836347529157, 0.8718037112677429, 0.5975027298532866, 0.358501637911972, 0.9495557380436958, 0.22070845046696622, 0.6621253514008987, 0.786012921425349, 0.26200430714178297, 0.9958826931017815, 0.29409796374537356, 0.7352449093634339, 0.8860203472987817, 0.9958804168557894, 0.33061308728812805, 0.6612261745762561, 0.4942409086201844, 0.4942409086201844, 0.9958834274657729, 0.22071041122922444, 0.6621312336876733, 0.10216297108608097, 0.9194667397747287, 0.9958827298803351, 0.8844388323385982, 0.9130916353399942, 0.9798996186615891, 0.5482917035609309, 0.4386333628487447, 0.4400865208453023, 0.5867820277937364, 0.7834949473411309, 0.7834951617573367, 0.7996049601171401, 0.21807408003194728, 0.7834921182458159, 0.9958751486374119, 0.81766684182539, 0.16353336836507798, 0.7834959654087049, 0.8844385425748766, 0.7971333966652011, 0.8860217965788154, 0.8844393168763885, 0.24812426628665396, 0.7443727988599619, 0.22070856755780702, 0.662125702673421], \"Term\": [\"\\uac00\\uce58\", \"\\uac1c\\ub150\", \"\\uac1c\\ubc1c\", \"\\uac1c\\ubc1c\", \"\\uac1c\\uc778\", \"\\uac1c\\ucd5c\", \"\\uac80\\uc0c9\", \"\\uac80\\uc0c9\", \"\\uace0\\ucc30\", \"\\uacf5\\uacf5\", \"\\uad00\\ub9ac\", \"\\uad00\\ub9ac\", \"\\uad50\\uc721\", \"\\uad50\\uc721\", \"\\uad50\\uc721\\uacfc\\uc815\", \"\\uad6c\\uc870\", \"\\uae30\\uad00\", \"\\uae30\\ub150\\ud589\\uc0ac\", \"\\uae30\\ub2a5\", \"\\uae30\\ubc18\", \"\\uae30\\ubc18\", \"\\uae30\\ubc95\", \"\\uae30\\ubc95\", \"\\uae30\\ubcf8\", \"\\uae30\\uc220\", \"\\uae30\\uc220\", \"\\ub124\\ud2b8\\uc6cc\\ud06c\", \"\\ub2a5\\ub825\", \"\\ub2a5\\ub825\", \"\\ub370\\uc774\\ud130\", \"\\ub370\\uc774\\ud130\", \"\\ub3c4\\uc11c\\uad00\", \"\\ub3c4\\uc11c\\uad00\", \"\\ub514\\uc9c0\\ud138\\ub3c4\\uc11c\\uad00\", \"\\ubb38\\uc81c\", \"\\ubb38\\uc81c\", \"\\ubb38\\ud5cc\", \"\\ubb38\\ud5cc\", \"\\ubc29\\ubc95\", \"\\ubc29\\ubc95\", \"\\ubc30\\uc591\", \"\\ubcc0\\ud654\", \"\\ubd84\\ub958\", \"\\ubd84\\ub958\", \"\\ubd84\\uc11d\", \"\\ubd84\\uc11d\", \"\\uc0ac\\uc5c5\", \"\\uc0ac\\ud68c\", \"\\uc0ac\\ud68c\", \"\\uc0c9\\uc778\", \"\\uc11c\\ube44\\uc2a4\", \"\\uc11c\\ube44\\uc2a4\", \"\\uc11c\\uc9c0\", \"\\uc120\\ud0dd\", \"\\uc13c\\ud130\", \"\\uc13c\\ud130\", \"\\uc18c\\uac1c\", \"\\uc18c\\uc15c \\ub124\\ud2b8\\uc6cc\\ud06c\", \"\\uc18c\\uc15c \\ub124\\ud2b8\\uc6cc\\ud06c \\uc11c\\ube44\\uc2a4\", \"\\uc18c\\uc591\", \"\\uc18c\\ud504\\ud2b8\\uc6e8\\uc5b4\", \"\\uc218\\ud589\", \"\\uc2b5\\ub4dd\", \"\\uc2dc\\uac01\", \"\\uc2dc\\ub300\", \"\\uc2dc\\uc2a4\\ud15c\", \"\\uc2dc\\uc2a4\\ud15c\", \"\\uc2e4\\uc81c\", \"\\uc2e4\\uc81c\", \"\\uc5b8\\uc5b4\", \"\\uc5c5\\ubb34\", \"\\uc5c5\\ubb34\", \"\\uc5ed\\uc0ac\", \"\\uc5ed\\ud560\", \"\\uc5f0\\uad6c\", \"\\uc5f0\\uad6c\", \"\\uc5f0\\uc138\\ub300\\ud559\\uad50\", \"\\uc5f0\\uc2b5\", \"\\uc601\\uc5ed\", \"\\uc694\\uc18c\", \"\\uc694\\uc18c\", \"\\uc720\\ud1b5\", \"\\uc721\\uc131\", \"\\uc735\\ud569\", \"\\uc751\\uc6a9\", \"\\uc751\\uc6a9\", \"\\uc774\\ub860\", \"\\uc774\\ub860\", \"\\uc774\\uc6a9\", \"\\uc774\\uc6a9\", \"\\uc774\\uc6a9\\uc790\", \"\\uc774\\uc6a9\\uc790\", \"\\uc774\\ud574\", \"\\uc774\\ud574\", \"\\uc778\\uac04\", \"\\uc778\\ub825\", \"\\uc778\\ud130\\ud398\\uc774\\uc2a4\", \"\\uc790\\ub8cc\", \"\\uc790\\ub8cc\", \"\\uc790\\uc6d0\", \"\\uc791\\uc5c5\", \"\\uc791\\uc5c5\", \"\\uc801\\uc6a9\", \"\\uc801\\uc6a9\", \"\\uc804\\ubb38\", \"\\uc815\\ubcf4\\uae30\\uc220\", \"\\uc815\\ubcf4\\uae30\\uc220\", \"\\uc815\\ubcf4\\uc6d0\", \"\\uc815\\ubcf4\\ud654\", \"\\uc81c\\uacf5\", \"\\uc81c\\uacf5\", \"\\uc870\\uc9c1\", \"\\uc870\\uc9c1\", \"\\uc8fc\\ub3c4\", \"\\uc8fc\\uc81c\", \"\\uc8fc\\uc81c\", \"\\uc9c0\\uc2dd\", \"\\uc9c0\\uc2dd\", \"\\ucc38\\uace0\", \"\\ucc3d\\ub9bd\", \"\\ucc98\\ub9ac\", \"\\uccb4\\uacc4\", \"\\ucee4\\ubba4\\ub2c8\\ucf00\\uc774\\uc158\", \"\\ucee4\\ubba4\\ub2c8\\ucf00\\uc774\\uc158\", \"\\ucef4\\ud4e8\\ud130\", \"\\ucef4\\ud4e8\\ud130\", \"\\ud14d\\uc2a4\\ud2b8\", \"\\ud1b5\\uacc4\", \"\\ud3c9\\uac00\", \"\\ud3c9\\uac00\", \"\\ud504\\ub85c\\uadf8\\ub798\\ubc0d\", \"\\ud559\\ubb38\", \"\\ud559\\uc220\", \"\\ud559\\uc220\", \"\\ud559\\uc2b5\", \"\\ud559\\uc704\", \"\\ud568\\uc591\", \"\\ud574\\uacb0\", \"\\ud574\\uc678\", \"\\ud604\\uc0c1\", \"\\ud604\\uc0c1\", \"\\ud6a8\\uc728\", \"\\ud6a8\\uc728\"]}, \"R\": 30, \"lambda.step\": 0.01, \"plot.opts\": {\"xlab\": \"PC1\", \"ylab\": \"PC2\"}, \"topic.order\": [2, 1]};\n",
       "\n",
       "function LDAvis_load_lib(url, callback){\n",
       "  var s = document.createElement('script');\n",
       "  s.src = url;\n",
       "  s.async = true;\n",
       "  s.onreadystatechange = s.onload = callback;\n",
       "  s.onerror = function(){console.warn(\"failed to load library \" + url);};\n",
       "  document.getElementsByTagName(\"head\")[0].appendChild(s);\n",
       "}\n",
       "\n",
       "if(typeof(LDAvis) !== \"undefined\"){\n",
       "   // already loaded: just create the visualization\n",
       "   !function(LDAvis){\n",
       "       new LDAvis(\"#\" + \"ldavis_el5525220071092301441129724387\", ldavis_el5525220071092301441129724387_data);\n",
       "   }(LDAvis);\n",
       "}else if(typeof define === \"function\" && define.amd){\n",
       "   // require.js is available: use it to load d3/LDAvis\n",
       "   require.config({paths: {d3: \"https://d3js.org/d3.v5\"}});\n",
       "   require([\"d3\"], function(d3){\n",
       "      window.d3 = d3;\n",
       "      LDAvis_load_lib(\"https://cdn.jsdelivr.net/gh/bmabey/pyLDAvis@3.3.1/pyLDAvis/js/ldavis.v3.0.0.js\", function(){\n",
       "        new LDAvis(\"#\" + \"ldavis_el5525220071092301441129724387\", ldavis_el5525220071092301441129724387_data);\n",
       "      });\n",
       "    });\n",
       "}else{\n",
       "    // require.js not available: dynamically load d3 & LDAvis\n",
       "    LDAvis_load_lib(\"https://d3js.org/d3.v5.js\", function(){\n",
       "         LDAvis_load_lib(\"https://cdn.jsdelivr.net/gh/bmabey/pyLDAvis@3.3.1/pyLDAvis/js/ldavis.v3.0.0.js\", function(){\n",
       "                 new LDAvis(\"#\" + \"ldavis_el5525220071092301441129724387\", ldavis_el5525220071092301441129724387_data);\n",
       "            })\n",
       "         });\n",
       "}\n",
       "</script>"
      ],
      "text/plain": [
       "<IPython.core.display.HTML object>"
      ]
     },
     "execution_count": 117,
     "metadata": {},
     "output_type": "execute_result"
    }
   ],
   "source": [
    "pyLDAvis.enable_notebook()\n",
    "vis_yon = pyLDAvis.gensim_models.prepare(ldamodel_yon, corpus_yon, dictionary_yon)\n",
    "pyLDAvis.display(vis_yon)"
   ]
  },
  {
   "cell_type": "code",
   "execution_count": 118,
   "metadata": {},
   "outputs": [
    {
     "name": "stdout",
     "output_type": "stream",
     "text": [
      "0 번째 문서의 topic 비율은 [(0, 0.998713)]\n",
      "1 번째 문서의 topic 비율은 [(0, 0.9881487), (1, 0.011851312)]\n",
      "2 번째 문서의 topic 비율은 [(1, 0.9989667)]\n"
     ]
    }
   ],
   "source": [
    "for i, topic_list in enumerate(ldamodel_yon[corpus_yon]):\n",
    "    if i==4:\n",
    "        break\n",
    "    print(i,'번째 문서의 topic 비율은',topic_list)"
   ]
  },
  {
   "cell_type": "markdown",
   "metadata": {},
   "source": [
    "__(3) 성균관대학교__"
   ]
  },
  {
   "cell_type": "code",
   "execution_count": 119,
   "metadata": {},
   "outputs": [
    {
     "data": {
      "text/html": [
       "\n",
       "<link rel=\"stylesheet\" type=\"text/css\" href=\"https://cdn.jsdelivr.net/gh/bmabey/pyLDAvis@3.3.1/pyLDAvis/js/ldavis.v1.0.0.css\">\n",
       "\n",
       "\n",
       "<div id=\"ldavis_el552522007109285024459477649\"></div>\n",
       "<script type=\"text/javascript\">\n",
       "\n",
       "var ldavis_el552522007109285024459477649_data = {\"mdsDat\": {\"x\": [0.15891360542136726, -0.15891360542136726], \"y\": [0.0, 0.0], \"topics\": [1, 2], \"cluster\": [1, 1], \"Freq\": [53.072625013701035, 46.92737498629896]}, \"tinfo\": {\"Term\": [\"\\ud559\\uc0ac\", \"\\ub370\\uc774\\ud130\", \"\\uc0ac\\uc774\\uc5b8\\uc2a4\", \"\\uad50\\uc218\", \"\\uc735\\ud569\", \"\\uc2e4\\uc2b5\", \"\\ud604\\uc7a5\", \"\\ud559\\uacfc\", \"\\ubd80\\uc784\", \"3\\uc6d4\", \"\\ub3c4\\uc804\", \"\\ud559\\uc810\", \"\\uc778\\uacf5\\uc9c0\\ub2a5\", \"\\ud559\\uae30\", \"\\ubd84\\uc57c\", \"\\uac1c\\ub860\", \"\\uc815\\uc6d0\", \"\\uc815\\ub144\", \"\\uacfc\\uc815\", \"\\ubb38\\ud654\", \"\\ubb38\\uacfc\", \"\\ucc3d\\uc5c5\", \"\\ub3c4\\uc11c\\uad00\", \"\\uc77c\\ubc18\", \"\\ud1f4\\uc784\", \"\\uc601\\uc5ed\", \"\\uba85\\uc608\", \"\\ubcf8\\uad50\", \"\\ucc3d\\uc124\", \"\\uc2dc\\ub300\", \"\\ud559\\uc0ac\", \"\\uc735\\ud569\", \"\\uc2e4\\uc2b5\", \"\\ud604\\uc7a5\", \"\\ub3c4\\uc804\", \"\\ud559\\uc810\", \"\\uc778\\uacf5\\uc9c0\\ub2a5\", \"\\uc0ac\\uc774\\uc5b8\\uc2a4\", \"\\uac1c\\ub860\", \"\\ubb38\\ud654\", \"\\ubb38\\uacfc\", \"\\ucc3d\\uc5c5\", \"\\ube44\\uad50\", \"\\ud65c\\uc6a9\", \"\\uacfc\\ud559\", \"\\ud558\\uacc4\", \"\\ucef4\\ud4e8\\ud130\", \"\\ub370\\uc774\\ud130\", \"\\ud559\\uae30\", \"\\uc751\\uc6a9\", \"\\ud55c\\uad6d\\uc5b4\", \"\\uc0b0\\ucc45\", \"\\uba85\\uc800\", \"\\uc758\\ub8cc\", \"\\ud55c\\uc2dc\", \"\\ud30c\\uc774\\uc36c\", \"\\uc124\\uacc4\", \"\\ub124\\ud2b8\\uc6cc\\ud06c\", \"\\ucef4\\ud4e8\\ud305\", \"\\uc815\\uc2e0\", \"\\uc778\\ubb38\\ud559\", \"\\uc5f0\\uad6c\", \"\\uc11d\\uc0ac\", \"\\ubd84\\uc11d\", \"\\ub300\\ud559\\uc6d0\", \"\\ubc15\\uc0ac\", \"\\uad6d\\uc81c\", \"\\uad50\\uc721\", \"\\uae00\\ub85c\\ubc8c\", \"\\uc0ac\\ud68c\\uacfc\\ud559\", \"\\uad50\\uc218\", \"\\ud559\\uacfc\", \"\\ubd80\\uc784\", \"3\\uc6d4\", \"\\ubd84\\uc57c\", \"\\uc815\\uc6d0\", \"\\uc815\\ub144\", \"\\uacfc\\uc815\", \"\\uc77c\\ubc18\", \"\\ud1f4\\uc784\", \"\\uc601\\uc5ed\", \"\\uba85\\uc608\", \"\\ubcf8\\uad50\", \"\\ucc3d\\uc124\", \"\\uc2dc\\ub300\", \"\\uc804\\ubb38\\uac00\", \"8\\uc6d4\", \"\\ud2b9\\uc131\", \"\\ud504\\ub85c\\uadf8\\ub7a8\", \"\\uc8fc\\ub144\", \"\\ucc9c\\ud61c\", \"\\ucd5c\\ucd08\", \"\\ucd94\\ub300\", \"\\uc5f0\\uc218\", \"\\uc218\\uc900\", \"\\ud5cc\\uc815\", \"\\ucc3d\\uc0ac\", \"12\\uc6d4\", \"\\uae30\\ub150\", \"\\uc870\\uc9c1\", \"\\ub3c4\\uc11c\\uad00\", \"\\uae00\\ub85c\\ubc8c\", \"\\uad50\\uc721\", \"\\ubc15\\uc0ac\", \"\\ub370\\uc774\\ud130\", \"\\uc5f0\\uad6c\"], \"Freq\": [71.0, 49.0, 35.0, 19.0, 23.0, 17.0, 13.0, 9.0, 9.0, 9.0, 10.0, 8.0, 7.0, 10.0, 5.0, 6.0, 4.0, 4.0, 4.0, 5.0, 5.0, 5.0, 6.0, 3.0, 3.0, 3.0, 3.0, 3.0, 3.0, 3.0, 70.65966195628789, 23.0322606953297, 16.78495109289479, 12.88264107059567, 9.759469198113806, 8.197833394231699, 7.417247333078566, 33.21571245255294, 5.85574669675017, 5.074961602467785, 5.074737198082497, 5.074606842318723, 3.5134404066732916, 3.5133887892903206, 3.513340671390941, 3.513302833224611, 3.5132774619685745, 44.95010034257808, 9.771032366770163, 2.7326078506447, 1.9518923085986901, 1.951876342204805, 1.9518741550275605, 1.9518682496490003, 1.9518568763273287, 1.9518557827387066, 1.9518494399246975, 1.9518483463360752, 1.9518483463360752, 1.9518365355789546, 7.424468517469091, 8.989809399603423, 5.861763183914411, 3.5176400057005046, 5.080128152554803, 5.081802218017763, 3.517781953503674, 2.737540154048829, 1.954951732128332, 1.9544018757690584, 19.326367373664265, 9.475195327830086, 8.716496360739333, 8.715595151598142, 4.926140672663214, 4.168881706273171, 4.168805122835423, 4.168577693232409, 3.4113055761510362, 3.411145833929872, 3.411125334322798, 3.411100966865332, 3.4109721674472993, 3.4109416114292075, 3.410850330159971, 3.410801982030079, 3.4107826427781216, 3.4106751165372415, 3.4106209666317624, 3.410564496016048, 3.4105099593255295, 3.4103757449169487, 3.410339000338231, 3.4101312967722137, 2.653430654586167, 2.6532908317945183, 2.6531800178808056, 2.653072491639925, 2.653048317574979, 2.6529937808844606, 4.927463090712026, 4.169460723476761, 3.4091620134641345, 3.4074829796092376, 4.8807506747503195, 3.4038050406720766], \"Total\": [71.0, 49.0, 35.0, 19.0, 23.0, 17.0, 13.0, 9.0, 9.0, 9.0, 10.0, 8.0, 7.0, 10.0, 5.0, 6.0, 4.0, 4.0, 4.0, 5.0, 5.0, 5.0, 6.0, 3.0, 3.0, 3.0, 3.0, 3.0, 3.0, 3.0, 71.04548970245379, 23.41408625582531, 17.16731423624667, 13.26314573600856, 10.139773460528293, 8.578086286758177, 7.797248283500175, 35.083150073584044, 6.235565060459241, 5.454722093465375, 5.454715690797771, 5.454712297223094, 3.89303789195095, 3.8930365082749367, 3.8930348287543186, 3.8930340252554863, 3.893033166501305, 49.8308510173284, 10.898659281311764, 3.1121938532415085, 2.3313532345834678, 2.331352932983668, 2.3313528972982036, 2.331352527780516, 2.3313523228768496, 2.33135222042489, 2.3313519211271174, 2.331351963719548, 2.3313520604158073, 2.331351587295147, 9.314614094755449, 12.393614440275499, 7.752895836620648, 4.651714433452012, 7.730632971712412, 8.489285197627, 6.16892516136838, 6.146702167512963, 6.124412455605093, 3.0899816708928904, 19.735304285829184, 9.873140006618616, 9.114538915709556, 9.114564851002319, 5.321439386440464, 4.562795991534068, 4.562798064457975, 4.562804690159842, 3.804161541022738, 3.8041660011332064, 3.8041664437482487, 3.8041671194702324, 3.8041709996917956, 3.8041718570068785, 3.8041747883974497, 3.8041759524924306, 3.804176543893114, 3.8041794427633673, 3.804181202576201, 3.8041828015163293, 3.8041842565632704, 3.804188572493415, 3.8041892013058627, 3.8041952943154977, 3.045535624811245, 3.045539745622002, 3.0455432937384623, 3.0455460285704214, 3.0455471984217963, 3.045548462090729, 6.102192817339575, 6.124412455605093, 6.146702167512963, 8.489285197627, 49.8308510173284, 12.393614440275499], \"Category\": [\"Default\", \"Default\", \"Default\", \"Default\", \"Default\", \"Default\", \"Default\", \"Default\", \"Default\", \"Default\", \"Default\", \"Default\", \"Default\", \"Default\", \"Default\", \"Default\", \"Default\", \"Default\", \"Default\", \"Default\", \"Default\", \"Default\", \"Default\", \"Default\", \"Default\", \"Default\", \"Default\", \"Default\", \"Default\", \"Default\", \"Topic1\", \"Topic1\", \"Topic1\", \"Topic1\", \"Topic1\", \"Topic1\", \"Topic1\", \"Topic1\", \"Topic1\", \"Topic1\", \"Topic1\", \"Topic1\", \"Topic1\", \"Topic1\", \"Topic1\", \"Topic1\", \"Topic1\", \"Topic1\", \"Topic1\", \"Topic1\", \"Topic1\", \"Topic1\", \"Topic1\", \"Topic1\", \"Topic1\", \"Topic1\", \"Topic1\", \"Topic1\", \"Topic1\", \"Topic1\", \"Topic1\", \"Topic1\", \"Topic1\", \"Topic1\", \"Topic1\", \"Topic1\", \"Topic1\", \"Topic1\", \"Topic1\", \"Topic1\", \"Topic2\", \"Topic2\", \"Topic2\", \"Topic2\", \"Topic2\", \"Topic2\", \"Topic2\", \"Topic2\", \"Topic2\", \"Topic2\", \"Topic2\", \"Topic2\", \"Topic2\", \"Topic2\", \"Topic2\", \"Topic2\", \"Topic2\", \"Topic2\", \"Topic2\", \"Topic2\", \"Topic2\", \"Topic2\", \"Topic2\", \"Topic2\", \"Topic2\", \"Topic2\", \"Topic2\", \"Topic2\", \"Topic2\", \"Topic2\", \"Topic2\", \"Topic2\", \"Topic2\", \"Topic2\", \"Topic2\", \"Topic2\"], \"logprob\": [30.0, 29.0, 28.0, 27.0, 26.0, 25.0, 24.0, 23.0, 22.0, 21.0, 20.0, 19.0, 18.0, 17.0, 16.0, 15.0, 14.0, 13.0, 12.0, 11.0, 10.0, 9.0, 8.0, 7.0, 6.0, 5.0, 4.0, 3.0, 2.0, 1.0, -1.8942, -3.0152, -3.3316, -3.5962, -3.8738, -4.0482, -4.1483, -2.6491, -4.3847, -4.5278, -4.5278, -4.5278, -4.8955, -4.8955, -4.8955, -4.8955, -4.8955, -2.3465, -3.8727, -5.1468, -5.4833, -5.4833, -5.4833, -5.4833, -5.4833, -5.4833, -5.4833, -5.4833, -5.4833, -5.4833, -4.1473, -3.956, -4.3836, -4.8943, -4.5267, -4.5264, -4.8942, -5.145, -5.4817, -5.482, -3.0675, -3.7803, -3.8638, -3.8639, -4.4345, -4.6014, -4.6014, -4.6014, -4.8019, -4.802, -4.802, -4.802, -4.802, -4.802, -4.8021, -4.8021, -4.8021, -4.8021, -4.8021, -4.8021, -4.8022, -4.8022, -4.8022, -4.8023, -5.0532, -5.0532, -5.0533, -5.0533, -5.0533, -5.0533, -4.4342, -4.6012, -4.8026, -4.803, -4.4437, -4.8041], \"loglift\": [30.0, 29.0, 28.0, 27.0, 26.0, 25.0, 24.0, 23.0, 22.0, 21.0, 20.0, 19.0, 18.0, 17.0, 16.0, 15.0, 14.0, 13.0, 12.0, 11.0, 10.0, 9.0, 8.0, 7.0, 6.0, 5.0, 4.0, 3.0, 2.0, 1.0, 0.6281, 0.6171, 0.611, 0.6044, 0.5953, 0.5882, 0.5835, 0.5788, 0.5707, 0.5613, 0.5613, 0.5613, 0.5309, 0.5309, 0.5309, 0.5309, 0.5309, 0.5304, 0.5243, 0.5034, 0.4559, 0.4559, 0.4559, 0.4558, 0.4558, 0.4558, 0.4558, 0.4558, 0.4558, 0.4558, 0.4067, 0.3124, 0.3539, 0.3541, 0.2137, 0.1204, 0.0718, -0.1753, -0.5084, 0.1754, 0.7356, 0.7154, 0.7119, 0.7118, 0.6794, 0.6663, 0.6663, 0.6662, 0.6476, 0.6475, 0.6475, 0.6475, 0.6475, 0.6475, 0.6474, 0.6474, 0.6474, 0.6474, 0.6474, 0.6473, 0.6473, 0.6473, 0.6473, 0.6472, 0.6187, 0.6187, 0.6186, 0.6186, 0.6186, 0.6186, 0.5427, 0.3721, 0.1671, -0.1563, -1.5668, -0.5357]}, \"token.table\": {\"Topic\": [2, 2, 2, 1, 2, 1, 2, 1, 2, 1, 2, 1, 2, 2, 1, 1, 2, 1, 2, 1, 2, 1, 2, 1, 1, 1, 1, 2, 2, 2, 1, 2, 2, 1, 1, 2, 1, 2, 1, 1, 2, 1, 2, 2, 1, 1, 2, 2, 2, 1, 1, 1, 1, 1, 2, 2, 2, 2, 1, 2, 2, 2, 2, 2, 1, 2, 2, 2, 1, 1, 2, 2, 1, 2, 1, 2, 1, 2, 1, 1, 1, 1, 2, 1, 1], \"Freq\": [0.9850450368692012, 0.9874305737163392, 0.7886069338227566, 0.9622223394070573, 0.8766537845957798, 1.02747603757758, 0.9627416798251667, 0.488066595426705, 0.488066595426705, 0.6484111729947989, 0.48630837974609914, 0.32656193789978827, 0.6531238757995765, 0.9850446584950648, 0.8578713257903395, 0.6467775689643755, 0.38806654137862534, 0.9030550167475868, 0.10033944630528742, 0.16387551654521113, 0.8193775827260555, 0.9862153270906497, 0.7886088875132751, 0.85787098226004, 0.916638058411571, 0.9166369824761336, 0.5889777388321981, 0.35338664329931885, 0.788608083139021, 0.9874333834361999, 0.8598980133506651, 0.21497450333766627, 0.9395954058483645, 1.0274752291186786, 0.9406224905912153, 0.057007423672194864, 0.6472530302815919, 0.32362651514079593, 0.8578709691288131, 0.773904374112589, 0.25796812470419633, 0.8578713414631448, 0.9850484018508018, 0.7886072977377001, 0.9902539072830968, 0.7261804087395781, 0.24206013624652606, 0.7886030468737543, 0.788609027591363, 0.9823146523293307, 0.9639502362217401, 0.8578711182319695, 0.8977526103423897, 0.7515072475134873, 0.21471635643242493, 0.7886100439345325, 0.788607056420314, 0.8766550575968058, 0.8578714643038532, 0.8766554558699766, 0.9850442497771122, 0.7886056366177289, 0.9850459214183237, 0.7886079054168702, 0.9166386286854065, 0.788605334987171, 0.7886044402982059, 0.7886043099460435, 1.0274764762908062, 0.8578712902088631, 0.7886091193460913, 0.7886063328865451, 0.8578712313300728, 0.7886059680775439, 1.0274762496424608, 0.9115641015894342, 0.9175440521521101, 0.09175440521521101, 0.999359710199137, 0.9326089447653892, 0.8578708581487571, 0.8578711936306708, 0.9850470690170877, 0.9801596286999895, 1.0274755943073497], \"Term\": [\"12\\uc6d4\", \"3\\uc6d4\", \"8\\uc6d4\", \"\\uac1c\\ub860\", \"\\uacfc\\uc815\", \"\\uacfc\\ud559\", \"\\uad50\\uc218\", \"\\uad50\\uc721\", \"\\uad50\\uc721\", \"\\uad6d\\uc81c\", \"\\uad6d\\uc81c\", \"\\uae00\\ub85c\\ubc8c\", \"\\uae00\\ub85c\\ubc8c\", \"\\uae30\\ub150\", \"\\ub124\\ud2b8\\uc6cc\\ud06c\", \"\\ub300\\ud559\\uc6d0\", \"\\ub300\\ud559\\uc6d0\", \"\\ub370\\uc774\\ud130\", \"\\ub370\\uc774\\ud130\", \"\\ub3c4\\uc11c\\uad00\", \"\\ub3c4\\uc11c\\uad00\", \"\\ub3c4\\uc804\", \"\\uba85\\uc608\", \"\\uba85\\uc800\", \"\\ubb38\\uacfc\", \"\\ubb38\\ud654\", \"\\ubc15\\uc0ac\", \"\\ubc15\\uc0ac\", \"\\ubcf8\\uad50\", \"\\ubd80\\uc784\", \"\\ubd84\\uc11d\", \"\\ubd84\\uc11d\", \"\\ubd84\\uc57c\", \"\\ube44\\uad50\", \"\\uc0ac\\uc774\\uc5b8\\uc2a4\", \"\\uc0ac\\uc774\\uc5b8\\uc2a4\", \"\\uc0ac\\ud68c\\uacfc\\ud559\", \"\\uc0ac\\ud68c\\uacfc\\ud559\", \"\\uc0b0\\ucc45\", \"\\uc11d\\uc0ac\", \"\\uc11d\\uc0ac\", \"\\uc124\\uacc4\", \"\\uc218\\uc900\", \"\\uc2dc\\ub300\", \"\\uc2e4\\uc2b5\", \"\\uc5f0\\uad6c\", \"\\uc5f0\\uad6c\", \"\\uc5f0\\uc218\", \"\\uc601\\uc5ed\", \"\\uc735\\ud569\", \"\\uc751\\uc6a9\", \"\\uc758\\ub8cc\", \"\\uc778\\uacf5\\uc9c0\\ub2a5\", \"\\uc778\\ubb38\\ud559\", \"\\uc778\\ubb38\\ud559\", \"\\uc77c\\ubc18\", \"\\uc804\\ubb38\\uac00\", \"\\uc815\\ub144\", \"\\uc815\\uc2e0\", \"\\uc815\\uc6d0\", \"\\uc870\\uc9c1\", \"\\uc8fc\\ub144\", \"\\ucc3d\\uc0ac\", \"\\ucc3d\\uc124\", \"\\ucc3d\\uc5c5\", \"\\ucc9c\\ud61c\", \"\\ucd5c\\ucd08\", \"\\ucd94\\ub300\", \"\\ucef4\\ud4e8\\ud130\", \"\\ucef4\\ud4e8\\ud305\", \"\\ud1f4\\uc784\", \"\\ud2b9\\uc131\", \"\\ud30c\\uc774\\uc36c\", \"\\ud504\\ub85c\\uadf8\\ub7a8\", \"\\ud558\\uacc4\", \"\\ud559\\uacfc\", \"\\ud559\\uae30\", \"\\ud559\\uae30\", \"\\ud559\\uc0ac\", \"\\ud559\\uc810\", \"\\ud55c\\uad6d\\uc5b4\", \"\\ud55c\\uc2dc\", \"\\ud5cc\\uc815\", \"\\ud604\\uc7a5\", \"\\ud65c\\uc6a9\"]}, \"R\": 30, \"lambda.step\": 0.01, \"plot.opts\": {\"xlab\": \"PC1\", \"ylab\": \"PC2\"}, \"topic.order\": [1, 2]};\n",
       "\n",
       "function LDAvis_load_lib(url, callback){\n",
       "  var s = document.createElement('script');\n",
       "  s.src = url;\n",
       "  s.async = true;\n",
       "  s.onreadystatechange = s.onload = callback;\n",
       "  s.onerror = function(){console.warn(\"failed to load library \" + url);};\n",
       "  document.getElementsByTagName(\"head\")[0].appendChild(s);\n",
       "}\n",
       "\n",
       "if(typeof(LDAvis) !== \"undefined\"){\n",
       "   // already loaded: just create the visualization\n",
       "   !function(LDAvis){\n",
       "       new LDAvis(\"#\" + \"ldavis_el552522007109285024459477649\", ldavis_el552522007109285024459477649_data);\n",
       "   }(LDAvis);\n",
       "}else if(typeof define === \"function\" && define.amd){\n",
       "   // require.js is available: use it to load d3/LDAvis\n",
       "   require.config({paths: {d3: \"https://d3js.org/d3.v5\"}});\n",
       "   require([\"d3\"], function(d3){\n",
       "      window.d3 = d3;\n",
       "      LDAvis_load_lib(\"https://cdn.jsdelivr.net/gh/bmabey/pyLDAvis@3.3.1/pyLDAvis/js/ldavis.v3.0.0.js\", function(){\n",
       "        new LDAvis(\"#\" + \"ldavis_el552522007109285024459477649\", ldavis_el552522007109285024459477649_data);\n",
       "      });\n",
       "    });\n",
       "}else{\n",
       "    // require.js not available: dynamically load d3 & LDAvis\n",
       "    LDAvis_load_lib(\"https://d3js.org/d3.v5.js\", function(){\n",
       "         LDAvis_load_lib(\"https://cdn.jsdelivr.net/gh/bmabey/pyLDAvis@3.3.1/pyLDAvis/js/ldavis.v3.0.0.js\", function(){\n",
       "                 new LDAvis(\"#\" + \"ldavis_el552522007109285024459477649\", ldavis_el552522007109285024459477649_data);\n",
       "            })\n",
       "         });\n",
       "}\n",
       "</script>"
      ],
      "text/plain": [
       "<IPython.core.display.HTML object>"
      ]
     },
     "execution_count": 119,
     "metadata": {},
     "output_type": "execute_result"
    }
   ],
   "source": [
    "pyLDAvis.enable_notebook()\n",
    "vis_skk = pyLDAvis.gensim_models.prepare(ldamodel_skk, corpus_skk, dictionary_skk)\n",
    "pyLDAvis.display(vis_skk)"
   ]
  },
  {
   "cell_type": "code",
   "execution_count": 120,
   "metadata": {},
   "outputs": [
    {
     "name": "stdout",
     "output_type": "stream",
     "text": [
      "0 번째 문서의 topic 비율은 [(1, 0.99757236)]\n",
      "1 번째 문서의 topic 비율은 [(1, 0.9965132)]\n",
      "2 번째 문서의 topic 비율은 [(0, 0.99888927)]\n"
     ]
    }
   ],
   "source": [
    "for i, topic_list in enumerate(ldamodel_skk[corpus_skk]):\n",
    "    if i==4:\n",
    "        break\n",
    "    print(i,'번째 문서의 topic 비율은',topic_list)"
   ]
  }
 ],
 "metadata": {
  "kernelspec": {
   "display_name": "Python 3.9.12 ('base')",
   "language": "python",
   "name": "python3"
  },
  "language_info": {
   "codemirror_mode": {
    "name": "ipython",
    "version": 3
   },
   "file_extension": ".py",
   "mimetype": "text/x-python",
   "name": "python",
   "nbconvert_exporter": "python",
   "pygments_lexer": "ipython3",
   "version": "3.9.12"
  },
  "orig_nbformat": 4,
  "vscode": {
   "interpreter": {
    "hash": "a077222d77dfe082b8f1dd562ad70e458ac2ab76993a0b248ab0476e32e9e8dd"
   }
  }
 },
 "nbformat": 4,
 "nbformat_minor": 2
}
