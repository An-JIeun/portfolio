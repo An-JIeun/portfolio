{
 "cells": [
  {
   "cell_type": "markdown",
   "metadata": {},
   "source": [
    "## Tasks\n",
    "- 다빈도 단어 바 그래프 (예쁘게) → 안지은\n",
    "- 관련 주제별(대분류) 워드클라우드  → 안지은\n",
    "- 관련 주제별 설명글 클러스터링 (K-means)\n",
    "- 토픽 모델링 (Lda)\n",
    "- 제로샷 모델"
   ]
  },
  {
   "cell_type": "code",
   "execution_count": 94,
   "metadata": {},
   "outputs": [],
   "source": [
    "import pandas as pd\n",
    "import numpy as np \n",
    "import re\n",
    "\n",
    "# 시각화 라이브러리\n",
    "import matplotlib\n",
    "import matplotlib.pyplot as plt\n",
    "from matplotlib import font_manager, rc\n",
    "from wordcloud import WordCloud\n",
    "from collections import Counter\n",
    "import  numpy as np\n",
    "from PIL import Image\n",
    "import plotly \n",
    "import seaborn as sns\n",
    "import plotly.express as px\n",
    "import plotly.graph_objects as go\n",
    "\n",
    "font_path1 = r'C:/Windows/Fonts/NanumGothic.ttf' # 기본 matplotlib 폰트\n",
    "font_path2 = r'C:/Windows/Fonts/bmdohyeon_ttf.ttf' # 배민 도현체 - 워드클라우드에 사용 \n",
    "font = font_manager.FontProperties(fname = font_path1).get_name()\n",
    "rc('font',family = font)\n",
    "\n",
    "from konlpy import *\n",
    "from konlpy.tag import *\n",
    "kom = Komoran()\n"
   ]
  },
  {
   "cell_type": "code",
   "execution_count": 45,
   "metadata": {},
   "outputs": [
    {
     "data": {
      "text/html": [
       "<div>\n",
       "<style scoped>\n",
       "    .dataframe tbody tr th:only-of-type {\n",
       "        vertical-align: middle;\n",
       "    }\n",
       "\n",
       "    .dataframe tbody tr th {\n",
       "        vertical-align: top;\n",
       "    }\n",
       "\n",
       "    .dataframe thead th {\n",
       "        text-align: right;\n",
       "    }\n",
       "</style>\n",
       "<table border=\"1\" class=\"dataframe\">\n",
       "  <thead>\n",
       "    <tr style=\"text-align: right;\">\n",
       "      <th></th>\n",
       "      <th>제목</th>\n",
       "      <th>발생기간</th>\n",
       "      <th>수집기간:시작일</th>\n",
       "      <th>수집기간:종료일</th>\n",
       "      <th>대주제</th>\n",
       "      <th>소주제</th>\n",
       "      <th>수집건수_웹사이트</th>\n",
       "      <th>수집건수_문서</th>\n",
       "      <th>수집건수_동영상</th>\n",
       "      <th>수집건수_이미지</th>\n",
       "      <th>내용</th>\n",
       "      <th>출처</th>\n",
       "    </tr>\n",
       "  </thead>\n",
       "  <tbody>\n",
       "    <tr>\n",
       "      <th>0</th>\n",
       "      <td>2022년 20대 대통령선거(20대 대선)</td>\n",
       "      <td>2022-03-09</td>\n",
       "      <td>2021-09-01</td>\n",
       "      <td>2022-02-26</td>\n",
       "      <td>사회과학</td>\n",
       "      <td>행정학</td>\n",
       "      <td>210</td>\n",
       "      <td>0</td>\n",
       "      <td>0</td>\n",
       "      <td>0</td>\n",
       "      <td>제20대 대통령선거가 2022년 3월 9일 실시된다. 제20대 대통령선거는 18세 ...</td>\n",
       "      <td>&gt;\\n중앙선거관리위원회\\n(https://www.nec.go.kr/site/vt/e...</td>\n",
       "    </tr>\n",
       "    <tr>\n",
       "      <th>1</th>\n",
       "      <td>제16회 도쿄 패럴림픽</td>\n",
       "      <td>2021-08-24</td>\n",
       "      <td>2021-07-05</td>\n",
       "      <td>2021-11-07</td>\n",
       "      <td>예술</td>\n",
       "      <td>오락,스포츠</td>\n",
       "      <td>261</td>\n",
       "      <td>0</td>\n",
       "      <td>0</td>\n",
       "      <td>0</td>\n",
       "      <td>2021년 8월 24일 9월 5일까지 일본 도쿄에서 열린 제16회 하계 패럴림픽으로...</td>\n",
       "      <td>&gt;\\n국제패럴림픽위원회(https://www.paralympic.org/)\\n대한장...</td>\n",
       "    </tr>\n",
       "    <tr>\n",
       "      <th>2</th>\n",
       "      <td>2021년 대한민국 재보궐선거 (4·7 재보궐선거)</td>\n",
       "      <td>2021-07-23</td>\n",
       "      <td>2021-07-05</td>\n",
       "      <td>2021-11-17</td>\n",
       "      <td>사회과학</td>\n",
       "      <td>행정학</td>\n",
       "      <td>271</td>\n",
       "      <td>0</td>\n",
       "      <td>0</td>\n",
       "      <td>0</td>\n",
       "      <td>2020년 7월 10일 박원순 전 서울시장의 임기 중 사망, 오거돈 전 부산시장 자...</td>\n",
       "      <td>&gt;\\n중앙선거관리위원회\\n(https://www.nec.go.kr/site/nec/...</td>\n",
       "    </tr>\n",
       "    <tr>\n",
       "      <th>3</th>\n",
       "      <td>제32회 2020 도쿄올림픽</td>\n",
       "      <td>2021-07-23</td>\n",
       "      <td>2020-11-03</td>\n",
       "      <td>2021-11-17</td>\n",
       "      <td>예술</td>\n",
       "      <td>오락,스포츠</td>\n",
       "      <td>511</td>\n",
       "      <td>0</td>\n",
       "      <td>0</td>\n",
       "      <td>0</td>\n",
       "      <td>2021년 7월 23일부터 8월 8일까지 일본 도쿄에서 열린 제32회 하계올림픽으로...</td>\n",
       "      <td>&gt;\\n도쿄올림픽 공식홈페이지(https://olympics.com/ko/olympi...</td>\n",
       "    </tr>\n",
       "    <tr>\n",
       "      <th>4</th>\n",
       "      <td>문화콘텐츠</td>\n",
       "      <td>2021-01-01</td>\n",
       "      <td>2022-01-27</td>\n",
       "      <td>2022-12-31</td>\n",
       "      <td>예술</td>\n",
       "      <td>공연예술,매체예술</td>\n",
       "      <td>603</td>\n",
       "      <td>0</td>\n",
       "      <td>0</td>\n",
       "      <td>0</td>\n",
       "      <td>“한류가 아시아와 그 너머 다른 국가들에서도 한국의 문화적 영향력을 확산시켜 한국을...</td>\n",
       "      <td>&gt;\\n한국콘텐츠진흥원(https://www.kocca.kr/cop/bbs/view/...</td>\n",
       "    </tr>\n",
       "  </tbody>\n",
       "</table>\n",
       "</div>"
      ],
      "text/plain": [
       "                             제목        발생기간    수집기간:시작일    수집기간:종료일   대주제  \\\n",
       "0       2022년 20대 대통령선거(20대 대선)  2022-03-09  2021-09-01  2022-02-26  사회과학   \n",
       "1                  제16회 도쿄 패럴림픽  2021-08-24  2021-07-05  2021-11-07    예술   \n",
       "2  2021년 대한민국 재보궐선거 (4·7 재보궐선거)  2021-07-23  2021-07-05  2021-11-17  사회과학   \n",
       "3               제32회 2020 도쿄올림픽  2021-07-23  2020-11-03  2021-11-17    예술   \n",
       "4                         문화콘텐츠  2021-01-01  2022-01-27  2022-12-31    예술   \n",
       "\n",
       "         소주제 수집건수_웹사이트  수집건수_문서  수집건수_동영상 수집건수_이미지  \\\n",
       "0        행정학       210        0         0        0   \n",
       "1     오락,스포츠       261        0         0        0   \n",
       "2        행정학       271        0         0        0   \n",
       "3     오락,스포츠       511        0         0        0   \n",
       "4  공연예술,매체예술       603        0         0        0   \n",
       "\n",
       "                                                  내용  \\\n",
       "0  제20대 대통령선거가 2022년 3월 9일 실시된다. 제20대 대통령선거는 18세 ...   \n",
       "1  2021년 8월 24일 9월 5일까지 일본 도쿄에서 열린 제16회 하계 패럴림픽으로...   \n",
       "2  2020년 7월 10일 박원순 전 서울시장의 임기 중 사망, 오거돈 전 부산시장 자...   \n",
       "3  2021년 7월 23일부터 8월 8일까지 일본 도쿄에서 열린 제32회 하계올림픽으로...   \n",
       "4  “한류가 아시아와 그 너머 다른 국가들에서도 한국의 문화적 영향력을 확산시켜 한국을...   \n",
       "\n",
       "                                                  출처  \n",
       "0  >\\n중앙선거관리위원회\\n(https://www.nec.go.kr/site/vt/e...  \n",
       "1  >\\n국제패럴림픽위원회(https://www.paralympic.org/)\\n대한장...  \n",
       "2  >\\n중앙선거관리위원회\\n(https://www.nec.go.kr/site/nec/...  \n",
       "3  >\\n도쿄올림픽 공식홈페이지(https://olympics.com/ko/olympi...  \n",
       "4  >\\n한국콘텐츠진흥원(https://www.kocca.kr/cop/bbs/view/...  "
      ]
     },
     "execution_count": 45,
     "metadata": {},
     "output_type": "execute_result"
    }
   ],
   "source": [
    "ori = pd.read_csv('preprocessed_data.csv')\n",
    "ori.head()"
   ]
  },
  {
   "cell_type": "markdown",
   "metadata": {},
   "source": [
    "# 0. 명사 분석을 위한 단어 전처리"
   ]
  },
  {
   "cell_type": "code",
   "execution_count": 48,
   "metadata": {},
   "outputs": [],
   "source": [
    "#  불용어 파일 로드\n",
    "# 출처 : https://junior-developer.tistory.com/8  + 기타 추가 단어\n",
    "\n",
    "f = open(\"koreanStopwords.txt\", 'r', encoding = 'utf-8')\n",
    "lines = f.readlines()\n",
    "stopwords = []\n",
    "for line in lines:\n",
    "    line = line.replace('\\n', '')\n",
    "    stopwords.append(line)\n",
    "f.close()\n",
    "\n",
    "# 데이터 프레임 내 모든 레코드의 '내용' 을 합친 후, 명사 추출된 단어 개수 카운트하여 딕셔너리로 리턴해주는 함수\n",
    "def concat_all_sent(df):\n",
    "    words = []\n",
    "    cnt_dict = {}\n",
    "    for word in df['내용'] : \n",
    "        words.append(word)   \n",
    "    sentence = ' '.join(words)\n",
    "    new_str = re.sub(r\"[^\\uAC00-\\uD7A30-9a-zA-Z\\s]\", \"\", sentence)\n",
    "    nouns = kom.nouns(new_str)\n",
    "    cnt_dict = Counter(nouns)\n",
    "    return cnt_dict\n",
    "\n",
    "# 딕셔너리를 데이터 프레임 형태로 바꿔주는 함수\n",
    "def dict_to_df(dict):\n",
    "    dict_to_df = pd.DataFrame(columns = ['형태소', '빈도'])\n",
    "    dict_to_df['형태소'] = dict.keys()\n",
    "    dict_to_df['빈도'] = dict.values()\n",
    "    dict_to_df = dict_to_df.sort_values('빈도',ascending = False)\n",
    "    return dict_to_df\n",
    "\n",
    "# 데이터 프레임의 데이터를 딕셔너리 형태로 바꿔주는 함수\n",
    "def df_to_dict(df):\n",
    "    new_dict = {}\n",
    "    for i in range(len(df)):\n",
    "        new_dict[df['형태소'][i]] = df['빈도'][i]\n",
    "    return new_dict\n",
    "\n",
    "# 단어별 빈도수 딕셔너리에서 불용어 제거하는 함수\n",
    "def filter_word(dict):\n",
    "    df = dict_to_df(dict)\n",
    "    new_dict = {}\n",
    "    for i in range(len(df)):\n",
    "        if (len(df['형태소'][i]) > 1 and df['형태소'][i] not in stopwords) :\n",
    "            new_dict[df['형태소'][i]] = df['빈도'][i]\n",
    "    new_df = dict_to_df(new_dict)\n",
    "    new_df.reset_index(inplace = True , drop = True)\n",
    "    return new_df\n",
    "\n",
    "# 최종 : 데이터프레임 넣으면 해당 부분에 대해 불용어 제거하여 명사 카운트해주는 함수\n",
    "def filtering(df):\n",
    "    tg_dict = concat_all_sent(df)\n",
    "    final_df = filter_word(tg_dict)\n",
    "    return final_df"
   ]
  },
  {
   "cell_type": "markdown",
   "metadata": {},
   "source": [
    "# 1. 시각화"
   ]
  },
  {
   "cell_type": "code",
   "execution_count": 98,
   "metadata": {},
   "outputs": [],
   "source": [
    "# 빈도수 30개 그래프 시각화\n",
    "def vis_cnt(df, title):\n",
    "    data1 = go.Bar(x=df['형태소'], y=df['빈도'], name ='빈도수')\n",
    "    data2 = go.Line(x=df['형태소'], y=df['빈도'], name = '추세선')\n",
    "    layout = go.Layout(title=title)\n",
    "    fig = go.Figure(data=[data1, data2], layout=layout)\n",
    "    fig.show()\n",
    "\n",
    "# 워드클라우드 시각화\n",
    "def make_wc(dict, title, c_map):\n",
    "    fig = plt.figure(figsize = (10, 10))\n",
    "    wordcloud = WordCloud(\n",
    "    font_path = font_path2, \n",
    "    background_color='white',  \n",
    "    colormap=c_map\n",
    "    ).generate_from_frequencies(dict)\n",
    "\n",
    "    plt.imshow(wordcloud, interpolation='bilinear')\n",
    "    plt.title(title)\n",
    "    plt.box(False)\n",
    "    plt.axis(False)\n",
    "    plt.show()"
   ]
  },
  {
   "cell_type": "markdown",
   "metadata": {},
   "source": [
    "## 1-0. 전체 단어 집합 "
   ]
  },
  {
   "cell_type": "code",
   "execution_count": 79,
   "metadata": {},
   "outputs": [],
   "source": [
    "all_cont = filtering(ori)\n",
    "all_cont_dict= df_to_dict(all_cont[:300])"
   ]
  },
  {
   "cell_type": "markdown",
   "metadata": {},
   "source": [
    "### 1-0-1. 상위 30개 단어 빈도수"
   ]
  },
  {
   "cell_type": "code",
   "execution_count": 99,
   "metadata": {},
   "outputs": [
    {
     "name": "stderr",
     "output_type": "stream",
     "text": [
      "c:\\ProgramData\\Anaconda3\\lib\\site-packages\\plotly\\graph_objs\\_deprecations.py:378: DeprecationWarning:\n",
      "\n",
      "plotly.graph_objs.Line is deprecated.\n",
      "Please replace it with one of the following more specific types\n",
      "  - plotly.graph_objs.scatter.Line\n",
      "  - plotly.graph_objs.layout.shape.Line\n",
      "  - etc.\n",
      "\n",
      "\n"
     ]
    },
    {
     "data": {
      "application/vnd.plotly.v1+json": {
       "config": {
        "plotlyServerURL": "https://plot.ly"
       },
       "data": [
        {
         "name": "빈도수",
         "type": "bar",
         "x": [
          "북한",
          "정부",
          "한국",
          "대통령",
          "홈페이지",
          "국민",
          "만화",
          "발표",
          "후보",
          "미국",
          "배치",
          "사드",
          "세계",
          "정책",
          "사건",
          "국가",
          "경제",
          "개최",
          "대한민국",
          "이후",
          "선거",
          "투표",
          "올림픽",
          "정보",
          "대회",
          "변화",
          "관련",
          "종목",
          "남북",
          "단체"
         ],
         "y": [
          72,
          64,
          59,
          54,
          51,
          44,
          43,
          39,
          38,
          37,
          36,
          36,
          35,
          34,
          33,
          32,
          32,
          31,
          30,
          30,
          30,
          30,
          29,
          27,
          27,
          26,
          26,
          25,
          25,
          25
         ]
        },
        {
         "name": "추세선",
         "type": "scatter",
         "x": [
          "북한",
          "정부",
          "한국",
          "대통령",
          "홈페이지",
          "국민",
          "만화",
          "발표",
          "후보",
          "미국",
          "배치",
          "사드",
          "세계",
          "정책",
          "사건",
          "국가",
          "경제",
          "개최",
          "대한민국",
          "이후",
          "선거",
          "투표",
          "올림픽",
          "정보",
          "대회",
          "변화",
          "관련",
          "종목",
          "남북",
          "단체"
         ],
         "y": [
          72,
          64,
          59,
          54,
          51,
          44,
          43,
          39,
          38,
          37,
          36,
          36,
          35,
          34,
          33,
          32,
          32,
          31,
          30,
          30,
          30,
          30,
          29,
          27,
          27,
          26,
          26,
          25,
          25,
          25
         ]
        }
       ],
       "layout": {
        "template": {
         "data": {
          "bar": [
           {
            "error_x": {
             "color": "#2a3f5f"
            },
            "error_y": {
             "color": "#2a3f5f"
            },
            "marker": {
             "line": {
              "color": "#E5ECF6",
              "width": 0.5
             },
             "pattern": {
              "fillmode": "overlay",
              "size": 10,
              "solidity": 0.2
             }
            },
            "type": "bar"
           }
          ],
          "barpolar": [
           {
            "marker": {
             "line": {
              "color": "#E5ECF6",
              "width": 0.5
             },
             "pattern": {
              "fillmode": "overlay",
              "size": 10,
              "solidity": 0.2
             }
            },
            "type": "barpolar"
           }
          ],
          "carpet": [
           {
            "aaxis": {
             "endlinecolor": "#2a3f5f",
             "gridcolor": "white",
             "linecolor": "white",
             "minorgridcolor": "white",
             "startlinecolor": "#2a3f5f"
            },
            "baxis": {
             "endlinecolor": "#2a3f5f",
             "gridcolor": "white",
             "linecolor": "white",
             "minorgridcolor": "white",
             "startlinecolor": "#2a3f5f"
            },
            "type": "carpet"
           }
          ],
          "choropleth": [
           {
            "colorbar": {
             "outlinewidth": 0,
             "ticks": ""
            },
            "type": "choropleth"
           }
          ],
          "contour": [
           {
            "colorbar": {
             "outlinewidth": 0,
             "ticks": ""
            },
            "colorscale": [
             [
              0,
              "#0d0887"
             ],
             [
              0.1111111111111111,
              "#46039f"
             ],
             [
              0.2222222222222222,
              "#7201a8"
             ],
             [
              0.3333333333333333,
              "#9c179e"
             ],
             [
              0.4444444444444444,
              "#bd3786"
             ],
             [
              0.5555555555555556,
              "#d8576b"
             ],
             [
              0.6666666666666666,
              "#ed7953"
             ],
             [
              0.7777777777777778,
              "#fb9f3a"
             ],
             [
              0.8888888888888888,
              "#fdca26"
             ],
             [
              1,
              "#f0f921"
             ]
            ],
            "type": "contour"
           }
          ],
          "contourcarpet": [
           {
            "colorbar": {
             "outlinewidth": 0,
             "ticks": ""
            },
            "type": "contourcarpet"
           }
          ],
          "heatmap": [
           {
            "colorbar": {
             "outlinewidth": 0,
             "ticks": ""
            },
            "colorscale": [
             [
              0,
              "#0d0887"
             ],
             [
              0.1111111111111111,
              "#46039f"
             ],
             [
              0.2222222222222222,
              "#7201a8"
             ],
             [
              0.3333333333333333,
              "#9c179e"
             ],
             [
              0.4444444444444444,
              "#bd3786"
             ],
             [
              0.5555555555555556,
              "#d8576b"
             ],
             [
              0.6666666666666666,
              "#ed7953"
             ],
             [
              0.7777777777777778,
              "#fb9f3a"
             ],
             [
              0.8888888888888888,
              "#fdca26"
             ],
             [
              1,
              "#f0f921"
             ]
            ],
            "type": "heatmap"
           }
          ],
          "heatmapgl": [
           {
            "colorbar": {
             "outlinewidth": 0,
             "ticks": ""
            },
            "colorscale": [
             [
              0,
              "#0d0887"
             ],
             [
              0.1111111111111111,
              "#46039f"
             ],
             [
              0.2222222222222222,
              "#7201a8"
             ],
             [
              0.3333333333333333,
              "#9c179e"
             ],
             [
              0.4444444444444444,
              "#bd3786"
             ],
             [
              0.5555555555555556,
              "#d8576b"
             ],
             [
              0.6666666666666666,
              "#ed7953"
             ],
             [
              0.7777777777777778,
              "#fb9f3a"
             ],
             [
              0.8888888888888888,
              "#fdca26"
             ],
             [
              1,
              "#f0f921"
             ]
            ],
            "type": "heatmapgl"
           }
          ],
          "histogram": [
           {
            "marker": {
             "pattern": {
              "fillmode": "overlay",
              "size": 10,
              "solidity": 0.2
             }
            },
            "type": "histogram"
           }
          ],
          "histogram2d": [
           {
            "colorbar": {
             "outlinewidth": 0,
             "ticks": ""
            },
            "colorscale": [
             [
              0,
              "#0d0887"
             ],
             [
              0.1111111111111111,
              "#46039f"
             ],
             [
              0.2222222222222222,
              "#7201a8"
             ],
             [
              0.3333333333333333,
              "#9c179e"
             ],
             [
              0.4444444444444444,
              "#bd3786"
             ],
             [
              0.5555555555555556,
              "#d8576b"
             ],
             [
              0.6666666666666666,
              "#ed7953"
             ],
             [
              0.7777777777777778,
              "#fb9f3a"
             ],
             [
              0.8888888888888888,
              "#fdca26"
             ],
             [
              1,
              "#f0f921"
             ]
            ],
            "type": "histogram2d"
           }
          ],
          "histogram2dcontour": [
           {
            "colorbar": {
             "outlinewidth": 0,
             "ticks": ""
            },
            "colorscale": [
             [
              0,
              "#0d0887"
             ],
             [
              0.1111111111111111,
              "#46039f"
             ],
             [
              0.2222222222222222,
              "#7201a8"
             ],
             [
              0.3333333333333333,
              "#9c179e"
             ],
             [
              0.4444444444444444,
              "#bd3786"
             ],
             [
              0.5555555555555556,
              "#d8576b"
             ],
             [
              0.6666666666666666,
              "#ed7953"
             ],
             [
              0.7777777777777778,
              "#fb9f3a"
             ],
             [
              0.8888888888888888,
              "#fdca26"
             ],
             [
              1,
              "#f0f921"
             ]
            ],
            "type": "histogram2dcontour"
           }
          ],
          "mesh3d": [
           {
            "colorbar": {
             "outlinewidth": 0,
             "ticks": ""
            },
            "type": "mesh3d"
           }
          ],
          "parcoords": [
           {
            "line": {
             "colorbar": {
              "outlinewidth": 0,
              "ticks": ""
             }
            },
            "type": "parcoords"
           }
          ],
          "pie": [
           {
            "automargin": true,
            "type": "pie"
           }
          ],
          "scatter": [
           {
            "marker": {
             "colorbar": {
              "outlinewidth": 0,
              "ticks": ""
             }
            },
            "type": "scatter"
           }
          ],
          "scatter3d": [
           {
            "line": {
             "colorbar": {
              "outlinewidth": 0,
              "ticks": ""
             }
            },
            "marker": {
             "colorbar": {
              "outlinewidth": 0,
              "ticks": ""
             }
            },
            "type": "scatter3d"
           }
          ],
          "scattercarpet": [
           {
            "marker": {
             "colorbar": {
              "outlinewidth": 0,
              "ticks": ""
             }
            },
            "type": "scattercarpet"
           }
          ],
          "scattergeo": [
           {
            "marker": {
             "colorbar": {
              "outlinewidth": 0,
              "ticks": ""
             }
            },
            "type": "scattergeo"
           }
          ],
          "scattergl": [
           {
            "marker": {
             "colorbar": {
              "outlinewidth": 0,
              "ticks": ""
             }
            },
            "type": "scattergl"
           }
          ],
          "scattermapbox": [
           {
            "marker": {
             "colorbar": {
              "outlinewidth": 0,
              "ticks": ""
             }
            },
            "type": "scattermapbox"
           }
          ],
          "scatterpolar": [
           {
            "marker": {
             "colorbar": {
              "outlinewidth": 0,
              "ticks": ""
             }
            },
            "type": "scatterpolar"
           }
          ],
          "scatterpolargl": [
           {
            "marker": {
             "colorbar": {
              "outlinewidth": 0,
              "ticks": ""
             }
            },
            "type": "scatterpolargl"
           }
          ],
          "scatterternary": [
           {
            "marker": {
             "colorbar": {
              "outlinewidth": 0,
              "ticks": ""
             }
            },
            "type": "scatterternary"
           }
          ],
          "surface": [
           {
            "colorbar": {
             "outlinewidth": 0,
             "ticks": ""
            },
            "colorscale": [
             [
              0,
              "#0d0887"
             ],
             [
              0.1111111111111111,
              "#46039f"
             ],
             [
              0.2222222222222222,
              "#7201a8"
             ],
             [
              0.3333333333333333,
              "#9c179e"
             ],
             [
              0.4444444444444444,
              "#bd3786"
             ],
             [
              0.5555555555555556,
              "#d8576b"
             ],
             [
              0.6666666666666666,
              "#ed7953"
             ],
             [
              0.7777777777777778,
              "#fb9f3a"
             ],
             [
              0.8888888888888888,
              "#fdca26"
             ],
             [
              1,
              "#f0f921"
             ]
            ],
            "type": "surface"
           }
          ],
          "table": [
           {
            "cells": {
             "fill": {
              "color": "#EBF0F8"
             },
             "line": {
              "color": "white"
             }
            },
            "header": {
             "fill": {
              "color": "#C8D4E3"
             },
             "line": {
              "color": "white"
             }
            },
            "type": "table"
           }
          ]
         },
         "layout": {
          "annotationdefaults": {
           "arrowcolor": "#2a3f5f",
           "arrowhead": 0,
           "arrowwidth": 1
          },
          "autotypenumbers": "strict",
          "coloraxis": {
           "colorbar": {
            "outlinewidth": 0,
            "ticks": ""
           }
          },
          "colorscale": {
           "diverging": [
            [
             0,
             "#8e0152"
            ],
            [
             0.1,
             "#c51b7d"
            ],
            [
             0.2,
             "#de77ae"
            ],
            [
             0.3,
             "#f1b6da"
            ],
            [
             0.4,
             "#fde0ef"
            ],
            [
             0.5,
             "#f7f7f7"
            ],
            [
             0.6,
             "#e6f5d0"
            ],
            [
             0.7,
             "#b8e186"
            ],
            [
             0.8,
             "#7fbc41"
            ],
            [
             0.9,
             "#4d9221"
            ],
            [
             1,
             "#276419"
            ]
           ],
           "sequential": [
            [
             0,
             "#0d0887"
            ],
            [
             0.1111111111111111,
             "#46039f"
            ],
            [
             0.2222222222222222,
             "#7201a8"
            ],
            [
             0.3333333333333333,
             "#9c179e"
            ],
            [
             0.4444444444444444,
             "#bd3786"
            ],
            [
             0.5555555555555556,
             "#d8576b"
            ],
            [
             0.6666666666666666,
             "#ed7953"
            ],
            [
             0.7777777777777778,
             "#fb9f3a"
            ],
            [
             0.8888888888888888,
             "#fdca26"
            ],
            [
             1,
             "#f0f921"
            ]
           ],
           "sequentialminus": [
            [
             0,
             "#0d0887"
            ],
            [
             0.1111111111111111,
             "#46039f"
            ],
            [
             0.2222222222222222,
             "#7201a8"
            ],
            [
             0.3333333333333333,
             "#9c179e"
            ],
            [
             0.4444444444444444,
             "#bd3786"
            ],
            [
             0.5555555555555556,
             "#d8576b"
            ],
            [
             0.6666666666666666,
             "#ed7953"
            ],
            [
             0.7777777777777778,
             "#fb9f3a"
            ],
            [
             0.8888888888888888,
             "#fdca26"
            ],
            [
             1,
             "#f0f921"
            ]
           ]
          },
          "colorway": [
           "#636efa",
           "#EF553B",
           "#00cc96",
           "#ab63fa",
           "#FFA15A",
           "#19d3f3",
           "#FF6692",
           "#B6E880",
           "#FF97FF",
           "#FECB52"
          ],
          "font": {
           "color": "#2a3f5f"
          },
          "geo": {
           "bgcolor": "white",
           "lakecolor": "white",
           "landcolor": "#E5ECF6",
           "showlakes": true,
           "showland": true,
           "subunitcolor": "white"
          },
          "hoverlabel": {
           "align": "left"
          },
          "hovermode": "closest",
          "mapbox": {
           "style": "light"
          },
          "paper_bgcolor": "white",
          "plot_bgcolor": "#E5ECF6",
          "polar": {
           "angularaxis": {
            "gridcolor": "white",
            "linecolor": "white",
            "ticks": ""
           },
           "bgcolor": "#E5ECF6",
           "radialaxis": {
            "gridcolor": "white",
            "linecolor": "white",
            "ticks": ""
           }
          },
          "scene": {
           "xaxis": {
            "backgroundcolor": "#E5ECF6",
            "gridcolor": "white",
            "gridwidth": 2,
            "linecolor": "white",
            "showbackground": true,
            "ticks": "",
            "zerolinecolor": "white"
           },
           "yaxis": {
            "backgroundcolor": "#E5ECF6",
            "gridcolor": "white",
            "gridwidth": 2,
            "linecolor": "white",
            "showbackground": true,
            "ticks": "",
            "zerolinecolor": "white"
           },
           "zaxis": {
            "backgroundcolor": "#E5ECF6",
            "gridcolor": "white",
            "gridwidth": 2,
            "linecolor": "white",
            "showbackground": true,
            "ticks": "",
            "zerolinecolor": "white"
           }
          },
          "shapedefaults": {
           "line": {
            "color": "#2a3f5f"
           }
          },
          "ternary": {
           "aaxis": {
            "gridcolor": "white",
            "linecolor": "white",
            "ticks": ""
           },
           "baxis": {
            "gridcolor": "white",
            "linecolor": "white",
            "ticks": ""
           },
           "bgcolor": "#E5ECF6",
           "caxis": {
            "gridcolor": "white",
            "linecolor": "white",
            "ticks": ""
           }
          },
          "title": {
           "x": 0.05
          },
          "xaxis": {
           "automargin": true,
           "gridcolor": "white",
           "linecolor": "white",
           "ticks": "",
           "title": {
            "standoff": 15
           },
           "zerolinecolor": "white",
           "zerolinewidth": 2
          },
          "yaxis": {
           "automargin": true,
           "gridcolor": "white",
           "linecolor": "white",
           "ticks": "",
           "title": {
            "standoff": 15
           },
           "zerolinecolor": "white",
           "zerolinewidth": 2
          }
         }
        },
        "title": {
         "text": "oasis 개별 컬렉션 설명글 단어 집합 출현빈도 상위 30개 단어"
        }
       }
      }
     },
     "metadata": {},
     "output_type": "display_data"
    }
   ],
   "source": [
    "vis_cnt(all_cont[:30], 'oasis 개별 컬렉션 설명글 단어 집합 출현빈도 상위 30개 단어')"
   ]
  },
  {
   "cell_type": "markdown",
   "metadata": {},
   "source": [
    "### 1-0-2. 상위 300 개 단어 워드클라우드 "
   ]
  },
  {
   "cell_type": "code",
   "execution_count": 96,
   "metadata": {},
   "outputs": [
    {
     "data": {
      "image/png": "[encoded data removed]",
      "text/plain": [
       "<Figure size 720x720 with 1 Axes>"
      ]
     },
     "metadata": {
      "needs_background": "light"
     },
     "output_type": "display_data"
    }
   ],
   "source": [
    "make_wc(all_cont_dict, '전체 출현 빈도 상위 300개 단어', 'Greens')"
   ]
  },
  {
   "cell_type": "markdown",
   "metadata": {},
   "source": [
    "# 2. 머신러닝"
   ]
  },
  {
   "cell_type": "markdown",
   "metadata": {},
   "source": [
    "## 2-1. 토픽모델링"
   ]
  },
  {
   "cell_type": "markdown",
   "metadata": {},
   "source": [
    "### 2-2-1. K-means 클러스터링"
   ]
  },
  {
   "cell_type": "markdown",
   "metadata": {},
   "source": [
    "### 2-2-2. 잠재 디리클레 할당(LDA)"
   ]
  },
  {
   "cell_type": "markdown",
   "metadata": {},
   "source": [
    "### 2-2-3"
   ]
  }
 ],
 "metadata": {
  "kernelspec": {
   "display_name": "Python 3.9.12",
   "language": "python",
   "name": "python3"
  },
  "language_info": {
   "codemirror_mode": {
    "name": "ipython",
    "version": 3
   },
   "file_extension": ".py",
   "mimetype": "text/x-python",
   "name": "python",
   "nbconvert_exporter": "python",
   "pygments_lexer": "ipython3",
   "version": "3.9.12"
  },
  "orig_nbformat": 4,
  "vscode": {
   "interpreter": {
    "hash": "ad2bdc8ecc057115af97d19610ffacc2b4e99fae6737bb82f5d7fb13d2f2c186"
   }
  }
 },
 "nbformat": 4,
 "nbformat_minor": 2
}
