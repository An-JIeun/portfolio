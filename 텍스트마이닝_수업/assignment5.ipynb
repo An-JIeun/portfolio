{
  "nbformat": 4,
  "nbformat_minor": 0,
  "metadata": {
    "colab": {
      "provenance": []
    },
    "kernelspec": {
      "name": "python3",
      "display_name": "Python 3"
    },
    "language_info": {
      "name": "python"
    },
    "widgets": {
      "application/vnd.jupyter.widget-state+json": {
        "edf68cdb0f9141919f25eddb7d70ceea": {
          "model_module": "@jupyter-widgets/controls",
          "model_name": "HBoxModel",
          "model_module_version": "1.5.0",
          "state": {
            "_dom_classes": [],
            "_model_module": "@jupyter-widgets/controls",
            "_model_module_version": "1.5.0",
            "_model_name": "HBoxModel",
            "_view_count": null,
            "_view_module": "@jupyter-widgets/controls",
            "_view_module_version": "1.5.0",
            "_view_name": "HBoxView",
            "box_style": "",
            "children": [
              "IPY_MODEL_745ebe90c57c42e59708313f683757d7",
              "IPY_MODEL_888c1ba3c9274387b6c2ccc30cf6cde8",
              "IPY_MODEL_32e012cbf9434ab2a5864680cc0db6be"
            ],
            "layout": "IPY_MODEL_2f4c1cf1cb194456bb2864818bdf0377"
          }
        },
        "745ebe90c57c42e59708313f683757d7": {
          "model_module": "@jupyter-widgets/controls",
          "model_name": "HTMLModel",
          "model_module_version": "1.5.0",
          "state": {
            "_dom_classes": [],
            "_model_module": "@jupyter-widgets/controls",
            "_model_module_version": "1.5.0",
            "_model_name": "HTMLModel",
            "_view_count": null,
            "_view_module": "@jupyter-widgets/controls",
            "_view_module_version": "1.5.0",
            "_view_name": "HTMLView",
            "description": "",
            "description_tooltip": null,
            "layout": "IPY_MODEL_10b0ae535d2e428a869343a06525210f",
            "placeholder": "​",
            "style": "IPY_MODEL_51e8f26a5e644f9c98a21694d70762f9",
            "value": "Downloading: 100%"
          }
        },
        "888c1ba3c9274387b6c2ccc30cf6cde8": {
          "model_module": "@jupyter-widgets/controls",
          "model_name": "FloatProgressModel",
          "model_module_version": "1.5.0",
          "state": {
            "_dom_classes": [],
            "_model_module": "@jupyter-widgets/controls",
            "_model_module_version": "1.5.0",
            "_model_name": "FloatProgressModel",
            "_view_count": null,
            "_view_module": "@jupyter-widgets/controls",
            "_view_module_version": "1.5.0",
            "_view_name": "ProgressView",
            "bar_style": "success",
            "description": "",
            "description_tooltip": null,
            "layout": "IPY_MODEL_b4397a20cc154118a01a963b07920da9",
            "max": 1380,
            "min": 0,
            "orientation": "horizontal",
            "style": "IPY_MODEL_8dbbff3eee0347b9ac82abd4262de06c",
            "value": 1380
          }
        },
        "32e012cbf9434ab2a5864680cc0db6be": {
          "model_module": "@jupyter-widgets/controls",
          "model_name": "HTMLModel",
          "model_module_version": "1.5.0",
          "state": {
            "_dom_classes": [],
            "_model_module": "@jupyter-widgets/controls",
            "_model_module_version": "1.5.0",
            "_model_name": "HTMLModel",
            "_view_count": null,
            "_view_module": "@jupyter-widgets/controls",
            "_view_module_version": "1.5.0",
            "_view_name": "HTMLView",
            "description": "",
            "description_tooltip": null,
            "layout": "IPY_MODEL_6a9d2eae887b4c9daff6948d926270b5",
            "placeholder": "​",
            "style": "IPY_MODEL_38cb506b378548b5b8460b5284516f4b",
            "value": " 1.38k/1.38k [00:00&lt;00:00, 29.3kB/s]"
          }
        },
        "2f4c1cf1cb194456bb2864818bdf0377": {
          "model_module": "@jupyter-widgets/base",
          "model_name": "LayoutModel",
          "model_module_version": "1.2.0",
          "state": {
            "_model_module": "@jupyter-widgets/base",
            "_model_module_version": "1.2.0",
            "_model_name": "LayoutModel",
            "_view_count": null,
            "_view_module": "@jupyter-widgets/base",
            "_view_module_version": "1.2.0",
            "_view_name": "LayoutView",
            "align_content": null,
            "align_items": null,
            "align_self": null,
            "border": null,
            "bottom": null,
            "display": null,
            "flex": null,
            "flex_flow": null,
            "grid_area": null,
            "grid_auto_columns": null,
            "grid_auto_flow": null,
            "grid_auto_rows": null,
            "grid_column": null,
            "grid_gap": null,
            "grid_row": null,
            "grid_template_areas": null,
            "grid_template_columns": null,
            "grid_template_rows": null,
            "height": null,
            "justify_content": null,
            "justify_items": null,
            "left": null,
            "margin": null,
            "max_height": null,
            "max_width": null,
            "min_height": null,
            "min_width": null,
            "object_fit": null,
            "object_position": null,
            "order": null,
            "overflow": null,
            "overflow_x": null,
            "overflow_y": null,
            "padding": null,
            "right": null,
            "top": null,
            "visibility": null,
            "width": null
          }
        },
        "10b0ae535d2e428a869343a06525210f": {
          "model_module": "@jupyter-widgets/base",
          "model_name": "LayoutModel",
          "model_module_version": "1.2.0",
          "state": {
            "_model_module": "@jupyter-widgets/base",
            "_model_module_version": "1.2.0",
            "_model_name": "LayoutModel",
            "_view_count": null,
            "_view_module": "@jupyter-widgets/base",
            "_view_module_version": "1.2.0",
            "_view_name": "LayoutView",
            "align_content": null,
            "align_items": null,
            "align_self": null,
            "border": null,
            "bottom": null,
            "display": null,
            "flex": null,
            "flex_flow": null,
            "grid_area": null,
            "grid_auto_columns": null,
            "grid_auto_flow": null,
            "grid_auto_rows": null,
            "grid_column": null,
            "grid_gap": null,
            "grid_row": null,
            "grid_template_areas": null,
            "grid_template_columns": null,
            "grid_template_rows": null,
            "height": null,
            "justify_content": null,
            "justify_items": null,
            "left": null,
            "margin": null,
            "max_height": null,
            "max_width": null,
            "min_height": null,
            "min_width": null,
            "object_fit": null,
            "object_position": null,
            "order": null,
            "overflow": null,
            "overflow_x": null,
            "overflow_y": null,
            "padding": null,
            "right": null,
            "top": null,
            "visibility": null,
            "width": null
          }
        },
        "51e8f26a5e644f9c98a21694d70762f9": {
          "model_module": "@jupyter-widgets/controls",
          "model_name": "DescriptionStyleModel",
          "model_module_version": "1.5.0",
          "state": {
            "_model_module": "@jupyter-widgets/controls",
            "_model_module_version": "1.5.0",
            "_model_name": "DescriptionStyleModel",
            "_view_count": null,
            "_view_module": "@jupyter-widgets/base",
            "_view_module_version": "1.2.0",
            "_view_name": "StyleView",
            "description_width": ""
          }
        },
        "b4397a20cc154118a01a963b07920da9": {
          "model_module": "@jupyter-widgets/base",
          "model_name": "LayoutModel",
          "model_module_version": "1.2.0",
          "state": {
            "_model_module": "@jupyter-widgets/base",
            "_model_module_version": "1.2.0",
            "_model_name": "LayoutModel",
            "_view_count": null,
            "_view_module": "@jupyter-widgets/base",
            "_view_module_version": "1.2.0",
            "_view_name": "LayoutView",
            "align_content": null,
            "align_items": null,
            "align_self": null,
            "border": null,
            "bottom": null,
            "display": null,
            "flex": null,
            "flex_flow": null,
            "grid_area": null,
            "grid_auto_columns": null,
            "grid_auto_flow": null,
            "grid_auto_rows": null,
            "grid_column": null,
            "grid_gap": null,
            "grid_row": null,
            "grid_template_areas": null,
            "grid_template_columns": null,
            "grid_template_rows": null,
            "height": null,
            "justify_content": null,
            "justify_items": null,
            "left": null,
            "margin": null,
            "max_height": null,
            "max_width": null,
            "min_height": null,
            "min_width": null,
            "object_fit": null,
            "object_position": null,
            "order": null,
            "overflow": null,
            "overflow_x": null,
            "overflow_y": null,
            "padding": null,
            "right": null,
            "top": null,
            "visibility": null,
            "width": null
          }
        },
        "8dbbff3eee0347b9ac82abd4262de06c": {
          "model_module": "@jupyter-widgets/controls",
          "model_name": "ProgressStyleModel",
          "model_module_version": "1.5.0",
          "state": {
            "_model_module": "@jupyter-widgets/controls",
            "_model_module_version": "1.5.0",
            "_model_name": "ProgressStyleModel",
            "_view_count": null,
            "_view_module": "@jupyter-widgets/base",
            "_view_module_version": "1.2.0",
            "_view_name": "StyleView",
            "bar_color": null,
            "description_width": ""
          }
        },
        "6a9d2eae887b4c9daff6948d926270b5": {
          "model_module": "@jupyter-widgets/base",
          "model_name": "LayoutModel",
          "model_module_version": "1.2.0",
          "state": {
            "_model_module": "@jupyter-widgets/base",
            "_model_module_version": "1.2.0",
            "_model_name": "LayoutModel",
            "_view_count": null,
            "_view_module": "@jupyter-widgets/base",
            "_view_module_version": "1.2.0",
            "_view_name": "LayoutView",
            "align_content": null,
            "align_items": null,
            "align_self": null,
            "border": null,
            "bottom": null,
            "display": null,
            "flex": null,
            "flex_flow": null,
            "grid_area": null,
            "grid_auto_columns": null,
            "grid_auto_flow": null,
            "grid_auto_rows": null,
            "grid_column": null,
            "grid_gap": null,
            "grid_row": null,
            "grid_template_areas": null,
            "grid_template_columns": null,
            "grid_template_rows": null,
            "height": null,
            "justify_content": null,
            "justify_items": null,
            "left": null,
            "margin": null,
            "max_height": null,
            "max_width": null,
            "min_height": null,
            "min_width": null,
            "object_fit": null,
            "object_position": null,
            "order": null,
            "overflow": null,
            "overflow_x": null,
            "overflow_y": null,
            "padding": null,
            "right": null,
            "top": null,
            "visibility": null,
            "width": null
          }
        },
        "38cb506b378548b5b8460b5284516f4b": {
          "model_module": "@jupyter-widgets/controls",
          "model_name": "DescriptionStyleModel",
          "model_module_version": "1.5.0",
          "state": {
            "_model_module": "@jupyter-widgets/controls",
            "_model_module_version": "1.5.0",
            "_model_name": "DescriptionStyleModel",
            "_view_count": null,
            "_view_module": "@jupyter-widgets/base",
            "_view_module_version": "1.2.0",
            "_view_name": "StyleView",
            "description_width": ""
          }
        },
        "226c6e959aa7407e88c2bb8834200d85": {
          "model_module": "@jupyter-widgets/controls",
          "model_name": "HBoxModel",
          "model_module_version": "1.5.0",
          "state": {
            "_dom_classes": [],
            "_model_module": "@jupyter-widgets/controls",
            "_model_module_version": "1.5.0",
            "_model_name": "HBoxModel",
            "_view_count": null,
            "_view_module": "@jupyter-widgets/controls",
            "_view_module_version": "1.5.0",
            "_view_name": "HBoxView",
            "box_style": "",
            "children": [
              "IPY_MODEL_b2efd6440eca48aaaed98f1c1394969c",
              "IPY_MODEL_04d10b37238d40118a28315717ebd773",
              "IPY_MODEL_a25bc68b53d242c39f8611e093e84551"
            ],
            "layout": "IPY_MODEL_5484fed0ca614e1eb179496feaaca1a2"
          }
        },
        "b2efd6440eca48aaaed98f1c1394969c": {
          "model_module": "@jupyter-widgets/controls",
          "model_name": "HTMLModel",
          "model_module_version": "1.5.0",
          "state": {
            "_dom_classes": [],
            "_model_module": "@jupyter-widgets/controls",
            "_model_module_version": "1.5.0",
            "_model_name": "HTMLModel",
            "_view_count": null,
            "_view_module": "@jupyter-widgets/controls",
            "_view_module_version": "1.5.0",
            "_view_name": "HTMLView",
            "description": "",
            "description_tooltip": null,
            "layout": "IPY_MODEL_25a6d46b0b0b42a39621b42fc91cae62",
            "placeholder": "​",
            "style": "IPY_MODEL_3d986ccdc37c4843bd50877d72bc3a6d",
            "value": "Downloading: 100%"
          }
        },
        "04d10b37238d40118a28315717ebd773": {
          "model_module": "@jupyter-widgets/controls",
          "model_name": "FloatProgressModel",
          "model_module_version": "1.5.0",
          "state": {
            "_dom_classes": [],
            "_model_module": "@jupyter-widgets/controls",
            "_model_module_version": "1.5.0",
            "_model_name": "FloatProgressModel",
            "_view_count": null,
            "_view_module": "@jupyter-widgets/controls",
            "_view_module_version": "1.5.0",
            "_view_name": "ProgressView",
            "bar_style": "success",
            "description": "",
            "description_tooltip": null,
            "layout": "IPY_MODEL_09b5f89395194eabb5ff60b900f13bc5",
            "max": 337,
            "min": 0,
            "orientation": "horizontal",
            "style": "IPY_MODEL_8164f6d93324451f9758be317a8084e1",
            "value": 337
          }
        },
        "a25bc68b53d242c39f8611e093e84551": {
          "model_module": "@jupyter-widgets/controls",
          "model_name": "HTMLModel",
          "model_module_version": "1.5.0",
          "state": {
            "_dom_classes": [],
            "_model_module": "@jupyter-widgets/controls",
            "_model_module_version": "1.5.0",
            "_model_name": "HTMLModel",
            "_view_count": null,
            "_view_module": "@jupyter-widgets/controls",
            "_view_module_version": "1.5.0",
            "_view_name": "HTMLView",
            "description": "",
            "description_tooltip": null,
            "layout": "IPY_MODEL_2e4665bb0cb24d3da8e0936e9e71d9b6",
            "placeholder": "​",
            "style": "IPY_MODEL_cfcbd7866ae14726a5189ef821f11da5",
            "value": " 337/337 [00:00&lt;00:00, 9.80kB/s]"
          }
        },
        "5484fed0ca614e1eb179496feaaca1a2": {
          "model_module": "@jupyter-widgets/base",
          "model_name": "LayoutModel",
          "model_module_version": "1.2.0",
          "state": {
            "_model_module": "@jupyter-widgets/base",
            "_model_module_version": "1.2.0",
            "_model_name": "LayoutModel",
            "_view_count": null,
            "_view_module": "@jupyter-widgets/base",
            "_view_module_version": "1.2.0",
            "_view_name": "LayoutView",
            "align_content": null,
            "align_items": null,
            "align_self": null,
            "border": null,
            "bottom": null,
            "display": null,
            "flex": null,
            "flex_flow": null,
            "grid_area": null,
            "grid_auto_columns": null,
            "grid_auto_flow": null,
            "grid_auto_rows": null,
            "grid_column": null,
            "grid_gap": null,
            "grid_row": null,
            "grid_template_areas": null,
            "grid_template_columns": null,
            "grid_template_rows": null,
            "height": null,
            "justify_content": null,
            "justify_items": null,
            "left": null,
            "margin": null,
            "max_height": null,
            "max_width": null,
            "min_height": null,
            "min_width": null,
            "object_fit": null,
            "object_position": null,
            "order": null,
            "overflow": null,
            "overflow_x": null,
            "overflow_y": null,
            "padding": null,
            "right": null,
            "top": null,
            "visibility": null,
            "width": null
          }
        },
        "25a6d46b0b0b42a39621b42fc91cae62": {
          "model_module": "@jupyter-widgets/base",
          "model_name": "LayoutModel",
          "model_module_version": "1.2.0",
          "state": {
            "_model_module": "@jupyter-widgets/base",
            "_model_module_version": "1.2.0",
            "_model_name": "LayoutModel",
            "_view_count": null,
            "_view_module": "@jupyter-widgets/base",
            "_view_module_version": "1.2.0",
            "_view_name": "LayoutView",
            "align_content": null,
            "align_items": null,
            "align_self": null,
            "border": null,
            "bottom": null,
            "display": null,
            "flex": null,
            "flex_flow": null,
            "grid_area": null,
            "grid_auto_columns": null,
            "grid_auto_flow": null,
            "grid_auto_rows": null,
            "grid_column": null,
            "grid_gap": null,
            "grid_row": null,
            "grid_template_areas": null,
            "grid_template_columns": null,
            "grid_template_rows": null,
            "height": null,
            "justify_content": null,
            "justify_items": null,
            "left": null,
            "margin": null,
            "max_height": null,
            "max_width": null,
            "min_height": null,
            "min_width": null,
            "object_fit": null,
            "object_position": null,
            "order": null,
            "overflow": null,
            "overflow_x": null,
            "overflow_y": null,
            "padding": null,
            "right": null,
            "top": null,
            "visibility": null,
            "width": null
          }
        },
        "3d986ccdc37c4843bd50877d72bc3a6d": {
          "model_module": "@jupyter-widgets/controls",
          "model_name": "DescriptionStyleModel",
          "model_module_version": "1.5.0",
          "state": {
            "_model_module": "@jupyter-widgets/controls",
            "_model_module_version": "1.5.0",
            "_model_name": "DescriptionStyleModel",
            "_view_count": null,
            "_view_module": "@jupyter-widgets/base",
            "_view_module_version": "1.2.0",
            "_view_name": "StyleView",
            "description_width": ""
          }
        },
        "09b5f89395194eabb5ff60b900f13bc5": {
          "model_module": "@jupyter-widgets/base",
          "model_name": "LayoutModel",
          "model_module_version": "1.2.0",
          "state": {
            "_model_module": "@jupyter-widgets/base",
            "_model_module_version": "1.2.0",
            "_model_name": "LayoutModel",
            "_view_count": null,
            "_view_module": "@jupyter-widgets/base",
            "_view_module_version": "1.2.0",
            "_view_name": "LayoutView",
            "align_content": null,
            "align_items": null,
            "align_self": null,
            "border": null,
            "bottom": null,
            "display": null,
            "flex": null,
            "flex_flow": null,
            "grid_area": null,
            "grid_auto_columns": null,
            "grid_auto_flow": null,
            "grid_auto_rows": null,
            "grid_column": null,
            "grid_gap": null,
            "grid_row": null,
            "grid_template_areas": null,
            "grid_template_columns": null,
            "grid_template_rows": null,
            "height": null,
            "justify_content": null,
            "justify_items": null,
            "left": null,
            "margin": null,
            "max_height": null,
            "max_width": null,
            "min_height": null,
            "min_width": null,
            "object_fit": null,
            "object_position": null,
            "order": null,
            "overflow": null,
            "overflow_x": null,
            "overflow_y": null,
            "padding": null,
            "right": null,
            "top": null,
            "visibility": null,
            "width": null
          }
        },
        "8164f6d93324451f9758be317a8084e1": {
          "model_module": "@jupyter-widgets/controls",
          "model_name": "ProgressStyleModel",
          "model_module_version": "1.5.0",
          "state": {
            "_model_module": "@jupyter-widgets/controls",
            "_model_module_version": "1.5.0",
            "_model_name": "ProgressStyleModel",
            "_view_count": null,
            "_view_module": "@jupyter-widgets/base",
            "_view_module_version": "1.2.0",
            "_view_name": "StyleView",
            "bar_color": null,
            "description_width": ""
          }
        },
        "2e4665bb0cb24d3da8e0936e9e71d9b6": {
          "model_module": "@jupyter-widgets/base",
          "model_name": "LayoutModel",
          "model_module_version": "1.2.0",
          "state": {
            "_model_module": "@jupyter-widgets/base",
            "_model_module_version": "1.2.0",
            "_model_name": "LayoutModel",
            "_view_count": null,
            "_view_module": "@jupyter-widgets/base",
            "_view_module_version": "1.2.0",
            "_view_name": "LayoutView",
            "align_content": null,
            "align_items": null,
            "align_self": null,
            "border": null,
            "bottom": null,
            "display": null,
            "flex": null,
            "flex_flow": null,
            "grid_area": null,
            "grid_auto_columns": null,
            "grid_auto_flow": null,
            "grid_auto_rows": null,
            "grid_column": null,
            "grid_gap": null,
            "grid_row": null,
            "grid_template_areas": null,
            "grid_template_columns": null,
            "grid_template_rows": null,
            "height": null,
            "justify_content": null,
            "justify_items": null,
            "left": null,
            "margin": null,
            "max_height": null,
            "max_width": null,
            "min_height": null,
            "min_width": null,
            "object_fit": null,
            "object_position": null,
            "order": null,
            "overflow": null,
            "overflow_x": null,
            "overflow_y": null,
            "padding": null,
            "right": null,
            "top": null,
            "visibility": null,
            "width": null
          }
        },
        "cfcbd7866ae14726a5189ef821f11da5": {
          "model_module": "@jupyter-widgets/controls",
          "model_name": "DescriptionStyleModel",
          "model_module_version": "1.5.0",
          "state": {
            "_model_module": "@jupyter-widgets/controls",
            "_model_module_version": "1.5.0",
            "_model_name": "DescriptionStyleModel",
            "_view_count": null,
            "_view_module": "@jupyter-widgets/base",
            "_view_module_version": "1.2.0",
            "_view_name": "StyleView",
            "description_width": ""
          }
        },
        "483e68f5845b477f955e59dcad6b0745": {
          "model_module": "@jupyter-widgets/controls",
          "model_name": "HBoxModel",
          "model_module_version": "1.5.0",
          "state": {
            "_dom_classes": [],
            "_model_module": "@jupyter-widgets/controls",
            "_model_module_version": "1.5.0",
            "_model_name": "HBoxModel",
            "_view_count": null,
            "_view_module": "@jupyter-widgets/controls",
            "_view_module_version": "1.5.0",
            "_view_name": "HBoxView",
            "box_style": "",
            "children": [
              "IPY_MODEL_e30b389bafcf48bdb006d22687666a86",
              "IPY_MODEL_5e22a795e8ad4798bed271b498e84f7c",
              "IPY_MODEL_cd29a3ee435e45b5bd0681fa041d1b16"
            ],
            "layout": "IPY_MODEL_a70e2e7251d74d4ba02f29bff0896259"
          }
        },
        "e30b389bafcf48bdb006d22687666a86": {
          "model_module": "@jupyter-widgets/controls",
          "model_name": "HTMLModel",
          "model_module_version": "1.5.0",
          "state": {
            "_dom_classes": [],
            "_model_module": "@jupyter-widgets/controls",
            "_model_module_version": "1.5.0",
            "_model_name": "HTMLModel",
            "_view_count": null,
            "_view_module": "@jupyter-widgets/controls",
            "_view_module_version": "1.5.0",
            "_view_name": "HTMLView",
            "description": "",
            "description_tooltip": null,
            "layout": "IPY_MODEL_80efd0955ef64f4389f7f5b080a9501e",
            "placeholder": "​",
            "style": "IPY_MODEL_7a3751908a8741cbb277deff04c942b8",
            "value": "Downloading: 100%"
          }
        },
        "5e22a795e8ad4798bed271b498e84f7c": {
          "model_module": "@jupyter-widgets/controls",
          "model_name": "FloatProgressModel",
          "model_module_version": "1.5.0",
          "state": {
            "_dom_classes": [],
            "_model_module": "@jupyter-widgets/controls",
            "_model_module_version": "1.5.0",
            "_model_name": "FloatProgressModel",
            "_view_count": null,
            "_view_module": "@jupyter-widgets/controls",
            "_view_module_version": "1.5.0",
            "_view_name": "ProgressView",
            "bar_style": "success",
            "description": "",
            "description_tooltip": null,
            "layout": "IPY_MODEL_924a5309451c4f338cf58596e7574ac9",
            "max": 1049475,
            "min": 0,
            "orientation": "horizontal",
            "style": "IPY_MODEL_0526edef262747cf862f2e0a80f49df0",
            "value": 1049475
          }
        },
        "cd29a3ee435e45b5bd0681fa041d1b16": {
          "model_module": "@jupyter-widgets/controls",
          "model_name": "HTMLModel",
          "model_module_version": "1.5.0",
          "state": {
            "_dom_classes": [],
            "_model_module": "@jupyter-widgets/controls",
            "_model_module_version": "1.5.0",
            "_model_name": "HTMLModel",
            "_view_count": null,
            "_view_module": "@jupyter-widgets/controls",
            "_view_module_version": "1.5.0",
            "_view_name": "HTMLView",
            "description": "",
            "description_tooltip": null,
            "layout": "IPY_MODEL_b430c59bddd448a2ae610c2609fc265c",
            "placeholder": "​",
            "style": "IPY_MODEL_6ab6a22b0103482f82db6a9d1e7a710e",
            "value": " 1.05M/1.05M [00:00&lt;00:00, 3.03MB/s]"
          }
        },
        "a70e2e7251d74d4ba02f29bff0896259": {
          "model_module": "@jupyter-widgets/base",
          "model_name": "LayoutModel",
          "model_module_version": "1.2.0",
          "state": {
            "_model_module": "@jupyter-widgets/base",
            "_model_module_version": "1.2.0",
            "_model_name": "LayoutModel",
            "_view_count": null,
            "_view_module": "@jupyter-widgets/base",
            "_view_module_version": "1.2.0",
            "_view_name": "LayoutView",
            "align_content": null,
            "align_items": null,
            "align_self": null,
            "border": null,
            "bottom": null,
            "display": null,
            "flex": null,
            "flex_flow": null,
            "grid_area": null,
            "grid_auto_columns": null,
            "grid_auto_flow": null,
            "grid_auto_rows": null,
            "grid_column": null,
            "grid_gap": null,
            "grid_row": null,
            "grid_template_areas": null,
            "grid_template_columns": null,
            "grid_template_rows": null,
            "height": null,
            "justify_content": null,
            "justify_items": null,
            "left": null,
            "margin": null,
            "max_height": null,
            "max_width": null,
            "min_height": null,
            "min_width": null,
            "object_fit": null,
            "object_position": null,
            "order": null,
            "overflow": null,
            "overflow_x": null,
            "overflow_y": null,
            "padding": null,
            "right": null,
            "top": null,
            "visibility": null,
            "width": null
          }
        },
        "80efd0955ef64f4389f7f5b080a9501e": {
          "model_module": "@jupyter-widgets/base",
          "model_name": "LayoutModel",
          "model_module_version": "1.2.0",
          "state": {
            "_model_module": "@jupyter-widgets/base",
            "_model_module_version": "1.2.0",
            "_model_name": "LayoutModel",
            "_view_count": null,
            "_view_module": "@jupyter-widgets/base",
            "_view_module_version": "1.2.0",
            "_view_name": "LayoutView",
            "align_content": null,
            "align_items": null,
            "align_self": null,
            "border": null,
            "bottom": null,
            "display": null,
            "flex": null,
            "flex_flow": null,
            "grid_area": null,
            "grid_auto_columns": null,
            "grid_auto_flow": null,
            "grid_auto_rows": null,
            "grid_column": null,
            "grid_gap": null,
            "grid_row": null,
            "grid_template_areas": null,
            "grid_template_columns": null,
            "grid_template_rows": null,
            "height": null,
            "justify_content": null,
            "justify_items": null,
            "left": null,
            "margin": null,
            "max_height": null,
            "max_width": null,
            "min_height": null,
            "min_width": null,
            "object_fit": null,
            "object_position": null,
            "order": null,
            "overflow": null,
            "overflow_x": null,
            "overflow_y": null,
            "padding": null,
            "right": null,
            "top": null,
            "visibility": null,
            "width": null
          }
        },
        "7a3751908a8741cbb277deff04c942b8": {
          "model_module": "@jupyter-widgets/controls",
          "model_name": "DescriptionStyleModel",
          "model_module_version": "1.5.0",
          "state": {
            "_model_module": "@jupyter-widgets/controls",
            "_model_module_version": "1.5.0",
            "_model_name": "DescriptionStyleModel",
            "_view_count": null,
            "_view_module": "@jupyter-widgets/base",
            "_view_module_version": "1.2.0",
            "_view_name": "StyleView",
            "description_width": ""
          }
        },
        "924a5309451c4f338cf58596e7574ac9": {
          "model_module": "@jupyter-widgets/base",
          "model_name": "LayoutModel",
          "model_module_version": "1.2.0",
          "state": {
            "_model_module": "@jupyter-widgets/base",
            "_model_module_version": "1.2.0",
            "_model_name": "LayoutModel",
            "_view_count": null,
            "_view_module": "@jupyter-widgets/base",
            "_view_module_version": "1.2.0",
            "_view_name": "LayoutView",
            "align_content": null,
            "align_items": null,
            "align_self": null,
            "border": null,
            "bottom": null,
            "display": null,
            "flex": null,
            "flex_flow": null,
            "grid_area": null,
            "grid_auto_columns": null,
            "grid_auto_flow": null,
            "grid_auto_rows": null,
            "grid_column": null,
            "grid_gap": null,
            "grid_row": null,
            "grid_template_areas": null,
            "grid_template_columns": null,
            "grid_template_rows": null,
            "height": null,
            "justify_content": null,
            "justify_items": null,
            "left": null,
            "margin": null,
            "max_height": null,
            "max_width": null,
            "min_height": null,
            "min_width": null,
            "object_fit": null,
            "object_position": null,
            "order": null,
            "overflow": null,
            "overflow_x": null,
            "overflow_y": null,
            "padding": null,
            "right": null,
            "top": null,
            "visibility": null,
            "width": null
          }
        },
        "0526edef262747cf862f2e0a80f49df0": {
          "model_module": "@jupyter-widgets/controls",
          "model_name": "ProgressStyleModel",
          "model_module_version": "1.5.0",
          "state": {
            "_model_module": "@jupyter-widgets/controls",
            "_model_module_version": "1.5.0",
            "_model_name": "ProgressStyleModel",
            "_view_count": null,
            "_view_module": "@jupyter-widgets/base",
            "_view_module_version": "1.2.0",
            "_view_name": "StyleView",
            "bar_color": null,
            "description_width": ""
          }
        },
        "b430c59bddd448a2ae610c2609fc265c": {
          "model_module": "@jupyter-widgets/base",
          "model_name": "LayoutModel",
          "model_module_version": "1.2.0",
          "state": {
            "_model_module": "@jupyter-widgets/base",
            "_model_module_version": "1.2.0",
            "_model_name": "LayoutModel",
            "_view_count": null,
            "_view_module": "@jupyter-widgets/base",
            "_view_module_version": "1.2.0",
            "_view_name": "LayoutView",
            "align_content": null,
            "align_items": null,
            "align_self": null,
            "border": null,
            "bottom": null,
            "display": null,
            "flex": null,
            "flex_flow": null,
            "grid_area": null,
            "grid_auto_columns": null,
            "grid_auto_flow": null,
            "grid_auto_rows": null,
            "grid_column": null,
            "grid_gap": null,
            "grid_row": null,
            "grid_template_areas": null,
            "grid_template_columns": null,
            "grid_template_rows": null,
            "height": null,
            "justify_content": null,
            "justify_items": null,
            "left": null,
            "margin": null,
            "max_height": null,
            "max_width": null,
            "min_height": null,
            "min_width": null,
            "object_fit": null,
            "object_position": null,
            "order": null,
            "overflow": null,
            "overflow_x": null,
            "overflow_y": null,
            "padding": null,
            "right": null,
            "top": null,
            "visibility": null,
            "width": null
          }
        },
        "6ab6a22b0103482f82db6a9d1e7a710e": {
          "model_module": "@jupyter-widgets/controls",
          "model_name": "DescriptionStyleModel",
          "model_module_version": "1.5.0",
          "state": {
            "_model_module": "@jupyter-widgets/controls",
            "_model_module_version": "1.5.0",
            "_model_name": "DescriptionStyleModel",
            "_view_count": null,
            "_view_module": "@jupyter-widgets/base",
            "_view_module_version": "1.2.0",
            "_view_name": "StyleView",
            "description_width": ""
          }
        },
        "5d1dcbd5c229420c8215a76b312c12d7": {
          "model_module": "@jupyter-widgets/controls",
          "model_name": "HBoxModel",
          "model_module_version": "1.5.0",
          "state": {
            "_dom_classes": [],
            "_model_module": "@jupyter-widgets/controls",
            "_model_module_version": "1.5.0",
            "_model_name": "HBoxModel",
            "_view_count": null,
            "_view_module": "@jupyter-widgets/controls",
            "_view_module_version": "1.5.0",
            "_view_name": "HBoxView",
            "box_style": "",
            "children": [
              "IPY_MODEL_2036e922e5e64fd2af64a22e91f01ec8",
              "IPY_MODEL_67f5008dc848490ab3e238613900d5d0",
              "IPY_MODEL_8251f8b6e6a64b03be0d065e1970d03d"
            ],
            "layout": "IPY_MODEL_34397a967a3346069160c423c431243f"
          }
        },
        "2036e922e5e64fd2af64a22e91f01ec8": {
          "model_module": "@jupyter-widgets/controls",
          "model_name": "HTMLModel",
          "model_module_version": "1.5.0",
          "state": {
            "_dom_classes": [],
            "_model_module": "@jupyter-widgets/controls",
            "_model_module_version": "1.5.0",
            "_model_name": "HTMLModel",
            "_view_count": null,
            "_view_module": "@jupyter-widgets/controls",
            "_view_module_version": "1.5.0",
            "_view_name": "HTMLView",
            "description": "",
            "description_tooltip": null,
            "layout": "IPY_MODEL_71c4b4194b0647048fd704c5ded31735",
            "placeholder": "​",
            "style": "IPY_MODEL_6113947abfc940d8b78ea976088b3ea1",
            "value": "Downloading: 100%"
          }
        },
        "67f5008dc848490ab3e238613900d5d0": {
          "model_module": "@jupyter-widgets/controls",
          "model_name": "FloatProgressModel",
          "model_module_version": "1.5.0",
          "state": {
            "_dom_classes": [],
            "_model_module": "@jupyter-widgets/controls",
            "_model_module_version": "1.5.0",
            "_model_name": "FloatProgressModel",
            "_view_count": null,
            "_view_module": "@jupyter-widgets/controls",
            "_view_module_version": "1.5.0",
            "_view_name": "ProgressView",
            "bar_style": "success",
            "description": "",
            "description_tooltip": null,
            "layout": "IPY_MODEL_0dde0dd9f7524293a2f4b22b33025c97",
            "max": 109,
            "min": 0,
            "orientation": "horizontal",
            "style": "IPY_MODEL_95a28ebdcbda4ace90d2a63ce2fd768d",
            "value": 109
          }
        },
        "8251f8b6e6a64b03be0d065e1970d03d": {
          "model_module": "@jupyter-widgets/controls",
          "model_name": "HTMLModel",
          "model_module_version": "1.5.0",
          "state": {
            "_dom_classes": [],
            "_model_module": "@jupyter-widgets/controls",
            "_model_module_version": "1.5.0",
            "_model_name": "HTMLModel",
            "_view_count": null,
            "_view_module": "@jupyter-widgets/controls",
            "_view_module_version": "1.5.0",
            "_view_name": "HTMLView",
            "description": "",
            "description_tooltip": null,
            "layout": "IPY_MODEL_d41745b35ed243dfb0a93228e424f395",
            "placeholder": "​",
            "style": "IPY_MODEL_390bac4d2ab642f6b5983ab7db27ed75",
            "value": " 109/109 [00:00&lt;00:00, 2.17kB/s]"
          }
        },
        "34397a967a3346069160c423c431243f": {
          "model_module": "@jupyter-widgets/base",
          "model_name": "LayoutModel",
          "model_module_version": "1.2.0",
          "state": {
            "_model_module": "@jupyter-widgets/base",
            "_model_module_version": "1.2.0",
            "_model_name": "LayoutModel",
            "_view_count": null,
            "_view_module": "@jupyter-widgets/base",
            "_view_module_version": "1.2.0",
            "_view_name": "LayoutView",
            "align_content": null,
            "align_items": null,
            "align_self": null,
            "border": null,
            "bottom": null,
            "display": null,
            "flex": null,
            "flex_flow": null,
            "grid_area": null,
            "grid_auto_columns": null,
            "grid_auto_flow": null,
            "grid_auto_rows": null,
            "grid_column": null,
            "grid_gap": null,
            "grid_row": null,
            "grid_template_areas": null,
            "grid_template_columns": null,
            "grid_template_rows": null,
            "height": null,
            "justify_content": null,
            "justify_items": null,
            "left": null,
            "margin": null,
            "max_height": null,
            "max_width": null,
            "min_height": null,
            "min_width": null,
            "object_fit": null,
            "object_position": null,
            "order": null,
            "overflow": null,
            "overflow_x": null,
            "overflow_y": null,
            "padding": null,
            "right": null,
            "top": null,
            "visibility": null,
            "width": null
          }
        },
        "71c4b4194b0647048fd704c5ded31735": {
          "model_module": "@jupyter-widgets/base",
          "model_name": "LayoutModel",
          "model_module_version": "1.2.0",
          "state": {
            "_model_module": "@jupyter-widgets/base",
            "_model_module_version": "1.2.0",
            "_model_name": "LayoutModel",
            "_view_count": null,
            "_view_module": "@jupyter-widgets/base",
            "_view_module_version": "1.2.0",
            "_view_name": "LayoutView",
            "align_content": null,
            "align_items": null,
            "align_self": null,
            "border": null,
            "bottom": null,
            "display": null,
            "flex": null,
            "flex_flow": null,
            "grid_area": null,
            "grid_auto_columns": null,
            "grid_auto_flow": null,
            "grid_auto_rows": null,
            "grid_column": null,
            "grid_gap": null,
            "grid_row": null,
            "grid_template_areas": null,
            "grid_template_columns": null,
            "grid_template_rows": null,
            "height": null,
            "justify_content": null,
            "justify_items": null,
            "left": null,
            "margin": null,
            "max_height": null,
            "max_width": null,
            "min_height": null,
            "min_width": null,
            "object_fit": null,
            "object_position": null,
            "order": null,
            "overflow": null,
            "overflow_x": null,
            "overflow_y": null,
            "padding": null,
            "right": null,
            "top": null,
            "visibility": null,
            "width": null
          }
        },
        "6113947abfc940d8b78ea976088b3ea1": {
          "model_module": "@jupyter-widgets/controls",
          "model_name": "DescriptionStyleModel",
          "model_module_version": "1.5.0",
          "state": {
            "_model_module": "@jupyter-widgets/controls",
            "_model_module_version": "1.5.0",
            "_model_name": "DescriptionStyleModel",
            "_view_count": null,
            "_view_module": "@jupyter-widgets/base",
            "_view_module_version": "1.2.0",
            "_view_name": "StyleView",
            "description_width": ""
          }
        },
        "0dde0dd9f7524293a2f4b22b33025c97": {
          "model_module": "@jupyter-widgets/base",
          "model_name": "LayoutModel",
          "model_module_version": "1.2.0",
          "state": {
            "_model_module": "@jupyter-widgets/base",
            "_model_module_version": "1.2.0",
            "_model_name": "LayoutModel",
            "_view_count": null,
            "_view_module": "@jupyter-widgets/base",
            "_view_module_version": "1.2.0",
            "_view_name": "LayoutView",
            "align_content": null,
            "align_items": null,
            "align_self": null,
            "border": null,
            "bottom": null,
            "display": null,
            "flex": null,
            "flex_flow": null,
            "grid_area": null,
            "grid_auto_columns": null,
            "grid_auto_flow": null,
            "grid_auto_rows": null,
            "grid_column": null,
            "grid_gap": null,
            "grid_row": null,
            "grid_template_areas": null,
            "grid_template_columns": null,
            "grid_template_rows": null,
            "height": null,
            "justify_content": null,
            "justify_items": null,
            "left": null,
            "margin": null,
            "max_height": null,
            "max_width": null,
            "min_height": null,
            "min_width": null,
            "object_fit": null,
            "object_position": null,
            "order": null,
            "overflow": null,
            "overflow_x": null,
            "overflow_y": null,
            "padding": null,
            "right": null,
            "top": null,
            "visibility": null,
            "width": null
          }
        },
        "95a28ebdcbda4ace90d2a63ce2fd768d": {
          "model_module": "@jupyter-widgets/controls",
          "model_name": "ProgressStyleModel",
          "model_module_version": "1.5.0",
          "state": {
            "_model_module": "@jupyter-widgets/controls",
            "_model_module_version": "1.5.0",
            "_model_name": "ProgressStyleModel",
            "_view_count": null,
            "_view_module": "@jupyter-widgets/base",
            "_view_module_version": "1.2.0",
            "_view_name": "StyleView",
            "bar_color": null,
            "description_width": ""
          }
        },
        "d41745b35ed243dfb0a93228e424f395": {
          "model_module": "@jupyter-widgets/base",
          "model_name": "LayoutModel",
          "model_module_version": "1.2.0",
          "state": {
            "_model_module": "@jupyter-widgets/base",
            "_model_module_version": "1.2.0",
            "_model_name": "LayoutModel",
            "_view_count": null,
            "_view_module": "@jupyter-widgets/base",
            "_view_module_version": "1.2.0",
            "_view_name": "LayoutView",
            "align_content": null,
            "align_items": null,
            "align_self": null,
            "border": null,
            "bottom": null,
            "display": null,
            "flex": null,
            "flex_flow": null,
            "grid_area": null,
            "grid_auto_columns": null,
            "grid_auto_flow": null,
            "grid_auto_rows": null,
            "grid_column": null,
            "grid_gap": null,
            "grid_row": null,
            "grid_template_areas": null,
            "grid_template_columns": null,
            "grid_template_rows": null,
            "height": null,
            "justify_content": null,
            "justify_items": null,
            "left": null,
            "margin": null,
            "max_height": null,
            "max_width": null,
            "min_height": null,
            "min_width": null,
            "object_fit": null,
            "object_position": null,
            "order": null,
            "overflow": null,
            "overflow_x": null,
            "overflow_y": null,
            "padding": null,
            "right": null,
            "top": null,
            "visibility": null,
            "width": null
          }
        },
        "390bac4d2ab642f6b5983ab7db27ed75": {
          "model_module": "@jupyter-widgets/controls",
          "model_name": "DescriptionStyleModel",
          "model_module_version": "1.5.0",
          "state": {
            "_model_module": "@jupyter-widgets/controls",
            "_model_module_version": "1.5.0",
            "_model_name": "DescriptionStyleModel",
            "_view_count": null,
            "_view_module": "@jupyter-widgets/base",
            "_view_module_version": "1.2.0",
            "_view_name": "StyleView",
            "description_width": ""
          }
        },
        "153982cc02ea4bf3bd85f03d105816fa": {
          "model_module": "@jupyter-widgets/controls",
          "model_name": "HBoxModel",
          "model_module_version": "1.5.0",
          "state": {
            "_dom_classes": [],
            "_model_module": "@jupyter-widgets/controls",
            "_model_module_version": "1.5.0",
            "_model_name": "HBoxModel",
            "_view_count": null,
            "_view_module": "@jupyter-widgets/controls",
            "_view_module_version": "1.5.0",
            "_view_name": "HBoxView",
            "box_style": "",
            "children": [
              "IPY_MODEL_56f64172af4040108160550b7cc88a42",
              "IPY_MODEL_d574402c28a34772964cb9d6d6240461",
              "IPY_MODEL_3e4c7884552a464f9f7d1ea71ed5bf48"
            ],
            "layout": "IPY_MODEL_4d64c9033c554d399f4f8a1d376b0893"
          }
        },
        "56f64172af4040108160550b7cc88a42": {
          "model_module": "@jupyter-widgets/controls",
          "model_name": "HTMLModel",
          "model_module_version": "1.5.0",
          "state": {
            "_dom_classes": [],
            "_model_module": "@jupyter-widgets/controls",
            "_model_module_version": "1.5.0",
            "_model_name": "HTMLModel",
            "_view_count": null,
            "_view_module": "@jupyter-widgets/controls",
            "_view_module_version": "1.5.0",
            "_view_name": "HTMLView",
            "description": "",
            "description_tooltip": null,
            "layout": "IPY_MODEL_773abf240daa48399a4ce0300625efb9",
            "placeholder": "​",
            "style": "IPY_MODEL_5ffbe395168e45b1af51bc56051296a7",
            "value": "Downloading: 100%"
          }
        },
        "d574402c28a34772964cb9d6d6240461": {
          "model_module": "@jupyter-widgets/controls",
          "model_name": "FloatProgressModel",
          "model_module_version": "1.5.0",
          "state": {
            "_dom_classes": [],
            "_model_module": "@jupyter-widgets/controls",
            "_model_module_version": "1.5.0",
            "_model_name": "FloatProgressModel",
            "_view_count": null,
            "_view_module": "@jupyter-widgets/controls",
            "_view_module_version": "1.5.0",
            "_view_name": "ProgressView",
            "bar_style": "success",
            "description": "",
            "description_tooltip": null,
            "layout": "IPY_MODEL_8041668fe2e24c7ab55b07618889cb16",
            "max": 231508,
            "min": 0,
            "orientation": "horizontal",
            "style": "IPY_MODEL_65479cfd222f4384918a1efc1c450c42",
            "value": 231508
          }
        },
        "3e4c7884552a464f9f7d1ea71ed5bf48": {
          "model_module": "@jupyter-widgets/controls",
          "model_name": "HTMLModel",
          "model_module_version": "1.5.0",
          "state": {
            "_dom_classes": [],
            "_model_module": "@jupyter-widgets/controls",
            "_model_module_version": "1.5.0",
            "_model_name": "HTMLModel",
            "_view_count": null,
            "_view_module": "@jupyter-widgets/controls",
            "_view_module_version": "1.5.0",
            "_view_name": "HTMLView",
            "description": "",
            "description_tooltip": null,
            "layout": "IPY_MODEL_bebfb73da75345d98dcd5aeaa554e066",
            "placeholder": "​",
            "style": "IPY_MODEL_4358d7ee05d24d26889ebde0043c0316",
            "value": " 232k/232k [00:00&lt;00:00, 739kB/s]"
          }
        },
        "4d64c9033c554d399f4f8a1d376b0893": {
          "model_module": "@jupyter-widgets/base",
          "model_name": "LayoutModel",
          "model_module_version": "1.2.0",
          "state": {
            "_model_module": "@jupyter-widgets/base",
            "_model_module_version": "1.2.0",
            "_model_name": "LayoutModel",
            "_view_count": null,
            "_view_module": "@jupyter-widgets/base",
            "_view_module_version": "1.2.0",
            "_view_name": "LayoutView",
            "align_content": null,
            "align_items": null,
            "align_self": null,
            "border": null,
            "bottom": null,
            "display": null,
            "flex": null,
            "flex_flow": null,
            "grid_area": null,
            "grid_auto_columns": null,
            "grid_auto_flow": null,
            "grid_auto_rows": null,
            "grid_column": null,
            "grid_gap": null,
            "grid_row": null,
            "grid_template_areas": null,
            "grid_template_columns": null,
            "grid_template_rows": null,
            "height": null,
            "justify_content": null,
            "justify_items": null,
            "left": null,
            "margin": null,
            "max_height": null,
            "max_width": null,
            "min_height": null,
            "min_width": null,
            "object_fit": null,
            "object_position": null,
            "order": null,
            "overflow": null,
            "overflow_x": null,
            "overflow_y": null,
            "padding": null,
            "right": null,
            "top": null,
            "visibility": null,
            "width": null
          }
        },
        "773abf240daa48399a4ce0300625efb9": {
          "model_module": "@jupyter-widgets/base",
          "model_name": "LayoutModel",
          "model_module_version": "1.2.0",
          "state": {
            "_model_module": "@jupyter-widgets/base",
            "_model_module_version": "1.2.0",
            "_model_name": "LayoutModel",
            "_view_count": null,
            "_view_module": "@jupyter-widgets/base",
            "_view_module_version": "1.2.0",
            "_view_name": "LayoutView",
            "align_content": null,
            "align_items": null,
            "align_self": null,
            "border": null,
            "bottom": null,
            "display": null,
            "flex": null,
            "flex_flow": null,
            "grid_area": null,
            "grid_auto_columns": null,
            "grid_auto_flow": null,
            "grid_auto_rows": null,
            "grid_column": null,
            "grid_gap": null,
            "grid_row": null,
            "grid_template_areas": null,
            "grid_template_columns": null,
            "grid_template_rows": null,
            "height": null,
            "justify_content": null,
            "justify_items": null,
            "left": null,
            "margin": null,
            "max_height": null,
            "max_width": null,
            "min_height": null,
            "min_width": null,
            "object_fit": null,
            "object_position": null,
            "order": null,
            "overflow": null,
            "overflow_x": null,
            "overflow_y": null,
            "padding": null,
            "right": null,
            "top": null,
            "visibility": null,
            "width": null
          }
        },
        "5ffbe395168e45b1af51bc56051296a7": {
          "model_module": "@jupyter-widgets/controls",
          "model_name": "DescriptionStyleModel",
          "model_module_version": "1.5.0",
          "state": {
            "_model_module": "@jupyter-widgets/controls",
            "_model_module_version": "1.5.0",
            "_model_name": "DescriptionStyleModel",
            "_view_count": null,
            "_view_module": "@jupyter-widgets/base",
            "_view_module_version": "1.2.0",
            "_view_name": "StyleView",
            "description_width": ""
          }
        },
        "8041668fe2e24c7ab55b07618889cb16": {
          "model_module": "@jupyter-widgets/base",
          "model_name": "LayoutModel",
          "model_module_version": "1.2.0",
          "state": {
            "_model_module": "@jupyter-widgets/base",
            "_model_module_version": "1.2.0",
            "_model_name": "LayoutModel",
            "_view_count": null,
            "_view_module": "@jupyter-widgets/base",
            "_view_module_version": "1.2.0",
            "_view_name": "LayoutView",
            "align_content": null,
            "align_items": null,
            "align_self": null,
            "border": null,
            "bottom": null,
            "display": null,
            "flex": null,
            "flex_flow": null,
            "grid_area": null,
            "grid_auto_columns": null,
            "grid_auto_flow": null,
            "grid_auto_rows": null,
            "grid_column": null,
            "grid_gap": null,
            "grid_row": null,
            "grid_template_areas": null,
            "grid_template_columns": null,
            "grid_template_rows": null,
            "height": null,
            "justify_content": null,
            "justify_items": null,
            "left": null,
            "margin": null,
            "max_height": null,
            "max_width": null,
            "min_height": null,
            "min_width": null,
            "object_fit": null,
            "object_position": null,
            "order": null,
            "overflow": null,
            "overflow_x": null,
            "overflow_y": null,
            "padding": null,
            "right": null,
            "top": null,
            "visibility": null,
            "width": null
          }
        },
        "65479cfd222f4384918a1efc1c450c42": {
          "model_module": "@jupyter-widgets/controls",
          "model_name": "ProgressStyleModel",
          "model_module_version": "1.5.0",
          "state": {
            "_model_module": "@jupyter-widgets/controls",
            "_model_module_version": "1.5.0",
            "_model_name": "ProgressStyleModel",
            "_view_count": null,
            "_view_module": "@jupyter-widgets/base",
            "_view_module_version": "1.2.0",
            "_view_name": "StyleView",
            "bar_color": null,
            "description_width": ""
          }
        },
        "bebfb73da75345d98dcd5aeaa554e066": {
          "model_module": "@jupyter-widgets/base",
          "model_name": "LayoutModel",
          "model_module_version": "1.2.0",
          "state": {
            "_model_module": "@jupyter-widgets/base",
            "_model_module_version": "1.2.0",
            "_model_name": "LayoutModel",
            "_view_count": null,
            "_view_module": "@jupyter-widgets/base",
            "_view_module_version": "1.2.0",
            "_view_name": "LayoutView",
            "align_content": null,
            "align_items": null,
            "align_self": null,
            "border": null,
            "bottom": null,
            "display": null,
            "flex": null,
            "flex_flow": null,
            "grid_area": null,
            "grid_auto_columns": null,
            "grid_auto_flow": null,
            "grid_auto_rows": null,
            "grid_column": null,
            "grid_gap": null,
            "grid_row": null,
            "grid_template_areas": null,
            "grid_template_columns": null,
            "grid_template_rows": null,
            "height": null,
            "justify_content": null,
            "justify_items": null,
            "left": null,
            "margin": null,
            "max_height": null,
            "max_width": null,
            "min_height": null,
            "min_width": null,
            "object_fit": null,
            "object_position": null,
            "order": null,
            "overflow": null,
            "overflow_x": null,
            "overflow_y": null,
            "padding": null,
            "right": null,
            "top": null,
            "visibility": null,
            "width": null
          }
        },
        "4358d7ee05d24d26889ebde0043c0316": {
          "model_module": "@jupyter-widgets/controls",
          "model_name": "DescriptionStyleModel",
          "model_module_version": "1.5.0",
          "state": {
            "_model_module": "@jupyter-widgets/controls",
            "_model_module_version": "1.5.0",
            "_model_name": "DescriptionStyleModel",
            "_view_count": null,
            "_view_module": "@jupyter-widgets/base",
            "_view_module_version": "1.2.0",
            "_view_name": "StyleView",
            "description_width": ""
          }
        },
        "ff3760e712fb41b9967d2a87e19274aa": {
          "model_module": "@jupyter-widgets/controls",
          "model_name": "HBoxModel",
          "model_module_version": "1.5.0",
          "state": {
            "_dom_classes": [],
            "_model_module": "@jupyter-widgets/controls",
            "_model_module_version": "1.5.0",
            "_model_name": "HBoxModel",
            "_view_count": null,
            "_view_module": "@jupyter-widgets/controls",
            "_view_module_version": "1.5.0",
            "_view_name": "HBoxView",
            "box_style": "",
            "children": [
              "IPY_MODEL_67bea5204df642feb63318a9f330a207",
              "IPY_MODEL_516a8c73042c45ceafc29297fc0c1cb7",
              "IPY_MODEL_586c18ebf20544f69bf3c2666483f81d"
            ],
            "layout": "IPY_MODEL_8967e816f2d94b2d9b5ad4967b6abcef"
          }
        },
        "67bea5204df642feb63318a9f330a207": {
          "model_module": "@jupyter-widgets/controls",
          "model_name": "HTMLModel",
          "model_module_version": "1.5.0",
          "state": {
            "_dom_classes": [],
            "_model_module": "@jupyter-widgets/controls",
            "_model_module_version": "1.5.0",
            "_model_name": "HTMLModel",
            "_view_count": null,
            "_view_module": "@jupyter-widgets/controls",
            "_view_module_version": "1.5.0",
            "_view_name": "HTMLView",
            "description": "",
            "description_tooltip": null,
            "layout": "IPY_MODEL_5ad72d32187e42e888c062e250d008a1",
            "placeholder": "​",
            "style": "IPY_MODEL_306eef5982e74a5f94587c5d7716948f",
            "value": "Downloading: 100%"
          }
        },
        "516a8c73042c45ceafc29297fc0c1cb7": {
          "model_module": "@jupyter-widgets/controls",
          "model_name": "FloatProgressModel",
          "model_module_version": "1.5.0",
          "state": {
            "_dom_classes": [],
            "_model_module": "@jupyter-widgets/controls",
            "_model_module_version": "1.5.0",
            "_model_name": "FloatProgressModel",
            "_view_count": null,
            "_view_module": "@jupyter-widgets/controls",
            "_view_module_version": "1.5.0",
            "_view_name": "ProgressView",
            "bar_style": "success",
            "description": "",
            "description_tooltip": null,
            "layout": "IPY_MODEL_17ffeb0d39284eb79e15e78a71bafe21",
            "max": 28,
            "min": 0,
            "orientation": "horizontal",
            "style": "IPY_MODEL_1092f08cea5f4878bfabf5cda376392c",
            "value": 28
          }
        },
        "586c18ebf20544f69bf3c2666483f81d": {
          "model_module": "@jupyter-widgets/controls",
          "model_name": "HTMLModel",
          "model_module_version": "1.5.0",
          "state": {
            "_dom_classes": [],
            "_model_module": "@jupyter-widgets/controls",
            "_model_module_version": "1.5.0",
            "_model_name": "HTMLModel",
            "_view_count": null,
            "_view_module": "@jupyter-widgets/controls",
            "_view_module_version": "1.5.0",
            "_view_name": "HTMLView",
            "description": "",
            "description_tooltip": null,
            "layout": "IPY_MODEL_384d2e7599e24c18b58a05d6dfea068c",
            "placeholder": "​",
            "style": "IPY_MODEL_2b2d3c69be0b405d91cdded7c62f89ca",
            "value": " 28.0/28.0 [00:00&lt;00:00, 852B/s]"
          }
        },
        "8967e816f2d94b2d9b5ad4967b6abcef": {
          "model_module": "@jupyter-widgets/base",
          "model_name": "LayoutModel",
          "model_module_version": "1.2.0",
          "state": {
            "_model_module": "@jupyter-widgets/base",
            "_model_module_version": "1.2.0",
            "_model_name": "LayoutModel",
            "_view_count": null,
            "_view_module": "@jupyter-widgets/base",
            "_view_module_version": "1.2.0",
            "_view_name": "LayoutView",
            "align_content": null,
            "align_items": null,
            "align_self": null,
            "border": null,
            "bottom": null,
            "display": null,
            "flex": null,
            "flex_flow": null,
            "grid_area": null,
            "grid_auto_columns": null,
            "grid_auto_flow": null,
            "grid_auto_rows": null,
            "grid_column": null,
            "grid_gap": null,
            "grid_row": null,
            "grid_template_areas": null,
            "grid_template_columns": null,
            "grid_template_rows": null,
            "height": null,
            "justify_content": null,
            "justify_items": null,
            "left": null,
            "margin": null,
            "max_height": null,
            "max_width": null,
            "min_height": null,
            "min_width": null,
            "object_fit": null,
            "object_position": null,
            "order": null,
            "overflow": null,
            "overflow_x": null,
            "overflow_y": null,
            "padding": null,
            "right": null,
            "top": null,
            "visibility": null,
            "width": null
          }
        },
        "5ad72d32187e42e888c062e250d008a1": {
          "model_module": "@jupyter-widgets/base",
          "model_name": "LayoutModel",
          "model_module_version": "1.2.0",
          "state": {
            "_model_module": "@jupyter-widgets/base",
            "_model_module_version": "1.2.0",
            "_model_name": "LayoutModel",
            "_view_count": null,
            "_view_module": "@jupyter-widgets/base",
            "_view_module_version": "1.2.0",
            "_view_name": "LayoutView",
            "align_content": null,
            "align_items": null,
            "align_self": null,
            "border": null,
            "bottom": null,
            "display": null,
            "flex": null,
            "flex_flow": null,
            "grid_area": null,
            "grid_auto_columns": null,
            "grid_auto_flow": null,
            "grid_auto_rows": null,
            "grid_column": null,
            "grid_gap": null,
            "grid_row": null,
            "grid_template_areas": null,
            "grid_template_columns": null,
            "grid_template_rows": null,
            "height": null,
            "justify_content": null,
            "justify_items": null,
            "left": null,
            "margin": null,
            "max_height": null,
            "max_width": null,
            "min_height": null,
            "min_width": null,
            "object_fit": null,
            "object_position": null,
            "order": null,
            "overflow": null,
            "overflow_x": null,
            "overflow_y": null,
            "padding": null,
            "right": null,
            "top": null,
            "visibility": null,
            "width": null
          }
        },
        "306eef5982e74a5f94587c5d7716948f": {
          "model_module": "@jupyter-widgets/controls",
          "model_name": "DescriptionStyleModel",
          "model_module_version": "1.5.0",
          "state": {
            "_model_module": "@jupyter-widgets/controls",
            "_model_module_version": "1.5.0",
            "_model_name": "DescriptionStyleModel",
            "_view_count": null,
            "_view_module": "@jupyter-widgets/base",
            "_view_module_version": "1.2.0",
            "_view_name": "StyleView",
            "description_width": ""
          }
        },
        "17ffeb0d39284eb79e15e78a71bafe21": {
          "model_module": "@jupyter-widgets/base",
          "model_name": "LayoutModel",
          "model_module_version": "1.2.0",
          "state": {
            "_model_module": "@jupyter-widgets/base",
            "_model_module_version": "1.2.0",
            "_model_name": "LayoutModel",
            "_view_count": null,
            "_view_module": "@jupyter-widgets/base",
            "_view_module_version": "1.2.0",
            "_view_name": "LayoutView",
            "align_content": null,
            "align_items": null,
            "align_self": null,
            "border": null,
            "bottom": null,
            "display": null,
            "flex": null,
            "flex_flow": null,
            "grid_area": null,
            "grid_auto_columns": null,
            "grid_auto_flow": null,
            "grid_auto_rows": null,
            "grid_column": null,
            "grid_gap": null,
            "grid_row": null,
            "grid_template_areas": null,
            "grid_template_columns": null,
            "grid_template_rows": null,
            "height": null,
            "justify_content": null,
            "justify_items": null,
            "left": null,
            "margin": null,
            "max_height": null,
            "max_width": null,
            "min_height": null,
            "min_width": null,
            "object_fit": null,
            "object_position": null,
            "order": null,
            "overflow": null,
            "overflow_x": null,
            "overflow_y": null,
            "padding": null,
            "right": null,
            "top": null,
            "visibility": null,
            "width": null
          }
        },
        "1092f08cea5f4878bfabf5cda376392c": {
          "model_module": "@jupyter-widgets/controls",
          "model_name": "ProgressStyleModel",
          "model_module_version": "1.5.0",
          "state": {
            "_model_module": "@jupyter-widgets/controls",
            "_model_module_version": "1.5.0",
            "_model_name": "ProgressStyleModel",
            "_view_count": null,
            "_view_module": "@jupyter-widgets/base",
            "_view_module_version": "1.2.0",
            "_view_name": "StyleView",
            "bar_color": null,
            "description_width": ""
          }
        },
        "384d2e7599e24c18b58a05d6dfea068c": {
          "model_module": "@jupyter-widgets/base",
          "model_name": "LayoutModel",
          "model_module_version": "1.2.0",
          "state": {
            "_model_module": "@jupyter-widgets/base",
            "_model_module_version": "1.2.0",
            "_model_name": "LayoutModel",
            "_view_count": null,
            "_view_module": "@jupyter-widgets/base",
            "_view_module_version": "1.2.0",
            "_view_name": "LayoutView",
            "align_content": null,
            "align_items": null,
            "align_self": null,
            "border": null,
            "bottom": null,
            "display": null,
            "flex": null,
            "flex_flow": null,
            "grid_area": null,
            "grid_auto_columns": null,
            "grid_auto_flow": null,
            "grid_auto_rows": null,
            "grid_column": null,
            "grid_gap": null,
            "grid_row": null,
            "grid_template_areas": null,
            "grid_template_columns": null,
            "grid_template_rows": null,
            "height": null,
            "justify_content": null,
            "justify_items": null,
            "left": null,
            "margin": null,
            "max_height": null,
            "max_width": null,
            "min_height": null,
            "min_width": null,
            "object_fit": null,
            "object_position": null,
            "order": null,
            "overflow": null,
            "overflow_x": null,
            "overflow_y": null,
            "padding": null,
            "right": null,
            "top": null,
            "visibility": null,
            "width": null
          }
        },
        "2b2d3c69be0b405d91cdded7c62f89ca": {
          "model_module": "@jupyter-widgets/controls",
          "model_name": "DescriptionStyleModel",
          "model_module_version": "1.5.0",
          "state": {
            "_model_module": "@jupyter-widgets/controls",
            "_model_module_version": "1.5.0",
            "_model_name": "DescriptionStyleModel",
            "_view_count": null,
            "_view_module": "@jupyter-widgets/base",
            "_view_module_version": "1.2.0",
            "_view_name": "StyleView",
            "description_width": ""
          }
        },
        "c515d8107d4846f1a63dab83afce782f": {
          "model_module": "@jupyter-widgets/controls",
          "model_name": "HBoxModel",
          "model_module_version": "1.5.0",
          "state": {
            "_dom_classes": [],
            "_model_module": "@jupyter-widgets/controls",
            "_model_module_version": "1.5.0",
            "_model_name": "HBoxModel",
            "_view_count": null,
            "_view_module": "@jupyter-widgets/controls",
            "_view_module_version": "1.5.0",
            "_view_name": "HBoxView",
            "box_style": "",
            "children": [
              "IPY_MODEL_98083a5066b843d29edc17dea207c0fc",
              "IPY_MODEL_9a5ee436010c45ec870bd0641b4d4e78",
              "IPY_MODEL_1b8b374382e74d38811e7df2d2abeb3f"
            ],
            "layout": "IPY_MODEL_c9210210bdc54545af3e3a28f0a1a45c"
          }
        },
        "98083a5066b843d29edc17dea207c0fc": {
          "model_module": "@jupyter-widgets/controls",
          "model_name": "HTMLModel",
          "model_module_version": "1.5.0",
          "state": {
            "_dom_classes": [],
            "_model_module": "@jupyter-widgets/controls",
            "_model_module_version": "1.5.0",
            "_model_name": "HTMLModel",
            "_view_count": null,
            "_view_module": "@jupyter-widgets/controls",
            "_view_module_version": "1.5.0",
            "_view_name": "HTMLView",
            "description": "",
            "description_tooltip": null,
            "layout": "IPY_MODEL_b35c88d0547949df860019f94bb5b293",
            "placeholder": "​",
            "style": "IPY_MODEL_81d2c04a8ddf4ec38cef0d4652d847b9",
            "value": "Downloading: 100%"
          }
        },
        "9a5ee436010c45ec870bd0641b4d4e78": {
          "model_module": "@jupyter-widgets/controls",
          "model_name": "FloatProgressModel",
          "model_module_version": "1.5.0",
          "state": {
            "_dom_classes": [],
            "_model_module": "@jupyter-widgets/controls",
            "_model_module_version": "1.5.0",
            "_model_name": "FloatProgressModel",
            "_view_count": null,
            "_view_module": "@jupyter-widgets/controls",
            "_view_module_version": "1.5.0",
            "_view_name": "ProgressView",
            "bar_style": "success",
            "description": "",
            "description_tooltip": null,
            "layout": "IPY_MODEL_b0bfc0b9087d4fd8bab2105bd4cc31fb",
            "max": 570,
            "min": 0,
            "orientation": "horizontal",
            "style": "IPY_MODEL_c4c92fba6500485481cdbf6193c00300",
            "value": 570
          }
        },
        "1b8b374382e74d38811e7df2d2abeb3f": {
          "model_module": "@jupyter-widgets/controls",
          "model_name": "HTMLModel",
          "model_module_version": "1.5.0",
          "state": {
            "_dom_classes": [],
            "_model_module": "@jupyter-widgets/controls",
            "_model_module_version": "1.5.0",
            "_model_name": "HTMLModel",
            "_view_count": null,
            "_view_module": "@jupyter-widgets/controls",
            "_view_module_version": "1.5.0",
            "_view_name": "HTMLView",
            "description": "",
            "description_tooltip": null,
            "layout": "IPY_MODEL_b8b9ac82bb2647e88247a5305b73a561",
            "placeholder": "​",
            "style": "IPY_MODEL_356a4626e87144d0990ada6bdc4f0afe",
            "value": " 570/570 [00:00&lt;00:00, 11.5kB/s]"
          }
        },
        "c9210210bdc54545af3e3a28f0a1a45c": {
          "model_module": "@jupyter-widgets/base",
          "model_name": "LayoutModel",
          "model_module_version": "1.2.0",
          "state": {
            "_model_module": "@jupyter-widgets/base",
            "_model_module_version": "1.2.0",
            "_model_name": "LayoutModel",
            "_view_count": null,
            "_view_module": "@jupyter-widgets/base",
            "_view_module_version": "1.2.0",
            "_view_name": "LayoutView",
            "align_content": null,
            "align_items": null,
            "align_self": null,
            "border": null,
            "bottom": null,
            "display": null,
            "flex": null,
            "flex_flow": null,
            "grid_area": null,
            "grid_auto_columns": null,
            "grid_auto_flow": null,
            "grid_auto_rows": null,
            "grid_column": null,
            "grid_gap": null,
            "grid_row": null,
            "grid_template_areas": null,
            "grid_template_columns": null,
            "grid_template_rows": null,
            "height": null,
            "justify_content": null,
            "justify_items": null,
            "left": null,
            "margin": null,
            "max_height": null,
            "max_width": null,
            "min_height": null,
            "min_width": null,
            "object_fit": null,
            "object_position": null,
            "order": null,
            "overflow": null,
            "overflow_x": null,
            "overflow_y": null,
            "padding": null,
            "right": null,
            "top": null,
            "visibility": null,
            "width": null
          }
        },
        "b35c88d0547949df860019f94bb5b293": {
          "model_module": "@jupyter-widgets/base",
          "model_name": "LayoutModel",
          "model_module_version": "1.2.0",
          "state": {
            "_model_module": "@jupyter-widgets/base",
            "_model_module_version": "1.2.0",
            "_model_name": "LayoutModel",
            "_view_count": null,
            "_view_module": "@jupyter-widgets/base",
            "_view_module_version": "1.2.0",
            "_view_name": "LayoutView",
            "align_content": null,
            "align_items": null,
            "align_self": null,
            "border": null,
            "bottom": null,
            "display": null,
            "flex": null,
            "flex_flow": null,
            "grid_area": null,
            "grid_auto_columns": null,
            "grid_auto_flow": null,
            "grid_auto_rows": null,
            "grid_column": null,
            "grid_gap": null,
            "grid_row": null,
            "grid_template_areas": null,
            "grid_template_columns": null,
            "grid_template_rows": null,
            "height": null,
            "justify_content": null,
            "justify_items": null,
            "left": null,
            "margin": null,
            "max_height": null,
            "max_width": null,
            "min_height": null,
            "min_width": null,
            "object_fit": null,
            "object_position": null,
            "order": null,
            "overflow": null,
            "overflow_x": null,
            "overflow_y": null,
            "padding": null,
            "right": null,
            "top": null,
            "visibility": null,
            "width": null
          }
        },
        "81d2c04a8ddf4ec38cef0d4652d847b9": {
          "model_module": "@jupyter-widgets/controls",
          "model_name": "DescriptionStyleModel",
          "model_module_version": "1.5.0",
          "state": {
            "_model_module": "@jupyter-widgets/controls",
            "_model_module_version": "1.5.0",
            "_model_name": "DescriptionStyleModel",
            "_view_count": null,
            "_view_module": "@jupyter-widgets/base",
            "_view_module_version": "1.2.0",
            "_view_name": "StyleView",
            "description_width": ""
          }
        },
        "b0bfc0b9087d4fd8bab2105bd4cc31fb": {
          "model_module": "@jupyter-widgets/base",
          "model_name": "LayoutModel",
          "model_module_version": "1.2.0",
          "state": {
            "_model_module": "@jupyter-widgets/base",
            "_model_module_version": "1.2.0",
            "_model_name": "LayoutModel",
            "_view_count": null,
            "_view_module": "@jupyter-widgets/base",
            "_view_module_version": "1.2.0",
            "_view_name": "LayoutView",
            "align_content": null,
            "align_items": null,
            "align_self": null,
            "border": null,
            "bottom": null,
            "display": null,
            "flex": null,
            "flex_flow": null,
            "grid_area": null,
            "grid_auto_columns": null,
            "grid_auto_flow": null,
            "grid_auto_rows": null,
            "grid_column": null,
            "grid_gap": null,
            "grid_row": null,
            "grid_template_areas": null,
            "grid_template_columns": null,
            "grid_template_rows": null,
            "height": null,
            "justify_content": null,
            "justify_items": null,
            "left": null,
            "margin": null,
            "max_height": null,
            "max_width": null,
            "min_height": null,
            "min_width": null,
            "object_fit": null,
            "object_position": null,
            "order": null,
            "overflow": null,
            "overflow_x": null,
            "overflow_y": null,
            "padding": null,
            "right": null,
            "top": null,
            "visibility": null,
            "width": null
          }
        },
        "c4c92fba6500485481cdbf6193c00300": {
          "model_module": "@jupyter-widgets/controls",
          "model_name": "ProgressStyleModel",
          "model_module_version": "1.5.0",
          "state": {
            "_model_module": "@jupyter-widgets/controls",
            "_model_module_version": "1.5.0",
            "_model_name": "ProgressStyleModel",
            "_view_count": null,
            "_view_module": "@jupyter-widgets/base",
            "_view_module_version": "1.2.0",
            "_view_name": "StyleView",
            "bar_color": null,
            "description_width": ""
          }
        },
        "b8b9ac82bb2647e88247a5305b73a561": {
          "model_module": "@jupyter-widgets/base",
          "model_name": "LayoutModel",
          "model_module_version": "1.2.0",
          "state": {
            "_model_module": "@jupyter-widgets/base",
            "_model_module_version": "1.2.0",
            "_model_name": "LayoutModel",
            "_view_count": null,
            "_view_module": "@jupyter-widgets/base",
            "_view_module_version": "1.2.0",
            "_view_name": "LayoutView",
            "align_content": null,
            "align_items": null,
            "align_self": null,
            "border": null,
            "bottom": null,
            "display": null,
            "flex": null,
            "flex_flow": null,
            "grid_area": null,
            "grid_auto_columns": null,
            "grid_auto_flow": null,
            "grid_auto_rows": null,
            "grid_column": null,
            "grid_gap": null,
            "grid_row": null,
            "grid_template_areas": null,
            "grid_template_columns": null,
            "grid_template_rows": null,
            "height": null,
            "justify_content": null,
            "justify_items": null,
            "left": null,
            "margin": null,
            "max_height": null,
            "max_width": null,
            "min_height": null,
            "min_width": null,
            "object_fit": null,
            "object_position": null,
            "order": null,
            "overflow": null,
            "overflow_x": null,
            "overflow_y": null,
            "padding": null,
            "right": null,
            "top": null,
            "visibility": null,
            "width": null
          }
        },
        "356a4626e87144d0990ada6bdc4f0afe": {
          "model_module": "@jupyter-widgets/controls",
          "model_name": "DescriptionStyleModel",
          "model_module_version": "1.5.0",
          "state": {
            "_model_module": "@jupyter-widgets/controls",
            "_model_module_version": "1.5.0",
            "_model_name": "DescriptionStyleModel",
            "_view_count": null,
            "_view_module": "@jupyter-widgets/base",
            "_view_module_version": "1.2.0",
            "_view_name": "StyleView",
            "description_width": ""
          }
        },
        "07a9c54c8ff04b48abde09a8eff08378": {
          "model_module": "@jupyter-widgets/controls",
          "model_name": "HBoxModel",
          "model_module_version": "1.5.0",
          "state": {
            "_dom_classes": [],
            "_model_module": "@jupyter-widgets/controls",
            "_model_module_version": "1.5.0",
            "_model_name": "HBoxModel",
            "_view_count": null,
            "_view_module": "@jupyter-widgets/controls",
            "_view_module_version": "1.5.0",
            "_view_name": "HBoxView",
            "box_style": "",
            "children": [
              "IPY_MODEL_5985750ecf9c4268b6367da883fad96c",
              "IPY_MODEL_1b49abdf4f8b4ed0a4eb5a3c0372e5dd",
              "IPY_MODEL_a834ba14da9640098a192e46be286448"
            ],
            "layout": "IPY_MODEL_51c7e5478e894cd186973d1db912c8d7"
          }
        },
        "5985750ecf9c4268b6367da883fad96c": {
          "model_module": "@jupyter-widgets/controls",
          "model_name": "HTMLModel",
          "model_module_version": "1.5.0",
          "state": {
            "_dom_classes": [],
            "_model_module": "@jupyter-widgets/controls",
            "_model_module_version": "1.5.0",
            "_model_name": "HTMLModel",
            "_view_count": null,
            "_view_module": "@jupyter-widgets/controls",
            "_view_module_version": "1.5.0",
            "_view_name": "HTMLView",
            "description": "",
            "description_tooltip": null,
            "layout": "IPY_MODEL_ee6561a57c5b4f6eb5f1bcbf9513dab9",
            "placeholder": "​",
            "style": "IPY_MODEL_b1a3538ff8614a40b29a374b012a633a",
            "value": "100%"
          }
        },
        "1b49abdf4f8b4ed0a4eb5a3c0372e5dd": {
          "model_module": "@jupyter-widgets/controls",
          "model_name": "FloatProgressModel",
          "model_module_version": "1.5.0",
          "state": {
            "_dom_classes": [],
            "_model_module": "@jupyter-widgets/controls",
            "_model_module_version": "1.5.0",
            "_model_name": "FloatProgressModel",
            "_view_count": null,
            "_view_module": "@jupyter-widgets/controls",
            "_view_module_version": "1.5.0",
            "_view_name": "ProgressView",
            "bar_style": "success",
            "description": "",
            "description_tooltip": null,
            "layout": "IPY_MODEL_af5af7a4afb2475592f5973453065996",
            "max": 102502400,
            "min": 0,
            "orientation": "horizontal",
            "style": "IPY_MODEL_e390517705a9486e84cbad9306ce6df7",
            "value": 102502400
          }
        },
        "a834ba14da9640098a192e46be286448": {
          "model_module": "@jupyter-widgets/controls",
          "model_name": "HTMLModel",
          "model_module_version": "1.5.0",
          "state": {
            "_dom_classes": [],
            "_model_module": "@jupyter-widgets/controls",
            "_model_module_version": "1.5.0",
            "_model_name": "HTMLModel",
            "_view_count": null,
            "_view_module": "@jupyter-widgets/controls",
            "_view_module_version": "1.5.0",
            "_view_name": "HTMLView",
            "description": "",
            "description_tooltip": null,
            "layout": "IPY_MODEL_fa2ab813f42746c3867f4934a1eb2f30",
            "placeholder": "​",
            "style": "IPY_MODEL_0498453c8be644388d27ed432027222a",
            "value": " 97.8M/97.8M [00:01&lt;00:00, 64.4MB/s]"
          }
        },
        "51c7e5478e894cd186973d1db912c8d7": {
          "model_module": "@jupyter-widgets/base",
          "model_name": "LayoutModel",
          "model_module_version": "1.2.0",
          "state": {
            "_model_module": "@jupyter-widgets/base",
            "_model_module_version": "1.2.0",
            "_model_name": "LayoutModel",
            "_view_count": null,
            "_view_module": "@jupyter-widgets/base",
            "_view_module_version": "1.2.0",
            "_view_name": "LayoutView",
            "align_content": null,
            "align_items": null,
            "align_self": null,
            "border": null,
            "bottom": null,
            "display": null,
            "flex": null,
            "flex_flow": null,
            "grid_area": null,
            "grid_auto_columns": null,
            "grid_auto_flow": null,
            "grid_auto_rows": null,
            "grid_column": null,
            "grid_gap": null,
            "grid_row": null,
            "grid_template_areas": null,
            "grid_template_columns": null,
            "grid_template_rows": null,
            "height": null,
            "justify_content": null,
            "justify_items": null,
            "left": null,
            "margin": null,
            "max_height": null,
            "max_width": null,
            "min_height": null,
            "min_width": null,
            "object_fit": null,
            "object_position": null,
            "order": null,
            "overflow": null,
            "overflow_x": null,
            "overflow_y": null,
            "padding": null,
            "right": null,
            "top": null,
            "visibility": null,
            "width": null
          }
        },
        "ee6561a57c5b4f6eb5f1bcbf9513dab9": {
          "model_module": "@jupyter-widgets/base",
          "model_name": "LayoutModel",
          "model_module_version": "1.2.0",
          "state": {
            "_model_module": "@jupyter-widgets/base",
            "_model_module_version": "1.2.0",
            "_model_name": "LayoutModel",
            "_view_count": null,
            "_view_module": "@jupyter-widgets/base",
            "_view_module_version": "1.2.0",
            "_view_name": "LayoutView",
            "align_content": null,
            "align_items": null,
            "align_self": null,
            "border": null,
            "bottom": null,
            "display": null,
            "flex": null,
            "flex_flow": null,
            "grid_area": null,
            "grid_auto_columns": null,
            "grid_auto_flow": null,
            "grid_auto_rows": null,
            "grid_column": null,
            "grid_gap": null,
            "grid_row": null,
            "grid_template_areas": null,
            "grid_template_columns": null,
            "grid_template_rows": null,
            "height": null,
            "justify_content": null,
            "justify_items": null,
            "left": null,
            "margin": null,
            "max_height": null,
            "max_width": null,
            "min_height": null,
            "min_width": null,
            "object_fit": null,
            "object_position": null,
            "order": null,
            "overflow": null,
            "overflow_x": null,
            "overflow_y": null,
            "padding": null,
            "right": null,
            "top": null,
            "visibility": null,
            "width": null
          }
        },
        "b1a3538ff8614a40b29a374b012a633a": {
          "model_module": "@jupyter-widgets/controls",
          "model_name": "DescriptionStyleModel",
          "model_module_version": "1.5.0",
          "state": {
            "_model_module": "@jupyter-widgets/controls",
            "_model_module_version": "1.5.0",
            "_model_name": "DescriptionStyleModel",
            "_view_count": null,
            "_view_module": "@jupyter-widgets/base",
            "_view_module_version": "1.2.0",
            "_view_name": "StyleView",
            "description_width": ""
          }
        },
        "af5af7a4afb2475592f5973453065996": {
          "model_module": "@jupyter-widgets/base",
          "model_name": "LayoutModel",
          "model_module_version": "1.2.0",
          "state": {
            "_model_module": "@jupyter-widgets/base",
            "_model_module_version": "1.2.0",
            "_model_name": "LayoutModel",
            "_view_count": null,
            "_view_module": "@jupyter-widgets/base",
            "_view_module_version": "1.2.0",
            "_view_name": "LayoutView",
            "align_content": null,
            "align_items": null,
            "align_self": null,
            "border": null,
            "bottom": null,
            "display": null,
            "flex": null,
            "flex_flow": null,
            "grid_area": null,
            "grid_auto_columns": null,
            "grid_auto_flow": null,
            "grid_auto_rows": null,
            "grid_column": null,
            "grid_gap": null,
            "grid_row": null,
            "grid_template_areas": null,
            "grid_template_columns": null,
            "grid_template_rows": null,
            "height": null,
            "justify_content": null,
            "justify_items": null,
            "left": null,
            "margin": null,
            "max_height": null,
            "max_width": null,
            "min_height": null,
            "min_width": null,
            "object_fit": null,
            "object_position": null,
            "order": null,
            "overflow": null,
            "overflow_x": null,
            "overflow_y": null,
            "padding": null,
            "right": null,
            "top": null,
            "visibility": null,
            "width": null
          }
        },
        "e390517705a9486e84cbad9306ce6df7": {
          "model_module": "@jupyter-widgets/controls",
          "model_name": "ProgressStyleModel",
          "model_module_version": "1.5.0",
          "state": {
            "_model_module": "@jupyter-widgets/controls",
            "_model_module_version": "1.5.0",
            "_model_name": "ProgressStyleModel",
            "_view_count": null,
            "_view_module": "@jupyter-widgets/base",
            "_view_module_version": "1.2.0",
            "_view_name": "StyleView",
            "bar_color": null,
            "description_width": ""
          }
        },
        "fa2ab813f42746c3867f4934a1eb2f30": {
          "model_module": "@jupyter-widgets/base",
          "model_name": "LayoutModel",
          "model_module_version": "1.2.0",
          "state": {
            "_model_module": "@jupyter-widgets/base",
            "_model_module_version": "1.2.0",
            "_model_name": "LayoutModel",
            "_view_count": null,
            "_view_module": "@jupyter-widgets/base",
            "_view_module_version": "1.2.0",
            "_view_name": "LayoutView",
            "align_content": null,
            "align_items": null,
            "align_self": null,
            "border": null,
            "bottom": null,
            "display": null,
            "flex": null,
            "flex_flow": null,
            "grid_area": null,
            "grid_auto_columns": null,
            "grid_auto_flow": null,
            "grid_auto_rows": null,
            "grid_column": null,
            "grid_gap": null,
            "grid_row": null,
            "grid_template_areas": null,
            "grid_template_columns": null,
            "grid_template_rows": null,
            "height": null,
            "justify_content": null,
            "justify_items": null,
            "left": null,
            "margin": null,
            "max_height": null,
            "max_width": null,
            "min_height": null,
            "min_width": null,
            "object_fit": null,
            "object_position": null,
            "order": null,
            "overflow": null,
            "overflow_x": null,
            "overflow_y": null,
            "padding": null,
            "right": null,
            "top": null,
            "visibility": null,
            "width": null
          }
        },
        "0498453c8be644388d27ed432027222a": {
          "model_module": "@jupyter-widgets/controls",
          "model_name": "DescriptionStyleModel",
          "model_module_version": "1.5.0",
          "state": {
            "_model_module": "@jupyter-widgets/controls",
            "_model_module_version": "1.5.0",
            "_model_name": "DescriptionStyleModel",
            "_view_count": null,
            "_view_module": "@jupyter-widgets/base",
            "_view_module_version": "1.2.0",
            "_view_name": "StyleView",
            "description_width": ""
          }
        },
        "4913c7f79d5c48549236fef7111d6a3f": {
          "model_module": "@jupyter-widgets/controls",
          "model_name": "HBoxModel",
          "model_module_version": "1.5.0",
          "state": {
            "_dom_classes": [],
            "_model_module": "@jupyter-widgets/controls",
            "_model_module_version": "1.5.0",
            "_model_name": "HBoxModel",
            "_view_count": null,
            "_view_module": "@jupyter-widgets/controls",
            "_view_module_version": "1.5.0",
            "_view_name": "HBoxView",
            "box_style": "",
            "children": [
              "IPY_MODEL_367e24fa81cc4051831a1f9851668db5",
              "IPY_MODEL_476f1077e37e4ceb9eaa2c19b4e0a121",
              "IPY_MODEL_333c816bbb824b7489c16aca899aebbb"
            ],
            "layout": "IPY_MODEL_00da0878c02a4e7c93f03e51aa6760ab"
          }
        },
        "367e24fa81cc4051831a1f9851668db5": {
          "model_module": "@jupyter-widgets/controls",
          "model_name": "HTMLModel",
          "model_module_version": "1.5.0",
          "state": {
            "_dom_classes": [],
            "_model_module": "@jupyter-widgets/controls",
            "_model_module_version": "1.5.0",
            "_model_name": "HTMLModel",
            "_view_count": null,
            "_view_module": "@jupyter-widgets/controls",
            "_view_module_version": "1.5.0",
            "_view_name": "HTMLView",
            "description": "",
            "description_tooltip": null,
            "layout": "IPY_MODEL_2bb6d6f1997e4dad967237db9fa17d93",
            "placeholder": "​",
            "style": "IPY_MODEL_b8bb8b5470394a84bff6990ff8d5470a",
            "value": "100%"
          }
        },
        "476f1077e37e4ceb9eaa2c19b4e0a121": {
          "model_module": "@jupyter-widgets/controls",
          "model_name": "FloatProgressModel",
          "model_module_version": "1.5.0",
          "state": {
            "_dom_classes": [],
            "_model_module": "@jupyter-widgets/controls",
            "_model_module_version": "1.5.0",
            "_model_name": "FloatProgressModel",
            "_view_count": null,
            "_view_module": "@jupyter-widgets/controls",
            "_view_module_version": "1.5.0",
            "_view_name": "ProgressView",
            "bar_style": "success",
            "description": "",
            "description_tooltip": null,
            "layout": "IPY_MODEL_ad25aa82d9e148fabf821cc70f87aceb",
            "max": 166618694,
            "min": 0,
            "orientation": "horizontal",
            "style": "IPY_MODEL_db55b40485764e88aac7bcd798dff7ea",
            "value": 166618694
          }
        },
        "333c816bbb824b7489c16aca899aebbb": {
          "model_module": "@jupyter-widgets/controls",
          "model_name": "HTMLModel",
          "model_module_version": "1.5.0",
          "state": {
            "_dom_classes": [],
            "_model_module": "@jupyter-widgets/controls",
            "_model_module_version": "1.5.0",
            "_model_name": "HTMLModel",
            "_view_count": null,
            "_view_module": "@jupyter-widgets/controls",
            "_view_module_version": "1.5.0",
            "_view_name": "HTMLView",
            "description": "",
            "description_tooltip": null,
            "layout": "IPY_MODEL_7d3eff8e80674610832ac1bfdb9cee12",
            "placeholder": "​",
            "style": "IPY_MODEL_ed8b3f15840c4abf981dc372db656704",
            "value": " 159M/159M [00:03&lt;00:00, 56.5MB/s]"
          }
        },
        "00da0878c02a4e7c93f03e51aa6760ab": {
          "model_module": "@jupyter-widgets/base",
          "model_name": "LayoutModel",
          "model_module_version": "1.2.0",
          "state": {
            "_model_module": "@jupyter-widgets/base",
            "_model_module_version": "1.2.0",
            "_model_name": "LayoutModel",
            "_view_count": null,
            "_view_module": "@jupyter-widgets/base",
            "_view_module_version": "1.2.0",
            "_view_name": "LayoutView",
            "align_content": null,
            "align_items": null,
            "align_self": null,
            "border": null,
            "bottom": null,
            "display": null,
            "flex": null,
            "flex_flow": null,
            "grid_area": null,
            "grid_auto_columns": null,
            "grid_auto_flow": null,
            "grid_auto_rows": null,
            "grid_column": null,
            "grid_gap": null,
            "grid_row": null,
            "grid_template_areas": null,
            "grid_template_columns": null,
            "grid_template_rows": null,
            "height": null,
            "justify_content": null,
            "justify_items": null,
            "left": null,
            "margin": null,
            "max_height": null,
            "max_width": null,
            "min_height": null,
            "min_width": null,
            "object_fit": null,
            "object_position": null,
            "order": null,
            "overflow": null,
            "overflow_x": null,
            "overflow_y": null,
            "padding": null,
            "right": null,
            "top": null,
            "visibility": null,
            "width": null
          }
        },
        "2bb6d6f1997e4dad967237db9fa17d93": {
          "model_module": "@jupyter-widgets/base",
          "model_name": "LayoutModel",
          "model_module_version": "1.2.0",
          "state": {
            "_model_module": "@jupyter-widgets/base",
            "_model_module_version": "1.2.0",
            "_model_name": "LayoutModel",
            "_view_count": null,
            "_view_module": "@jupyter-widgets/base",
            "_view_module_version": "1.2.0",
            "_view_name": "LayoutView",
            "align_content": null,
            "align_items": null,
            "align_self": null,
            "border": null,
            "bottom": null,
            "display": null,
            "flex": null,
            "flex_flow": null,
            "grid_area": null,
            "grid_auto_columns": null,
            "grid_auto_flow": null,
            "grid_auto_rows": null,
            "grid_column": null,
            "grid_gap": null,
            "grid_row": null,
            "grid_template_areas": null,
            "grid_template_columns": null,
            "grid_template_rows": null,
            "height": null,
            "justify_content": null,
            "justify_items": null,
            "left": null,
            "margin": null,
            "max_height": null,
            "max_width": null,
            "min_height": null,
            "min_width": null,
            "object_fit": null,
            "object_position": null,
            "order": null,
            "overflow": null,
            "overflow_x": null,
            "overflow_y": null,
            "padding": null,
            "right": null,
            "top": null,
            "visibility": null,
            "width": null
          }
        },
        "b8bb8b5470394a84bff6990ff8d5470a": {
          "model_module": "@jupyter-widgets/controls",
          "model_name": "DescriptionStyleModel",
          "model_module_version": "1.5.0",
          "state": {
            "_model_module": "@jupyter-widgets/controls",
            "_model_module_version": "1.5.0",
            "_model_name": "DescriptionStyleModel",
            "_view_count": null,
            "_view_module": "@jupyter-widgets/base",
            "_view_module_version": "1.2.0",
            "_view_name": "StyleView",
            "description_width": ""
          }
        },
        "ad25aa82d9e148fabf821cc70f87aceb": {
          "model_module": "@jupyter-widgets/base",
          "model_name": "LayoutModel",
          "model_module_version": "1.2.0",
          "state": {
            "_model_module": "@jupyter-widgets/base",
            "_model_module_version": "1.2.0",
            "_model_name": "LayoutModel",
            "_view_count": null,
            "_view_module": "@jupyter-widgets/base",
            "_view_module_version": "1.2.0",
            "_view_name": "LayoutView",
            "align_content": null,
            "align_items": null,
            "align_self": null,
            "border": null,
            "bottom": null,
            "display": null,
            "flex": null,
            "flex_flow": null,
            "grid_area": null,
            "grid_auto_columns": null,
            "grid_auto_flow": null,
            "grid_auto_rows": null,
            "grid_column": null,
            "grid_gap": null,
            "grid_row": null,
            "grid_template_areas": null,
            "grid_template_columns": null,
            "grid_template_rows": null,
            "height": null,
            "justify_content": null,
            "justify_items": null,
            "left": null,
            "margin": null,
            "max_height": null,
            "max_width": null,
            "min_height": null,
            "min_width": null,
            "object_fit": null,
            "object_position": null,
            "order": null,
            "overflow": null,
            "overflow_x": null,
            "overflow_y": null,
            "padding": null,
            "right": null,
            "top": null,
            "visibility": null,
            "width": null
          }
        },
        "db55b40485764e88aac7bcd798dff7ea": {
          "model_module": "@jupyter-widgets/controls",
          "model_name": "ProgressStyleModel",
          "model_module_version": "1.5.0",
          "state": {
            "_model_module": "@jupyter-widgets/controls",
            "_model_module_version": "1.5.0",
            "_model_name": "ProgressStyleModel",
            "_view_count": null,
            "_view_module": "@jupyter-widgets/base",
            "_view_module_version": "1.2.0",
            "_view_name": "StyleView",
            "bar_color": null,
            "description_width": ""
          }
        },
        "7d3eff8e80674610832ac1bfdb9cee12": {
          "model_module": "@jupyter-widgets/base",
          "model_name": "LayoutModel",
          "model_module_version": "1.2.0",
          "state": {
            "_model_module": "@jupyter-widgets/base",
            "_model_module_version": "1.2.0",
            "_model_name": "LayoutModel",
            "_view_count": null,
            "_view_module": "@jupyter-widgets/base",
            "_view_module_version": "1.2.0",
            "_view_name": "LayoutView",
            "align_content": null,
            "align_items": null,
            "align_self": null,
            "border": null,
            "bottom": null,
            "display": null,
            "flex": null,
            "flex_flow": null,
            "grid_area": null,
            "grid_auto_columns": null,
            "grid_auto_flow": null,
            "grid_auto_rows": null,
            "grid_column": null,
            "grid_gap": null,
            "grid_row": null,
            "grid_template_areas": null,
            "grid_template_columns": null,
            "grid_template_rows": null,
            "height": null,
            "justify_content": null,
            "justify_items": null,
            "left": null,
            "margin": null,
            "max_height": null,
            "max_width": null,
            "min_height": null,
            "min_width": null,
            "object_fit": null,
            "object_position": null,
            "order": null,
            "overflow": null,
            "overflow_x": null,
            "overflow_y": null,
            "padding": null,
            "right": null,
            "top": null,
            "visibility": null,
            "width": null
          }
        },
        "ed8b3f15840c4abf981dc372db656704": {
          "model_module": "@jupyter-widgets/controls",
          "model_name": "DescriptionStyleModel",
          "model_module_version": "1.5.0",
          "state": {
            "_model_module": "@jupyter-widgets/controls",
            "_model_module_version": "1.5.0",
            "_model_name": "DescriptionStyleModel",
            "_view_count": null,
            "_view_module": "@jupyter-widgets/base",
            "_view_module_version": "1.2.0",
            "_view_name": "StyleView",
            "description_width": ""
          }
        }
      }
    }
  },
  "cells": [
    {
      "cell_type": "markdown",
      "source": [
        "# 0. Pororo 환경설정\n",
        "- pip install pororo 실행 시 시간이 너무 오래걸림(최소 1시간 이상)\n",
        "- pip install pororo 대신, git clone하는 방식 선택(5~10분 소요)\n",
        "- 로컬에서 실행 시,conda 가상환경 통해 파이썬 버전을 3.6으로 맞추고, pytorch의 경우 1.6.0으로 다운그레이드 된 버전을 설치해야 함. -> 설치 이후 파이토치 fairseq 설치 문제 발생\n"
      ],
      "metadata": {
        "id": "7XBRzcW81lp1"
      }
    },
    {
      "cell_type": "code",
      "execution_count": 1,
      "metadata": {
        "colab": {
          "base_uri": "https://localhost:8080/"
        },
        "id": "TcwqX-_czCGJ",
        "outputId": "3ad07764-8b1e-47c8-f44f-39dc9989e77a"
      },
      "outputs": [
        {
          "output_type": "stream",
          "name": "stdout",
          "text": [
            "pip 21.1.3 from /usr/local/lib/python3.8/dist-packages/pip (python 3.8)\n"
          ]
        }
      ],
      "source": [
        "!pip --version"
      ]
    },
    {
      "cell_type": "code",
      "source": [
        "!pip install --upgrade pip"
      ],
      "metadata": {
        "colab": {
          "base_uri": "https://localhost:8080/"
        },
        "id": "WchS376GzGlP",
        "outputId": "71ad3c6a-59ac-4c5c-ca7b-96e8be42e1b0"
      },
      "execution_count": 2,
      "outputs": [
        {
          "output_type": "stream",
          "name": "stdout",
          "text": [
            "Looking in indexes: https://pypi.org/simple, https://us-python.pkg.dev/colab-wheels/public/simple/\n",
            "Requirement already satisfied: pip in /usr/local/lib/python3.8/dist-packages (21.1.3)\n",
            "Collecting pip\n",
            "  Downloading pip-22.3.1-py3-none-any.whl (2.1 MB)\n",
            "\u001b[K     |████████████████████████████████| 2.1 MB 6.3 MB/s \n",
            "\u001b[?25hInstalling collected packages: pip\n",
            "  Attempting uninstall: pip\n",
            "    Found existing installation: pip 21.1.3\n",
            "    Uninstalling pip-21.1.3:\n",
            "      Successfully uninstalled pip-21.1.3\n",
            "Successfully installed pip-22.3.1\n"
          ]
        }
      ]
    },
    {
      "cell_type": "code",
      "source": [
        "!git clone https://github.com/kakaobrain/pororo.git"
      ],
      "metadata": {
        "colab": {
          "base_uri": "https://localhost:8080/"
        },
        "id": "eS6mGWHEzLkQ",
        "outputId": "ca6d1678-0d3f-4bd0-913f-34baf381d9ae"
      },
      "execution_count": 3,
      "outputs": [
        {
          "output_type": "stream",
          "name": "stdout",
          "text": [
            "Cloning into 'pororo'...\n",
            "remote: Enumerating objects: 2119, done.\u001b[K\n",
            "remote: Counting objects: 100% (29/29), done.\u001b[K\n",
            "remote: Compressing objects: 100% (21/21), done.\u001b[K\n",
            "remote: Total 2119 (delta 11), reused 22 (delta 8), pack-reused 2090\u001b[K\n",
            "Receiving objects: 100% (2119/2119), 13.09 MiB | 14.51 MiB/s, done.\n",
            "Resolving deltas: 100% (1448/1448), done.\n"
          ]
        }
      ]
    },
    {
      "cell_type": "code",
      "source": [
        "ls"
      ],
      "metadata": {
        "colab": {
          "base_uri": "https://localhost:8080/"
        },
        "id": "o0xwNDOPzO0R",
        "outputId": "1d366461-3b5e-4644-9f4d-92f94b56a894"
      },
      "execution_count": 4,
      "outputs": [
        {
          "output_type": "stream",
          "name": "stdout",
          "text": [
            "\u001b[0m\u001b[01;34mpororo\u001b[0m/  \u001b[01;34msample_data\u001b[0m/\n"
          ]
        }
      ]
    },
    {
      "cell_type": "code",
      "source": [
        "cd pororo"
      ],
      "metadata": {
        "colab": {
          "base_uri": "https://localhost:8080/"
        },
        "id": "eQPFsmbhzTKy",
        "outputId": "bebd775c-e47f-496d-e6ba-f5579ecbba9c"
      },
      "execution_count": 5,
      "outputs": [
        {
          "output_type": "stream",
          "name": "stdout",
          "text": [
            "/content/pororo\n"
          ]
        }
      ]
    },
    {
      "cell_type": "code",
      "source": [
        "!pip install -e ."
      ],
      "metadata": {
        "colab": {
          "base_uri": "https://localhost:8080/"
        },
        "id": "lIlQWTSUzTHA",
        "outputId": "ca8e94e5-94c2-4004-eb9c-eadf234fa596"
      },
      "execution_count": 6,
      "outputs": [
        {
          "output_type": "stream",
          "name": "stdout",
          "text": [
            "Looking in indexes: https://pypi.org/simple, https://us-python.pkg.dev/colab-wheels/public/simple/\n",
            "Obtaining file:///content/pororo\n",
            "  Preparing metadata (setup.py) ... \u001b[?25l\u001b[?25hdone\n",
            "Collecting torch==1.6.0\n",
            "  Downloading torch-1.6.0-cp38-cp38-manylinux1_x86_64.whl (748.8 MB)\n",
            "\u001b[2K     \u001b[90m━━━━━━━━━━━━━━━━━━━━━━━━━━━━━━━━━━━━━━━\u001b[0m \u001b[32m748.8/748.8 MB\u001b[0m \u001b[31m2.0 MB/s\u001b[0m eta \u001b[36m0:00:00\u001b[0m\n",
            "\u001b[?25hCollecting torchvision==0.7.0\n",
            "  Downloading torchvision-0.7.0-cp38-cp38-manylinux1_x86_64.whl (5.9 MB)\n",
            "\u001b[2K     \u001b[90m━━━━━━━━━━━━━━━━━━━━━━━━━━━━━━━━━━━━━━━━\u001b[0m \u001b[32m5.9/5.9 MB\u001b[0m \u001b[31m75.8 MB/s\u001b[0m eta \u001b[36m0:00:00\u001b[0m\n",
            "\u001b[?25hRequirement already satisfied: pillow>=4.1.1 in /usr/local/lib/python3.8/dist-packages (from pororo==0.4.1) (7.1.2)\n",
            "Collecting fairseq>=0.10.2\n",
            "  Downloading fairseq-0.12.2-cp38-cp38-manylinux_2_5_x86_64.manylinux1_x86_64.whl (11.0 MB)\n",
            "\u001b[2K     \u001b[90m━━━━━━━━━━━━━━━━━━━━━━━━━━━━━━━━━━━━━━━━\u001b[0m \u001b[32m11.0/11.0 MB\u001b[0m \u001b[31m81.9 MB/s\u001b[0m eta \u001b[36m0:00:00\u001b[0m\n",
            "\u001b[?25hCollecting transformers>=4.0.0\n",
            "  Downloading transformers-4.24.0-py3-none-any.whl (5.5 MB)\n",
            "\u001b[2K     \u001b[90m━━━━━━━━━━━━━━━━━━━━━━━━━━━━━━━━━━━━━━━━\u001b[0m \u001b[32m5.5/5.5 MB\u001b[0m \u001b[31m86.2 MB/s\u001b[0m eta \u001b[36m0:00:00\u001b[0m\n",
            "\u001b[?25hCollecting sentence_transformers>=0.4.1.2\n",
            "  Downloading sentence-transformers-2.2.2.tar.gz (85 kB)\n",
            "\u001b[2K     \u001b[90m━━━━━━━━━━━━━━━━━━━━━━━━━━━━━━━━━━━━━━━━\u001b[0m \u001b[32m86.0/86.0 kB\u001b[0m \u001b[31m11.6 MB/s\u001b[0m eta \u001b[36m0:00:00\u001b[0m\n",
            "\u001b[?25h  Preparing metadata (setup.py) ... \u001b[?25l\u001b[?25hdone\n",
            "Requirement already satisfied: nltk>=3.5 in /usr/local/lib/python3.8/dist-packages (from pororo==0.4.1) (3.7)\n",
            "Collecting word2word\n",
            "  Downloading word2word-1.0.0-py3-none-any.whl (31 kB)\n",
            "Collecting wget\n",
            "  Downloading wget-3.2.zip (10 kB)\n",
            "  Preparing metadata (setup.py) ... \u001b[?25l\u001b[?25hdone\n",
            "Requirement already satisfied: joblib in /usr/local/lib/python3.8/dist-packages (from pororo==0.4.1) (1.2.0)\n",
            "Requirement already satisfied: lxml in /usr/local/lib/python3.8/dist-packages (from pororo==0.4.1) (4.9.1)\n",
            "Collecting g2p_en\n",
            "  Downloading g2p_en-2.1.0-py3-none-any.whl (3.1 MB)\n",
            "\u001b[2K     \u001b[90m━━━━━━━━━━━━━━━━━━━━━━━━━━━━━━━━━━━━━━━━\u001b[0m \u001b[32m3.1/3.1 MB\u001b[0m \u001b[31m59.2 MB/s\u001b[0m eta \u001b[36m0:00:00\u001b[0m\n",
            "\u001b[?25hCollecting whoosh\n",
            "  Downloading Whoosh-2.7.4-py2.py3-none-any.whl (468 kB)\n",
            "\u001b[2K     \u001b[90m━━━━━━━━━━━━━━━━━━━━━━━━━━━━━━━━━━━━━━\u001b[0m \u001b[32m468.8/468.8 kB\u001b[0m \u001b[31m19.2 MB/s\u001b[0m eta \u001b[36m0:00:00\u001b[0m\n",
            "\u001b[?25hCollecting marisa-trie\n",
            "  Downloading marisa_trie-0.7.8-cp38-cp38-manylinux_2_17_x86_64.manylinux2014_x86_64.whl (1.2 MB)\n",
            "\u001b[2K     \u001b[90m━━━━━━━━━━━━━━━━━━━━━━━━━━━━━━━━━━━━━━━━\u001b[0m \u001b[32m1.2/1.2 MB\u001b[0m \u001b[31m41.7 MB/s\u001b[0m eta \u001b[36m0:00:00\u001b[0m\n",
            "\u001b[?25hCollecting kss\n",
            "  Downloading kss-3.7.3.tar.gz (42.4 MB)\n",
            "\u001b[2K     \u001b[90m━━━━━━━━━━━━━━━━━━━━━━━━━━━━━━━━━━━━━━━━\u001b[0m \u001b[32m42.4/42.4 MB\u001b[0m \u001b[31m16.1 MB/s\u001b[0m eta \u001b[36m0:00:00\u001b[0m\n",
            "\u001b[?25h  Preparing metadata (setup.py) ... \u001b[?25l\u001b[?25hdone\n",
            "Requirement already satisfied: future in /usr/local/lib/python3.8/dist-packages (from torch==1.6.0->pororo==0.4.1) (0.16.0)\n",
            "Requirement already satisfied: numpy in /usr/local/lib/python3.8/dist-packages (from torch==1.6.0->pororo==0.4.1) (1.21.6)\n",
            "Requirement already satisfied: cython in /usr/local/lib/python3.8/dist-packages (from fairseq>=0.10.2->pororo==0.4.1) (0.29.32)\n",
            "Collecting omegaconf<2.1\n",
            "  Downloading omegaconf-2.0.6-py3-none-any.whl (36 kB)\n",
            "Collecting bitarray\n",
            "  Downloading bitarray-2.6.0-cp38-cp38-manylinux_2_17_x86_64.manylinux2014_x86_64.whl (241 kB)\n",
            "\u001b[2K     \u001b[90m━━━━━━━━━━━━━━━━━━━━━━━━━━━━━━━━━━━━━━\u001b[0m \u001b[32m241.4/241.4 kB\u001b[0m \u001b[31m16.5 MB/s\u001b[0m eta \u001b[36m0:00:00\u001b[0m\n",
            "\u001b[?25hRequirement already satisfied: tqdm in /usr/local/lib/python3.8/dist-packages (from fairseq>=0.10.2->pororo==0.4.1) (4.64.1)\n",
            "Collecting sacrebleu>=1.4.12\n",
            "  Downloading sacrebleu-2.3.1-py3-none-any.whl (118 kB)\n",
            "\u001b[2K     \u001b[90m━━━━━━━━━━━━━━━━━━━━━━━━━━━━━━━━━━━━━━\u001b[0m \u001b[32m118.9/118.9 kB\u001b[0m \u001b[31m15.4 MB/s\u001b[0m eta \u001b[36m0:00:00\u001b[0m\n",
            "\u001b[?25hRequirement already satisfied: cffi in /usr/local/lib/python3.8/dist-packages (from fairseq>=0.10.2->pororo==0.4.1) (1.15.1)\n",
            "Requirement already satisfied: torchaudio>=0.8.0 in /usr/local/lib/python3.8/dist-packages (from fairseq>=0.10.2->pororo==0.4.1) (0.12.1+cu113)\n",
            "Collecting hydra-core<1.1,>=1.0.7\n",
            "  Downloading hydra_core-1.0.7-py3-none-any.whl (123 kB)\n",
            "\u001b[2K     \u001b[90m━━━━━━━━━━━━━━━━━━━━━━━━━━━━━━━━━━━━━━\u001b[0m \u001b[32m123.8/123.8 kB\u001b[0m \u001b[31m17.7 MB/s\u001b[0m eta \u001b[36m0:00:00\u001b[0m\n",
            "\u001b[?25hRequirement already satisfied: regex in /usr/local/lib/python3.8/dist-packages (from fairseq>=0.10.2->pororo==0.4.1) (2022.6.2)\n",
            "Requirement already satisfied: click in /usr/local/lib/python3.8/dist-packages (from nltk>=3.5->pororo==0.4.1) (7.1.2)\n",
            "Requirement already satisfied: scikit-learn in /usr/local/lib/python3.8/dist-packages (from sentence_transformers>=0.4.1.2->pororo==0.4.1) (1.0.2)\n",
            "Requirement already satisfied: scipy in /usr/local/lib/python3.8/dist-packages (from sentence_transformers>=0.4.1.2->pororo==0.4.1) (1.7.3)\n",
            "Collecting sentencepiece\n",
            "  Downloading sentencepiece-0.1.97-cp38-cp38-manylinux_2_17_x86_64.manylinux2014_x86_64.whl (1.3 MB)\n",
            "\u001b[2K     \u001b[90m━━━━━━━━━━━━━━━━━━━━━━━━━━━━━━━━━━━━━━━━\u001b[0m \u001b[32m1.3/1.3 MB\u001b[0m \u001b[31m35.1 MB/s\u001b[0m eta \u001b[36m0:00:00\u001b[0m\n",
            "\u001b[?25hCollecting huggingface-hub>=0.4.0\n",
            "  Downloading huggingface_hub-0.11.1-py3-none-any.whl (182 kB)\n",
            "\u001b[2K     \u001b[90m━━━━━━━━━━━━━━━━━━━━━━━━━━━━━━━━━━━━━━\u001b[0m \u001b[32m182.4/182.4 kB\u001b[0m \u001b[31m22.5 MB/s\u001b[0m eta \u001b[36m0:00:00\u001b[0m\n",
            "\u001b[?25hRequirement already satisfied: requests in /usr/local/lib/python3.8/dist-packages (from transformers>=4.0.0->pororo==0.4.1) (2.23.0)\n",
            "Requirement already satisfied: filelock in /usr/local/lib/python3.8/dist-packages (from transformers>=4.0.0->pororo==0.4.1) (3.8.0)\n",
            "Requirement already satisfied: packaging>=20.0 in /usr/local/lib/python3.8/dist-packages (from transformers>=4.0.0->pororo==0.4.1) (21.3)\n",
            "Collecting tokenizers!=0.11.3,<0.14,>=0.11.1\n",
            "  Downloading tokenizers-0.13.2-cp38-cp38-manylinux_2_17_x86_64.manylinux2014_x86_64.whl (7.6 MB)\n",
            "\u001b[2K     \u001b[90m━━━━━━━━━━━━━━━━━━━━━━━━━━━━━━━━━━━━━━━━\u001b[0m \u001b[32m7.6/7.6 MB\u001b[0m \u001b[31m15.5 MB/s\u001b[0m eta \u001b[36m0:00:00\u001b[0m\n",
            "\u001b[?25hRequirement already satisfied: pyyaml>=5.1 in /usr/local/lib/python3.8/dist-packages (from transformers>=4.0.0->pororo==0.4.1) (6.0)\n",
            "Requirement already satisfied: inflect>=0.3.1 in /usr/local/lib/python3.8/dist-packages (from g2p_en->pororo==0.4.1) (2.1.0)\n",
            "Collecting distance>=0.1.3\n",
            "  Downloading Distance-0.1.3.tar.gz (180 kB)\n",
            "\u001b[2K     \u001b[90m━━━━━━━━━━━━━━━━━━━━━━━━━━━━━━━━━━━━━━\u001b[0m \u001b[32m180.3/180.3 kB\u001b[0m \u001b[31m24.3 MB/s\u001b[0m eta \u001b[36m0:00:00\u001b[0m\n",
            "\u001b[?25h  Preparing metadata (setup.py) ... \u001b[?25l\u001b[?25hdone\n",
            "Collecting emoji==1.2.0\n",
            "  Downloading emoji-1.2.0-py3-none-any.whl (131 kB)\n",
            "\u001b[2K     \u001b[90m━━━━━━━━━━━━━━━━━━━━━━━━━━━━━━━━━━━━━━\u001b[0m \u001b[32m131.3/131.3 kB\u001b[0m \u001b[31m18.8 MB/s\u001b[0m eta \u001b[36m0:00:00\u001b[0m\n",
            "\u001b[?25hRequirement already satisfied: more_itertools in /usr/local/lib/python3.8/dist-packages (from kss->pororo==0.4.1) (9.0.0)\n",
            "Requirement already satisfied: setuptools in /usr/local/lib/python3.8/dist-packages (from marisa-trie->pororo==0.4.1) (57.4.0)\n",
            "Requirement already satisfied: typing-extensions>=3.7.4.3 in /usr/local/lib/python3.8/dist-packages (from huggingface-hub>=0.4.0->sentence_transformers>=0.4.1.2->pororo==0.4.1) (4.1.1)\n",
            "Collecting antlr4-python3-runtime==4.8\n",
            "  Downloading antlr4-python3-runtime-4.8.tar.gz (112 kB)\n",
            "\u001b[2K     \u001b[90m━━━━━━━━━━━━━━━━━━━━━━━━━━━━━━━━━━━━━━\u001b[0m \u001b[32m112.4/112.4 kB\u001b[0m \u001b[31m12.5 MB/s\u001b[0m eta \u001b[36m0:00:00\u001b[0m\n",
            "\u001b[?25h  Preparing metadata (setup.py) ... \u001b[?25l\u001b[?25hdone\n",
            "Requirement already satisfied: importlib-resources in /usr/local/lib/python3.8/dist-packages (from hydra-core<1.1,>=1.0.7->fairseq>=0.10.2->pororo==0.4.1) (5.10.0)\n",
            "Requirement already satisfied: pyparsing!=3.0.5,>=2.0.2 in /usr/local/lib/python3.8/dist-packages (from packaging>=20.0->transformers>=4.0.0->pororo==0.4.1) (3.0.9)\n",
            "Requirement already satisfied: tabulate>=0.8.9 in /usr/local/lib/python3.8/dist-packages (from sacrebleu>=1.4.12->fairseq>=0.10.2->pororo==0.4.1) (0.8.10)\n",
            "Collecting colorama\n",
            "  Downloading colorama-0.4.6-py2.py3-none-any.whl (25 kB)\n",
            "Collecting portalocker\n",
            "  Downloading portalocker-2.6.0-py2.py3-none-any.whl (15 kB)\n",
            "Collecting torchaudio>=0.8.0\n",
            "  Downloading torchaudio-0.13.0-cp38-cp38-manylinux1_x86_64.whl (4.2 MB)\n",
            "\u001b[2K     \u001b[90m━━━━━━━━━━━━━━━━━━━━━━━━━━━━━━━━━━━━━━━━\u001b[0m \u001b[32m4.2/4.2 MB\u001b[0m \u001b[31m69.4 MB/s\u001b[0m eta \u001b[36m0:00:00\u001b[0m\n",
            "\u001b[?25h  Downloading torchaudio-0.12.1-cp38-cp38-manylinux1_x86_64.whl (3.7 MB)\n",
            "\u001b[2K     \u001b[90m━━━━━━━━━━━━━━━━━━━━━━━━━━━━━━━━━━━━━━━━\u001b[0m \u001b[32m3.7/3.7 MB\u001b[0m \u001b[31m73.5 MB/s\u001b[0m eta \u001b[36m0:00:00\u001b[0m\n",
            "\u001b[?25h  Downloading torchaudio-0.12.0-cp38-cp38-manylinux1_x86_64.whl (3.7 MB)\n",
            "\u001b[2K     \u001b[90m━━━━━━━━━━━━━━━━━━━━━━━━━━━━━━━━━━━━━━━━\u001b[0m \u001b[32m3.7/3.7 MB\u001b[0m \u001b[31m75.2 MB/s\u001b[0m eta \u001b[36m0:00:00\u001b[0m\n",
            "\u001b[?25h  Downloading torchaudio-0.11.0-cp38-cp38-manylinux1_x86_64.whl (2.9 MB)\n",
            "\u001b[2K     \u001b[90m━━━━━━━━━━━━━━━━━━━━━━━━━━━━━━━━━━━━━━━━\u001b[0m \u001b[32m2.9/2.9 MB\u001b[0m \u001b[31m69.4 MB/s\u001b[0m eta \u001b[36m0:00:00\u001b[0m\n",
            "\u001b[?25h  Downloading torchaudio-0.10.2-cp38-cp38-manylinux1_x86_64.whl (2.9 MB)\n",
            "\u001b[2K     \u001b[90m━━━━━━━━━━━━━━━━━━━━━━━━━━━━━━━━━━━━━━━━\u001b[0m \u001b[32m2.9/2.9 MB\u001b[0m \u001b[31m65.7 MB/s\u001b[0m eta \u001b[36m0:00:00\u001b[0m\n",
            "\u001b[?25h  Downloading torchaudio-0.10.1-cp38-cp38-manylinux1_x86_64.whl (2.9 MB)\n",
            "\u001b[2K     \u001b[90m━━━━━━━━━━━━━━━━━━━━━━━━━━━━━━━━━━━━━━━━\u001b[0m \u001b[32m2.9/2.9 MB\u001b[0m \u001b[31m65.2 MB/s\u001b[0m eta \u001b[36m0:00:00\u001b[0m\n",
            "\u001b[?25h  Downloading torchaudio-0.10.0-cp38-cp38-manylinux1_x86_64.whl (2.9 MB)\n",
            "\u001b[2K     \u001b[90m━━━━━━━━━━━━━━━━━━━━━━━━━━━━━━━━━━━━━━━━\u001b[0m \u001b[32m2.9/2.9 MB\u001b[0m \u001b[31m66.8 MB/s\u001b[0m eta \u001b[36m0:00:00\u001b[0m\n",
            "\u001b[?25h  Downloading torchaudio-0.9.1-cp38-cp38-manylinux1_x86_64.whl (1.9 MB)\n",
            "\u001b[2K     \u001b[90m━━━━━━━━━━━━━━━━━━━━━━━━━━━━━━━━━━━━━━━━\u001b[0m \u001b[32m1.9/1.9 MB\u001b[0m \u001b[31m61.9 MB/s\u001b[0m eta \u001b[36m0:00:00\u001b[0m\n",
            "\u001b[?25h  Downloading torchaudio-0.9.0-cp38-cp38-manylinux1_x86_64.whl (1.9 MB)\n",
            "\u001b[2K     \u001b[90m━━━━━━━━━━━━━━━━━━━━━━━━━━━━━━━━━━━━━━━━\u001b[0m \u001b[32m1.9/1.9 MB\u001b[0m \u001b[31m64.0 MB/s\u001b[0m eta \u001b[36m0:00:00\u001b[0m\n",
            "\u001b[?25h  Downloading torchaudio-0.8.1-cp38-cp38-manylinux1_x86_64.whl (1.9 MB)\n",
            "\u001b[2K     \u001b[90m━━━━━━━━━━━━━━━━━━━━━━━━━━━━━━━━━━━━━━━━\u001b[0m \u001b[32m1.9/1.9 MB\u001b[0m \u001b[31m53.0 MB/s\u001b[0m eta \u001b[36m0:00:00\u001b[0m\n",
            "\u001b[?25h  Downloading torchaudio-0.8.0-cp38-cp38-manylinux1_x86_64.whl (1.9 MB)\n",
            "\u001b[2K     \u001b[90m━━━━━━━━━━━━━━━━━━━━━━━━━━━━━━━━━━━━━━━━\u001b[0m \u001b[32m1.9/1.9 MB\u001b[0m \u001b[31m45.3 MB/s\u001b[0m eta \u001b[36m0:00:00\u001b[0m\n",
            "\u001b[?25hINFO: pip is looking at multiple versions of tokenizers to determine which version is compatible with other requirements. This could take a while.\n",
            "Collecting tokenizers!=0.11.3,<0.14,>=0.11.1\n",
            "  Downloading tokenizers-0.13.1-cp38-cp38-manylinux_2_17_x86_64.manylinux2014_x86_64.whl (7.6 MB)\n",
            "\u001b[2K     \u001b[90m━━━━━━━━━━━━━━━━━━━━━━━━━━━━━━━━━━━━━━━━\u001b[0m \u001b[32m7.6/7.6 MB\u001b[0m \u001b[31m75.3 MB/s\u001b[0m eta \u001b[36m0:00:00\u001b[0m\n",
            "\u001b[?25hINFO: pip is looking at multiple versions of sacrebleu to determine which version is compatible with other requirements. This could take a while.\n",
            "Collecting sacrebleu>=1.4.12\n",
            "  Downloading sacrebleu-2.3.0-py3-none-any.whl (118 kB)\n",
            "\u001b[2K     \u001b[90m━━━━━━━━━━━━━━━━━━━━━━━━━━━━━━━━━━━━━━\u001b[0m \u001b[32m118.8/118.8 kB\u001b[0m \u001b[31m14.8 MB/s\u001b[0m eta \u001b[36m0:00:00\u001b[0m\n",
            "\u001b[?25hINFO: pip is looking at multiple versions of regex to determine which version is compatible with other requirements. This could take a while.\n",
            "Collecting regex\n",
            "  Downloading regex-2022.10.31-cp38-cp38-manylinux_2_17_x86_64.manylinux2014_x86_64.whl (772 kB)\n",
            "\u001b[2K     \u001b[90m━━━━━━━━━━━━━━━━━━━━━━━━━━━━━━━━━━━━━━\u001b[0m \u001b[32m772.3/772.3 kB\u001b[0m \u001b[31m33.6 MB/s\u001b[0m eta \u001b[36m0:00:00\u001b[0m\n",
            "\u001b[?25hINFO: pip is looking at multiple versions of pyyaml to determine which version is compatible with other requirements. This could take a while.\n",
            "Collecting pyyaml>=5.1\n",
            "  Downloading PyYAML-6.0-cp38-cp38-manylinux_2_5_x86_64.manylinux1_x86_64.manylinux_2_12_x86_64.manylinux2010_x86_64.whl (701 kB)\n",
            "\u001b[2K     \u001b[90m━━━━━━━━━━━━━━━━━━━━━━━━━━━━━━━━━━━━━━\u001b[0m \u001b[32m701.2/701.2 kB\u001b[0m \u001b[31m51.1 MB/s\u001b[0m eta \u001b[36m0:00:00\u001b[0m\n",
            "\u001b[?25hINFO: pip is looking at multiple versions of packaging to determine which version is compatible with other requirements. This could take a while.\n",
            "Collecting packaging>=20.0\n",
            "  Downloading packaging-21.3-py3-none-any.whl (40 kB)\n",
            "\u001b[2K     \u001b[90m━━━━━━━━━━━━━━━━━━━━━━━━━━━━━━━━━━━━━━━━\u001b[0m \u001b[32m40.8/40.8 kB\u001b[0m \u001b[31m4.4 MB/s\u001b[0m eta \u001b[36m0:00:00\u001b[0m\n",
            "\u001b[?25hINFO: pip is looking at multiple versions of omegaconf to determine which version is compatible with other requirements. This could take a while.\n",
            "Collecting omegaconf<2.1\n",
            "  Downloading omegaconf-2.0.5-py3-none-any.whl (36 kB)\n",
            "INFO: pip is looking at multiple versions of numpy to determine which version is compatible with other requirements. This could take a while.\n",
            "Collecting numpy\n",
            "  Downloading numpy-1.23.5-cp38-cp38-manylinux_2_17_x86_64.manylinux2014_x86_64.whl (17.1 MB)\n",
            "\u001b[2K     \u001b[90m━━━━━━━━━━━━━━━━━━━━━━━━━━━━━━━━━━━━━━━━\u001b[0m \u001b[32m17.1/17.1 MB\u001b[0m \u001b[31m70.7 MB/s\u001b[0m eta \u001b[36m0:00:00\u001b[0m\n",
            "\u001b[?25hINFO: pip is looking at multiple versions of inflect to determine which version is compatible with other requirements. This could take a while.\n",
            "Collecting inflect>=0.3.1\n",
            "  Downloading inflect-6.0.2-py3-none-any.whl (34 kB)\n",
            "INFO: pip is looking at multiple versions of antlr4-python3-runtime to determine which version is compatible with other requirements. This could take a while.\n",
            "INFO: pip is looking at multiple versions of hydra-core to determine which version is compatible with other requirements. This could take a while.\n",
            "INFO: pip is looking at multiple versions of huggingface-hub to determine which version is compatible with other requirements. This could take a while.\n",
            "Collecting huggingface-hub>=0.4.0\n",
            "  Downloading huggingface_hub-0.11.0-py3-none-any.whl (182 kB)\n",
            "\u001b[2K     \u001b[90m━━━━━━━━━━━━━━━━━━━━━━━━━━━━━━━━━━━━━━\u001b[0m \u001b[32m182.1/182.1 kB\u001b[0m \u001b[31m21.9 MB/s\u001b[0m eta \u001b[36m0:00:00\u001b[0m\n",
            "\u001b[?25hINFO: pip is looking at multiple versions of distance to determine which version is compatible with other requirements. This could take a while.\n",
            "INFO: pip is looking at multiple versions of word2word to determine which version is compatible with other requirements. This could take a while.\n",
            "Collecting word2word\n",
            "  Downloading word2word-0.2.0-py3-none-any.whl (31 kB)\n",
            "INFO: pip is looking at multiple versions of whoosh to determine which version is compatible with other requirements. This could take a while.\n",
            "Collecting whoosh\n",
            "  Downloading Whoosh-2.7.3.zip (1.1 MB)\n",
            "\u001b[2K     \u001b[90m━━━━━━━━━━━━━━━━━━━━━━━━━━━━━━━━━━━━━━━━\u001b[0m \u001b[32m1.1/1.1 MB\u001b[0m \u001b[31m49.9 MB/s\u001b[0m eta \u001b[36m0:00:00\u001b[0m\n",
            "\u001b[?25h  Preparing metadata (setup.py) ... \u001b[?25l\u001b[?25hdone\n",
            "INFO: pip is looking at multiple versions of wget to determine which version is compatible with other requirements. This could take a while.\n",
            "Collecting wget\n",
            "  Downloading wget-3.1.zip (10 kB)\n",
            "  Preparing metadata (setup.py) ... \u001b[?25l\u001b[?25hdone\n",
            "INFO: pip is looking at multiple versions of marisa-trie to determine which version is compatible with other requirements. This could take a while.\n",
            "Collecting marisa-trie\n",
            "  Downloading marisa_trie-0.7.7-cp38-cp38-manylinux_2_5_x86_64.manylinux1_x86_64.manylinux_2_12_x86_64.manylinux2010_x86_64.whl (1.3 MB)\n",
            "\u001b[2K     \u001b[90m━━━━━━━━━━━━━━━━━━━━━━━━━━━━━━━━━━━━━━━━\u001b[0m \u001b[32m1.3/1.3 MB\u001b[0m \u001b[31m42.6 MB/s\u001b[0m eta \u001b[36m0:00:00\u001b[0m\n",
            "\u001b[?25hINFO: pip is looking at multiple versions of lxml to determine which version is compatible with other requirements. This could take a while.\n",
            "Collecting lxml\n",
            "  Downloading lxml-4.9.1-cp38-cp38-manylinux_2_17_x86_64.manylinux2014_x86_64.manylinux_2_24_x86_64.whl (6.9 MB)\n",
            "\u001b[2K     \u001b[90m━━━━━━━━━━━━━━━━━━━━━━━━━━━━━━━━━━━━━━━━\u001b[0m \u001b[32m6.9/6.9 MB\u001b[0m \u001b[31m33.8 MB/s\u001b[0m eta \u001b[36m0:00:00\u001b[0m\n",
            "\u001b[?25hINFO: pip is looking at multiple versions of emoji to determine which version is compatible with other requirements. This could take a while.\n",
            "INFO: pip is looking at multiple versions of kss to determine which version is compatible with other requirements. This could take a while.\n",
            "Collecting kss\n",
            "  Downloading kss-3.7.2.tar.gz (42.4 MB)\n",
            "\u001b[2K     \u001b[90m━━━━━━━━━━━━━━━━━━━━━━━━━━━━━━━━━━━━━━━━\u001b[0m \u001b[32m42.4/42.4 MB\u001b[0m \u001b[31m15.4 MB/s\u001b[0m eta \u001b[36m0:00:00\u001b[0m\n",
            "\u001b[?25h  Preparing metadata (setup.py) ... \u001b[?25l\u001b[?25hdone\n",
            "INFO: pip is looking at multiple versions of joblib to determine which version is compatible with other requirements. This could take a while.\n",
            "Collecting joblib\n",
            "  Downloading joblib-1.2.0-py3-none-any.whl (297 kB)\n",
            "\u001b[2K     \u001b[90m━━━━━━━━━━━━━━━━━━━━━━━━━━━━━━━━━━━━━━\u001b[0m \u001b[32m298.0/298.0 kB\u001b[0m \u001b[31m33.6 MB/s\u001b[0m eta \u001b[36m0:00:00\u001b[0m\n",
            "\u001b[?25hINFO: pip is looking at multiple versions of g2p-en to determine which version is compatible with other requirements. This could take a while.\n",
            "Collecting g2p_en\n",
            "  Downloading g2p_en-2.0.0-py3-none-any.whl (3.1 MB)\n",
            "\u001b[2K     \u001b[90m━━━━━━━━━━━━━━━━━━━━━━━━━━━━━━━━━━━━━━━━\u001b[0m \u001b[32m3.1/3.1 MB\u001b[0m \u001b[31m66.6 MB/s\u001b[0m eta \u001b[36m0:00:00\u001b[0m\n",
            "\u001b[?25hINFO: pip is looking at multiple versions of transformers to determine which version is compatible with other requirements. This could take a while.\n",
            "Collecting transformers>=4.0.0\n",
            "  Downloading transformers-4.23.1-py3-none-any.whl (5.3 MB)\n",
            "\u001b[2K     \u001b[90m━━━━━━━━━━━━━━━━━━━━━━━━━━━━━━━━━━━━━━━━\u001b[0m \u001b[32m5.3/5.3 MB\u001b[0m \u001b[31m11.3 MB/s\u001b[0m eta \u001b[36m0:00:00\u001b[0m\n",
            "\u001b[?25hINFO: pip is looking at multiple versions of sentence-transformers to determine which version is compatible with other requirements. This could take a while.\n",
            "Collecting sentence_transformers>=0.4.1.2\n",
            "  Downloading sentence-transformers-2.2.1.tar.gz (84 kB)\n",
            "\u001b[2K     \u001b[90m━━━━━━━━━━━━━━━━━━━━━━━━━━━━━━━━━━━━━━━━\u001b[0m \u001b[32m84.0/84.0 kB\u001b[0m \u001b[31m11.2 MB/s\u001b[0m eta \u001b[36m0:00:00\u001b[0m\n",
            "\u001b[?25h  Preparing metadata (setup.py) ... \u001b[?25l\u001b[?25hdone\n",
            "  Downloading sentence-transformers-2.2.0.tar.gz (79 kB)\n",
            "\u001b[2K     \u001b[90m━━━━━━━━━━━━━━━━━━━━━━━━━━━━━━━━━━━━━━━━\u001b[0m \u001b[32m79.7/79.7 kB\u001b[0m \u001b[31m11.0 MB/s\u001b[0m eta \u001b[36m0:00:00\u001b[0m\n",
            "\u001b[?25h  Preparing metadata (setup.py) ... \u001b[?25l\u001b[?25hdone\n",
            "  Downloading sentence-transformers-2.1.0.tar.gz (78 kB)\n",
            "\u001b[2K     \u001b[90m━━━━━━━━━━━━━━━━━━━━━━━━━━━━━━━━━━━━━━━━\u001b[0m \u001b[32m78.5/78.5 kB\u001b[0m \u001b[31m10.0 MB/s\u001b[0m eta \u001b[36m0:00:00\u001b[0m\n",
            "\u001b[?25h  Preparing metadata (setup.py) ... \u001b[?25l\u001b[?25hdone\n",
            "  Downloading sentence-transformers-2.0.0.tar.gz (85 kB)\n",
            "\u001b[2K     \u001b[90m━━━━━━━━━━━━━━━━━━━━━━━━━━━━━━━━━━━━━━━━\u001b[0m \u001b[32m85.5/85.5 kB\u001b[0m \u001b[31m10.5 MB/s\u001b[0m eta \u001b[36m0:00:00\u001b[0m\n",
            "\u001b[?25h  Preparing metadata (setup.py) ... \u001b[?25l\u001b[?25hdone\n",
            "  Downloading sentence-transformers-1.2.1.tar.gz (80 kB)\n",
            "\u001b[2K     \u001b[90m━━━━━━━━━━━━━━━━━━━━━━━━━━━━━━━━━━━━━━━━\u001b[0m \u001b[32m80.8/80.8 kB\u001b[0m \u001b[31m10.6 MB/s\u001b[0m eta \u001b[36m0:00:00\u001b[0m\n",
            "\u001b[?25h  Preparing metadata (setup.py) ... \u001b[?25l\u001b[?25hdone\n",
            "  Downloading sentence-transformers-1.2.0.tar.gz (81 kB)\n",
            "\u001b[2K     \u001b[90m━━━━━━━━━━━━━━━━━━━━━━━━━━━━━━━━━━━━━━━━\u001b[0m \u001b[32m81.4/81.4 kB\u001b[0m \u001b[31m8.4 MB/s\u001b[0m eta \u001b[36m0:00:00\u001b[0m\n",
            "\u001b[?25h  Preparing metadata (setup.py) ... \u001b[?25l\u001b[?25hdone\n",
            "  Downloading sentence-transformers-1.1.1.tar.gz (81 kB)\n",
            "\u001b[2K     \u001b[90m━━━━━━━━━━━━━━━━━━━━━━━━━━━━━━━━━━━━━━━━\u001b[0m \u001b[32m81.4/81.4 kB\u001b[0m \u001b[31m9.9 MB/s\u001b[0m eta \u001b[36m0:00:00\u001b[0m\n",
            "\u001b[?25h  Preparing metadata (setup.py) ... \u001b[?25l\u001b[?25hdone\n",
            "INFO: pip is looking at multiple versions of sentence-transformers to determine which version is compatible with other requirements. This could take a while.\n",
            "  Downloading sentence-transformers-1.1.0.tar.gz (78 kB)\n",
            "\u001b[2K     \u001b[90m━━━━━━━━━━━━━━━━━━━━━━━━━━━━━━━━━━━━━━━━\u001b[0m \u001b[32m78.9/78.9 kB\u001b[0m \u001b[31m9.4 MB/s\u001b[0m eta \u001b[36m0:00:00\u001b[0m\n",
            "\u001b[?25h  Preparing metadata (setup.py) ... \u001b[?25l\u001b[?25hdone\n",
            "  Downloading sentence-transformers-1.0.4.tar.gz (74 kB)\n",
            "\u001b[2K     \u001b[90m━━━━━━━━━━━━━━━━━━━━━━━━━━━━━━━━━━━━━━━━\u001b[0m \u001b[32m74.9/74.9 kB\u001b[0m \u001b[31m8.9 MB/s\u001b[0m eta \u001b[36m0:00:00\u001b[0m\n",
            "\u001b[?25h  Preparing metadata (setup.py) ... \u001b[?25l\u001b[?25hdone\n",
            "  Downloading sentence-transformers-1.0.3.tar.gz (74 kB)\n",
            "\u001b[2K     \u001b[90m━━━━━━━━━━━━━━━━━━━━━━━━━━━━━━━━━━━━━━━━\u001b[0m \u001b[32m74.9/74.9 kB\u001b[0m \u001b[31m4.5 MB/s\u001b[0m eta \u001b[36m0:00:00\u001b[0m\n",
            "\u001b[?25h  Preparing metadata (setup.py) ... \u001b[?25l\u001b[?25hdone\n",
            "  Downloading sentence-transformers-1.0.2.tar.gz (74 kB)\n",
            "\u001b[2K     \u001b[90m━━━━━━━━━━━━━━━━━━━━━━━━━━━━━━━━━━━━━━━━\u001b[0m \u001b[32m74.9/74.9 kB\u001b[0m \u001b[31m8.6 MB/s\u001b[0m eta \u001b[36m0:00:00\u001b[0m\n",
            "\u001b[?25h  Preparing metadata (setup.py) ... \u001b[?25l\u001b[?25hdone\n",
            "  Downloading sentence-transformers-1.0.1.tar.gz (74 kB)\n",
            "\u001b[2K     \u001b[90m━━━━━━━━━━━━━━━━━━━━━━━━━━━━━━━━━━━━━━━━\u001b[0m \u001b[32m74.8/74.8 kB\u001b[0m \u001b[31m9.0 MB/s\u001b[0m eta \u001b[36m0:00:00\u001b[0m\n",
            "\u001b[?25h  Preparing metadata (setup.py) ... \u001b[?25l\u001b[?25hdone\n",
            "INFO: This is taking longer than usual. You might need to provide the dependency resolver with stricter constraints to reduce runtime. See https://pip.pypa.io/warnings/backtracking for guidance. If you want to abort this run, press Ctrl + C.\n",
            "  Downloading sentence-transformers-1.0.0.tar.gz (74 kB)\n",
            "\u001b[2K     \u001b[90m━━━━━━━━━━━━━━━━━━━━━━━━━━━━━━━━━━━━━━━━\u001b[0m \u001b[32m74.8/74.8 kB\u001b[0m \u001b[31m9.5 MB/s\u001b[0m eta \u001b[36m0:00:00\u001b[0m\n",
            "\u001b[?25h  Preparing metadata (setup.py) ... \u001b[?25l\u001b[?25hdone\n",
            "  Downloading sentence-transformers-0.4.1.2.tar.gz (64 kB)\n",
            "\u001b[2K     \u001b[90m━━━━━━━━━━━━━━━━━━━━━━━━━━━━━━━━━━━━━━━━\u001b[0m \u001b[32m64.6/64.6 kB\u001b[0m \u001b[31m7.3 MB/s\u001b[0m eta \u001b[36m0:00:00\u001b[0m\n",
            "\u001b[?25h  Preparing metadata (setup.py) ... \u001b[?25l\u001b[?25hdone\n",
            "INFO: pip is looking at multiple versions of pillow to determine which version is compatible with other requirements. This could take a while.\n",
            "Collecting pillow>=4.1.1\n",
            "  Downloading Pillow-9.3.0-cp38-cp38-manylinux_2_17_x86_64.manylinux2014_x86_64.whl (3.2 MB)\n",
            "\u001b[2K     \u001b[90m━━━━━━━━━━━━━━━━━━━━━━━━━━━━━━━━━━━━━━━━\u001b[0m \u001b[32m3.2/3.2 MB\u001b[0m \u001b[31m63.5 MB/s\u001b[0m eta \u001b[36m0:00:00\u001b[0m\n",
            "\u001b[?25hINFO: pip is looking at multiple versions of nltk to determine which version is compatible with other requirements. This could take a while.\n",
            "Collecting nltk>=3.5\n",
            "  Downloading nltk-3.7-py3-none-any.whl (1.5 MB)\n",
            "\u001b[2K     \u001b[90m━━━━━━━━━━━━━━━━━━━━━━━━━━━━━━━━━━━━━━━━\u001b[0m \u001b[32m1.5/1.5 MB\u001b[0m \u001b[31m45.6 MB/s\u001b[0m eta \u001b[36m0:00:00\u001b[0m\n",
            "\u001b[?25hINFO: pip is looking at multiple versions of fairseq to determine which version is compatible with other requirements. This could take a while.\n",
            "Collecting fairseq>=0.10.2\n",
            "  Downloading fairseq-0.12.1-cp38-cp38-manylinux_2_5_x86_64.manylinux1_x86_64.whl (11.0 MB)\n",
            "\u001b[2K     \u001b[90m━━━━━━━━━━━━━━━━━━━━━━━━━━━━━━━━━━━━━━━━\u001b[0m \u001b[32m11.0/11.0 MB\u001b[0m \u001b[31m80.8 MB/s\u001b[0m eta \u001b[36m0:00:00\u001b[0m\n",
            "\u001b[?25h  Downloading fairseq-0.12.0-cp38-cp38-manylinux_2_5_x86_64.manylinux1_x86_64.whl (11.0 MB)\n",
            "\u001b[2K     \u001b[90m━━━━━━━━━━━━━━━━━━━━━━━━━━━━━━━━━━━━━━━━\u001b[0m \u001b[32m11.0/11.0 MB\u001b[0m \u001b[31m84.4 MB/s\u001b[0m eta \u001b[36m0:00:00\u001b[0m\n",
            "\u001b[?25h  Downloading fairseq-0.11.1-cp38-cp38-manylinux_2_5_x86_64.manylinux1_x86_64.whl (11.0 MB)\n",
            "\u001b[2K     \u001b[90m━━━━━━━━━━━━━━━━━━━━━━━━━━━━━━━━━━━━━━━━\u001b[0m \u001b[32m11.0/11.0 MB\u001b[0m \u001b[31m82.3 MB/s\u001b[0m eta \u001b[36m0:00:00\u001b[0m\n",
            "\u001b[?25h  Downloading fairseq-0.10.2-cp38-cp38-manylinux1_x86_64.whl (1.7 MB)\n",
            "\u001b[2K     \u001b[90m━━━━━━━━━━━━━━━━━━━━━━━━━━━━━━━━━━━━━━━━\u001b[0m \u001b[32m1.7/1.7 MB\u001b[0m \u001b[31m59.8 MB/s\u001b[0m eta \u001b[36m0:00:00\u001b[0m\n",
            "\u001b[?25hCollecting dataclasses\n",
            "  Downloading dataclasses-0.6-py3-none-any.whl (14 kB)\n",
            "Collecting hydra-core\n",
            "  Downloading hydra_core-1.2.0-py3-none-any.whl (151 kB)\n",
            "\u001b[2K     \u001b[90m━━━━━━━━━━━━━━━━━━━━━━━━━━━━━━━━━━━━━━\u001b[0m \u001b[32m151.1/151.1 kB\u001b[0m \u001b[31m20.8 MB/s\u001b[0m eta \u001b[36m0:00:00\u001b[0m\n",
            "\u001b[?25hRequirement already satisfied: pycparser in /usr/local/lib/python3.8/dist-packages (from cffi->fairseq>=0.10.2->pororo==0.4.1) (2.21)\n",
            "Collecting antlr4-python3-runtime==4.9.*\n",
            "  Downloading antlr4-python3-runtime-4.9.3.tar.gz (117 kB)\n",
            "\u001b[2K     \u001b[90m━━━━━━━━━━━━━━━━━━━━━━━━━━━━━━━━━━━━━━\u001b[0m \u001b[32m117.0/117.0 kB\u001b[0m \u001b[31m17.2 MB/s\u001b[0m eta \u001b[36m0:00:00\u001b[0m\n",
            "\u001b[?25h  Preparing metadata (setup.py) ... \u001b[?25l\u001b[?25hdone\n",
            "Collecting omegaconf~=2.2\n",
            "  Downloading omegaconf-2.2.3-py3-none-any.whl (79 kB)\n",
            "\u001b[2K     \u001b[90m━━━━━━━━━━━━━━━━━━━━━━━━━━━━━━━━━━━━━━━━\u001b[0m \u001b[32m79.3/79.3 kB\u001b[0m \u001b[31m10.3 MB/s\u001b[0m eta \u001b[36m0:00:00\u001b[0m\n",
            "\u001b[?25hRequirement already satisfied: certifi>=2017.4.17 in /usr/local/lib/python3.8/dist-packages (from requests->transformers>=4.0.0->pororo==0.4.1) (2022.9.24)\n",
            "Requirement already satisfied: urllib3!=1.25.0,!=1.25.1,<1.26,>=1.21.1 in /usr/local/lib/python3.8/dist-packages (from requests->transformers>=4.0.0->pororo==0.4.1) (1.24.3)\n",
            "Requirement already satisfied: idna<3,>=2.5 in /usr/local/lib/python3.8/dist-packages (from requests->transformers>=4.0.0->pororo==0.4.1) (2.10)\n",
            "Requirement already satisfied: chardet<4,>=3.0.2 in /usr/local/lib/python3.8/dist-packages (from requests->transformers>=4.0.0->pororo==0.4.1) (3.0.4)\n",
            "Requirement already satisfied: threadpoolctl>=2.0.0 in /usr/local/lib/python3.8/dist-packages (from scikit-learn->sentence_transformers>=0.4.1.2->pororo==0.4.1) (3.1.0)\n",
            "Requirement already satisfied: zipp>=3.1.0 in /usr/local/lib/python3.8/dist-packages (from importlib-resources->hydra-core<1.1,>=1.0.7->fairseq>=0.10.2->pororo==0.4.1) (3.10.0)\n",
            "Building wheels for collected packages: sentence_transformers, kss, wget, distance, antlr4-python3-runtime\n",
            "  Building wheel for sentence_transformers (setup.py) ... \u001b[?25l\u001b[?25hdone\n",
            "  Created wheel for sentence_transformers: filename=sentence_transformers-2.2.2-py3-none-any.whl size=125938 sha256=94611e21a7c2103852216eed93ab3ed82f1adbd45ec0bcb23a55b87ea994d856\n",
            "  Stored in directory: /root/.cache/pip/wheels/30/b4/1c/7509ecb4c391a7be4cdf2ff04df077a568cd52471007e436e6\n",
            "  Building wheel for kss (setup.py) ... \u001b[?25l\u001b[?25hdone\n",
            "  Created wheel for kss: filename=kss-3.7.3-py3-none-any.whl size=42449195 sha256=caba330078762052c14e8da20c2d40a9d6f028f11acb54c72dbac08a35c83add\n",
            "  Stored in directory: /root/.cache/pip/wheels/e8/d1/ef/ba7ed233ce025472ec77c63c34c1574a3ce9f2b82bb8d21e7c\n",
            "  Building wheel for wget (setup.py) ... \u001b[?25l\u001b[?25hdone\n",
            "  Created wheel for wget: filename=wget-3.2-py3-none-any.whl size=9674 sha256=dd2db0d1a602f840d7847788a571dbdd7b4dd388ca250c169a2a0d11a1beb3cc\n",
            "  Stored in directory: /root/.cache/pip/wheels/46/4a/43/6e71c9584e8b20b326931deaf89f11bf4db1bda170ac38e7b4\n",
            "  Building wheel for distance (setup.py) ... \u001b[?25l\u001b[?25hdone\n",
            "  Created wheel for distance: filename=Distance-0.1.3-py3-none-any.whl size=16275 sha256=f24b53f0f2da4f71e97a4e71c392654ce1ffa4b92241bbc0028b3713f6c6ddf3\n",
            "  Stored in directory: /root/.cache/pip/wheels/06/e2/ef/ea4693333706cddb28606cbdcf670a12d5b13f02372937fdf6\n",
            "  Building wheel for antlr4-python3-runtime (setup.py) ... \u001b[?25l\u001b[?25hdone\n",
            "  Created wheel for antlr4-python3-runtime: filename=antlr4_python3_runtime-4.9.3-py3-none-any.whl size=144575 sha256=c28f1988eb22b7fea23473bddaf81336249eed7df8715b6eb16cec7c54c075bb\n",
            "  Stored in directory: /root/.cache/pip/wheels/11/20/e3/33bfd201db65084a9bb7ec0fd4040c2a7b59bb155698396a7c\n",
            "Successfully built sentence_transformers kss wget distance antlr4-python3-runtime\n",
            "Installing collected packages: whoosh, wget, tokenizers, sentencepiece, emoji, distance, dataclasses, antlr4-python3-runtime, torch, portalocker, omegaconf, marisa-trie, kss, colorama, word2word, torchvision, sacrebleu, hydra-core, huggingface-hub, g2p_en, transformers, fairseq, sentence_transformers, pororo\n",
            "  Attempting uninstall: torch\n",
            "    Found existing installation: torch 1.12.1+cu113\n",
            "    Uninstalling torch-1.12.1+cu113:\n",
            "      Successfully uninstalled torch-1.12.1+cu113\n",
            "  Attempting uninstall: torchvision\n",
            "    Found existing installation: torchvision 0.13.1+cu113\n",
            "    Uninstalling torchvision-0.13.1+cu113:\n",
            "      Successfully uninstalled torchvision-0.13.1+cu113\n",
            "  Running setup.py develop for pororo\n",
            "\u001b[31mERROR: pip's dependency resolver does not currently take into account all the packages that are installed. This behaviour is the source of the following dependency conflicts.\n",
            "torchtext 0.13.1 requires torch==1.12.1, but you have torch 1.6.0 which is incompatible.\n",
            "torchaudio 0.12.1+cu113 requires torch==1.12.1, but you have torch 1.6.0 which is incompatible.\n",
            "fastai 2.7.10 requires torch<1.14,>=1.7, but you have torch 1.6.0 which is incompatible.\n",
            "fastai 2.7.10 requires torchvision>=0.8.2, but you have torchvision 0.7.0 which is incompatible.\u001b[0m\u001b[31m\n",
            "\u001b[0mSuccessfully installed antlr4-python3-runtime-4.9.3 colorama-0.4.6 dataclasses-0.6 distance-0.1.3 emoji-1.2.0 fairseq-0.10.2 g2p_en-2.1.0 huggingface-hub-0.11.1 hydra-core-1.2.0 kss-3.7.3 marisa-trie-0.7.8 omegaconf-2.2.3 pororo-0.4.1 portalocker-2.6.0 sacrebleu-2.3.1 sentence_transformers-2.2.2 sentencepiece-0.1.97 tokenizers-0.13.2 torch-1.6.0 torchvision-0.7.0 transformers-4.24.0 wget-3.2 whoosh-2.7.4 word2word-1.0.0\n",
            "\u001b[33mWARNING: Running pip as the 'root' user can result in broken permissions and conflicting behaviour with the system package manager. It is recommended to use a virtual environment instead: https://pip.pypa.io/warnings/venv\u001b[0m\u001b[33m\n",
            "\u001b[0m"
          ]
        }
      ]
    },
    {
      "cell_type": "code",
      "source": [
        "import pororo\n",
        "from pororo import Pororo\n",
        "\n",
        "Pororo.available_tasks()"
      ],
      "metadata": {
        "colab": {
          "base_uri": "https://localhost:8080/",
          "height": 145
        },
        "id": "-AWVqd7i0S9s",
        "outputId": "4bde2ddf-81c3-4266-9032-a7c7944f1b55"
      },
      "execution_count": 7,
      "outputs": [
        {
          "output_type": "execute_result",
          "data": {
            "text/plain": [
              "\"Available tasks are ['mrc', 'rc', 'qa', 'question_answering', 'machine_reading_comprehension', 'reading_comprehension', 'sentiment', 'sentiment_analysis', 'nli', 'natural_language_inference', 'inference', 'fill', 'fill_in_blank', 'fib', 'para', 'pi', 'cse', 'contextual_subword_embedding', 'similarity', 'sts', 'semantic_textual_similarity', 'sentence_similarity', 'sentvec', 'sentence_embedding', 'sentence_vector', 'se', 'inflection', 'morphological_inflection', 'g2p', 'grapheme_to_phoneme', 'grapheme_to_phoneme_conversion', 'w2v', 'wordvec', 'word2vec', 'word_vector', 'word_embedding', 'tokenize', 'tokenise', 'tokenization', 'tokenisation', 'tok', 'segmentation', 'seg', 'mt', 'machine_translation', 'translation', 'pos', 'tag', 'pos_tagging', 'tagging', 'const', 'constituency', 'constituency_parsing', 'cp', 'pg', 'collocation', 'collocate', 'col', 'word_translation', 'wt', 'summarization', 'summarisation', 'text_summarization', 'text_summarisation', 'summary', 'gec', 'review', 'review_scoring', 'lemmatization', 'lemmatisation', 'lemma', 'ner', 'named_entity_recognition', 'entity_recognition', 'zero-topic', 'dp', 'dep_parse', 'caption', 'captioning', 'asr', 'speech_recognition', 'st', 'speech_translation', 'tts', 'text_to_speech', 'speech_synthesis', 'ocr', 'srl', 'semantic_role_labeling', 'p2g', 'aes', 'essay', 'qg', 'question_generation', 'age_suitability', 'wsd']\""
            ],
            "application/vnd.google.colaboratory.intrinsic+json": {
              "type": "string"
            }
          },
          "metadata": {},
          "execution_count": 7
        }
      ]
    },
    {
      "cell_type": "code",
      "source": [
        "# 텍스트 파일 읽어오기\n",
        "f = open('/content/t.txt', 'r')\n",
        "txt = f.read()\n",
        "print(txt)"
      ],
      "metadata": {
        "colab": {
          "base_uri": "https://localhost:8080/"
        },
        "id": "S_Csfz8yEyUz",
        "outputId": "7b8b13da-956e-46ca-b947-b9932f7e16c9"
      },
      "execution_count": 35,
      "outputs": [
        {
          "output_type": "stream",
          "name": "stdout",
          "text": [
            "대회운영 총평 (월드컵조직위원회)\n",
            "\n",
            "출처:https://theme.archives.go.kr/next/worldCup2009/cuakLeague.do\n",
            "\n",
            "각종 외신과 조사기관의 설문 조사에서 나타나듯, 이번 대회는 훌륭하게 치러진 대회였다는 것이 중론이었다. 당초 월드컵 사상 처음으로 시도된 공동 개최에 대한 우려가 있었던 것도 사실이지만, 한국과 일본 두 개최국은 긴밀한 공조 체제 아래 완벽하게 대회를 운영했다는 것이다. 개막식에서부터 경기 운영과 안전, 자원 봉사자 참여 등 모든 면에서 흠잡을 데 없이 운영돼 한국에 대한 이미지와 위상을 새롭게 세계에 알리는 계기가 되었다는 평가가 뒤따랐다. 특히 이번 2002 FIFA 월드컵™은 운영 면에서 흑자 대회라는 성과를 올린 대회였다. 그 규모는 공동 개최국인 일본보다도 상대적으로 컸으며, 역대 대회 중에서도 가장 큰 것으로 기록됐다. 물론 그것은 결코 우연한 결과가 아니었다. 조직위원회의 철저한 준비와 경영 마인드에 의해서 가능했던 일이다. 투명한 경영과 민주적 의사 결정 과정을 통해서 비용을 절감하고 업무의 효율성을 높인 것은 물론이고, 입장권 판매 사업, 영접구역 운영 사업, 경기장 내 매점 운영 사업 그리고 옥외 광고 사업, 복권 사업 등 수익 사업에 철저한 경제 원리와 경영 기법을 적용하여 수익성을 높였기 때문이었다. 입장권 판매 수익의 증가에는 또한 한국팀의 예상을 뛰어 넘은 대표팀의 선전과 국민 성원이 있었다.\n",
            "이번 대회를 통하여 한국이 전 세계에 보여준 것 중 하나는 FIFA 월드컵이라는 스포츠 행사와 문화의 각별한 만남이었다. 한국은 유구한 역사와 문화적 전통을 자랑하는 문화 국가라는 점을 이번 월드컵 대회를 통해서 전 세계에 알릴 수 있었다. 전 세계인들이 한국의 문화를 제대로 인식할 수 있도록 월드컵 조직위원회는 전략적 차원에서 사고하고 실천하였다. 정부와 조직위원회 모두가 ‘문화 월드컵’이라는 하나의 코드를 완성시키기 위해 주력하였던 셈이다.\n",
            "한편 한국은 이번 2002 FIFA 월드컵™을 통해서 정부와 민간의 놀라운 결집력을 보여주기도 하였다. 일본이 개최 도시로 결정된 광역시의 자체적인 운영에 무게 중심을 두고 이번 월드컵을 치러냈다면, 한국은 정부와 조직위원회 그리고 민간이 동시에 총체적인 역량을 발휘하였다는 점에서 그 모양새를 달리하였다고 볼 수 있을 것이다. 대회의 성공적인 개최를 위하여 국회는「월드컵지원특별법」을 제정하여 조직위원회의 활동을 지원하였고, 정부는 안전대책통제본부와 같은 기구를 조직하여 경기장 안팎의 테러와 기타 안전 문제를 완벽하게 처리하는 능력을 보여준 것이다.\n",
            "이런 한국의 노력과 경쟁력에 대해 이번 대회 개막식에 초대돼 방한한 프랑스의 저명한 문명 비평가인 기 소르망(Guy Sorman)은 한국은 이번 2002 FIFA 월드컵™을 통해서 전 세계인들에게 “제 영혼을 잃지 않으면서 세계의 문을 열고 스스로 현대화하는 것이 가능하다.”는 것을 일깨워 주었다는 극찬을 아끼지 않았다.\n",
            "이로써 한국은 아시아의 일원으로서 주변 국가들과 전혀 다른 고유의 전통 문화를 널리 알리고 IT 강국으로서의 위상을 돋보이게 함과 동시에 세계적 규모의 대회를 흑자 대회로 치러낼 수 있는 국가적 역량을 유감없이 보여줬다. 이렇게 2002 FIFA 월드컵™은 총체적인 성공 월드컵의 전형으로 자타가 인정할 수 있었던 것이다.\n",
            "\n",
            "월드컵과 한국사회\n",
            "\n",
            "2002년 6월, 단 31일 동안 세계는 유쾌한 충격에 빠졌다. 월드컵 기간 동안 전 세계 유수의 언론들은 한결같이 한국에서 벌이지고 있는 현상에 주목하였다. “공동 개최의 우려를 말끔하게 씻어낸 성공적인 대회였다.”는 조셉 블래터 FIFA 회장의 발언은 단순히 경기 운영에만 국한된 건 아니었다. 월드컵 본선 출전 6회 만에 아시아 국가로서는 처음으로 4강 진입에 성공한 한국팀의 선전도 경이로운 사실이었지만, 그것보다 세계를 놀라게 한건 이전에는 볼 수 없었던 한국인들의 모습이었다.\n",
            "2002년 6월 4일 벌어진 폴란드와의 첫 경기에서 50만 명에 이르던 길거리 응원단은 독일과의 준결승전에선 7백만 명으로 불어나, 전체 인구의 20%가 광장으로, 거리로 쏟아져 나왔다. 그 열정에 세계는 놀랐다. 그러나 그 놀라움은 거기서 멈추지 않았다. 대규모의 길거리 응원단이 거리와 인도를 뒤덮었지만 한국인들은 질서와 청결로 다시 한 번 세계에 경이로움을 선사하였다.\n",
            "그러나 정작 정열과 질서와 청결이라는 시민 의식으로 세계인들의 찬사를 얻어낸 한국인들은 그 누구보다도 먼저, 스스로 놀라운 경험을 하였다. 지역과 계층, 세대와 성별의 차이는 월드컵의 열기 속에서 순식간에 녹아들었다. 그렇다고 월드컵이 잉태한 애국심과 민족주의가 배타적이고, 폐쇄적으로 흐른 것은 아니었다. 한국의 응원단은 상대팀의 선전에 박수를 아끼지 않았고, 경기장 내에서나 밖에서 훌리건식의 난동을 부리지도 않았다. 세계는 이 대목에서 다시 한 번 놀라지 않을 수 없었다.\n",
            "즉 이번 대회에서 한국인들은 세계화와 민족주의가 하나로 조화될 수 있다는 교훈을 세계인들에게 보여준 것이다. 또 한 가지, 수십만 명이 모인 속에서도 별다른 안전사고 없이 ‘자율’과 ‘질서’ 그리고 ‘시민 의식’과 ‘자발성’을 함께 보여준 한국인들은 ‘즐기되 타인을 배려할 수 있는 여유’를 스스로에게서 발견했으며, 밀실 문화에서 광장 문화로 변환 하는 계기를 갖게 된 것이다.\n",
            "세계 시민으로서의 신고식을 치러내면서, 자유와 책임감, 자부심을 동시에 느끼게 된 것은 이번 월드컵이 한국인들에게 가져다준 소중한 선물이었다. 이런 현상에 대해 외국의 언론들은 “한국이 경제적인 성장과 발전에만 급급한 국가가 아니라, 문화와 정신적인 측면에서도 선진국 대열에 오를 만한 수준에 놓였음을 증명한 것”이라는 평가를 하였다.\n",
            "계층과 지역, 세대와 민족 사이에 가로 놓였던 반복과 냉소 그리고 배타성까지도 모두 털어버릴 수 있는 기회를 제공한 2002 FIFA 월드컵™은 화해와 질서 속에서 성공적으로 치뤄진 기념비적인 대회로 기억될 것이다.\n",
            "\n",
            "\n",
            "붉은악마와 월드컵 시대\n",
            "\n",
            "외국의 그 어떤 국가 대표팀 서포터스와 비교해도 손색없는 조직적인 경기 응원과 장관을 이뤘던 길거리 응원의 핵심에는 ‘12번째 태극 전사’로 불렸던 ‘붉은 악마’(Red Devils) 가 있었다.\n",
            "1995년 12월 PC통신 하이텔의 10여 개 축구 동호회 운영자들이 모여 축구 응원 문화의 개선을 위한 ‘칸타타 선언’을 했을 때 새로운 응원 문화를 보여줄 ‘붉은 악마’의 태동이 시작되었다고 할 수 있다. 1997년 8월 정식 명칭을 확정한 붉은 악마는 ‘치우천왕’(蚩尤天王, 1999년 브라질과의 친선 경기에서 첫 선을 보임)기를 앞세우며 국가 대표팀의 A매치 때마다 열광적인 응원전을 펼치기 시작했다.\n",
            "‘Be the Reds’ 를 외치면서 세계인들에게 응원 문화의 전범을 보여주며, 과격한 훌리건(Hooligan)과 온건한 롤리건(Roligan)의 장점을 취한 합성어 ‘콜리건’(Korligan)이라는 신조어까지 만들어낸 붉은 악마가 성공할 수 있었던 원인은 무엇이었을까. 그것은 이 신세대 응원단이 “상업주의의 철저한 배격과 아마추어리즘을 고집했기 때문”인 것으로 분석된다. 모임의 출발점이었던 축구에 대한 순수한 열정을 훼손하지 않고 지킨 것이, 붉은 악마가 어떤 잡음도 없이 국민들의 전폭적인 지지를 얻어낸 원동력이었던 셈이다.\n",
            "단순한 응원 집단을 뛰어 넘어 일종의 문화적 키워드로 받아들여진 붉은 악마는 W세대(월드컵 세대)라는 ‘신인류’의 탄생을 가져오기도 하였다. 10대 후반에서 20대 후반의 이들 W세대들은 이념이 아닌 재미와 취향을 구심점으로 구성됐다는 점에서, 기왕의 4 · 19세대나 6 · 3세대 그리고 386세대와는 차별되는 세대라는 평가를 받았다.\n",
            "그러나 태생적 차이로 인해 W세대들은 이전의 세대들이 보이지 않던 몇 가지 특성을 나타내었다. 우선 이들은 취향과 공통의 재미를 추구할 수만 있다면 상대를 가리지 않고 동화될 수 있다는 특징을 보였다. 이것은 이들이 외국에 대한 배타성이나 과거사와 연관된 열등의식에서 자유로울 수 있는 근거가 되었다.\n",
            "\n",
            "매 경기마다 박빙의 승부를 펼쳤던 한국전에서도 상대팀을 비방하거나 위협을 가하는 응원은 찾아볼 수 없었으며, 심지어 결승행을 판가름하는 독일과의 준결승전이나 터키와의 3위 결정전에서는 상대팀을 응원하기 위한 응원단을 조직하는 여유까지 선보인 것이다. 즉 이들의 애국심은 배타성이 제거된 것이었고, 이를 두고 기성세대 들은 “세계 시민으로서의 자질을 갖춘 세대의 등장” 이라는 긍정적인 평가를 내리게 되었다.\n",
            "그런데 역설적이게도 상상할 수 없는 폭발적인 에너지를 보여준 W세대들이 들고 나온 것은 새로운 것이 아니었다. 그들이 자신들의 표현 양식으로 삼은 것은 다름 아닌 대한민국이라는 국호와 국기인 태극기였다. 그러나 W세대들은 오로지 신성의 대상이던 국호와 국기를 그들만의 방식으로 소화해냈다.\n",
            "그들은 대한민국과 태극기를 재발견하여 국호는 응원 구호로 태극기와 붉은 색은 패션 소도구로 삼는 발랄함을 보여주었다. 그것은 기성세대들의 금기를 일시에 깨는 놀라운 발상이었고, 자기희생과 집단주의에 발이 묶여 있던 이전 세대들에게 신선한 충격 그 이상이었다.\n",
            "이번 2002 FIFA 월드컵™ 기간 동안 길거리 응원에 나선 국민의 수는 연인원 약 2천만명이 넘는 것으로 집계되었다. 이는 전 국민의 43%에 달하는 수치로 서울의 경우, 시청 앞과 광화문 네거리에만 여섯 차례에 걸쳐 무려 800만 명이 넘는 인원이 모였던 것이다. 이는 전 세계적으로도 유례를 찾아 볼 수 없는 응원 방식과 규모였고, 연인원 420억 명에 이르는 지구촌 시청자들은 경탄을 금치 못하였다.\n",
            "그런데 중요한 것은 이런 에너지의 분출이 타의에 의해서가 아니라 온전히 자발적이었다는 데에 있다. 그리고 그러한 자발성은 수많은 인파 속에서도 유지된 질서와 청소 같은 뒷정리에서도 발견되었으며, 그 중심에는 W세대들이 있었던 것이다. 이런 모습을 두고 훌리건들의 난동에 익숙해 있던 외국의 축구팬들과 외신들은 앞 다투어 “믿어지지 않을 만큼 감동적인 장면”이라고 보도하였다.\n",
            "국호를 한국이 아닌 대한민국으로, 사회적 금기의 색이었던 붉은 색을 신바람과 활력의 상징으로, 신성의 대상이었던 국기를 친숙한 소지품의 항목으로 치환시킨 W세대들의 큰 특징 중 하나는 집단주의의 수직적 공동체주의를 벗어나 개인주의에 기초한 수평적 결합이었다는 점이다. 그것은 시민 개개인의 자발적인 역동성이 미래 사회를 이끌 원동력이라는 사실을 깨닫게 하기에 충분한 경험이 되었다.\n",
            "어떠한 일이 있어도 반드시 이겨야 한다는 과도한 승부욕에서 벗어나 과정 자체를 즐길 줄 아는 여유와 유연성 그리고 창의성을 발휘한 W세대들이야말로 이번 월드컵을 통해서 한국인들이 발견한 귀중한 보석이자 풍성한 수확일 것이다.\n",
            "\n",
            "월드컵과 한국의 스포츠\n",
            "\n",
            "2002 FIFA 월드컵™ 이 한국인들에게 세계 시민으로서의 자격을 스스로 확인하고 일류 국가로서의 면모를 전 세계에 과시한 대회였다면, 한국 축구계에는 세계의 벽을 뚫었다는 숙원을 이룬 대회로 기억될 것이다.\n",
            "그동안 한국은 FIFA 월드컵 본선 출전 5회 동안 단 1승도 챙기지 못하면서, 거듭되는 좌절만을 경험해야 했다. 지난 1954년 제5회 스위스 대회에서 본선에 처음으로 진출했던 한국팀은 1986년 멕시코 대회를 시작으로 1998년 프랑스 대회까지 4회 연속 본선 진출에는 성공했지만, 번번이 패배의 고배를 들어야만 했다.\n",
            "대회 사상 처음으로 5대륙에서 준준결승전 진출팀이 나와 진정한 의미에서의 첫 월드컵이었다고 평가된 이번 대회에서 단연 두각을 나타낸 것은 한국 대표팀이었다. 1라운드 첫 경기였던 폴란드전에서 본선에서의 첫 승을 낚은 한국팀은 2승 1무의 성적을 거둬 D조 수위로 16강에 올랐으며, 파죽지세로 준준결승전과 준결승전에까지 오르는 기염을 토해 개최국이자 최대 이변의 주인공이 되었다.\n",
            "그동안 올림픽에서 한국은 스포츠 강국으로 인식되어온 것이 사실이지만, 유럽과 남미로 양분된 세계 축구계의 중심에는 다가서지 못해 고작 아시아의 맹주라는 틀에서 벗어나지 못했었다. 그러나 개최국으로서의 자존심을 위해서도 1승과 16강 진출이라는 과제를 해결해야 했던 한국팀은 히딩크 감독의 합리적인 지도 아래 과학적이고 체계적인 훈련을 거듭해, 2002 FIFA 월드컵™에서 그 누구도 상상하지 못했던 성적을 올렸던 것이다.\n",
            "신화라고 일컬어진 이번 대회에서의 한국팀의 선전은 한국 스포츠의 보이지 않던 벽을 스스로 허물고 거둔 성과라는 점에서 그 어떤 승리와도 바꿀 수 없는 귀중한 것이었다. 합리성에 바탕을 둔 선수 선발과 과학적인 훈련에 무게 중심을 둔다면, 축구 선진국의 대열에 합류할 수 있다는 자신감을 심어준 2002 FIFA 월드컵™은 한국 축구의 신화와 새로운 응원 문화의 창출이라는 두 가지 성과를 한꺼번에 안겨준 대회로 한국 축구사에 영원히 기록될 것이다.\n",
            "\n",
            "연인원으로 따져 전인구의 절반 가까운 국민들이 거리 응원에 나섰던 2002 FIFA 월드컵™이 끝나자 그 열기를 월드컵 이후로 끌고 가자는 목소리가 드높았다. 월드컵의 성공적 개최가 그동안 침체되어 있던 한국의 축구계를 세계적 수준으로 끌어올린 것은 사실이지만, 일회성으로 끝내서는 안 된다는 우려에서 나온 얘기였다.\n",
            "그동안 한국인들은 국가 대항전에 대해서는 그 어떤 나라보다도 열광적이었다. 지난 1996년 애틀란타 올림픽 아시아 지역 최종 예선인 한일전의 TV 시청률이 무려 70.5% 라는 경이적인 수치였던 반면에 프로 축구에 대한 관심은 우리보다 프로 리그 도입이 늦었던 일본과 비교해도 훨씬 밑도는 수준에 머물러 있었다.\n",
            "그런 저간의 사정에 따라 월드컵에서의 신화 창조에도 불구하고 대회 이후 축구에 대한 국민적 관심의 수위가 급격히 낮아질 것이란 우려가 적지 않았던 것이다. 그 같은 축구팬들의 우려를 단적으로 나타낸 것이 터키와의 3위 결정전에 등장했던 ‘CU @ K리그’(K리그에서 만나요)라는 카드 섹션의 문구였다. 월드컵의 열기를 한국의 프로 축구 리그로 연결시키자는 독려였던 것이다.\n",
            "그것은 한 때의 열풍이나 붐이 아니라 월드컵을 계기로 낙후되고 침체된 한국 축구를 장기적인 안목으로 거듭나게 하자는 축구팬들의 강력한 염원이었던 것이다. 사실 이번의 대회 유치는 월드컵의 성공적인 개최로 얻어지는 경제적 문화적 후광 효과도 중요한 것이지만, 본질적으로는 한국 축구의 개혁과 장기적인 발전 대책 강구라는 측면에서 유치된 것이라고 볼 수 있다. 그런 점에서 한국팀의 4강 신화는 그 밑거름이 되기에 충분한 예상 밖의 성과였다. 문제는 이 같은 열기를 월드컵 이후로 고스란히 연결시켜야 한다는 점이다.\n",
            "한국 축구의 개혁을 위한 동기 부여는 이번 월드컵으로 충분히 이뤄진 셈이며, 경기장 확보 등 대폭적인 인프라 구축 역시 자연스럽게 완성되었다. 이제부터는 포스트 월드컵을 대비하는 자세가 필요한 것이다.\n",
            "장기적인 발전을 가져올 ‘유소년 축구 진흥 계획’ 같은 프로젝트를 수립하고, 지난 1983년 출범한 프로 리그의 활성화를 위한 ‘디비전 시스템 구축’, ‘학원 축구 시스템의 정비’ ‘실업 축구의 활성화’ 같은 과제들에 대한 적극적이고 합리적인 방안을 마련해야 할 것이다. 그것이 세계가 격찬한 이번 2002 FIFA 월드컵™의 의미를 각별하게 만드는 동력이 될 것이기 때문이다.\n"
          ]
        }
      ]
    },
    {
      "cell_type": "markdown",
      "source": [
        "# 1. 개체명 인식"
      ],
      "metadata": {
        "id": "2kBygeUP0ykX"
      }
    },
    {
      "cell_type": "code",
      "source": [
        "# 특정 언어에 대한 특정 작업하는 객체 생성하기\n",
        "ner = Pororo(task=\"ner\", lang=\"ko\")\n",
        "\n",
        "# ner \n",
        "ner(txt)\n",
        "entity = ner(txt)"
      ],
      "metadata": {
        "id": "6c9AEQQy0rxu"
      },
      "execution_count": 47,
      "outputs": []
    },
    {
      "cell_type": "code",
      "source": [
        "# 인식된 개체들만 출력\n",
        "for t in entity:\n",
        "  if t[1] != 'O':\n",
        "    print(t)"
      ],
      "metadata": {
        "colab": {
          "base_uri": "https://localhost:8080/"
        },
        "id": "6Bgm68UOQr82",
        "outputId": "0423a2e5-3de6-42fc-d8ad-0073b77a9540"
      },
      "execution_count": 50,
      "outputs": [
        {
          "output_type": "stream",
          "name": "stdout",
          "text": [
            "('월드컵조직위원회', 'ORGANIZATION')\n",
            "('https://', 'TERM')\n",
            "('theme.archives.go.kr/next/worldCup2009/cuakLeague.do', 'TERM')\n",
            "('월드컵', 'EVENT')\n",
            "('한국', 'ORGANIZATION')\n",
            "('일본', 'ORGANIZATION')\n",
            "('두 개최국', 'QUANTITY')\n",
            "('자원', 'CIVILIZATION')\n",
            "('봉사자', 'CIVILIZATION')\n",
            "('한국', 'COUNTRY')\n",
            "('2002', 'DATE')\n",
            "('FIFA 월드컵™', 'EVENT')\n",
            "('일본', 'COUNTRY')\n",
            "('한국팀', 'ORGANIZATION')\n",
            "('국민', 'CIVILIZATION')\n",
            "('한국', 'ORGANIZATION')\n",
            "('하나', 'QUANTITY')\n",
            "('FIFA 월드컵', 'EVENT')\n",
            "('한국', 'COUNTRY')\n",
            "('월드컵 대회', 'EVENT')\n",
            "('한국', 'COUNTRY')\n",
            "('월드컵 조직위원회', 'ORGANIZATION')\n",
            "('정부', 'ORGANIZATION')\n",
            "('월드컵', 'EVENT')\n",
            "('하나', 'QUANTITY')\n",
            "('한국', 'ORGANIZATION')\n",
            "('2002', 'DATE')\n",
            "('FIFA 월드컵™', 'EVENT')\n",
            "('정부', 'ORGANIZATION')\n",
            "('일본', 'ORGANIZATION')\n",
            "('월드컵', 'EVENT')\n",
            "('한국', 'ORGANIZATION')\n",
            "('정부', 'ORGANIZATION')\n",
            "('국회', 'ORGANIZATION')\n",
            "('월드컵지원특별법', 'CIVILIZATION')\n",
            "('정부', 'ORGANIZATION')\n",
            "('안전대책통제본부', 'ORGANIZATION')\n",
            "('한국', 'COUNTRY')\n",
            "('프랑스', 'COUNTRY')\n",
            "('비평가', 'CIVILIZATION')\n",
            "('기 소르망', 'PERSON')\n",
            "('한국', 'COUNTRY')\n",
            "('2002', 'DATE')\n",
            "('FIFA 월드컵', 'EVENT')\n",
            "('한국', 'COUNTRY')\n",
            "('아시아', 'LOCATION')\n",
            "('IT', 'STUDY_FIELD')\n",
            "('2002', 'DATE')\n",
            "('FIFA 월드컵™', 'EVENT')\n",
            "('월드컵', 'EVENT')\n",
            "('월드컵', 'EVENT')\n",
            "('한국', 'COUNTRY')\n",
            "('2002년 6월', 'DATE')\n",
            "('31일 동안', 'DATE')\n",
            "('월드컵', 'EVENT')\n",
            "('한국', 'COUNTRY')\n",
            "('조셉 블래터', 'PERSON')\n",
            "('FIFA', 'ORGANIZATION')\n",
            "('회장', 'OCCUPATION')\n",
            "('월드컵', 'EVENT')\n",
            "('본선', 'EVENT')\n",
            "('6회 만', 'QUANTITY')\n",
            "('아시아', 'LOCATION')\n",
            "('4강', 'EVENT')\n",
            "('한국팀', 'ORGANIZATION')\n",
            "('한국인', 'CIVILIZATION')\n",
            "('2002년 6월 4일', 'DATE')\n",
            "('폴란드', 'ORGANIZATION')\n",
            "('50만 명', 'QUANTITY')\n",
            "('독일', 'ORGANIZATION')\n",
            "('준결승전', 'EVENT')\n",
            "('7백만 명', 'QUANTITY')\n",
            "('20%', 'QUANTITY')\n",
            "('한국인', 'CIVILIZATION')\n",
            "('시민', 'CIVILIZATION')\n",
            "('한국인', 'CIVILIZATION')\n",
            "('월드컵', 'EVENT')\n",
            "('월드컵', 'EVENT')\n",
            "('민족주의', 'THEORY')\n",
            "('한국', 'COUNTRY')\n",
            "('한국인', 'CIVILIZATION')\n",
            "('민족주의', 'THEORY')\n",
            "('하나', 'QUANTITY')\n",
            "('한 가지', 'QUANTITY')\n",
            "('시민', 'CIVILIZATION')\n",
            "('한국인', 'CIVILIZATION')\n",
            "('시민', 'CIVILIZATION')\n",
            "('월드컵', 'EVENT')\n",
            "('한국인', 'CIVILIZATION')\n",
            "('한국', 'COUNTRY')\n",
            "('2002', 'DATE')\n",
            "('FIFA 월드컵™', 'EVENT')\n",
            "('월드컵', 'EVENT')\n",
            "('서포터스', 'CIVILIZATION')\n",
            "('12번째', 'QUANTITY')\n",
            "('전사', 'OCCUPATION')\n",
            "('붉은 악마', 'PERSON')\n",
            "('1995년 12월', 'DATE')\n",
            "('PC통신', 'ORGANIZATION')\n",
            "('하이텔', 'ORGANIZATION')\n",
            "('10여 개', 'QUANTITY')\n",
            "('축구', 'CIVILIZATION')\n",
            "('운영자', 'OCCUPATION')\n",
            "('축구', 'CIVILIZATION')\n",
            "('1997년 8월', 'DATE')\n",
            "('붉은 악마', 'PERSON')\n",
            "('1999년', 'DATE')\n",
            "('브라질', 'ORGANIZATION')\n",
            "('친선 경기', 'EVENT')\n",
            "('A매치', 'EVENT')\n",
            "('콜리건', 'PERSON')\n",
            "('붉은 악마', 'PERSON')\n",
            "('상업주의', 'THEORY')\n",
            "('아마추어리즘', 'THEORY')\n",
            "('축구', 'CIVILIZATION')\n",
            "('국민', 'CIVILIZATION')\n",
            "('W세', 'QUANTITY')\n",
            "('월드컵', 'EVENT')\n",
            "('10대 후반', 'QUANTITY')\n",
            "('20대 후반', 'QUANTITY')\n",
            "('4 · 19세대', 'QUANTITY')\n",
            "('6 · 3세대', 'QUANTITY')\n",
            "('386세대', 'QUANTITY')\n",
            "('한국전', 'EVENT')\n",
            "('결승', 'EVENT')\n",
            "('독일', 'ORGANIZATION')\n",
            "('준결승전', 'EVENT')\n",
            "('터키', 'ORGANIZATION')\n",
            "('3위', 'QUANTITY')\n",
            "('결정전', 'EVENT')\n",
            "('시민', 'CIVILIZATION')\n",
            "('대한민국', 'COUNTRY')\n",
            "('대한민국', 'COUNTRY')\n",
            "('붉은 색', 'TERM')\n",
            "('집단주의', 'THEORY')\n",
            "('발', 'ANIMAL')\n",
            "('2002', 'DATE')\n",
            "('FIFA 월드컵', 'EVENT')\n",
            "('국민', 'CIVILIZATION')\n",
            "('약 2천만명', 'QUANTITY')\n",
            "('국민', 'CIVILIZATION')\n",
            "('43%', 'QUANTITY')\n",
            "('서울', 'CITY')\n",
            "('시청', 'ARTIFACT')\n",
            "('앞', 'TERM')\n",
            "('광화문 네거리', 'LOCATION')\n",
            "('여섯 차례', 'QUANTITY')\n",
            "('800만 명', 'QUANTITY')\n",
            "('420억 명', 'QUANTITY')\n",
            "('시청자', 'CIVILIZATION')\n",
            "('훌리건', 'CIVILIZATION')\n",
            "('축구', 'CIVILIZATION')\n",
            "('팬', 'OCCUPATION')\n",
            "('한국', 'COUNTRY')\n",
            "('대한민국', 'COUNTRY')\n",
            "('붉은 색', 'TERM')\n",
            "('집단주의', 'THEORY')\n",
            "('공동체주의', 'THEORY')\n",
            "('개인주의', 'THEORY')\n",
            "('시민', 'CIVILIZATION')\n",
            "('월드컵', 'EVENT')\n",
            "('한국인', 'CIVILIZATION')\n",
            "('월드컵', 'EVENT')\n",
            "('한국', 'COUNTRY')\n",
            "('2002', 'DATE')\n",
            "('FIFA 월드컵', 'EVENT')\n",
            "('한국인', 'CIVILIZATION')\n",
            "('시민', 'CIVILIZATION')\n",
            "('한국', 'COUNTRY')\n",
            "('축구', 'CIVILIZATION')\n",
            "('한국', 'ORGANIZATION')\n",
            "('FIFA 월드컵', 'EVENT')\n",
            "('본선', 'EVENT')\n",
            "('5회', 'QUANTITY')\n",
            "('1승', 'QUANTITY')\n",
            "('지난 1954년', 'DATE')\n",
            "('제5회', 'QUANTITY')\n",
            "('스위스', 'COUNTRY')\n",
            "('본선', 'EVENT')\n",
            "('한국팀', 'ORGANIZATION')\n",
            "('1986년', 'DATE')\n",
            "('멕시코', 'COUNTRY')\n",
            "('1998년', 'DATE')\n",
            "('프랑스', 'COUNTRY')\n",
            "('4회', 'QUANTITY')\n",
            "('본선', 'EVENT')\n",
            "('5대륙', 'QUANTITY')\n",
            "('준준결승전', 'EVENT')\n",
            "('월드컵', 'EVENT')\n",
            "('한국 대표팀', 'ORGANIZATION')\n",
            "('1라운드', 'EVENT')\n",
            "('폴란드전', 'EVENT')\n",
            "('본선', 'EVENT')\n",
            "('한국팀', 'ORGANIZATION')\n",
            "('2승 1무', 'QUANTITY')\n",
            "('16강', 'EVENT')\n",
            "('준준결승전', 'EVENT')\n",
            "('준결승전', 'EVENT')\n",
            "('주인공', 'CIVILIZATION')\n",
            "('올림픽', 'EVENT')\n",
            "('한국', 'COUNTRY')\n",
            "('유럽', 'LOCATION')\n",
            "('남미', 'LOCATION')\n",
            "('축구', 'CIVILIZATION')\n",
            "('아시아', 'LOCATION')\n",
            "('1승', 'QUANTITY')\n",
            "('16강', 'EVENT')\n",
            "('한국팀', 'ORGANIZATION')\n",
            "('히딩크', 'PERSON')\n",
            "('감독', 'OCCUPATION')\n",
            "('2002', 'DATE')\n",
            "('FIFA 월드컵', 'EVENT')\n",
            "('한국팀', 'ORGANIZATION')\n",
            "('한국', 'COUNTRY')\n",
            "('선수', 'OCCUPATION')\n",
            "('축구', 'CIVILIZATION')\n",
            "('2002', 'DATE')\n",
            "('FIFA 월드컵™', 'EVENT')\n",
            "('한국', 'COUNTRY')\n",
            "('축구', 'CIVILIZATION')\n",
            "('두 가지', 'QUANTITY')\n",
            "('한국', 'COUNTRY')\n",
            "('축구', 'CIVILIZATION')\n",
            "('전인구', 'PERSON')\n",
            "('절반', 'QUANTITY')\n",
            "('국민', 'CIVILIZATION')\n",
            "('2002', 'DATE')\n",
            "('FIFA 월드컵', 'EVENT')\n",
            "('월드컵 이후', 'DATE')\n",
            "('월드컵', 'EVENT')\n",
            "('한국', 'COUNTRY')\n",
            "('축구', 'CIVILIZATION')\n",
            "('일회성', 'QUANTITY')\n",
            "('한국인', 'CIVILIZATION')\n",
            "('지난 1996년', 'DATE')\n",
            "('애틀란타 올림픽', 'EVENT')\n",
            "('아시아', 'LOCATION')\n",
            "('최종', 'EVENT')\n",
            "('예선', 'EVENT')\n",
            "('한일전', 'EVENT')\n",
            "('TV', 'TERM')\n",
            "('70.5%', 'QUANTITY')\n",
            "('프로', 'CIVILIZATION')\n",
            "('축구', 'CIVILIZATION')\n",
            "('일본', 'COUNTRY')\n",
            "('월드컵', 'EVENT')\n",
            "('축구', 'CIVILIZATION')\n",
            "('축구', 'CIVILIZATION')\n",
            "('팬', 'OCCUPATION')\n",
            "('터키', 'ORGANIZATION')\n",
            "('3위 결정전', 'EVENT')\n",
            "('C', 'ORGANIZATION')\n",
            "('K리그', 'ORGANIZATION')\n",
            "('K리그', 'ORGANIZATION')\n",
            "('월드컵', 'EVENT')\n",
            "('한국', 'COUNTRY')\n",
            "('축구', 'CIVILIZATION')\n",
            "('월드컵', 'EVENT')\n",
            "('한국', 'COUNTRY')\n",
            "('축구', 'CIVILIZATION')\n",
            "('축구', 'CIVILIZATION')\n",
            "('팬', 'OCCUPATION')\n",
            "('월드컵', 'EVENT')\n",
            "('한국', 'COUNTRY')\n",
            "('축구', 'CIVILIZATION')\n",
            "('한국팀', 'ORGANIZATION')\n",
            "('4강', 'EVENT')\n",
            "('월드컵 이후', 'DATE')\n",
            "('한국', 'COUNTRY')\n",
            "('축구', 'CIVILIZATION')\n",
            "('월드컵', 'EVENT')\n",
            "('포스트 월드컵', 'EVENT')\n",
            "('유소년', 'TERM')\n",
            "('축구', 'TERM')\n",
            "('지난 1983년', 'DATE')\n",
            "('축구', 'CIVILIZATION')\n",
            "('축구', 'CIVILIZATION')\n",
            "('2002', 'DATE')\n",
            "('FIFA 월드컵', 'EVENT')\n"
          ]
        }
      ]
    },
    {
      "cell_type": "markdown",
      "source": [
        "- 기관(Organization : 'FIFA', '폴란드'), 수량(Quantity : '20%'), 사건(Event : '4강' , '월드컵'), 국가(Country : '일본', '한국'), 지명(Location : '아시아'), 용어(Term : 'TV'), 날짜(Date : '2002', '지난 1996년'), 문명('Civilization :'축구','국민'), 직업(Occupation :'선수') 등으로 인식됨"
      ],
      "metadata": {
        "id": "AOoJehFiREKX"
      }
    },
    {
      "cell_type": "markdown",
      "source": [
        "#2. 문서 요약"
      ],
      "metadata": {
        "id": "SWDq5QjP1jP7"
      }
    },
    {
      "cell_type": "code",
      "source": [
        "# 줄바꿈의 경우, 첫 문단만 인식하는 경우가 있어 줄바꿈을 모두 제거함.\n",
        "txt = txt.replace(\"\\n\",'')"
      ],
      "metadata": {
        "id": "BAx-V-3NIdgt"
      },
      "execution_count": null,
      "outputs": []
    },
    {
      "cell_type": "markdown",
      "source": [
        "__(1) 요약 모델 객체 형성__"
      ],
      "metadata": {
        "id": "rNEcVdm1IGWy"
      }
    },
    {
      "cell_type": "code",
      "source": [
        "# bullet 모델\n",
        "bul_summ = Pororo(task='summary', lang='ko', model='bullet')"
      ],
      "metadata": {
        "colab": {
          "base_uri": "https://localhost:8080/",
          "height": 218,
          "referenced_widgets": [
            "edf68cdb0f9141919f25eddb7d70ceea",
            "745ebe90c57c42e59708313f683757d7",
            "888c1ba3c9274387b6c2ccc30cf6cde8",
            "32e012cbf9434ab2a5864680cc0db6be",
            "2f4c1cf1cb194456bb2864818bdf0377",
            "10b0ae535d2e428a869343a06525210f",
            "51e8f26a5e644f9c98a21694d70762f9",
            "b4397a20cc154118a01a963b07920da9",
            "8dbbff3eee0347b9ac82abd4262de06c",
            "6a9d2eae887b4c9daff6948d926270b5",
            "38cb506b378548b5b8460b5284516f4b",
            "226c6e959aa7407e88c2bb8834200d85",
            "b2efd6440eca48aaaed98f1c1394969c",
            "04d10b37238d40118a28315717ebd773",
            "a25bc68b53d242c39f8611e093e84551",
            "5484fed0ca614e1eb179496feaaca1a2",
            "25a6d46b0b0b42a39621b42fc91cae62",
            "3d986ccdc37c4843bd50877d72bc3a6d",
            "09b5f89395194eabb5ff60b900f13bc5",
            "8164f6d93324451f9758be317a8084e1",
            "2e4665bb0cb24d3da8e0936e9e71d9b6",
            "cfcbd7866ae14726a5189ef821f11da5",
            "483e68f5845b477f955e59dcad6b0745",
            "e30b389bafcf48bdb006d22687666a86",
            "5e22a795e8ad4798bed271b498e84f7c",
            "cd29a3ee435e45b5bd0681fa041d1b16",
            "a70e2e7251d74d4ba02f29bff0896259",
            "80efd0955ef64f4389f7f5b080a9501e",
            "7a3751908a8741cbb277deff04c942b8",
            "924a5309451c4f338cf58596e7574ac9",
            "0526edef262747cf862f2e0a80f49df0",
            "b430c59bddd448a2ae610c2609fc265c",
            "6ab6a22b0103482f82db6a9d1e7a710e",
            "5d1dcbd5c229420c8215a76b312c12d7",
            "2036e922e5e64fd2af64a22e91f01ec8",
            "67f5008dc848490ab3e238613900d5d0",
            "8251f8b6e6a64b03be0d065e1970d03d",
            "34397a967a3346069160c423c431243f",
            "71c4b4194b0647048fd704c5ded31735",
            "6113947abfc940d8b78ea976088b3ea1",
            "0dde0dd9f7524293a2f4b22b33025c97",
            "95a28ebdcbda4ace90d2a63ce2fd768d",
            "d41745b35ed243dfb0a93228e424f395",
            "390bac4d2ab642f6b5983ab7db27ed75"
          ]
        },
        "id": "wQ9u_oEX6GE-",
        "outputId": "e241dc8c-1318-4c46-a0bc-b13326628f29"
      },
      "execution_count": 22,
      "outputs": [
        {
          "output_type": "stream",
          "name": "stderr",
          "text": [
            "\n"
          ]
        },
        {
          "output_type": "display_data",
          "data": {
            "text/plain": [
              "Downloading:   0%|          | 0.00/1.38k [00:00<?, ?B/s]"
            ],
            "application/vnd.jupyter.widget-view+json": {
              "version_major": 2,
              "version_minor": 0,
              "model_id": "edf68cdb0f9141919f25eddb7d70ceea"
            }
          },
          "metadata": {}
        },
        {
          "output_type": "stream",
          "name": "stderr",
          "text": [
            "You passed along `num_labels=3` with an incompatible id to label map: {'0': 'NEGATIVE', '1': 'POSITIVE'}. The number of labels wil be overwritten to 2.\n"
          ]
        },
        {
          "output_type": "display_data",
          "data": {
            "text/plain": [
              "Downloading:   0%|          | 0.00/337 [00:00<?, ?B/s]"
            ],
            "application/vnd.jupyter.widget-view+json": {
              "version_major": 2,
              "version_minor": 0,
              "model_id": "226c6e959aa7407e88c2bb8834200d85"
            }
          },
          "metadata": {}
        },
        {
          "output_type": "display_data",
          "data": {
            "text/plain": [
              "Downloading:   0%|          | 0.00/1.05M [00:00<?, ?B/s]"
            ],
            "application/vnd.jupyter.widget-view+json": {
              "version_major": 2,
              "version_minor": 0,
              "model_id": "483e68f5845b477f955e59dcad6b0745"
            }
          },
          "metadata": {}
        },
        {
          "output_type": "display_data",
          "data": {
            "text/plain": [
              "Downloading:   0%|          | 0.00/109 [00:00<?, ?B/s]"
            ],
            "application/vnd.jupyter.widget-view+json": {
              "version_major": 2,
              "version_minor": 0,
              "model_id": "5d1dcbd5c229420c8215a76b312c12d7"
            }
          },
          "metadata": {}
        },
        {
          "output_type": "stream",
          "name": "stderr",
          "text": [
            "\n",
            "\n"
          ]
        }
      ]
    },
    {
      "cell_type": "code",
      "source": [
        "# abstract 모델\n",
        "abs_summ = Pororo(task='summary', lang='ko', model='abstractive')"
      ],
      "metadata": {
        "colab": {
          "base_uri": "https://localhost:8080/"
        },
        "id": "-PpjaqpCGEhR",
        "outputId": "0e4e181c-4f73-48f8-b128-d540adb24ca2"
      },
      "execution_count": 40,
      "outputs": [
        {
          "output_type": "stream",
          "name": "stderr",
          "text": [
            "\n",
            "You passed along `num_labels=3` with an incompatible id to label map: {'0': 'NEGATIVE', '1': 'POSITIVE'}. The number of labels wil be overwritten to 2.\n"
          ]
        }
      ]
    },
    {
      "cell_type": "code",
      "source": [
        "# extractive 모델\n",
        "ext_summ = Pororo(task='summary', lang='ko', model='extractive')"
      ],
      "metadata": {
        "id": "vy0e7AEdHP5l"
      },
      "execution_count": 42,
      "outputs": []
    },
    {
      "cell_type": "markdown",
      "source": [
        "__(2) 예제문 요약 실행__ "
      ],
      "metadata": {
        "id": "D7QJE54ZF8y6"
      }
    },
    {
      "cell_type": "code",
      "source": [
        "# bullet\n",
        "bul_summ(txt)"
      ],
      "metadata": {
        "colab": {
          "base_uri": "https://localhost:8080/"
        },
        "id": "gXHooNpvGAwr",
        "outputId": "8b7c27f2-1937-4629-a710-d621d3b44091"
      },
      "execution_count": 39,
      "outputs": [
        {
          "output_type": "execute_result",
          "data": {
            "text/plain": [
              "['한국·일본 두 개최국은 긴밀한 공조 체제 아래 완벽하게 대회 운영',\n",
              " ' 운영 면에서 흑자 대회, 조직위원회의 철저한 준비와 경영 마인드 덕분']"
            ]
          },
          "metadata": {},
          "execution_count": 39
        }
      ]
    },
    {
      "cell_type": "markdown",
      "source": [
        "- bullet의 경우, 리스트 내의 텍스트들을 모두 합친 것을 요약하는 것이 아닌, 각각의 문장들을 요약함.\n",
        "- 완전한 문장으로 끝나지 않고 명사형 어미로 끝나는 특성을 보임.\n",
        "- 요약된 결과를 리스트 형태로 리턴함."
      ],
      "metadata": {
        "id": "-jSv8ZES7aXg"
      }
    },
    {
      "cell_type": "code",
      "source": [
        "# abstract\n",
        "abs_summ(txt)"
      ],
      "metadata": {
        "colab": {
          "base_uri": "https://localhost:8080/",
          "height": 54
        },
        "id": "Z0mNE0wDGsad",
        "outputId": "006a8f70-2a2e-44c1-f576-75d4744663cf"
      },
      "execution_count": 41,
      "outputs": [
        {
          "output_type": "execute_result",
          "data": {
            "text/plain": [
              "'이번 개최국인 일본과 공동 개최국인 한국은 월드컵 사상 처음으로 시도하는 공동 개최에 대한 우려에도 불구하고 개막식에서부터 경기 운영과 안전, 자원 봉사자 참여 등 모든 면에서 완벽한 운영을 통해 한국에 대한 이미지와 위상을 새롭게 세계에 알리는 계기가 되었다는 평가를 받고 있다.'"
            ],
            "application/vnd.google.colaboratory.intrinsic+json": {
              "type": "string"
            }
          },
          "metadata": {},
          "execution_count": 41
        }
      ]
    },
    {
      "cell_type": "markdown",
      "source": [
        "- bullet과는 달리, 한 줄로 문장을 요약해줌.\n",
        "- 내용상으로 bullet과 유사함."
      ],
      "metadata": {
        "id": "Xc2EtSEkHHaD"
      }
    },
    {
      "cell_type": "code",
      "source": [
        "# extractive\n",
        "ext_summ(txt)"
      ],
      "metadata": {
        "colab": {
          "base_uri": "https://localhost:8080/",
          "height": 54
        },
        "id": "Ea1o--BqHLBo",
        "outputId": "6a60ff77-18f4-4f6d-c6f0-351e123ae194"
      },
      "execution_count": 43,
      "outputs": [
        {
          "output_type": "execute_result",
          "data": {
            "text/plain": [
              "'당초 월드컵 사상 처음으로 시도된 공동 개최에 대한 우려가 있었던 것도 사실이지만, 한국과 일본 두 개최국은 긴밀한 공조 체제 아래 완벽하게 대회를 운영했다는 것이다. 특히 이번 2002 FIFA 월드컵™은 운영 면에서 흑자 대회라는 성과를 올린 대회였다. 조직위원회의 철저한 준비와 경영 마인드에 의해서 가능했던 일이다.'"
            ],
            "application/vnd.google.colaboratory.intrinsic+json": {
              "type": "string"
            }
          },
          "metadata": {},
          "execution_count": 43
        }
      ]
    },
    {
      "cell_type": "markdown",
      "source": [
        "- extractive 모델은 본문에서 중요하다고 판단되는 3개의 문장을 뽑아주는 모델임.\n",
        "- 위 두 모델에서 나타난 '한/일 공동개최' 와 '우수한 운영' 그리고 '개최 성공'에 대한 내용이 담긴 문장들이 뽑힘."
      ],
      "metadata": {
        "id": "PFRSGwK8HqpV"
      }
    },
    {
      "cell_type": "markdown",
      "source": [
        "# 3. 기계 번역"
      ],
      "metadata": {
        "id": "A1090p-dIW31"
      }
    },
    {
      "cell_type": "code",
      "source": [
        "# 번역 기능 객체 생성\n",
        "trans = Pororo(task='translation', lang='multi') # 다소 속도가 느림 (8분 31초 소요)"
      ],
      "metadata": {
        "id": "L2wviIKyIlJC"
      },
      "execution_count": 44,
      "outputs": []
    },
    {
      "cell_type": "code",
      "source": [
        "# 원어 : 한국어 -> 타겟언어 : 영어\n",
        "trans(txt, src='ko', tgt='en')"
      ],
      "metadata": {
        "colab": {
          "base_uri": "https://localhost:8080/",
          "height": 145
        },
        "id": "BFxMPT_XI1wE",
        "outputId": "cf209fc7-3a6a-4784-a821-a592172a70a0"
      },
      "execution_count": 45,
      "outputs": [
        {
          "output_type": "execute_result",
          "data": {
            "text/plain": [
              "'As shown by the World Cup Organizing Committee on Competition Operation:https://theme.archives.go.kr/next/worldCup2009/cuakLeague.do various foreign media and investigative agencies, the main argument was that the competition was a great event. It is true that there were concerns about co-hosting that was originally attempted for the first time in the World Cup history, but the two host countries in Korea and Japan operated the tournament perfectly under a close cooperation system. From the opening ceremony, it was evaluated that it was an opportunity to promote the image and status of Korea to the world as it was operated in all respects, including the management of the economy, safety, and participation of volunteers. In particular, the 2002 FIFA World Cup was a competition that achieved a surplus in terms of operation. The size was relatively larger than Japan, the co-hosted country, and it was recorded as the largest competition ever. Of course, it was never a coincidence. It was possible by the organizing committee\\'s thorough preparation and management mindset. It was not only because it cut costs and increased efficiency of work through transparent management and democratic decision-making process, but also increased profitability by applying thorough economic principles and management techniques to profit projects such as ticket sales, reception zone operations, store operations in the stadium, outdoor advertising businesses, and lottery businesses. The increase in revenue from ticket sales also showed the propaganda and public support of the national team, which exceeded expectations of the Korean team. One of the things Korea showed around the world through this tournament was a special meeting between sports events and culture called the FIFA World Cup. Korea has been able to inform the world through this World Cup tournament that it is a culture that boasts a permanent history and cultural tradition. To help people around the world recognize Korean culture properly, the World Cup Organizing Committee thought and practiced strategically. \"In other words, both the government and the organizing committee focused on completing a code called \"\"Cultural World Cup.\"\"\" Korea, on the other hand, also showed an amazing concentration between the government and the private sector through the 2002 FIFA World Cup. If Japan has played the World Cup with a focus on its own operation in the metropolitan city, which was decided to be the host city, Korea may have been different from that given that the government, the organizing committee and the private sector have exercised their overall capabilities at the same time. For the successful hosting of the competition, the National Assembly enacted a \"World Cup Support Special Act\" to support the organizational committee\\'s activities, and the government has organized an organization like the Security Countermeasures and Control Headquarters to fully deal with terrorism and other safety issues inside and outside the stadium. \"Guy Sorman, a prominent literary critic of France who was invited to Korea to the opening ceremony of the tournament on Korea\\'s efforts and competitiveness, did not spare the praise that Korea reminded the world through the 2002 FIFA World Cup Chest of Korea that \"\"it is possible to open the door of the world and modernize itself without losing my soul.\"\"\" As a member of Asia, South Korea has shown no regret over its national capabilities to promote its own traditional culture completely different from its surrounding countries and promote its status as an IT powerhouse. In this way, the 2002 FIFA World Cup Coup was recognized by Jata as a typical of the overall success World Cup. World Cup and Korean society in June 2002 and just 31 days, the world was in a pleasant shock. During the World Cup, leading media outlets around the world were paying attention to the same phenomenon in Korea. Joseph Blatter, chairman of the FIFA, said, \"It was a successful competition that cleaned up the concerns of co-hosting,\" was not simply limited to running the game. The propaganda of the Korean team, which was the first Asian country to advance to the semifinals in six rounds of World Cup finals, was also amazing, but the surprise of the world was not seen before by Koreans. In the first match against Poland on June 4, 2002, the street cheering squad, which reached 500,000, rose to 7 million in the semifinals against Germany, with 20% of the total population pouring into the square and into the streets. The world was surprised by the passion. But the surprise did not stop there. A large-scale street cheering squad covered the streets and India, but Koreans once again gave the world a wonder with order and integrity. But Koreans, who received praise from the world with civic sense of passion, order, and integrity, had their own amazing experience first than anyone else. The difference between region, class, and generation and gender quickly melted into the heat of the World Cup. However, patrioticism and nationalism, which the World Cup has put into, have not been exclusive and closed. South Korea\\'s cheering squad did not spare any applause for the opponent\\'s propaganda, and did not cause a훌ie Geon-sik disturbance inside or outside the stadium. The world couldn\\'t help but be surprised again in this area. In other words, Koreans have shown worldwide lessons that globalization and nationalism can harmonize into one. \"Another, even though hundreds of thousands of people gathered, Koreans who showed \"\"self-reliance\"\", \"\"ordination\"\" and \"\"citizens\\' consciousness\"\", and \"\"autional\"\" together found \"\"facility to enjoy and care for others\"\" from their own, and had the opportunity to transform them into a square culture from a secret room.\" It was a valuable gift that the World Cup brought to Koreans at the same time as it held a ceremony of reporting as a global citizen. \"Regarding this phenomenon, foreign media evaluated that \"\"Korea has proved to be at a level that can rise to the ranks of advanced countries in terms of culture and mental aspects, not just economically growth and development.\"\"\" The 2002 FIFA World Cup, which provides opportunities to shake off both layers, regions, generations and people, will be remembered as a successful commemorative event in reconciliation and order. \"The core of street cheering, which achieved a perfect organizational cheering and spectacular performance compared to any national team supporters in the red devil and the World Cup era, was the \"\"Red Devils,\"\" which was called the \"\"12th Taegeuk Warrior.\"\"\" In December 1995, more than 10 soccer club operators from PC Telecommunications Hiteel gathered to say the \"Kantata Declaration\" to improve the culture of football cheering began the \"Red Devil\" movement to show a new cheering culture. The red devil, who confirmed the official name in August 1997, began his \"Chiwucheon King\" (Ju Cheon-wang, the first time in a friendly match against Brazil in 1999) and started a passionate cheering campaign every time the national team\\'s A-match. \" \"It is analyzed that this new generation cheering group is \"\"because it insisted on the thorough backgrounds of commercialism and amateurism.\"\"\" It was the driving force for the red devil to gain full support from the people without damaging his pure passion for soccer, which was the starting point of the meeting. \"The red devil, who was accepted as a kind of cultural keyword beyond a simple cheering group, also brought the birth of a \"\"new human race\"\" called the W-generation (world Cup generation).\" In the late teens, these W-generation in their late 20s were evaluated as differentiated from the fourth and 19th generation of the King, the sixth and third generation and the 386 generation in that they were centered on fun and tastes, not ideology. But due to the birth gap, the W-generation showed several characteristics that the previous generation had not seen. First of all, they showed that if they could pursue tastes and common fun, they could be fairy taleed regardless of their opponents. This has been the basis for them to be free from the exclusivity to foreign countries or the sense of inferior to the past. Even in the match against Korea, which had played Parkbing every game, there was no cheering for defending or threatening the other team, and even in the semi-final match against Germany, which determines the final, or in the third-place match against Turkey, they showed the freedom to organize a cheering group to cheer for the other team. \"In other words, their patriotic sentiment was eliminated, and the older generation gave a positive assessment that \"\"the emergence of a generation with qualities as a global citizen.\"\"\" But it was not new that W-generation, who showed explosive energy that could not be imagined paradoxically, brought out. What they used as their own form of expression is different. It was not the national and national flag of Korea. But the W-generation played the national and flag, which were only the object of the Bible, in their own way. They re-examined the Republic of Korea and the Taegeukgi, showing the color of the national flag and red as a fashion tool with cheering slogan. It was an amazing idea to break the golden age of older generations at a time, and it was more than a fresh shock to previous generations who were tied to their sacrifices and collectiveism. The number of people cheering for the streets during the 2002 FIFA World Cup was estimated to exceed 20 million. This is 43% of the total population, and in Seoul, more than 8 million people gathered six times in front of City Hall and Gwanghwamun. This was an unprecedented cheering method and scale around the world, and global viewers, ranging from 42 billion lovers, could not help but admire it. But the important thing is that the outflow of such energy was not entirely voluntary, not by others. And such spontaneousity was also found in the back of the order and cleaning that were maintained in numerous people, and at the center of it was W-generation. \"Foreign soccer fans and foreign media, who were used to the hooligans\\' riots over the scene, fought in front of them, saying, \"\"It\\'s an incredible scene.\"\"\" One of the big features of W-generation, which has replaced the national flag, which was the subject of God, as a symbol of the wind and vitality of red, which was a color of social gold, not the Republic of Korea, as an item of familiar possession, was a horizontal combination based on individualism. It has become enough experience to realize that the voluntary dynamism of individual citizens is the driving force to lead the future society. It will be a valuable and rich harvest found by Koreans through the World Cup, as well as the余裕, flexibility and creativity that can enjoy the process itself, away from the excessive desire to win no matter what happens. If the World Cup and the 2002 FIFA World Cup in Korea confirmed Koreans\\' qualifications as global citizens and showed off their appearance as a top country around the world, it will be remembered as a long-cherished competition in the Korean soccer community that they have broken the wall of the world. Until now, South Korea had to experience repeated frustration, failing to win just one win in the fifth inning of the FIFA World Cup finals. The Korean team, which was the first to advance to the finals in the fifth Swiss tournament in 1954, succeeded in entering the finals for four consecutive times until the 1998 French tournament, starting with the 1986 Mexico tournament, but had to suffer from defeat. For the first time in the history of the tournament, it was the Korean national team that made headlines in this tournament, which was evaluated as the first World Cup in a true sense with a team entering the semi-final in the 5th continent. The South Korean team, which won its first match against Poland in the first round, scored two wins and one draw to reach the round of 16 with Group D, and was the host and the biggest peripheral role in the semi-final and semifinal match with the fall. In the meantime, South Korea has been recognized as a sports powerhouse, but it has not been able to get closer to the center of the world\\'s soccer industry divided into Europe and South America, so it has not escaped from the framework of Asian盟. But the Korean team, which had to solve the task of one win and the 16th round for pride as host country, repeated scientific and systematic training under Hiddink\\'s reasonable guidance, posting a record that no one had imagined at the 2002 FIFA World Cup. The Korean team\\'s propaganda in the tournament, dubbed a myth, was a valuable thing that could not be changed to any victory in that it was a result of breaking down the invisible wall of Korean sports on its own. The 2002 FIFA World Cup, which focused on the selection of players based on rationality and scientific training, will forever be recorded in the Korean soccer history as a competition that gave two achievements at once that they could join the ranks of advanced soccer countries. When the 2002 FIFA World Cup Ceremony, which was held by nearly half of the people of all population as lovers, ended, there was a high voice to take the heat after the World Cup. It is true that the successful hosting of the World Cup has raised the Korean soccer industry, which has been depressed, to a global level, but it came from concerns that it should not end in one-off. In the meantime, Koreans have been more enthusiastic about the national competition than any other country. While the TV ratings for the Korea-Japan match, the final qualifier for the Atlanta Olympics Asia in 1996, stood at a much lower level compared to Japan, which had been delayed in the professional league than Korea. Despite the creation of a myth in the World Cup, there were many concerns that the level of public interest in soccer will be sharply reduced after the tournament. \"It was the phrase of the card section \"\"CU@K League\"\" (K League), which appeared in the third-place match against Turkey, that showed the concerns of soccer fans.\" It was encouraging to connect the World Cup to Korea\\'s professional football league. It was not a once craze or boom, but a strong desire from soccer fans to reborn the depressed Korean soccer in the wake of the World Cup as a long-term perspective. In fact, the hosting of this tournament is an important economic cultural後광 effect obtained by the successful hosting of the World Cup, but in essence, it can be seen as an attraction in terms of reform of Korean football and long-term development measures. In that regard, the Korean team\\'s semifinal myth was an unexpected achievement to serve as the foundation. The problem is that the heat should be connected to the World Cup. The motivation for the reform of Korean soccer is enough for the World Cup, and the construction of a major infrastructure, including securing stadiums, has also been completed naturally. From now on, we need to prepare for the post World Cup. \"We will have to establish projects such as \"\"Planning to Promote Youth Football\"\" that will bring about long-term development, and come up with active and reasonable measures for tasks such as the establishment of a \"\"Dvision System\"\" and \"\"Maintenance of Academy Football System,\"\" \"\"Activation of Unemployment Football.\"\"\" This is because it will be the driving force to specialize in the meaning of the 2002 FIFA World Cup.'"
            ],
            "application/vnd.google.colaboratory.intrinsic+json": {
              "type": "string"
            }
          },
          "metadata": {},
          "execution_count": 45
        }
      ]
    },
    {
      "cell_type": "code",
      "source": [
        "# 속도가 조금 더 빠른 모델\n",
        "fast_trans = Pororo(task='translation', lang ='multi', model='transformer.large.multi.fast.mtpg') # 5분 소요\n",
        "fast_trans(txt, src='ko',tgt='en')"
      ],
      "metadata": {
        "colab": {
          "base_uri": "https://localhost:8080/",
          "height": 163
        },
        "id": "AB6SKScbJvKa",
        "outputId": "812deabd-b3c6-4dae-83f0-606f029ce225"
      },
      "execution_count": 46,
      "outputs": [
        {
          "output_type": "stream",
          "name": "stderr",
          "text": [
            "\n"
          ]
        },
        {
          "output_type": "execute_result",
          "data": {
            "text/plain": [
              "'As shown in a survey by foreign media and investigative agencies, it was a great competition. It is true that there were concerns about the joint hosting, which was originally attempted for the first time in the World Cup history, but the two host countries in Korea and Japan completely ran the competition under a close cooperation system. From the opening ceremony, it was an opportunity to inform the world a new image and status of Korea by operating in all aspects, including economic operations, safety, and participation of volunteers. In particular, the 2002 FIFA World Cup FIFA World Cup was a competition in terms of operation. The size was relatively larger than Japan, the joint host country, and it was recorded as the largest ever. Of course, it was never a coincidence. This was possible by the organizing committee\\'s thorough preparation and management mind. In addition to reducing costs and enhance the efficiency of work through transparent management and democratic decision-making process, as well as improving profitability by applying thorough economic principles and management techniques to profit projects such as the ticket sales project, the Yeongseok district operation project, a store operation in the stadium, outdoor advertising projects, and lottery projects. The increase in revenue for tickets also also showed the propaganda and public support for the national team, which exceeded the expectations of the Korean team. One of the things Korea showed around the world through this tournament was a special meeting between sports event and culture called the FIFA World Cup. Korea was able to inform the world through the World Cup tournament that boasts its promising history and cultural traditions. The World Cup Organization Committee thought and practiced at a strategic level so that people around the world can properly recognize Korean culture properly. Both the government and the organizational committee focused on completing a code called \"Cultural World Cup\".\" Meanwhile, Korea also showed a remarkable unity between the government and the private sector through the 2002 FIFA World Cup. If Japan held the World Cup, focusing on its own operation of the metropolitan city, Korea may be seen as different in that the government, organizing committees and the private sector at the same time. For the successful hosting of the competition, the National Assembly enacted a \"World Cup Support\" to support the activities of organizations such as the Safety Countermeasures Control Headquarters to complete terrorism and other safety issues inside and outside the stadium. \"Guy Sonman, a famous French critic who invited Korea to the opening ceremony of the tournament, praised Korea\\'s efforts and competitiveness, reminded all over the world that \"\"it is possible to open the door of the world and modernize itself.\"\" As a member of Asia, the nation\\'s competence to promote its unique traditional culture that is completely different from its neighboring countries, and at the same time showed its national capabilities to play a surplus competition. As such, the 2002 FIFA World Cup FIFA World Cup was able to acknowledge it as a total of success World Cup. The world was in a pleasant shock for the World Cup and the Korean Society 2002 and only 31 days. During the World Cup, the leading media outlets around the world paid keen attention to the phenomenon of being held in Korea. Joseph Blatter, FIFA Chairman Joseph Blater\\'s remarks, saying, \"It was a successful competition that cleared the concerns of the joint hosting.\" Although the Korean team, which succeeded in entering the semifinals for the first Asian country for the first time in the World Cup finals, it was also a great fact that it surprised the world than that was seen before. The street cheering group, which reached 500,000 people in the first match against Poland on June 4, 2002, rose to 7 million people in the semi-final match against Germany, with 20% of the total population poured into the streets. The world was surprised by the passion. But the surprise did not stop there. A large-scale street cheering groups covered streets and India, but Koreans once again gave the world a surprise to the world. But Koreans, who gained praise from the world with a citizen\\'s sense of passion, order and innocence, had a surprising experience before anyone else. Differences between regions and classes, generations and gender quickly melted in the heat of the World Cup. Thus, the patriotic and nationalism that the World Cup was not exclusive and closed. South Korea\\'s cheering team did not spare applause on the opponent\\'s propaganda, and did not cause the Juligan ceremony inside or outside the stadium. The world couldn\\'t help but be surprised again from this point. In other words, Koreans showed the world a lesson that globalization and nationalism can be harmonized into one. Another thing, even though hundreds of thousands of people gathered, Koreans, who showed their self-reliance, order, and \"citizens\\' consciousness,\" without any safety accidents, discovered \"free to consider others\" and have the opportunity to transform from a secret room culture to a square culture. It was a valuable gift that the World Cup brought to Koreans to feel freedom, responsibility and pride while holding a reporting ceremony as a world citizen. \"Regarding this phenomenon, foreign media said, \"\"It proved that Korea is not a country that is only in economic growth and development, but also in terms of culture and mental aspects.\"\"\" The 2002 FIFA World Cup FIFA World Cup, which provides opportunities to shake off both layers, regions, generations and ethnicity, will be remembered as a commemorative contest that was held successfully in reconciliation and order. \"The core of street cheering, which achieved systematic cheering and ministers from any other national team in the World Cup era, there was \"\"Red Devils,\"\" which was called the \"\"12th Taegeuk Warrior\"\".\" In December 1995, more than 10 soccer clubs from PC Telecommunications Hiteel gathered in December 1995 to promote the culture of football cheering culture. The red devil, who confirmed its official name in August 1997, was the first time in a friendly match against Brazil in 1997, followed by \"Cheew Chi Woocheon\" (Kang Yu-cheon, first friendly game against Brazil and Brazil in 1999). \"It is analyzed that the new generation cheering group insisted on \"\"the thorough exclusion of commercialism and amateurism.\"\"\" It was the driving force that the red devil gained full support from the people without any noise. \"The red devil, who has been accepted as a kind of cultural keyword beyond a simple cheering group, also brought the birth of a \"\"new mankind\"\".\" In the late teenagers and late 20s were evaluated as a generation that is different from the 4 and 19th generation, 6, 3rd generations and 386 generations, given that they consist of fun and tastes rather than ideology. But the biological differences led to the W-generation showed several characteristics that the previous generation had not seen. First of all, they showed the characteristic that they could be fairy tales regardless of their opponents if they could pursue their tastes and common fun. This was the basis for them to be free from exclusiveism to foreign countries or the sense of inequality related to past history. Even in the Korean match, which played a big game in every game, we could not find cheering for the opponent\\'s team in the semi-final match against Germany, which determines the final or the third-place decision against Turkey, they even showed room to organize a cheering team to cheer the opponent. In other words, their affection was eliminated, and the older generation had a positive assessment that it was \"the emergence of generations with qualities as a world citizen.\"\"\" But paradoxically, it was not new for W generations, who showed explosive energy. what they used it as their expression It was not the Korean flag and the flag of the Republic of Korea. But the W-generation, however, played the national flag and flag, which were only subject of faith, in their own way. They re-examined the Republic of Korea and the Taegeukgi and red-colored fashion tools with cheering slogan. It was a surprising idea that breaks the gold of older generations at once, and it was more than fresh shock to the previous generation, who had been tied to self-reliance and collectiveism. During the 2002 FIFA World Cup FIFA World Cup, more than 20 million people. This is 43% of the entire nation, with more than 8 million people gathered six times in front of City Hall and Gwanghwamun four streets alone. This was an unprecedented cheering method and size that could not be seen around the world, and global viewers of 42 billion people in the world were shocked. But what\\'s important is that the emission of energy was not by others but completely voluntary. And such autonomy was also found in the back-door cleaning such as order and cleaning that remained in numerous crowd, and there were W generation. Foreign soccer fans and foreign media, who were used to the juligans\\' disturbance, reported that it was an incredible scene. One of the big features of the W-generation, which replaced the flag, which was the subject of faith, as a symbol of the wind and vitality, and one of the great characteristics of the W generation that had been a horizontal combination based on individualism beyond the vertical communityism of collectiveism. That was enough experience to realize that the voluntary dynamism of individual citizens is the driving force to lead the future society. The freedom, flexibility and creativity to enjoy the process itself, free from excessive desire to win whatever happens, will be the precious jewelry and rich harvest found by Koreans through the World Cup. If the World Cup and Korea\\'s Sports 2002 FIFA World Cup FIFA World Cup Koreans had confirmed their qualifications as a world citizen and showed off their appearance as a top-class country, it would be remembered as a competition that achieved the walls of the world. Until now, South Korea had to experience repeated frustration as it couldn\\'t take a single win in the FIFA World Cup finals. The Korean team, which advanced to the finals for the first time in the fifth Swiss tournament in 1954, succeeded in entering the finals four consecutive times until the 1998 French tournament, but it had to listen to the suffering of defeat. For the first time in the history of the tournament, it was the Korean national team that came out to the semi-June finals came out in five continent for the first time. The Korean team, which caught the first win in the finals against Poland, which was the first match in the first round, scored two wins and one draw, reaching the round of 16, and became the host and the largest player in the event of the semi-final match and semi-finals. It is true that Korea has been recognized as a sports powerhouse in Olympics, but it has not been able to escape from the framework of Asia because it could not approach the center of the world\\'s so divided into Europe and South America. But the Korean team, which had to address the task of advance to the round of 16 for pride as a host country, continued scientific and systematic training under the rational guidance of Hiddink, posting the results that no one could have imagined at the 2002 FIFA World Cup. The Korean team\\'s propaganda in the tournament, called the myth, was a valuable thing that could not change from any victory, given that it was a result of destroying the invisible walls of Korean sports. If focuses on selecting players based on rationality and scientific training, the 2002 FIFA World Cup FIFA World Cup Korean football history and the creation of a new cheering culture, will be recorded forever for Korean soccer history. According to the end of the 2002 FIFA World Cup FIFA World Cup, where nearly half of the entire population supported the streets, the voices of bringing the fever to after the World Cup. It is true that the successful host of the World Cup has raised South Korea\\'s soccer community, which had been in a slump, to the world\\'s level, but it was said that it should not end in one-off. In the meantime, Koreans have been more enthusiastic about the national competition. While the 1996 Atlanta Olympic Asian region, the final qualifying round for Asia in the Atlanta Olympics Asian region in 1996, was a remarkable figure of 70.5 percent, while interest in professional football remained far below Korea. Despite the creation of a myth in the World Cup, there were many concerns that the level of public interest in football will be sharply lowered after the tournament. \"It was the phrase of the card section called \"\"CU@ K League\"\" (Let you in the K League), which appeared in the third place match against Turkey.\" It was encouraging to connect the heat of the World Cup to Korea\\'s professional football league. It was not one-time craze or boom, but a strong desire of soccer fans\\' strong desire to make Korean soccer with a long-term perspective. In fact, the hosting of the tournament is also important for economic and cultural consequences obtained by the successful host of the World Cup, but in essence, it can be seen as being attracted in terms of reform of Korean football and long-term development measures. In that regard, the Korean team\\'s semifinals was an unexpected achievement to be the foundation. The problem is that the heat should be connected directly after the World Cup. The motivation for the reform of Korean football has been fully carried out by the World Cup, and massive infrastructure, such as securing stadiums, have also been completed naturally. From now on, we need to prepare for the post World Cup. \"It is necessary to establish projects such as the \"\"Youth Football Promotion Plan\"\" that will bring long-term development, and provide active and reasonable measures for tasks such as \"\"building of academic football systems\"\" and \"\"vitalization of unemployment football.\"\"\" This is because it will be the driving force to make a special sense of the 2002 FIFA World Cup Korea.'"
            ],
            "application/vnd.google.colaboratory.intrinsic+json": {
              "type": "string"
            }
          },
          "metadata": {},
          "execution_count": 46
        }
      ]
    },
    {
      "cell_type": "markdown",
      "source": [
        "- 원문 : \n",
        "\n",
        "각종 외신과 조사기관의 설문 조사에서 나타나듯, 이번 대회는 훌륭하게 치러진 대회였다는 것이 중론이었다. 당초 월드컵 사상 처음으로 시도된 공동 개최에 대한 우려가 있었던 것도 사실이지만, 한국과 일본 두 개최국은 긴밀한 공조 체제 아래 완벽하게 대회를 운영했다는 것이다. 개막식에서부터 경기 운영과 안전, 자원 봉사자 참여 등 모든 면에서 흠잡을 데 없이 운영돼 한국에 대한 이미지와 위상을 새롭게 세계에 알리는 계기가 되었다는 평가가 뒤따랐다.\n",
        "\n",
        "- 일반 모델 :\n",
        "\n",
        "As shown by the World Cup Organizing Committee on Competition Operation:https://theme.archives.go.kr/next/worldCup2009/cuakLeague.do various foreign media and investigative agencies, the main argument was that the competition was a great event. It is true that there were concerns about co-hosting that was originally attempted for the first time in the World Cup history, but the two host countries in Korea and Japan operated the tournament perfectly under a close cooperation system.\n",
        "\n",
        "- fast.mtpg 모델 :\n",
        "\n",
        "As shown in a survey by foreign media and investigative agencies, it was a great competition. It is true that there were concerns about the joint hosting, which was originally attempted for the first time in the World Cup history, but the two host countries in Korea and Japan completely ran the competition under a close cooperation system.\n",
        "\n",
        "- 분량 부분에서 발생하는 차이부터 알 수 있듯이, fast.mtpg보다 일반 모델이 조금 더 충실하고 원문에 가까운 결과를 도출했다.\n",
        "\n",
        "\n"
      ],
      "metadata": {
        "id": "TGPCFLnSPSeT"
      }
    },
    {
      "cell_type": "markdown",
      "source": [
        "# 4. 이미지 캡셔닝"
      ],
      "metadata": {
        "id": "FTwNOGNX2LKp"
      }
    },
    {
      "cell_type": "code",
      "source": [
        "!pip install gdcm  # 이미지 인코딩 오류 발생\n",
        "from pororo.pororo import SUPPORTED_TASKS\n",
        "\n",
        "SUPPORTED_TASKS['caption'].get_available_langs()"
      ],
      "metadata": {
        "colab": {
          "base_uri": "https://localhost:8080/"
        },
        "id": "uKQJEqC62Mc3",
        "outputId": "6b04e6d4-c476-444b-a390-f2135dadc497"
      },
      "execution_count": 11,
      "outputs": [
        {
          "output_type": "execute_result",
          "data": {
            "text/plain": [
              "['en', 'ko', 'zh', 'ja']"
            ]
          },
          "metadata": {},
          "execution_count": 11
        }
      ]
    },
    {
      "cell_type": "code",
      "source": [
        "# 캡셔닝 객체 생성\n",
        "caption = Pororo(task ='caption' , lang = 'ko')"
      ],
      "metadata": {
        "colab": {
          "base_uri": "https://localhost:8080/",
          "height": 304,
          "referenced_widgets": [
            "153982cc02ea4bf3bd85f03d105816fa",
            "56f64172af4040108160550b7cc88a42",
            "d574402c28a34772964cb9d6d6240461",
            "3e4c7884552a464f9f7d1ea71ed5bf48",
            "4d64c9033c554d399f4f8a1d376b0893",
            "773abf240daa48399a4ce0300625efb9",
            "5ffbe395168e45b1af51bc56051296a7",
            "8041668fe2e24c7ab55b07618889cb16",
            "65479cfd222f4384918a1efc1c450c42",
            "bebfb73da75345d98dcd5aeaa554e066",
            "4358d7ee05d24d26889ebde0043c0316",
            "ff3760e712fb41b9967d2a87e19274aa",
            "67bea5204df642feb63318a9f330a207",
            "516a8c73042c45ceafc29297fc0c1cb7",
            "586c18ebf20544f69bf3c2666483f81d",
            "8967e816f2d94b2d9b5ad4967b6abcef",
            "5ad72d32187e42e888c062e250d008a1",
            "306eef5982e74a5f94587c5d7716948f",
            "17ffeb0d39284eb79e15e78a71bafe21",
            "1092f08cea5f4878bfabf5cda376392c",
            "384d2e7599e24c18b58a05d6dfea068c",
            "2b2d3c69be0b405d91cdded7c62f89ca",
            "c515d8107d4846f1a63dab83afce782f",
            "98083a5066b843d29edc17dea207c0fc",
            "9a5ee436010c45ec870bd0641b4d4e78",
            "1b8b374382e74d38811e7df2d2abeb3f",
            "c9210210bdc54545af3e3a28f0a1a45c",
            "b35c88d0547949df860019f94bb5b293",
            "81d2c04a8ddf4ec38cef0d4652d847b9",
            "b0bfc0b9087d4fd8bab2105bd4cc31fb",
            "c4c92fba6500485481cdbf6193c00300",
            "b8b9ac82bb2647e88247a5305b73a561",
            "356a4626e87144d0990ada6bdc4f0afe",
            "07a9c54c8ff04b48abde09a8eff08378",
            "5985750ecf9c4268b6367da883fad96c",
            "1b49abdf4f8b4ed0a4eb5a3c0372e5dd",
            "a834ba14da9640098a192e46be286448",
            "51c7e5478e894cd186973d1db912c8d7",
            "ee6561a57c5b4f6eb5f1bcbf9513dab9",
            "b1a3538ff8614a40b29a374b012a633a",
            "af5af7a4afb2475592f5973453065996",
            "e390517705a9486e84cbad9306ce6df7",
            "fa2ab813f42746c3867f4934a1eb2f30",
            "0498453c8be644388d27ed432027222a",
            "4913c7f79d5c48549236fef7111d6a3f",
            "367e24fa81cc4051831a1f9851668db5",
            "476f1077e37e4ceb9eaa2c19b4e0a121",
            "333c816bbb824b7489c16aca899aebbb",
            "00da0878c02a4e7c93f03e51aa6760ab",
            "2bb6d6f1997e4dad967237db9fa17d93",
            "b8bb8b5470394a84bff6990ff8d5470a",
            "ad25aa82d9e148fabf821cc70f87aceb",
            "db55b40485764e88aac7bcd798dff7ea",
            "7d3eff8e80674610832ac1bfdb9cee12",
            "ed8b3f15840c4abf981dc372db656704"
          ]
        },
        "id": "rwa7QLP32NyB",
        "outputId": "027d7652-e3d1-4f11-a257-f4c3a35ed6e8"
      },
      "execution_count": 12,
      "outputs": [
        {
          "output_type": "stream",
          "name": "stderr",
          "text": [
            "\n"
          ]
        },
        {
          "output_type": "display_data",
          "data": {
            "text/plain": [
              "Downloading:   0%|          | 0.00/232k [00:00<?, ?B/s]"
            ],
            "application/vnd.jupyter.widget-view+json": {
              "version_major": 2,
              "version_minor": 0,
              "model_id": "153982cc02ea4bf3bd85f03d105816fa"
            }
          },
          "metadata": {}
        },
        {
          "output_type": "display_data",
          "data": {
            "text/plain": [
              "Downloading:   0%|          | 0.00/28.0 [00:00<?, ?B/s]"
            ],
            "application/vnd.jupyter.widget-view+json": {
              "version_major": 2,
              "version_minor": 0,
              "model_id": "ff3760e712fb41b9967d2a87e19274aa"
            }
          },
          "metadata": {}
        },
        {
          "output_type": "display_data",
          "data": {
            "text/plain": [
              "Downloading:   0%|          | 0.00/570 [00:00<?, ?B/s]"
            ],
            "application/vnd.jupyter.widget-view+json": {
              "version_major": 2,
              "version_minor": 0,
              "model_id": "c515d8107d4846f1a63dab83afce782f"
            }
          },
          "metadata": {}
        },
        {
          "output_type": "stream",
          "name": "stderr",
          "text": [
            "Downloading: \"https://github.com/facebookresearch/detr/archive/master.zip\" to /root/.cache/torch/hub/master.zip\n",
            "Downloading: \"https://download.pytorch.org/models/resnet50-19c8e357.pth\" to /root/.cache/torch/hub/checkpoints/resnet50-19c8e357.pth\n"
          ]
        },
        {
          "output_type": "display_data",
          "data": {
            "text/plain": [
              "  0%|          | 0.00/97.8M [00:00<?, ?B/s]"
            ],
            "application/vnd.jupyter.widget-view+json": {
              "version_major": 2,
              "version_minor": 0,
              "model_id": "07a9c54c8ff04b48abde09a8eff08378"
            }
          },
          "metadata": {}
        },
        {
          "output_type": "stream",
          "name": "stderr",
          "text": [
            "Downloading: \"https://dl.fbaipublicfiles.com/detr/detr-r50-e632da11.pth\" to /root/.cache/torch/hub/checkpoints/detr-r50-e632da11.pth\n"
          ]
        },
        {
          "output_type": "display_data",
          "data": {
            "text/plain": [
              "  0%|          | 0.00/159M [00:00<?, ?B/s]"
            ],
            "application/vnd.jupyter.widget-view+json": {
              "version_major": 2,
              "version_minor": 0,
              "model_id": "4913c7f79d5c48549236fef7111d6a3f"
            }
          },
          "metadata": {}
        },
        {
          "output_type": "stream",
          "name": "stderr",
          "text": [
            "\n",
            "\n",
            "\n"
          ]
        }
      ]
    },
    {
      "cell_type": "markdown",
      "source": [
        "__(1) 시도 1__"
      ],
      "metadata": {
        "id": "Pp-QKlW8S1i5"
      }
    },
    {
      "cell_type": "markdown",
      "source": [
        "- 원본 이미지 \n",
        "![img](https://media.newyorker.com/photos/6286c8f77570e8be106c54ce/master/w_2560%2Cc_limit/Shouts-Webster-NotSuitable-WontBeHavingKids.jpg)\n"
      ],
      "metadata": {
        "id": "y-BgogeqSUjC"
      }
    },
    {
      "cell_type": "code",
      "source": [
        "# 이미지 캡션\n",
        "caption('https://media.newyorker.com/photos/6286c8f77570e8be106c54ce/master/w_2560%2Cc_limit/Shouts-Webster-NotSuitable-WontBeHavingKids.jpg')"
      ],
      "metadata": {
        "colab": {
          "base_uri": "https://localhost:8080/",
          "height": 35
        },
        "id": "XP7lsbrV2dzb",
        "outputId": "c49d7a19-2188-4409-dab1-489b20bf29dc"
      },
      "execution_count": 51,
      "outputs": [
        {
          "output_type": "execute_result",
          "data": {
            "text/plain": [
              "'모자를 쓰고 야구장갑을 들고 있는 남자가 있다.'"
            ],
            "application/vnd.google.colaboratory.intrinsic+json": {
              "type": "string"
            }
          },
          "metadata": {},
          "execution_count": 51
        }
      ]
    },
    {
      "cell_type": "markdown",
      "source": [
        "- 모자를 쓰고 있는 것은 맞으나, 해당 사진 속 인물이 아기인 점은 인식하지 못했으며, 야구 장갑을 들고 있다는 설명 역시 틀리다."
      ],
      "metadata": {
        "id": "QBlkf8n2Soyz"
      }
    },
    {
      "cell_type": "markdown",
      "source": [
        "__(2) 시도 2__"
      ],
      "metadata": {
        "id": "JrmCzrWwS4GW"
      }
    },
    {
      "cell_type": "markdown",
      "source": [
        "- 원본 이미지\n",
        "![img](https://cff2.earth.com/uploads/2018/07/25115124/Kids-now-spend-twice-as-much-time-playing-indoors-than-outdoors.jpg)"
      ],
      "metadata": {
        "id": "wRs7Y_PGS8Zw"
      }
    },
    {
      "cell_type": "code",
      "source": [
        "caption('https://cff2.earth.com/uploads/2018/07/25115124/Kids-now-spend-twice-as-much-time-playing-indoors-than-outdoors.jpg')"
      ],
      "metadata": {
        "colab": {
          "base_uri": "https://localhost:8080/",
          "height": 35
        },
        "id": "tOjxqPYV28ja",
        "outputId": "deddd922-2554-4efc-b077-3da9e3f9c6a2"
      },
      "execution_count": 52,
      "outputs": [
        {
          "output_type": "execute_result",
          "data": {
            "text/plain": [
              "'한 무리의 젊은이들이 축구 경기를 하고 있다'"
            ],
            "application/vnd.google.colaboratory.intrinsic+json": {
              "type": "string"
            }
          },
          "metadata": {},
          "execution_count": 52
        }
      ]
    },
    {
      "cell_type": "markdown",
      "source": [
        "- 여전히 사진 속 인물들이 어린이라는 점은 인식하지 못하였으나, 행위는 제대로 인식하였다."
      ],
      "metadata": {
        "id": "wpLyzNnzTU71"
      }
    },
    {
      "cell_type": "markdown",
      "source": [
        "__(3) 시도 3__\n",
        "\n",
        "- 원본 이미지\n",
        "\n",
        "\n",
        "\n",
        "![img](https://mediahub.seoul.go.kr/uploads/mediahub/2022/05/VUnchIZiEjKEOWqNHFLOyzFXLLYZYAfy.jpg)"
      ],
      "metadata": {
        "id": "5CrdZnVTTbIY"
      }
    },
    {
      "cell_type": "code",
      "source": [
        "caption('https://mediahub.seoul.go.kr/uploads/mediahub/2022/05/VUnchIZiEjKEOWqNHFLOyzFXLLYZYAfy.jpg')"
      ],
      "metadata": {
        "colab": {
          "base_uri": "https://localhost:8080/",
          "height": 35
        },
        "id": "A0B3GthOTQCX",
        "outputId": "a70b5be3-756e-4a03-bcee-5ece5a5360a1"
      },
      "execution_count": 53,
      "outputs": [
        {
          "output_type": "execute_result",
          "data": {
            "text/plain": [
              "'두 사람이 거리를 걷고 있다'"
            ],
            "application/vnd.google.colaboratory.intrinsic+json": {
              "type": "string"
            }
          },
          "metadata": {},
          "execution_count": 53
        }
      ]
    },
    {
      "cell_type": "markdown",
      "source": [
        "- 북촌한옥마을의 사진이나, 한옥이나 주변 건물, 지형지물에 대한 설명보다는 사진 속 인물들에 대한 설명을 달고 있다.\n",
        "- 예제 코드의 경우 건물들에 대한 설명이 달려 있었지만, 앞선 사례들을 통해, Pororo의 캡션은 사진 속에 인물이 등장하는 경우 인물을 위주로 설명글이 생성되는 것을 확인할 수 있다.\n",
        "-  인물의 대략적인 나이대(영유아, 어린이, 청소년, 성인)를 파악하는 것에는 다소 미흡한 성능을 보이는 것도 확인할 수 있다."
      ],
      "metadata": {
        "id": "SbPakuLYUAYr"
      }
    }
  ]
}