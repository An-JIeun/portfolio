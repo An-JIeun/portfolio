{
 "cells": [
  {
   "cell_type": "markdown",
   "metadata": {},
   "source": [
    "# 0. 라이브러리 임포트"
   ]
  },
  {
   "cell_type": "code",
   "execution_count": 99,
   "metadata": {},
   "outputs": [],
   "source": [
    "#%pip install selenium\n",
    "import bs4\n",
    "from bs4 import BeautifulSoup\n",
    "import pandas as pd\n",
    "import numpy\n",
    "import warnings\n",
    "import re\n",
    "import requests\n",
    "import urllib\n",
    "import time\n",
    "import selenium\n",
    "from selenium.webdriver.common.by import By\n",
    "from selenium import webdriver\n",
    "import urllib\n",
    "from urllib.request import urlopen \n",
    "\n",
    "options = webdriver.ChromeOptions()\n",
    "# options.add_argument('headless') # 옵션 적용 시 에러 발생\n",
    "driver = webdriver.Chrome(options = options)\n",
    "warnings.filterwarnings(action='ignore')\n"
   ]
  },
  {
   "cell_type": "markdown",
   "metadata": {},
   "source": [
    "# 1. 크롤링\n",
    "개요, 연혁, 교육이념, 교육목표, 전공소개, 학과 안내, 강의교과목"
   ]
  },
  {
   "cell_type": "markdown",
   "metadata": {},
   "source": [
    "## 1-1. 중앙대학교"
   ]
  },
  {
   "cell_type": "code",
   "execution_count": 100,
   "metadata": {},
   "outputs": [],
   "source": [
    "# 세부 페이지 접속 함수\n",
    "def go_to(dept1_idx, dept2_idx):\n",
    "    driver = webdriver.Chrome(options = options)\n",
    "    driver.get(\"https://lis.cau.ac.kr/\")\n",
    "    time.sleep(1)\n",
    "    driver.find_element('xpath','//*[@id=\"gnavigation\"]').click()\n",
    "    driver.find_element('xpath','//*[@id=\"gnavigation\"]/ul/li[1]/a').click()\n",
    "    driver.find_element('xpath','//*[@id=\"gnavigation\"]/ul/li[1]/div/div/ul/li[%s]/a[%s]'%(dept1_idx, dept2_idx)).click()\n",
    "    return driver"
   ]
  },
  {
   "cell_type": "code",
   "execution_count": 101,
   "metadata": {},
   "outputs": [],
   "source": [
    "# 크롤링\n",
    "cau = ' '\n",
    "\n",
    "# 개요 / 연혁\n",
    "driver = go_to(1,1)\n",
    "cont1 = driver.find_element('xpath','//*[@id=\"contents\"]/dl[1]/dd[4]').text\n",
    "cont2 = driver.find_element('xpath','//*[@id=\"contents\"]/dl[1]/dd[6]').text\n",
    "cau = cau + cont1+cont2\n",
    "driver.close()\n",
    "\n",
    "# 교육 이념\n",
    "driver = go_to(1,2)\n",
    "cont3 = driver.find_element('xpath', '//*[@id=\"contents\"]/dl[1]/dd[3]/span').text\n",
    "cont4 = driver.find_element('xpath','//*[@id=\"contents\"]/dl[1]/dd[6]/span').text\n",
    "cont5 = driver.find_element('xpath','//*[@id=\"contents\"]/dl[1]/dd[8]/span').text\n",
    "cont6 = driver.find_element('xpath','//*[@id=\"contents\"]/dl[1]/dd[10]/span').text\n",
    "cont7 = driver.find_element('xpath','//*[@id=\"contents\"]/dl[1]/dd[12]').text\n",
    "cont8 = driver.find_element('xpath','//*[@id=\"contents\"]/dl[1]/dd[14]/span').text\n",
    "cau = cont3+cont4+cont5+cont6+cont7+cont8+cau\n",
    "driver.close()\n",
    "\n",
    "# 교과 과정\n",
    "temp_li=[]\n",
    "driver = go_to(3,3)\n",
    "\n",
    "td = driver.find_elements('xpath','//*[@id=\"contents\"]/dl[1]/table[1]/tbody')\n",
    "td = td[0].text.split('\\n')\n",
    "temp_li += td\n",
    "for x in range(1,5,1):\n",
    "    text= driver.find_element('xpath','//*[@id=\"contents\"]/dl[1]/div[%s]'%str(x)).text\n",
    "    temp_li.append(text)\n",
    "for x in temp_li:\n",
    "    cau += x\n",
    "driver.close()"
   ]
  },
  {
   "cell_type": "markdown",
   "metadata": {},
   "source": [
    "## 1-2. 연세대학교"
   ]
  },
  {
   "cell_type": "code",
   "execution_count": 127,
   "metadata": {},
   "outputs": [],
   "source": [
    "# 세부 페이지 접속 함수\n",
    "def go_to_y(dept1_idx, dept2_idx):\n",
    "    driver = webdriver.Chrome(options = options)\n",
    "    driver.get(\"https://yslis.yonsei.ac.kr/doai/index.do\")\n",
    "    time.sleep(1)\n",
    "    \n",
    "    # 마우스 오버 \n",
    "    action_dir = driver.find_element('xpath','//*[@id=\"item_body\"]/header/div[2]/div/div/ul/li[%s]/a'%dept1_idx)\n",
    "    act = webdriver.ActionChains(driver)\n",
    "    act.move_to_element(action_dir).perform() # 마우스 오버 시켜야 상세 메뉴 나타남\n",
    "    act.perform()\n",
    "\n",
    "    # 요소 찾기\n",
    "    driver.find_element('xpath','//*[@id=\"item_body\"]/header/div[2]/div/div/ul/li[%s]/ul/li[%s]/a'%(dept1_idx, dept2_idx)).click()\n",
    "    return driver"
   ]
  },
  {
   "cell_type": "code",
   "execution_count": 125,
   "metadata": {},
   "outputs": [],
   "source": [
    "# 크롤링\n",
    "yon = ''\n",
    "\n",
    "# 학과 소개\n",
    "driver  = go_to_y(1,1)\n",
    "t = driver.find_element('xpath','//*[@id=\"jwxe_main_content\"]/div').text\n",
    "yon += t\n",
    "driver.close()\n",
    "\n",
    "# 학과 연혁\n",
    "driver = go_to_y(1,2)\n",
    "t = driver.find_element('xpath','//*[@id=\"his2000\"]').text\n",
    "yon += t\n",
    "driver.find_element('xpath','//*[@id=\"jwxe_main_content\"]/div/div/div[1]/ul/li[2]/a').click()\n",
    "t2 = driver.find_element('xpath','//*[@id=\"his1990\"]').text\n",
    "yon += t2\n",
    "driver.close()\n",
    "\n",
    "# 교과 과정\n",
    "driver = go_to_y(3,1)\n",
    "t = driver.find_element('xpath','//*[@id=\"jwxe_main_content\"]').text\n",
    "yon += t\n",
    "driver.close()\n"
   ]
  },
  {
   "cell_type": "markdown",
   "metadata": {},
   "source": [
    "## 1-3. 성균관대학교"
   ]
  },
  {
   "cell_type": "code",
   "execution_count": 130,
   "metadata": {},
   "outputs": [],
   "source": [
    "# 세부 페이지 접속 함수\n",
    "def go_to_s(dept1_idx, dept2_idx):\n",
    "    driver = webdriver.Chrome(options = options)\n",
    "    driver.get(\"https://lis.skku.edu/lis/index.do\")\n",
    "    driver.maximize_window()\n",
    "    time.sleep(1)\n",
    "    \n",
    "    # 마우스 오버 \n",
    "    action_dir = driver.find_element('xpath','//*[@id=\"item_body\"]/header/div[2]/div[2]/div/div[2]/div/ul/li[%s]/a'%dept1_idx)\n",
    "    act = webdriver.ActionChains(driver)\n",
    "    act.move_to_element(action_dir).perform() # 마우스 오버 시켜야 상세 메뉴 나타남\n",
    "    act.perform()\n",
    "\n",
    "    # 요소 찾기\n",
    "    driver.find_element('xpath','//*[@id=\"item_body\"]/header/div[2]/div[2]/div/div[2]/div/ul/li[%s]/ul/li[%s]/a'%(dept1_idx, dept2_idx)).click()\n",
    "    return driver\n"
   ]
  },
  {
   "cell_type": "code",
   "execution_count": 145,
   "metadata": {},
   "outputs": [],
   "source": [
    "# 크롤링\n",
    "skk = ' '\n",
    "\n",
    "# 인사말  - 준비중\n",
    "\n",
    "# 학과 연혁\n",
    "driver = go_to_s(1,2)\n",
    "t = driver.find_element('xpath', '//*[@id=\"jwxe_main_content\"]').text\n",
    "skk += t\n",
    "driver.close()\n",
    "\n",
    "# 교육 목표 및 학과 안내\n",
    "driver = go_to_s(1,3)\n",
    "t = driver.find_element('xpath','//*[@id=\"jwxe_main_content\"]').text\n",
    "skk += t\n",
    "driver.close()\n",
    "\n",
    "# 교육과정\n",
    "driver = go_to_s(2,1)\n",
    "for i in range(2,5,1):\n",
    "    t = driver.find_element('xpath','//*[@id=\"jwxe_main_content\"]/div[1]/div/table/tbody').text\n",
    "    skk += t\n",
    "    driver.find_element('xpath','//*[@id=\"jwxe_main_content\"]/div[2]/ul/li[%s]'%i).click()\n",
    "# 과목코드, 개설여부 -> 전처리 단계에서 다른 학교들과 한번에 처리하려면 복잡해짐 -> 미리 전처리\n",
    "skk = skk.replace('Yes','')\n",
    "skk = skk.replace('No','')\n",
    "re_comp  = re.compile('[A-Z]{3}[0-9]{3}') # 과목코드 제거\n",
    "skk = re_comp.sub('',skk)\n",
    "skk = re.sub('[0-9]*[0-9]','',skk) # 이수 학기 제거\n",
    "skk = re.sub(\"[0-9]*' '*[0-9]\",'',skk) # 학점 제거\n",
    "driver.close()\n",
    "# 과정소개  - 준비중\n"
   ]
  },
  {
   "cell_type": "code",
   "execution_count": null,
   "metadata": {},
   "outputs": [],
   "source": []
  }
 ],
 "metadata": {
  "kernelspec": {
   "display_name": "Python 3.9.12 ('base')",
   "language": "python",
   "name": "python3"
  },
  "language_info": {
   "codemirror_mode": {
    "name": "ipython",
    "version": 3
   },
   "file_extension": ".py",
   "mimetype": "text/x-python",
   "name": "python",
   "nbconvert_exporter": "python",
   "pygments_lexer": "ipython3",
   "version": "3.9.12"
  },
  "orig_nbformat": 4,
  "vscode": {
   "interpreter": {
    "hash": "a077222d77dfe082b8f1dd562ad70e458ac2ab76993a0b248ab0476e32e9e8dd"
   }
  }
 },
 "nbformat": 4,
 "nbformat_minor": 2
}
