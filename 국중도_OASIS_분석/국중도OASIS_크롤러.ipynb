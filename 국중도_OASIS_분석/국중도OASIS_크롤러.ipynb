{
 "cells": [
  {
   "cell_type": "code",
   "execution_count": 81,
   "metadata": {},
   "outputs": [],
   "source": [
    "import pandas as pd\n",
    "import selenium\n",
    "from tqdm import tqdm\n",
    "import numpy as np\n",
    "import matplotlib.pyplot as plt\n",
    "import bs4\n",
    "from bs4 import BeautifulSoup\n",
    "import re\n",
    "import requests\n",
    "from selenium import webdriver\n",
    "\n",
    "#driver = webdriver.Chrome(r\"C:\\Users\\user\\Documents\\GitHub\\portfolio\\국중도_OASIS_분석\\chromedriver.exe\")"
   ]
  },
  {
   "cell_type": "code",
   "execution_count": 82,
   "metadata": {},
   "outputs": [
    {
     "name": "stderr",
     "output_type": "stream",
     "text": [
      "C:\\Users\\user\\AppData\\Local\\Temp\\ipykernel_13800\\3503871333.py:1: DeprecationWarning: executable_path has been deprecated, please pass in a Service object\n",
      "  driver = webdriver.Chrome(\"../국중도_OASIS_분석/chromedriver\")\n"
     ]
    }
   ],
   "source": [
    "driver = webdriver.Chrome(\"../국중도_OASIS_분석/chromedriver\")"
   ]
  },
  {
   "cell_type": "code",
   "execution_count": 83,
   "metadata": {},
   "outputs": [
    {
     "data": {
      "text/html": [
       "<div>\n",
       "<style scoped>\n",
       "    .dataframe tbody tr th:only-of-type {\n",
       "        vertical-align: middle;\n",
       "    }\n",
       "\n",
       "    .dataframe tbody tr th {\n",
       "        vertical-align: top;\n",
       "    }\n",
       "\n",
       "    .dataframe thead th {\n",
       "        text-align: right;\n",
       "    }\n",
       "</style>\n",
       "<table border=\"1\" class=\"dataframe\">\n",
       "  <thead>\n",
       "    <tr style=\"text-align: right;\">\n",
       "      <th></th>\n",
       "      <th>title</th>\n",
       "      <th>event_date</th>\n",
       "      <th>collect_date</th>\n",
       "      <th>subject</th>\n",
       "      <th>tables</th>\n",
       "      <th>docs</th>\n",
       "      <th>vids</th>\n",
       "      <th>imgs</th>\n",
       "      <th>content</th>\n",
       "    </tr>\n",
       "  </thead>\n",
       "  <tbody>\n",
       "  </tbody>\n",
       "</table>\n",
       "</div>"
      ],
      "text/plain": [
       "Empty DataFrame\n",
       "Columns: [title, event_date, collect_date, subject, tables, docs, vids, imgs, content]\n",
       "Index: []"
      ]
     },
     "execution_count": 83,
     "metadata": {},
     "output_type": "execute_result"
    }
   ],
   "source": [
    "meta = pd.DataFrame(columns = ['title','event_date','collect_date','subject','tables','docs','vids','imgs','content'])\n",
    "meta"
   ]
  },
  {
   "cell_type": "code",
   "execution_count": 84,
   "metadata": {},
   "outputs": [],
   "source": [
    "def get_element(driver_, xpath):\n",
    "    element = driver_.find_element('xpath', xpath)\n",
    "    element = element.text\n",
    "    return element\n",
    "    "
   ]
  },
  {
   "cell_type": "code",
   "execution_count": 85,
   "metadata": {},
   "outputs": [
    {
     "name": "stderr",
     "output_type": "stream",
     "text": [
      "  5%|▌         | 1/20 [00:00<00:08,  2.33it/s]"
     ]
    },
    {
     "name": "stdout",
     "output_type": "stream",
     "text": [
      "NO\n"
     ]
    },
    {
     "name": "stderr",
     "output_type": "stream",
     "text": [
      "C:\\Users\\user\\AppData\\Local\\Temp\\ipykernel_13800\\3304557199.py:14: FutureWarning: The frame.append method is deprecated and will be removed from pandas in a future version. Use pandas.concat instead.\n",
      "  meta = meta.append({'title':title, 'event_date':event_date, 'collect_date':collect_date,\n",
      " 10%|█         | 2/20 [00:04<00:43,  2.39s/it]C:\\Users\\user\\AppData\\Local\\Temp\\ipykernel_13800\\3304557199.py:14: FutureWarning: The frame.append method is deprecated and will be removed from pandas in a future version. Use pandas.concat instead.\n",
      "  meta = meta.append({'title':title, 'event_date':event_date, 'collect_date':collect_date,\n",
      " 15%|█▌        | 3/20 [00:07<00:47,  2.78s/it]C:\\Users\\user\\AppData\\Local\\Temp\\ipykernel_13800\\3304557199.py:14: FutureWarning: The frame.append method is deprecated and will be removed from pandas in a future version. Use pandas.concat instead.\n",
      "  meta = meta.append({'title':title, 'event_date':event_date, 'collect_date':collect_date,\n",
      " 20%|██        | 4/20 [00:13<01:05,  4.10s/it]C:\\Users\\user\\AppData\\Local\\Temp\\ipykernel_13800\\3304557199.py:14: FutureWarning: The frame.append method is deprecated and will be removed from pandas in a future version. Use pandas.concat instead.\n",
      "  meta = meta.append({'title':title, 'event_date':event_date, 'collect_date':collect_date,\n",
      " 30%|███       | 6/20 [00:18<00:40,  2.87s/it]"
     ]
    },
    {
     "name": "stdout",
     "output_type": "stream",
     "text": [
      "NO\n"
     ]
    },
    {
     "name": "stderr",
     "output_type": "stream",
     "text": [
      "C:\\Users\\user\\AppData\\Local\\Temp\\ipykernel_13800\\3304557199.py:14: FutureWarning: The frame.append method is deprecated and will be removed from pandas in a future version. Use pandas.concat instead.\n",
      "  meta = meta.append({'title':title, 'event_date':event_date, 'collect_date':collect_date,\n",
      " 35%|███▌      | 7/20 [00:21<00:40,  3.08s/it]C:\\Users\\user\\AppData\\Local\\Temp\\ipykernel_13800\\3304557199.py:14: FutureWarning: The frame.append method is deprecated and will be removed from pandas in a future version. Use pandas.concat instead.\n",
      "  meta = meta.append({'title':title, 'event_date':event_date, 'collect_date':collect_date,\n",
      " 50%|█████     | 10/20 [00:25<00:15,  1.59s/it]"
     ]
    },
    {
     "name": "stdout",
     "output_type": "stream",
     "text": [
      "NO\n",
      "NO\n"
     ]
    },
    {
     "name": "stderr",
     "output_type": "stream",
     "text": [
      " 55%|█████▌    | 11/20 [00:25<00:10,  1.16s/it]"
     ]
    },
    {
     "name": "stdout",
     "output_type": "stream",
     "text": [
      "NO\n"
     ]
    },
    {
     "name": "stderr",
     "output_type": "stream",
     "text": [
      " 65%|██████▌   | 13/20 [00:25<00:04,  1.52it/s]"
     ]
    },
    {
     "name": "stdout",
     "output_type": "stream",
     "text": [
      "NO\n",
      "NO\n"
     ]
    },
    {
     "name": "stderr",
     "output_type": "stream",
     "text": [
      " 75%|███████▌  | 15/20 [00:26<00:02,  2.46it/s]"
     ]
    },
    {
     "name": "stdout",
     "output_type": "stream",
     "text": [
      "NO\n",
      "NO\n"
     ]
    },
    {
     "name": "stderr",
     "output_type": "stream",
     "text": [
      " 80%|████████  | 16/20 [00:26<00:01,  2.95it/s]"
     ]
    },
    {
     "name": "stdout",
     "output_type": "stream",
     "text": [
      "NO\n"
     ]
    },
    {
     "name": "stderr",
     "output_type": "stream",
     "text": [
      " 90%|█████████ | 18/20 [00:26<00:00,  3.51it/s]"
     ]
    },
    {
     "name": "stdout",
     "output_type": "stream",
     "text": [
      "NO\n",
      "NO\n"
     ]
    },
    {
     "name": "stderr",
     "output_type": "stream",
     "text": [
      " 95%|█████████▌| 19/20 [00:26<00:00,  4.05it/s]"
     ]
    },
    {
     "name": "stdout",
     "output_type": "stream",
     "text": [
      "NO\n"
     ]
    },
    {
     "name": "stderr",
     "output_type": "stream",
     "text": [
      "100%|██████████| 20/20 [00:27<00:00,  1.36s/it]"
     ]
    },
    {
     "name": "stdout",
     "output_type": "stream",
     "text": [
      "NO\n"
     ]
    },
    {
     "name": "stderr",
     "output_type": "stream",
     "text": [
      "\n"
     ]
    }
   ],
   "source": [
    "for i in tqdm(range(0,20)):\n",
    "    try: \n",
    "        driver.get(\"https://www.nl.go.kr/oasis/contents/O2010000.do?page=1&pageUnit=12&schM=search_list&schType=theme&schIsFa=ISU-00000000000\"+str(i))\n",
    "        title = get_element(driver, '//*[@id=\"tab_Intro\"]/div/div[2]/div/div[1]/h4')\n",
    "        event_date = get_element(driver, '//*[@id=\"tab_Intro\"]/div/div[2]/div/div[2]/div[1]/div/div[2]/ul/li[1]/div/div[2]')\n",
    "        collect_date = get_element(driver, '//*[@id=\"tab_Intro\"]/div/div[2]/div/div[2]/div[1]/div/div[2]/ul/li[2]/div/div[2]')\n",
    "        tables = get_element(driver,'//*[@id=\"tab_Intro\"]/div/div[2]/div/div[2]/div[1]/div/div[2]/ul/li[4]/div/div[2]/span/a[1]')\n",
    "        docs = get_element(driver, '//*[@id=\"tab_Intro\"]/div/div[2]/div/div[2]/div[1]/div/div[2]/ul/li[4]/div/div[2]/span/a[2]')\n",
    "        vids = get_element(driver, '//*[@id=\"tab_Intro\"]/div/div[2]/div/div[2]/div[1]/div/div[2]/ul/li[4]/div/div[2]/span/a[3]')\n",
    "        imgs = get_element(driver, '//*[@id=\"tab_Intro\"]/div/div[2]/div/div[2]/div[1]/div/div[2]/ul/li[4]/div/div[2]/span/a[4]')\n",
    "        subject =get_element(driver, '//*[@id=\"tab_Intro\"]/div/div[2]/div/div[2]/div[1]/div/div[2]/ul/li[3]/div/div[2]/a')\n",
    "        content = get_element(driver, '//*[@id=\"tab_Intro\"]/div/div[2]/div/div[2]/div[2]/div/p[1]')\n",
    "    \n",
    "        meta = meta.append({'title':title, 'event_date':event_date, 'collect_date':collect_date,\n",
    "        'subject':subject,'tables':tables,'docs':docs,'vids':vids,'imgs':imgs,'content':content},ignore_index=True)\n",
    "    \n",
    "    \n",
    "    except:\n",
    "        print('NO')\n",
    "        continue"
   ]
  },
  {
   "cell_type": "code",
   "execution_count": 86,
   "metadata": {},
   "outputs": [
    {
     "data": {
      "text/html": [
       "<div>\n",
       "<style scoped>\n",
       "    .dataframe tbody tr th:only-of-type {\n",
       "        vertical-align: middle;\n",
       "    }\n",
       "\n",
       "    .dataframe tbody tr th {\n",
       "        vertical-align: top;\n",
       "    }\n",
       "\n",
       "    .dataframe thead th {\n",
       "        text-align: right;\n",
       "    }\n",
       "</style>\n",
       "<table border=\"1\" class=\"dataframe\">\n",
       "  <thead>\n",
       "    <tr style=\"text-align: right;\">\n",
       "      <th></th>\n",
       "      <th>title</th>\n",
       "      <th>event_date</th>\n",
       "      <th>collect_date</th>\n",
       "      <th>subject</th>\n",
       "      <th>tables</th>\n",
       "      <th>docs</th>\n",
       "      <th>vids</th>\n",
       "      <th>imgs</th>\n",
       "      <th>content</th>\n",
       "    </tr>\n",
       "  </thead>\n",
       "  <tbody>\n",
       "    <tr>\n",
       "      <th>0</th>\n",
       "      <td>2014년 브라질 월드컵</td>\n",
       "      <td>2014년 06월 13일 ~ 2014년 07월 14일</td>\n",
       "      <td>2014년 08월 01일 ~ 2014년 09월 05일</td>\n",
       "      <td>예술 &gt; 오락, 스포츠</td>\n",
       "      <td>1,402</td>\n",
       "      <td>0</td>\n",
       "      <td>180</td>\n",
       "      <td>0</td>\n",
       "      <td>2014년 6월 13일 오전 5시(한국시간) 브라질과 크로아티아 개막전으로 브라질 ...</td>\n",
       "    </tr>\n",
       "    <tr>\n",
       "      <th>1</th>\n",
       "      <td>2014년 인천아시안게임</td>\n",
       "      <td>2014년 09월 16일 ~ 2014년 10월 04일</td>\n",
       "      <td>2014년 07월 11일 ~ 2014년 11월 14일</td>\n",
       "      <td>예술 &gt; 오락, 스포츠</td>\n",
       "      <td>1,336</td>\n",
       "      <td>537</td>\n",
       "      <td>108</td>\n",
       "      <td>0</td>\n",
       "      <td>인천아시안게임은 2014년 9월 19일부터 10월 4일까지 16일간 인천광역시 일원...</td>\n",
       "    </tr>\n",
       "    <tr>\n",
       "      <th>2</th>\n",
       "      <td>2014년 동부전선 육군 GOP 소초 총기사고</td>\n",
       "      <td>2014년 06월 21일 ~ 2014년 06월 21일</td>\n",
       "      <td>2014년 07월 01일 ~ 2014년 08월 08일</td>\n",
       "      <td>사회과학 &gt; 국방, 군사학</td>\n",
       "      <td>220</td>\n",
       "      <td>0</td>\n",
       "      <td>0</td>\n",
       "      <td>0</td>\n",
       "      <td>2014년 6월21일 토요일 20시15분경, 동부전선인 강원도 고성군 22사단 GO...</td>\n",
       "    </tr>\n",
       "    <tr>\n",
       "      <th>3</th>\n",
       "      <td>2014년 6.4 지방선거</td>\n",
       "      <td>2014년 06월 04일 ~ 2014년 06월 04일</td>\n",
       "      <td>2014년 05월 30일 ~ 2014년 07월 04일</td>\n",
       "      <td>사회과학 &gt; 정치학</td>\n",
       "      <td>2,663</td>\n",
       "      <td>0</td>\n",
       "      <td>7</td>\n",
       "      <td>0</td>\n",
       "      <td>2014년 6월 4일 민선 6기를 이끌 지방자치단체장과 지방의원, 교육감 등을 선출...</td>\n",
       "    </tr>\n",
       "    <tr>\n",
       "      <th>4</th>\n",
       "      <td>광복 70주년</td>\n",
       "      <td>2015년 08월 15일 ~ 2015년 08월 15일</td>\n",
       "      <td>2015년 06월 11일 ~ 2015년 08월 14일</td>\n",
       "      <td>역사 &gt; 아시아</td>\n",
       "      <td>1</td>\n",
       "      <td>92</td>\n",
       "      <td>8</td>\n",
       "      <td>4</td>\n",
       "      <td>정부는 광복70주년을 맞이하여 축하 분위기 확산과 내수경기 진작을 위하여 2015년...</td>\n",
       "    </tr>\n",
       "    <tr>\n",
       "      <th>5</th>\n",
       "      <td>2015년 DMZ 목함지뢰폭발사고부터 남북당국자회담까지</td>\n",
       "      <td>2015년 08월 04일 ~ 2015년 08월 24일</td>\n",
       "      <td>2015년 09월 02일 ~ 2015년 09월 07일</td>\n",
       "      <td>사회과학 &gt; 정치학</td>\n",
       "      <td>193</td>\n",
       "      <td>47</td>\n",
       "      <td>0</td>\n",
       "      <td>3</td>\n",
       "      <td>2015년 7월 26일부터 8월 1일 사이에 북한군이 군사분계선(DML)에 매설한 ...</td>\n",
       "    </tr>\n",
       "  </tbody>\n",
       "</table>\n",
       "</div>"
      ],
      "text/plain": [
       "                            title                     event_date  \\\n",
       "0                   2014년 브라질 월드컵  2014년 06월 13일 ~ 2014년 07월 14일   \n",
       "1                   2014년 인천아시안게임  2014년 09월 16일 ~ 2014년 10월 04일   \n",
       "2       2014년 동부전선 육군 GOP 소초 총기사고  2014년 06월 21일 ~ 2014년 06월 21일   \n",
       "3                  2014년 6.4 지방선거  2014년 06월 04일 ~ 2014년 06월 04일   \n",
       "4                         광복 70주년  2015년 08월 15일 ~ 2015년 08월 15일   \n",
       "5  2015년 DMZ 목함지뢰폭발사고부터 남북당국자회담까지  2015년 08월 04일 ~ 2015년 08월 24일   \n",
       "\n",
       "                    collect_date         subject tables docs vids imgs  \\\n",
       "0  2014년 08월 01일 ~ 2014년 09월 05일    예술 > 오락, 스포츠  1,402    0  180    0   \n",
       "1  2014년 07월 11일 ~ 2014년 11월 14일    예술 > 오락, 스포츠  1,336  537  108    0   \n",
       "2  2014년 07월 01일 ~ 2014년 08월 08일  사회과학 > 국방, 군사학    220    0    0    0   \n",
       "3  2014년 05월 30일 ~ 2014년 07월 04일      사회과학 > 정치학  2,663    0    7    0   \n",
       "4  2015년 06월 11일 ~ 2015년 08월 14일        역사 > 아시아      1   92    8    4   \n",
       "5  2015년 09월 02일 ~ 2015년 09월 07일      사회과학 > 정치학    193   47    0    3   \n",
       "\n",
       "                                             content  \n",
       "0  2014년 6월 13일 오전 5시(한국시간) 브라질과 크로아티아 개막전으로 브라질 ...  \n",
       "1  인천아시안게임은 2014년 9월 19일부터 10월 4일까지 16일간 인천광역시 일원...  \n",
       "2  2014년 6월21일 토요일 20시15분경, 동부전선인 강원도 고성군 22사단 GO...  \n",
       "3  2014년 6월 4일 민선 6기를 이끌 지방자치단체장과 지방의원, 교육감 등을 선출...  \n",
       "4  정부는 광복70주년을 맞이하여 축하 분위기 확산과 내수경기 진작을 위하여 2015년...  \n",
       "5  2015년 7월 26일부터 8월 1일 사이에 북한군이 군사분계선(DML)에 매설한 ...  "
      ]
     },
     "execution_count": 86,
     "metadata": {},
     "output_type": "execute_result"
    }
   ],
   "source": [
    "meta"
   ]
  },
  {
   "cell_type": "code",
   "execution_count": 87,
   "metadata": {},
   "outputs": [
    {
     "name": "stderr",
     "output_type": "stream",
     "text": [
      "  1%|▏         | 2/150 [00:00<00:22,  6.47it/s]"
     ]
    },
    {
     "name": "stdout",
     "output_type": "stream",
     "text": [
      "NO\n",
      "NO\n"
     ]
    },
    {
     "name": "stderr",
     "output_type": "stream",
     "text": [
      "  2%|▏         | 3/150 [00:00<00:21,  6.94it/s]"
     ]
    },
    {
     "name": "stdout",
     "output_type": "stream",
     "text": [
      "NO\n"
     ]
    },
    {
     "name": "stderr",
     "output_type": "stream",
     "text": [
      "  3%|▎         | 5/150 [00:00<00:25,  5.74it/s]"
     ]
    },
    {
     "name": "stdout",
     "output_type": "stream",
     "text": [
      "NO\n",
      "NO\n"
     ]
    },
    {
     "name": "stderr",
     "output_type": "stream",
     "text": [
      "  5%|▍         | 7/150 [00:01<00:22,  6.50it/s]"
     ]
    },
    {
     "name": "stdout",
     "output_type": "stream",
     "text": [
      "NO\n",
      "NO\n"
     ]
    },
    {
     "name": "stderr",
     "output_type": "stream",
     "text": [
      "  6%|▌         | 9/150 [00:01<00:21,  6.67it/s]"
     ]
    },
    {
     "name": "stdout",
     "output_type": "stream",
     "text": [
      "NO\n",
      "NO\n"
     ]
    },
    {
     "name": "stderr",
     "output_type": "stream",
     "text": [
      "  7%|▋         | 11/150 [00:01<00:22,  6.13it/s]"
     ]
    },
    {
     "name": "stdout",
     "output_type": "stream",
     "text": [
      "NO\n",
      "NO\n"
     ]
    },
    {
     "name": "stderr",
     "output_type": "stream",
     "text": [
      "  9%|▊         | 13/150 [00:02<00:21,  6.28it/s]"
     ]
    },
    {
     "name": "stdout",
     "output_type": "stream",
     "text": [
      "NO\n",
      "NO\n"
     ]
    },
    {
     "name": "stderr",
     "output_type": "stream",
     "text": [
      " 10%|█         | 15/150 [00:02<00:24,  5.45it/s]"
     ]
    },
    {
     "name": "stdout",
     "output_type": "stream",
     "text": [
      "NO\n",
      "NO\n"
     ]
    },
    {
     "name": "stderr",
     "output_type": "stream",
     "text": [
      " 11%|█▏        | 17/150 [00:02<00:22,  5.94it/s]"
     ]
    },
    {
     "name": "stdout",
     "output_type": "stream",
     "text": [
      "NO\n",
      "NO\n"
     ]
    },
    {
     "name": "stderr",
     "output_type": "stream",
     "text": [
      " 12%|█▏        | 18/150 [00:06<02:25,  1.10s/it]"
     ]
    },
    {
     "name": "stdout",
     "output_type": "stream",
     "text": [
      "NO\n"
     ]
    },
    {
     "name": "stderr",
     "output_type": "stream",
     "text": [
      " 13%|█▎        | 19/150 [00:10<04:42,  2.16s/it]"
     ]
    },
    {
     "name": "stdout",
     "output_type": "stream",
     "text": [
      "NO\n"
     ]
    },
    {
     "name": "stderr",
     "output_type": "stream",
     "text": [
      " 13%|█▎        | 20/150 [00:13<05:09,  2.38s/it]"
     ]
    },
    {
     "name": "stdout",
     "output_type": "stream",
     "text": [
      "NO\n"
     ]
    },
    {
     "name": "stderr",
     "output_type": "stream",
     "text": [
      "C:\\Users\\user\\AppData\\Local\\Temp\\ipykernel_13800\\1078927529.py:13: FutureWarning: The frame.append method is deprecated and will be removed from pandas in a future version. Use pandas.concat instead.\n",
      "  meta = meta.append({'title':title, 'event_date':event_date, 'collect_date':collect_date,'subject':subject,'tables':tables,'docs':docs,'vids':vids,'imgs':imgs, 'content':content},ignore_index=True)\n",
      " 14%|█▍        | 21/150 [00:16<05:10,  2.40s/it]C:\\Users\\user\\AppData\\Local\\Temp\\ipykernel_13800\\1078927529.py:13: FutureWarning: The frame.append method is deprecated and will be removed from pandas in a future version. Use pandas.concat instead.\n",
      "  meta = meta.append({'title':title, 'event_date':event_date, 'collect_date':collect_date,'subject':subject,'tables':tables,'docs':docs,'vids':vids,'imgs':imgs, 'content':content},ignore_index=True)\n",
      " 15%|█▍        | 22/150 [00:19<06:05,  2.86s/it]C:\\Users\\user\\AppData\\Local\\Temp\\ipykernel_13800\\1078927529.py:13: FutureWarning: The frame.append method is deprecated and will be removed from pandas in a future version. Use pandas.concat instead.\n",
      "  meta = meta.append({'title':title, 'event_date':event_date, 'collect_date':collect_date,'subject':subject,'tables':tables,'docs':docs,'vids':vids,'imgs':imgs, 'content':content},ignore_index=True)\n",
      " 15%|█▌        | 23/150 [00:23<06:42,  3.17s/it]C:\\Users\\user\\AppData\\Local\\Temp\\ipykernel_13800\\1078927529.py:13: FutureWarning: The frame.append method is deprecated and will be removed from pandas in a future version. Use pandas.concat instead.\n",
      "  meta = meta.append({'title':title, 'event_date':event_date, 'collect_date':collect_date,'subject':subject,'tables':tables,'docs':docs,'vids':vids,'imgs':imgs, 'content':content},ignore_index=True)\n",
      " 17%|█▋        | 25/150 [00:29<06:05,  2.93s/it]"
     ]
    },
    {
     "name": "stdout",
     "output_type": "stream",
     "text": [
      "NO\n"
     ]
    },
    {
     "name": "stderr",
     "output_type": "stream",
     "text": [
      "C:\\Users\\user\\AppData\\Local\\Temp\\ipykernel_13800\\1078927529.py:13: FutureWarning: The frame.append method is deprecated and will be removed from pandas in a future version. Use pandas.concat instead.\n",
      "  meta = meta.append({'title':title, 'event_date':event_date, 'collect_date':collect_date,'subject':subject,'tables':tables,'docs':docs,'vids':vids,'imgs':imgs, 'content':content},ignore_index=True)\n",
      " 17%|█▋        | 26/150 [00:33<06:33,  3.17s/it]C:\\Users\\user\\AppData\\Local\\Temp\\ipykernel_13800\\1078927529.py:13: FutureWarning: The frame.append method is deprecated and will be removed from pandas in a future version. Use pandas.concat instead.\n",
      "  meta = meta.append({'title':title, 'event_date':event_date, 'collect_date':collect_date,'subject':subject,'tables':tables,'docs':docs,'vids':vids,'imgs':imgs, 'content':content},ignore_index=True)\n",
      " 19%|█▊        | 28/150 [00:38<05:54,  2.90s/it]"
     ]
    },
    {
     "name": "stdout",
     "output_type": "stream",
     "text": [
      "NO\n"
     ]
    },
    {
     "name": "stderr",
     "output_type": "stream",
     "text": [
      " 19%|█▉        | 29/150 [00:38<04:13,  2.09s/it]"
     ]
    },
    {
     "name": "stdout",
     "output_type": "stream",
     "text": [
      "NO\n"
     ]
    },
    {
     "name": "stderr",
     "output_type": "stream",
     "text": [
      " 20%|██        | 30/150 [00:41<04:27,  2.23s/it]"
     ]
    },
    {
     "name": "stdout",
     "output_type": "stream",
     "text": [
      "NO\n"
     ]
    },
    {
     "name": "stderr",
     "output_type": "stream",
     "text": [
      " 21%|██        | 31/150 [00:42<04:02,  2.04s/it]"
     ]
    },
    {
     "name": "stdout",
     "output_type": "stream",
     "text": [
      "NO\n"
     ]
    },
    {
     "name": "stderr",
     "output_type": "stream",
     "text": [
      " 21%|██▏       | 32/150 [00:46<05:07,  2.60s/it]"
     ]
    },
    {
     "name": "stdout",
     "output_type": "stream",
     "text": [
      "NO\n"
     ]
    },
    {
     "name": "stderr",
     "output_type": "stream",
     "text": [
      "C:\\Users\\user\\AppData\\Local\\Temp\\ipykernel_13800\\1078927529.py:13: FutureWarning: The frame.append method is deprecated and will be removed from pandas in a future version. Use pandas.concat instead.\n",
      "  meta = meta.append({'title':title, 'event_date':event_date, 'collect_date':collect_date,'subject':subject,'tables':tables,'docs':docs,'vids':vids,'imgs':imgs, 'content':content},ignore_index=True)\n",
      " 22%|██▏       | 33/150 [00:49<05:19,  2.73s/it]C:\\Users\\user\\AppData\\Local\\Temp\\ipykernel_13800\\1078927529.py:13: FutureWarning: The frame.append method is deprecated and will be removed from pandas in a future version. Use pandas.concat instead.\n",
      "  meta = meta.append({'title':title, 'event_date':event_date, 'collect_date':collect_date,'subject':subject,'tables':tables,'docs':docs,'vids':vids,'imgs':imgs, 'content':content},ignore_index=True)\n",
      " 23%|██▎       | 34/150 [00:53<05:53,  3.05s/it]C:\\Users\\user\\AppData\\Local\\Temp\\ipykernel_13800\\1078927529.py:13: FutureWarning: The frame.append method is deprecated and will be removed from pandas in a future version. Use pandas.concat instead.\n",
      "  meta = meta.append({'title':title, 'event_date':event_date, 'collect_date':collect_date,'subject':subject,'tables':tables,'docs':docs,'vids':vids,'imgs':imgs, 'content':content},ignore_index=True)\n",
      " 24%|██▍       | 36/150 [00:59<05:36,  2.96s/it]"
     ]
    },
    {
     "name": "stdout",
     "output_type": "stream",
     "text": [
      "NO\n"
     ]
    },
    {
     "name": "stderr",
     "output_type": "stream",
     "text": [
      "C:\\Users\\user\\AppData\\Local\\Temp\\ipykernel_13800\\1078927529.py:13: FutureWarning: The frame.append method is deprecated and will be removed from pandas in a future version. Use pandas.concat instead.\n",
      "  meta = meta.append({'title':title, 'event_date':event_date, 'collect_date':collect_date,'subject':subject,'tables':tables,'docs':docs,'vids':vids,'imgs':imgs, 'content':content},ignore_index=True)\n",
      " 25%|██▍       | 37/150 [01:03<06:04,  3.22s/it]C:\\Users\\user\\AppData\\Local\\Temp\\ipykernel_13800\\1078927529.py:13: FutureWarning: The frame.append method is deprecated and will be removed from pandas in a future version. Use pandas.concat instead.\n",
      "  meta = meta.append({'title':title, 'event_date':event_date, 'collect_date':collect_date,'subject':subject,'tables':tables,'docs':docs,'vids':vids,'imgs':imgs, 'content':content},ignore_index=True)\n",
      " 25%|██▌       | 38/150 [01:07<06:51,  3.68s/it]C:\\Users\\user\\AppData\\Local\\Temp\\ipykernel_13800\\1078927529.py:13: FutureWarning: The frame.append method is deprecated and will be removed from pandas in a future version. Use pandas.concat instead.\n",
      "  meta = meta.append({'title':title, 'event_date':event_date, 'collect_date':collect_date,'subject':subject,'tables':tables,'docs':docs,'vids':vids,'imgs':imgs, 'content':content},ignore_index=True)\n",
      " 26%|██▌       | 39/150 [01:10<06:25,  3.47s/it]C:\\Users\\user\\AppData\\Local\\Temp\\ipykernel_13800\\1078927529.py:13: FutureWarning: The frame.append method is deprecated and will be removed from pandas in a future version. Use pandas.concat instead.\n",
      "  meta = meta.append({'title':title, 'event_date':event_date, 'collect_date':collect_date,'subject':subject,'tables':tables,'docs':docs,'vids':vids,'imgs':imgs, 'content':content},ignore_index=True)\n",
      " 27%|██▋       | 41/150 [01:14<04:35,  2.53s/it]"
     ]
    },
    {
     "name": "stdout",
     "output_type": "stream",
     "text": [
      "NO\n"
     ]
    },
    {
     "name": "stderr",
     "output_type": "stream",
     "text": [
      "C:\\Users\\user\\AppData\\Local\\Temp\\ipykernel_13800\\1078927529.py:13: FutureWarning: The frame.append method is deprecated and will be removed from pandas in a future version. Use pandas.concat instead.\n",
      "  meta = meta.append({'title':title, 'event_date':event_date, 'collect_date':collect_date,'subject':subject,'tables':tables,'docs':docs,'vids':vids,'imgs':imgs, 'content':content},ignore_index=True)\n",
      " 28%|██▊       | 42/150 [01:17<04:30,  2.50s/it]C:\\Users\\user\\AppData\\Local\\Temp\\ipykernel_13800\\1078927529.py:13: FutureWarning: The frame.append method is deprecated and will be removed from pandas in a future version. Use pandas.concat instead.\n",
      "  meta = meta.append({'title':title, 'event_date':event_date, 'collect_date':collect_date,'subject':subject,'tables':tables,'docs':docs,'vids':vids,'imgs':imgs, 'content':content},ignore_index=True)\n",
      " 29%|██▊       | 43/150 [01:19<04:22,  2.46s/it]C:\\Users\\user\\AppData\\Local\\Temp\\ipykernel_13800\\1078927529.py:13: FutureWarning: The frame.append method is deprecated and will be removed from pandas in a future version. Use pandas.concat instead.\n",
      "  meta = meta.append({'title':title, 'event_date':event_date, 'collect_date':collect_date,'subject':subject,'tables':tables,'docs':docs,'vids':vids,'imgs':imgs, 'content':content},ignore_index=True)\n",
      " 30%|███       | 45/150 [01:23<03:28,  1.99s/it]"
     ]
    },
    {
     "name": "stdout",
     "output_type": "stream",
     "text": [
      "NO\n"
     ]
    },
    {
     "name": "stderr",
     "output_type": "stream",
     "text": [
      " 31%|███▏      | 47/150 [01:24<02:21,  1.38s/it]"
     ]
    },
    {
     "name": "stdout",
     "output_type": "stream",
     "text": [
      "NO\n",
      "NO\n"
     ]
    },
    {
     "name": "stderr",
     "output_type": "stream",
     "text": [
      " 33%|███▎      | 49/150 [01:25<01:16,  1.32it/s]"
     ]
    },
    {
     "name": "stdout",
     "output_type": "stream",
     "text": [
      "NO\n",
      "NO\n"
     ]
    },
    {
     "name": "stderr",
     "output_type": "stream",
     "text": [
      " 33%|███▎      | 50/150 [01:25<01:00,  1.64it/s]"
     ]
    },
    {
     "name": "stdout",
     "output_type": "stream",
     "text": [
      "NO\n"
     ]
    },
    {
     "name": "stderr",
     "output_type": "stream",
     "text": [
      "C:\\Users\\user\\AppData\\Local\\Temp\\ipykernel_13800\\1078927529.py:13: FutureWarning: The frame.append method is deprecated and will be removed from pandas in a future version. Use pandas.concat instead.\n",
      "  meta = meta.append({'title':title, 'event_date':event_date, 'collect_date':collect_date,'subject':subject,'tables':tables,'docs':docs,'vids':vids,'imgs':imgs, 'content':content},ignore_index=True)\n",
      " 34%|███▍      | 51/150 [01:27<01:47,  1.08s/it]C:\\Users\\user\\AppData\\Local\\Temp\\ipykernel_13800\\1078927529.py:13: FutureWarning: The frame.append method is deprecated and will be removed from pandas in a future version. Use pandas.concat instead.\n",
      "  meta = meta.append({'title':title, 'event_date':event_date, 'collect_date':collect_date,'subject':subject,'tables':tables,'docs':docs,'vids':vids,'imgs':imgs, 'content':content},ignore_index=True)\n",
      " 35%|███▌      | 53/150 [01:29<01:34,  1.02it/s]"
     ]
    },
    {
     "name": "stdout",
     "output_type": "stream",
     "text": [
      "NO\n"
     ]
    },
    {
     "name": "stderr",
     "output_type": "stream",
     "text": [
      "C:\\Users\\user\\AppData\\Local\\Temp\\ipykernel_13800\\1078927529.py:13: FutureWarning: The frame.append method is deprecated and will be removed from pandas in a future version. Use pandas.concat instead.\n",
      "  meta = meta.append({'title':title, 'event_date':event_date, 'collect_date':collect_date,'subject':subject,'tables':tables,'docs':docs,'vids':vids,'imgs':imgs, 'content':content},ignore_index=True)\n",
      " 36%|███▌      | 54/150 [01:32<02:20,  1.46s/it]C:\\Users\\user\\AppData\\Local\\Temp\\ipykernel_13800\\1078927529.py:13: FutureWarning: The frame.append method is deprecated and will be removed from pandas in a future version. Use pandas.concat instead.\n",
      "  meta = meta.append({'title':title, 'event_date':event_date, 'collect_date':collect_date,'subject':subject,'tables':tables,'docs':docs,'vids':vids,'imgs':imgs, 'content':content},ignore_index=True)\n",
      " 37%|███▋      | 56/150 [01:35<02:04,  1.33s/it]"
     ]
    },
    {
     "name": "stdout",
     "output_type": "stream",
     "text": [
      "NO\n"
     ]
    },
    {
     "name": "stderr",
     "output_type": "stream",
     "text": [
      "C:\\Users\\user\\AppData\\Local\\Temp\\ipykernel_13800\\1078927529.py:13: FutureWarning: The frame.append method is deprecated and will be removed from pandas in a future version. Use pandas.concat instead.\n",
      "  meta = meta.append({'title':title, 'event_date':event_date, 'collect_date':collect_date,'subject':subject,'tables':tables,'docs':docs,'vids':vids,'imgs':imgs, 'content':content},ignore_index=True)\n",
      " 38%|███▊      | 57/150 [01:38<03:12,  2.07s/it]C:\\Users\\user\\AppData\\Local\\Temp\\ipykernel_13800\\1078927529.py:13: FutureWarning: The frame.append method is deprecated and will be removed from pandas in a future version. Use pandas.concat instead.\n",
      "  meta = meta.append({'title':title, 'event_date':event_date, 'collect_date':collect_date,'subject':subject,'tables':tables,'docs':docs,'vids':vids,'imgs':imgs, 'content':content},ignore_index=True)\n",
      " 39%|███▊      | 58/150 [01:41<03:13,  2.10s/it]C:\\Users\\user\\AppData\\Local\\Temp\\ipykernel_13800\\1078927529.py:13: FutureWarning: The frame.append method is deprecated and will be removed from pandas in a future version. Use pandas.concat instead.\n",
      "  meta = meta.append({'title':title, 'event_date':event_date, 'collect_date':collect_date,'subject':subject,'tables':tables,'docs':docs,'vids':vids,'imgs':imgs, 'content':content},ignore_index=True)\n",
      " 39%|███▉      | 59/150 [01:44<04:00,  2.65s/it]C:\\Users\\user\\AppData\\Local\\Temp\\ipykernel_13800\\1078927529.py:13: FutureWarning: The frame.append method is deprecated and will be removed from pandas in a future version. Use pandas.concat instead.\n",
      "  meta = meta.append({'title':title, 'event_date':event_date, 'collect_date':collect_date,'subject':subject,'tables':tables,'docs':docs,'vids':vids,'imgs':imgs, 'content':content},ignore_index=True)\n",
      " 40%|████      | 60/150 [01:48<04:27,  2.97s/it]C:\\Users\\user\\AppData\\Local\\Temp\\ipykernel_13800\\1078927529.py:13: FutureWarning: The frame.append method is deprecated and will be removed from pandas in a future version. Use pandas.concat instead.\n",
      "  meta = meta.append({'title':title, 'event_date':event_date, 'collect_date':collect_date,'subject':subject,'tables':tables,'docs':docs,'vids':vids,'imgs':imgs, 'content':content},ignore_index=True)\n",
      " 41%|████▏     | 62/150 [01:55<04:39,  3.18s/it]"
     ]
    },
    {
     "name": "stdout",
     "output_type": "stream",
     "text": [
      "NO\n"
     ]
    },
    {
     "name": "stderr",
     "output_type": "stream",
     "text": [
      "C:\\Users\\user\\AppData\\Local\\Temp\\ipykernel_13800\\1078927529.py:13: FutureWarning: The frame.append method is deprecated and will be removed from pandas in a future version. Use pandas.concat instead.\n",
      "  meta = meta.append({'title':title, 'event_date':event_date, 'collect_date':collect_date,'subject':subject,'tables':tables,'docs':docs,'vids':vids,'imgs':imgs, 'content':content},ignore_index=True)\n",
      " 43%|████▎     | 64/150 [01:59<03:34,  2.49s/it]"
     ]
    },
    {
     "name": "stdout",
     "output_type": "stream",
     "text": [
      "NO\n"
     ]
    },
    {
     "name": "stderr",
     "output_type": "stream",
     "text": [
      "C:\\Users\\user\\AppData\\Local\\Temp\\ipykernel_13800\\1078927529.py:13: FutureWarning: The frame.append method is deprecated and will be removed from pandas in a future version. Use pandas.concat instead.\n",
      "  meta = meta.append({'title':title, 'event_date':event_date, 'collect_date':collect_date,'subject':subject,'tables':tables,'docs':docs,'vids':vids,'imgs':imgs, 'content':content},ignore_index=True)\n",
      " 44%|████▍     | 66/150 [02:04<03:25,  2.44s/it]"
     ]
    },
    {
     "name": "stdout",
     "output_type": "stream",
     "text": [
      "NO\n"
     ]
    },
    {
     "name": "stderr",
     "output_type": "stream",
     "text": [
      "C:\\Users\\user\\AppData\\Local\\Temp\\ipykernel_13800\\1078927529.py:13: FutureWarning: The frame.append method is deprecated and will be removed from pandas in a future version. Use pandas.concat instead.\n",
      "  meta = meta.append({'title':title, 'event_date':event_date, 'collect_date':collect_date,'subject':subject,'tables':tables,'docs':docs,'vids':vids,'imgs':imgs, 'content':content},ignore_index=True)\n",
      " 46%|████▌     | 69/150 [02:11<02:46,  2.05s/it]"
     ]
    },
    {
     "name": "stdout",
     "output_type": "stream",
     "text": [
      "NO\n",
      "NO\n"
     ]
    },
    {
     "name": "stderr",
     "output_type": "stream",
     "text": [
      "C:\\Users\\user\\AppData\\Local\\Temp\\ipykernel_13800\\1078927529.py:13: FutureWarning: The frame.append method is deprecated and will be removed from pandas in a future version. Use pandas.concat instead.\n",
      "  meta = meta.append({'title':title, 'event_date':event_date, 'collect_date':collect_date,'subject':subject,'tables':tables,'docs':docs,'vids':vids,'imgs':imgs, 'content':content},ignore_index=True)\n",
      " 47%|████▋     | 70/150 [02:13<02:45,  2.06s/it]C:\\Users\\user\\AppData\\Local\\Temp\\ipykernel_13800\\1078927529.py:13: FutureWarning: The frame.append method is deprecated and will be removed from pandas in a future version. Use pandas.concat instead.\n",
      "  meta = meta.append({'title':title, 'event_date':event_date, 'collect_date':collect_date,'subject':subject,'tables':tables,'docs':docs,'vids':vids,'imgs':imgs, 'content':content},ignore_index=True)\n",
      " 47%|████▋     | 71/150 [02:14<02:30,  1.90s/it]C:\\Users\\user\\AppData\\Local\\Temp\\ipykernel_13800\\1078927529.py:13: FutureWarning: The frame.append method is deprecated and will be removed from pandas in a future version. Use pandas.concat instead.\n",
      "  meta = meta.append({'title':title, 'event_date':event_date, 'collect_date':collect_date,'subject':subject,'tables':tables,'docs':docs,'vids':vids,'imgs':imgs, 'content':content},ignore_index=True)\n",
      " 49%|████▉     | 74/150 [02:17<01:16,  1.01s/it]"
     ]
    },
    {
     "name": "stdout",
     "output_type": "stream",
     "text": [
      "NO\n",
      "NO\n"
     ]
    },
    {
     "name": "stderr",
     "output_type": "stream",
     "text": [
      " 51%|█████     | 76/150 [02:17<00:42,  1.74it/s]"
     ]
    },
    {
     "name": "stdout",
     "output_type": "stream",
     "text": [
      "NO\n",
      "NO\n"
     ]
    },
    {
     "name": "stderr",
     "output_type": "stream",
     "text": [
      "C:\\Users\\user\\AppData\\Local\\Temp\\ipykernel_13800\\1078927529.py:13: FutureWarning: The frame.append method is deprecated and will be removed from pandas in a future version. Use pandas.concat instead.\n",
      "  meta = meta.append({'title':title, 'event_date':event_date, 'collect_date':collect_date,'subject':subject,'tables':tables,'docs':docs,'vids':vids,'imgs':imgs, 'content':content},ignore_index=True)\n",
      " 51%|█████▏    | 77/150 [02:20<01:37,  1.33s/it]C:\\Users\\user\\AppData\\Local\\Temp\\ipykernel_13800\\1078927529.py:13: FutureWarning: The frame.append method is deprecated and will be removed from pandas in a future version. Use pandas.concat instead.\n",
      "  meta = meta.append({'title':title, 'event_date':event_date, 'collect_date':collect_date,'subject':subject,'tables':tables,'docs':docs,'vids':vids,'imgs':imgs, 'content':content},ignore_index=True)\n",
      " 53%|█████▎    | 79/150 [02:23<01:35,  1.34s/it]"
     ]
    },
    {
     "name": "stdout",
     "output_type": "stream",
     "text": [
      "NO\n"
     ]
    },
    {
     "name": "stderr",
     "output_type": "stream",
     "text": [
      "C:\\Users\\user\\AppData\\Local\\Temp\\ipykernel_13800\\1078927529.py:13: FutureWarning: The frame.append method is deprecated and will be removed from pandas in a future version. Use pandas.concat instead.\n",
      "  meta = meta.append({'title':title, 'event_date':event_date, 'collect_date':collect_date,'subject':subject,'tables':tables,'docs':docs,'vids':vids,'imgs':imgs, 'content':content},ignore_index=True)\n",
      " 54%|█████▍    | 81/150 [02:28<02:07,  1.84s/it]"
     ]
    },
    {
     "name": "stdout",
     "output_type": "stream",
     "text": [
      "NO\n"
     ]
    },
    {
     "name": "stderr",
     "output_type": "stream",
     "text": [
      " 55%|█████▍    | 82/150 [02:31<02:33,  2.26s/it]"
     ]
    },
    {
     "name": "stdout",
     "output_type": "stream",
     "text": [
      "NO\n"
     ]
    },
    {
     "name": "stderr",
     "output_type": "stream",
     "text": [
      "C:\\Users\\user\\AppData\\Local\\Temp\\ipykernel_13800\\1078927529.py:13: FutureWarning: The frame.append method is deprecated and will be removed from pandas in a future version. Use pandas.concat instead.\n",
      "  meta = meta.append({'title':title, 'event_date':event_date, 'collect_date':collect_date,'subject':subject,'tables':tables,'docs':docs,'vids':vids,'imgs':imgs, 'content':content},ignore_index=True)\n",
      " 55%|█████▌    | 83/150 [02:34<02:35,  2.32s/it]C:\\Users\\user\\AppData\\Local\\Temp\\ipykernel_13800\\1078927529.py:13: FutureWarning: The frame.append method is deprecated and will be removed from pandas in a future version. Use pandas.concat instead.\n",
      "  meta = meta.append({'title':title, 'event_date':event_date, 'collect_date':collect_date,'subject':subject,'tables':tables,'docs':docs,'vids':vids,'imgs':imgs, 'content':content},ignore_index=True)\n",
      " 57%|█████▋    | 85/150 [02:42<03:23,  3.12s/it]"
     ]
    },
    {
     "name": "stdout",
     "output_type": "stream",
     "text": [
      "NO\n"
     ]
    },
    {
     "name": "stderr",
     "output_type": "stream",
     "text": [
      " 57%|█████▋    | 86/150 [02:42<02:26,  2.30s/it]"
     ]
    },
    {
     "name": "stdout",
     "output_type": "stream",
     "text": [
      "NO\n"
     ]
    },
    {
     "name": "stderr",
     "output_type": "stream",
     "text": [
      "C:\\Users\\user\\AppData\\Local\\Temp\\ipykernel_13800\\1078927529.py:13: FutureWarning: The frame.append method is deprecated and will be removed from pandas in a future version. Use pandas.concat instead.\n",
      "  meta = meta.append({'title':title, 'event_date':event_date, 'collect_date':collect_date,'subject':subject,'tables':tables,'docs':docs,'vids':vids,'imgs':imgs, 'content':content},ignore_index=True)\n",
      " 58%|█████▊    | 87/150 [02:46<02:47,  2.66s/it]C:\\Users\\user\\AppData\\Local\\Temp\\ipykernel_13800\\1078927529.py:13: FutureWarning: The frame.append method is deprecated and will be removed from pandas in a future version. Use pandas.concat instead.\n",
      "  meta = meta.append({'title':title, 'event_date':event_date, 'collect_date':collect_date,'subject':subject,'tables':tables,'docs':docs,'vids':vids,'imgs':imgs, 'content':content},ignore_index=True)\n",
      " 59%|█████▊    | 88/150 [02:50<03:20,  3.23s/it]C:\\Users\\user\\AppData\\Local\\Temp\\ipykernel_13800\\1078927529.py:13: FutureWarning: The frame.append method is deprecated and will be removed from pandas in a future version. Use pandas.concat instead.\n",
      "  meta = meta.append({'title':title, 'event_date':event_date, 'collect_date':collect_date,'subject':subject,'tables':tables,'docs':docs,'vids':vids,'imgs':imgs, 'content':content},ignore_index=True)\n",
      " 59%|█████▉    | 89/150 [02:54<03:31,  3.46s/it]C:\\Users\\user\\AppData\\Local\\Temp\\ipykernel_13800\\1078927529.py:13: FutureWarning: The frame.append method is deprecated and will be removed from pandas in a future version. Use pandas.concat instead.\n",
      "  meta = meta.append({'title':title, 'event_date':event_date, 'collect_date':collect_date,'subject':subject,'tables':tables,'docs':docs,'vids':vids,'imgs':imgs, 'content':content},ignore_index=True)\n",
      " 60%|██████    | 90/150 [03:00<04:18,  4.30s/it]C:\\Users\\user\\AppData\\Local\\Temp\\ipykernel_13800\\1078927529.py:13: FutureWarning: The frame.append method is deprecated and will be removed from pandas in a future version. Use pandas.concat instead.\n",
      "  meta = meta.append({'title':title, 'event_date':event_date, 'collect_date':collect_date,'subject':subject,'tables':tables,'docs':docs,'vids':vids,'imgs':imgs, 'content':content},ignore_index=True)\n",
      " 62%|██████▏   | 93/150 [03:05<02:03,  2.17s/it]"
     ]
    },
    {
     "name": "stdout",
     "output_type": "stream",
     "text": [
      "NO\n",
      "NO\n"
     ]
    },
    {
     "name": "stderr",
     "output_type": "stream",
     "text": [
      " 63%|██████▎   | 94/150 [03:07<01:53,  2.03s/it]"
     ]
    },
    {
     "name": "stdout",
     "output_type": "stream",
     "text": [
      "NO\n"
     ]
    },
    {
     "name": "stderr",
     "output_type": "stream",
     "text": [
      "C:\\Users\\user\\AppData\\Local\\Temp\\ipykernel_13800\\1078927529.py:13: FutureWarning: The frame.append method is deprecated and will be removed from pandas in a future version. Use pandas.concat instead.\n",
      "  meta = meta.append({'title':title, 'event_date':event_date, 'collect_date':collect_date,'subject':subject,'tables':tables,'docs':docs,'vids':vids,'imgs':imgs, 'content':content},ignore_index=True)\n",
      " 63%|██████▎   | 95/150 [03:09<01:53,  2.06s/it]C:\\Users\\user\\AppData\\Local\\Temp\\ipykernel_13800\\1078927529.py:13: FutureWarning: The frame.append method is deprecated and will be removed from pandas in a future version. Use pandas.concat instead.\n",
      "  meta = meta.append({'title':title, 'event_date':event_date, 'collect_date':collect_date,'subject':subject,'tables':tables,'docs':docs,'vids':vids,'imgs':imgs, 'content':content},ignore_index=True)\n",
      " 64%|██████▍   | 96/150 [03:14<02:41,  2.99s/it]C:\\Users\\user\\AppData\\Local\\Temp\\ipykernel_13800\\1078927529.py:13: FutureWarning: The frame.append method is deprecated and will be removed from pandas in a future version. Use pandas.concat instead.\n",
      "  meta = meta.append({'title':title, 'event_date':event_date, 'collect_date':collect_date,'subject':subject,'tables':tables,'docs':docs,'vids':vids,'imgs':imgs, 'content':content},ignore_index=True)\n",
      " 65%|██████▍   | 97/150 [03:18<02:57,  3.34s/it]C:\\Users\\user\\AppData\\Local\\Temp\\ipykernel_13800\\1078927529.py:13: FutureWarning: The frame.append method is deprecated and will be removed from pandas in a future version. Use pandas.concat instead.\n",
      "  meta = meta.append({'title':title, 'event_date':event_date, 'collect_date':collect_date,'subject':subject,'tables':tables,'docs':docs,'vids':vids,'imgs':imgs, 'content':content},ignore_index=True)\n",
      " 66%|██████▌   | 99/150 [03:24<02:41,  3.18s/it]"
     ]
    },
    {
     "name": "stdout",
     "output_type": "stream",
     "text": [
      "NO\n"
     ]
    },
    {
     "name": "stderr",
     "output_type": "stream",
     "text": [
      "C:\\Users\\user\\AppData\\Local\\Temp\\ipykernel_13800\\1078927529.py:13: FutureWarning: The frame.append method is deprecated and will be removed from pandas in a future version. Use pandas.concat instead.\n",
      "  meta = meta.append({'title':title, 'event_date':event_date, 'collect_date':collect_date,'subject':subject,'tables':tables,'docs':docs,'vids':vids,'imgs':imgs, 'content':content},ignore_index=True)\n",
      " 67%|██████▋   | 100/150 [03:26<02:17,  2.75s/it]C:\\Users\\user\\AppData\\Local\\Temp\\ipykernel_13800\\1078927529.py:13: FutureWarning: The frame.append method is deprecated and will be removed from pandas in a future version. Use pandas.concat instead.\n",
      "  meta = meta.append({'title':title, 'event_date':event_date, 'collect_date':collect_date,'subject':subject,'tables':tables,'docs':docs,'vids':vids,'imgs':imgs, 'content':content},ignore_index=True)\n",
      " 67%|██████▋   | 101/150 [03:28<02:08,  2.61s/it]C:\\Users\\user\\AppData\\Local\\Temp\\ipykernel_13800\\1078927529.py:13: FutureWarning: The frame.append method is deprecated and will be removed from pandas in a future version. Use pandas.concat instead.\n",
      "  meta = meta.append({'title':title, 'event_date':event_date, 'collect_date':collect_date,'subject':subject,'tables':tables,'docs':docs,'vids':vids,'imgs':imgs, 'content':content},ignore_index=True)\n",
      " 68%|██████▊   | 102/150 [03:30<02:01,  2.53s/it]C:\\Users\\user\\AppData\\Local\\Temp\\ipykernel_13800\\1078927529.py:13: FutureWarning: The frame.append method is deprecated and will be removed from pandas in a future version. Use pandas.concat instead.\n",
      "  meta = meta.append({'title':title, 'event_date':event_date, 'collect_date':collect_date,'subject':subject,'tables':tables,'docs':docs,'vids':vids,'imgs':imgs, 'content':content},ignore_index=True)\n",
      " 69%|██████▊   | 103/150 [03:36<02:35,  3.31s/it]C:\\Users\\user\\AppData\\Local\\Temp\\ipykernel_13800\\1078927529.py:13: FutureWarning: The frame.append method is deprecated and will be removed from pandas in a future version. Use pandas.concat instead.\n",
      "  meta = meta.append({'title':title, 'event_date':event_date, 'collect_date':collect_date,'subject':subject,'tables':tables,'docs':docs,'vids':vids,'imgs':imgs, 'content':content},ignore_index=True)\n",
      " 70%|███████   | 105/150 [03:40<01:55,  2.58s/it]"
     ]
    },
    {
     "name": "stdout",
     "output_type": "stream",
     "text": [
      "NO\n"
     ]
    },
    {
     "name": "stderr",
     "output_type": "stream",
     "text": [
      " 71%|███████   | 106/150 [03:42<01:44,  2.38s/it]"
     ]
    },
    {
     "name": "stdout",
     "output_type": "stream",
     "text": [
      "NO\n"
     ]
    },
    {
     "name": "stderr",
     "output_type": "stream",
     "text": [
      "C:\\Users\\user\\AppData\\Local\\Temp\\ipykernel_13800\\1078927529.py:13: FutureWarning: The frame.append method is deprecated and will be removed from pandas in a future version. Use pandas.concat instead.\n",
      "  meta = meta.append({'title':title, 'event_date':event_date, 'collect_date':collect_date,'subject':subject,'tables':tables,'docs':docs,'vids':vids,'imgs':imgs, 'content':content},ignore_index=True)\n",
      " 72%|███████▏  | 108/150 [03:45<01:24,  2.01s/it]"
     ]
    },
    {
     "name": "stdout",
     "output_type": "stream",
     "text": [
      "NO\n"
     ]
    },
    {
     "name": "stderr",
     "output_type": "stream",
     "text": [
      "C:\\Users\\user\\AppData\\Local\\Temp\\ipykernel_13800\\1078927529.py:13: FutureWarning: The frame.append method is deprecated and will be removed from pandas in a future version. Use pandas.concat instead.\n",
      "  meta = meta.append({'title':title, 'event_date':event_date, 'collect_date':collect_date,'subject':subject,'tables':tables,'docs':docs,'vids':vids,'imgs':imgs, 'content':content},ignore_index=True)\n",
      " 73%|███████▎  | 109/150 [03:48<01:29,  2.19s/it]C:\\Users\\user\\AppData\\Local\\Temp\\ipykernel_13800\\1078927529.py:13: FutureWarning: The frame.append method is deprecated and will be removed from pandas in a future version. Use pandas.concat instead.\n",
      "  meta = meta.append({'title':title, 'event_date':event_date, 'collect_date':collect_date,'subject':subject,'tables':tables,'docs':docs,'vids':vids,'imgs':imgs, 'content':content},ignore_index=True)\n",
      " 73%|███████▎  | 110/150 [03:51<01:34,  2.36s/it]C:\\Users\\user\\AppData\\Local\\Temp\\ipykernel_13800\\1078927529.py:13: FutureWarning: The frame.append method is deprecated and will be removed from pandas in a future version. Use pandas.concat instead.\n",
      "  meta = meta.append({'title':title, 'event_date':event_date, 'collect_date':collect_date,'subject':subject,'tables':tables,'docs':docs,'vids':vids,'imgs':imgs, 'content':content},ignore_index=True)\n",
      " 74%|███████▍  | 111/150 [03:54<01:40,  2.56s/it]C:\\Users\\user\\AppData\\Local\\Temp\\ipykernel_13800\\1078927529.py:13: FutureWarning: The frame.append method is deprecated and will be removed from pandas in a future version. Use pandas.concat instead.\n",
      "  meta = meta.append({'title':title, 'event_date':event_date, 'collect_date':collect_date,'subject':subject,'tables':tables,'docs':docs,'vids':vids,'imgs':imgs, 'content':content},ignore_index=True)\n",
      " 75%|███████▍  | 112/150 [03:56<01:33,  2.47s/it]C:\\Users\\user\\AppData\\Local\\Temp\\ipykernel_13800\\1078927529.py:13: FutureWarning: The frame.append method is deprecated and will be removed from pandas in a future version. Use pandas.concat instead.\n",
      "  meta = meta.append({'title':title, 'event_date':event_date, 'collect_date':collect_date,'subject':subject,'tables':tables,'docs':docs,'vids':vids,'imgs':imgs, 'content':content},ignore_index=True)\n",
      " 75%|███████▌  | 113/150 [04:01<01:54,  3.09s/it]C:\\Users\\user\\AppData\\Local\\Temp\\ipykernel_13800\\1078927529.py:13: FutureWarning: The frame.append method is deprecated and will be removed from pandas in a future version. Use pandas.concat instead.\n",
      "  meta = meta.append({'title':title, 'event_date':event_date, 'collect_date':collect_date,'subject':subject,'tables':tables,'docs':docs,'vids':vids,'imgs':imgs, 'content':content},ignore_index=True)\n",
      " 76%|███████▌  | 114/150 [04:03<01:39,  2.77s/it]C:\\Users\\user\\AppData\\Local\\Temp\\ipykernel_13800\\1078927529.py:13: FutureWarning: The frame.append method is deprecated and will be removed from pandas in a future version. Use pandas.concat instead.\n",
      "  meta = meta.append({'title':title, 'event_date':event_date, 'collect_date':collect_date,'subject':subject,'tables':tables,'docs':docs,'vids':vids,'imgs':imgs, 'content':content},ignore_index=True)\n",
      " 77%|███████▋  | 116/150 [04:08<01:37,  2.87s/it]"
     ]
    },
    {
     "name": "stdout",
     "output_type": "stream",
     "text": [
      "NO\n"
     ]
    },
    {
     "name": "stderr",
     "output_type": "stream",
     "text": [
      "C:\\Users\\user\\AppData\\Local\\Temp\\ipykernel_13800\\1078927529.py:13: FutureWarning: The frame.append method is deprecated and will be removed from pandas in a future version. Use pandas.concat instead.\n",
      "  meta = meta.append({'title':title, 'event_date':event_date, 'collect_date':collect_date,'subject':subject,'tables':tables,'docs':docs,'vids':vids,'imgs':imgs, 'content':content},ignore_index=True)\n",
      " 78%|███████▊  | 117/150 [04:12<01:41,  3.09s/it]C:\\Users\\user\\AppData\\Local\\Temp\\ipykernel_13800\\1078927529.py:13: FutureWarning: The frame.append method is deprecated and will be removed from pandas in a future version. Use pandas.concat instead.\n",
      "  meta = meta.append({'title':title, 'event_date':event_date, 'collect_date':collect_date,'subject':subject,'tables':tables,'docs':docs,'vids':vids,'imgs':imgs, 'content':content},ignore_index=True)\n",
      " 79%|███████▊  | 118/150 [04:15<01:39,  3.12s/it]C:\\Users\\user\\AppData\\Local\\Temp\\ipykernel_13800\\1078927529.py:13: FutureWarning: The frame.append method is deprecated and will be removed from pandas in a future version. Use pandas.concat instead.\n",
      "  meta = meta.append({'title':title, 'event_date':event_date, 'collect_date':collect_date,'subject':subject,'tables':tables,'docs':docs,'vids':vids,'imgs':imgs, 'content':content},ignore_index=True)\n",
      " 79%|███████▉  | 119/150 [04:18<01:34,  3.03s/it]C:\\Users\\user\\AppData\\Local\\Temp\\ipykernel_13800\\1078927529.py:13: FutureWarning: The frame.append method is deprecated and will be removed from pandas in a future version. Use pandas.concat instead.\n",
      "  meta = meta.append({'title':title, 'event_date':event_date, 'collect_date':collect_date,'subject':subject,'tables':tables,'docs':docs,'vids':vids,'imgs':imgs, 'content':content},ignore_index=True)\n",
      " 81%|████████  | 121/150 [04:22<01:11,  2.48s/it]"
     ]
    },
    {
     "name": "stdout",
     "output_type": "stream",
     "text": [
      "NO\n"
     ]
    },
    {
     "name": "stderr",
     "output_type": "stream",
     "text": [
      " 81%|████████▏ | 122/150 [04:24<01:05,  2.33s/it]"
     ]
    },
    {
     "name": "stdout",
     "output_type": "stream",
     "text": [
      "NO\n"
     ]
    },
    {
     "name": "stderr",
     "output_type": "stream",
     "text": [
      " 82%|████████▏ | 123/150 [04:27<01:05,  2.41s/it]"
     ]
    },
    {
     "name": "stdout",
     "output_type": "stream",
     "text": [
      "NO\n"
     ]
    },
    {
     "name": "stderr",
     "output_type": "stream",
     "text": [
      "C:\\Users\\user\\AppData\\Local\\Temp\\ipykernel_13800\\1078927529.py:13: FutureWarning: The frame.append method is deprecated and will be removed from pandas in a future version. Use pandas.concat instead.\n",
      "  meta = meta.append({'title':title, 'event_date':event_date, 'collect_date':collect_date,'subject':subject,'tables':tables,'docs':docs,'vids':vids,'imgs':imgs, 'content':content},ignore_index=True)\n",
      " 83%|████████▎ | 124/150 [04:29<01:02,  2.41s/it]C:\\Users\\user\\AppData\\Local\\Temp\\ipykernel_13800\\1078927529.py:13: FutureWarning: The frame.append method is deprecated and will be removed from pandas in a future version. Use pandas.concat instead.\n",
      "  meta = meta.append({'title':title, 'event_date':event_date, 'collect_date':collect_date,'subject':subject,'tables':tables,'docs':docs,'vids':vids,'imgs':imgs, 'content':content},ignore_index=True)\n",
      " 83%|████████▎ | 125/150 [04:31<01:00,  2.41s/it]C:\\Users\\user\\AppData\\Local\\Temp\\ipykernel_13800\\1078927529.py:13: FutureWarning: The frame.append method is deprecated and will be removed from pandas in a future version. Use pandas.concat instead.\n",
      "  meta = meta.append({'title':title, 'event_date':event_date, 'collect_date':collect_date,'subject':subject,'tables':tables,'docs':docs,'vids':vids,'imgs':imgs, 'content':content},ignore_index=True)\n",
      " 84%|████████▍ | 126/150 [04:33<00:55,  2.29s/it]C:\\Users\\user\\AppData\\Local\\Temp\\ipykernel_13800\\1078927529.py:13: FutureWarning: The frame.append method is deprecated and will be removed from pandas in a future version. Use pandas.concat instead.\n",
      "  meta = meta.append({'title':title, 'event_date':event_date, 'collect_date':collect_date,'subject':subject,'tables':tables,'docs':docs,'vids':vids,'imgs':imgs, 'content':content},ignore_index=True)\n",
      " 85%|████████▍ | 127/150 [04:36<00:52,  2.26s/it]C:\\Users\\user\\AppData\\Local\\Temp\\ipykernel_13800\\1078927529.py:13: FutureWarning: The frame.append method is deprecated and will be removed from pandas in a future version. Use pandas.concat instead.\n",
      "  meta = meta.append({'title':title, 'event_date':event_date, 'collect_date':collect_date,'subject':subject,'tables':tables,'docs':docs,'vids':vids,'imgs':imgs, 'content':content},ignore_index=True)\n",
      " 85%|████████▌ | 128/150 [04:37<00:45,  2.08s/it]C:\\Users\\user\\AppData\\Local\\Temp\\ipykernel_13800\\1078927529.py:13: FutureWarning: The frame.append method is deprecated and will be removed from pandas in a future version. Use pandas.concat instead.\n",
      "  meta = meta.append({'title':title, 'event_date':event_date, 'collect_date':collect_date,'subject':subject,'tables':tables,'docs':docs,'vids':vids,'imgs':imgs, 'content':content},ignore_index=True)\n",
      " 87%|████████▋ | 130/150 [04:41<00:40,  2.03s/it]"
     ]
    },
    {
     "name": "stdout",
     "output_type": "stream",
     "text": [
      "NO\n"
     ]
    },
    {
     "name": "stderr",
     "output_type": "stream",
     "text": [
      " 87%|████████▋ | 131/150 [04:42<00:28,  1.49s/it]"
     ]
    },
    {
     "name": "stdout",
     "output_type": "stream",
     "text": [
      "NO\n"
     ]
    },
    {
     "name": "stderr",
     "output_type": "stream",
     "text": [
      "C:\\Users\\user\\AppData\\Local\\Temp\\ipykernel_13800\\1078927529.py:13: FutureWarning: The frame.append method is deprecated and will be removed from pandas in a future version. Use pandas.concat instead.\n",
      "  meta = meta.append({'title':title, 'event_date':event_date, 'collect_date':collect_date,'subject':subject,'tables':tables,'docs':docs,'vids':vids,'imgs':imgs, 'content':content},ignore_index=True)\n",
      " 89%|████████▉ | 134/150 [04:45<00:16,  1.05s/it]"
     ]
    },
    {
     "name": "stdout",
     "output_type": "stream",
     "text": [
      "NO\n",
      "NO\n"
     ]
    },
    {
     "name": "stderr",
     "output_type": "stream",
     "text": [
      " 90%|█████████ | 135/150 [04:45<00:11,  1.25it/s]"
     ]
    },
    {
     "name": "stdout",
     "output_type": "stream",
     "text": [
      "NO\n"
     ]
    },
    {
     "name": "stderr",
     "output_type": "stream",
     "text": [
      "C:\\Users\\user\\AppData\\Local\\Temp\\ipykernel_13800\\1078927529.py:13: FutureWarning: The frame.append method is deprecated and will be removed from pandas in a future version. Use pandas.concat instead.\n",
      "  meta = meta.append({'title':title, 'event_date':event_date, 'collect_date':collect_date,'subject':subject,'tables':tables,'docs':docs,'vids':vids,'imgs':imgs, 'content':content},ignore_index=True)\n",
      " 91%|█████████ | 136/150 [04:48<00:17,  1.28s/it]C:\\Users\\user\\AppData\\Local\\Temp\\ipykernel_13800\\1078927529.py:13: FutureWarning: The frame.append method is deprecated and will be removed from pandas in a future version. Use pandas.concat instead.\n",
      "  meta = meta.append({'title':title, 'event_date':event_date, 'collect_date':collect_date,'subject':subject,'tables':tables,'docs':docs,'vids':vids,'imgs':imgs, 'content':content},ignore_index=True)\n",
      " 91%|█████████▏| 137/150 [04:55<00:41,  3.20s/it]C:\\Users\\user\\AppData\\Local\\Temp\\ipykernel_13800\\1078927529.py:13: FutureWarning: The frame.append method is deprecated and will be removed from pandas in a future version. Use pandas.concat instead.\n",
      "  meta = meta.append({'title':title, 'event_date':event_date, 'collect_date':collect_date,'subject':subject,'tables':tables,'docs':docs,'vids':vids,'imgs':imgs, 'content':content},ignore_index=True)\n",
      " 92%|█████████▏| 138/150 [04:57<00:33,  2.79s/it]C:\\Users\\user\\AppData\\Local\\Temp\\ipykernel_13800\\1078927529.py:13: FutureWarning: The frame.append method is deprecated and will be removed from pandas in a future version. Use pandas.concat instead.\n",
      "  meta = meta.append({'title':title, 'event_date':event_date, 'collect_date':collect_date,'subject':subject,'tables':tables,'docs':docs,'vids':vids,'imgs':imgs, 'content':content},ignore_index=True)\n",
      " 93%|█████████▎| 139/150 [04:59<00:28,  2.56s/it]C:\\Users\\user\\AppData\\Local\\Temp\\ipykernel_13800\\1078927529.py:13: FutureWarning: The frame.append method is deprecated and will be removed from pandas in a future version. Use pandas.concat instead.\n",
      "  meta = meta.append({'title':title, 'event_date':event_date, 'collect_date':collect_date,'subject':subject,'tables':tables,'docs':docs,'vids':vids,'imgs':imgs, 'content':content},ignore_index=True)\n",
      " 93%|█████████▎| 140/150 [05:02<00:25,  2.60s/it]C:\\Users\\user\\AppData\\Local\\Temp\\ipykernel_13800\\1078927529.py:13: FutureWarning: The frame.append method is deprecated and will be removed from pandas in a future version. Use pandas.concat instead.\n",
      "  meta = meta.append({'title':title, 'event_date':event_date, 'collect_date':collect_date,'subject':subject,'tables':tables,'docs':docs,'vids':vids,'imgs':imgs, 'content':content},ignore_index=True)\n",
      " 94%|█████████▍| 141/150 [05:05<00:25,  2.80s/it]C:\\Users\\user\\AppData\\Local\\Temp\\ipykernel_13800\\1078927529.py:13: FutureWarning: The frame.append method is deprecated and will be removed from pandas in a future version. Use pandas.concat instead.\n",
      "  meta = meta.append({'title':title, 'event_date':event_date, 'collect_date':collect_date,'subject':subject,'tables':tables,'docs':docs,'vids':vids,'imgs':imgs, 'content':content},ignore_index=True)\n",
      " 95%|█████████▍| 142/150 [05:07<00:20,  2.62s/it]C:\\Users\\user\\AppData\\Local\\Temp\\ipykernel_13800\\1078927529.py:13: FutureWarning: The frame.append method is deprecated and will be removed from pandas in a future version. Use pandas.concat instead.\n",
      "  meta = meta.append({'title':title, 'event_date':event_date, 'collect_date':collect_date,'subject':subject,'tables':tables,'docs':docs,'vids':vids,'imgs':imgs, 'content':content},ignore_index=True)\n",
      " 96%|█████████▌| 144/150 [05:10<00:10,  1.82s/it]"
     ]
    },
    {
     "name": "stdout",
     "output_type": "stream",
     "text": [
      "NO\n"
     ]
    },
    {
     "name": "stderr",
     "output_type": "stream",
     "text": [
      " 97%|█████████▋| 146/150 [05:10<00:04,  1.01s/it]"
     ]
    },
    {
     "name": "stdout",
     "output_type": "stream",
     "text": [
      "NO\n",
      "NO\n"
     ]
    },
    {
     "name": "stderr",
     "output_type": "stream",
     "text": [
      " 99%|█████████▊| 148/150 [05:11<00:01,  1.75it/s]"
     ]
    },
    {
     "name": "stdout",
     "output_type": "stream",
     "text": [
      "NO\n",
      "NO\n"
     ]
    },
    {
     "name": "stderr",
     "output_type": "stream",
     "text": [
      "100%|██████████| 150/150 [05:11<00:00,  2.08s/it]"
     ]
    },
    {
     "name": "stdout",
     "output_type": "stream",
     "text": [
      "NO\n",
      "NO\n"
     ]
    },
    {
     "name": "stderr",
     "output_type": "stream",
     "text": [
      "\n"
     ]
    }
   ],
   "source": [
    "for i in tqdm(range(250,400)):\n",
    "    try: \n",
    "        driver.get(\"https://www.nl.go.kr/oasis/contents/O2010000.do?page=1&pageUnit=12&schM=search_list&schType=theme&schIsFa=ISU-000000000\"+str(i))\n",
    "        title = get_element(driver, '//*[@id=\"tab_Intro\"]/div/div[2]/div/div[1]/h4')\n",
    "        event_date = get_element(driver, '//*[@id=\"tab_Intro\"]/div/div[2]/div/div[2]/div[1]/div/div[2]/ul/li[1]/div/div[2]')\n",
    "        collect_date = get_element(driver, '//*[@id=\"tab_Intro\"]/div/div[2]/div/div[2]/div[1]/div/div[2]/ul/li[2]/div/div[2]')\n",
    "        tables = get_element(driver,'//*[@id=\"tab_Intro\"]/div/div[2]/div/div[2]/div[1]/div/div[2]/ul/li[4]/div/div[2]/span/a[1]')\n",
    "        docs = get_element(driver, '//*[@id=\"tab_Intro\"]/div/div[2]/div/div[2]/div[1]/div/div[2]/ul/li[4]/div/div[2]/span/a[2]')\n",
    "        vids = get_element(driver, '//*[@id=\"tab_Intro\"]/div/div[2]/div/div[2]/div[1]/div/div[2]/ul/li[4]/div/div[2]/span/a[3]')\n",
    "        imgs = get_element(driver, '//*[@id=\"tab_Intro\"]/div/div[2]/div/div[2]/div[1]/div/div[2]/ul/li[4]/div/div[2]/span/a[4]')\n",
    "        subject =get_element(driver, '//*[@id=\"tab_Intro\"]/div/div[2]/div/div[2]/div[1]/div/div[2]/ul/li[3]/div/div[2]/a')\n",
    "        content = get_element(driver, '//*[@id=\"tab_Intro\"]/div/div[2]/div/div[2]/div[2]/div/p[1]')\n",
    "        meta = meta.append({'title':title, 'event_date':event_date, 'collect_date':collect_date,'subject':subject,'tables':tables,'docs':docs,'vids':vids,'imgs':imgs, 'content':content},ignore_index=True)\n",
    "    \n",
    "    except:\n",
    "        print('NO')\n",
    "        continue"
   ]
  },
  {
   "cell_type": "code",
   "execution_count": 88,
   "metadata": {},
   "outputs": [
    {
     "data": {
      "text/html": [
       "<div>\n",
       "<style scoped>\n",
       "    .dataframe tbody tr th:only-of-type {\n",
       "        vertical-align: middle;\n",
       "    }\n",
       "\n",
       "    .dataframe tbody tr th {\n",
       "        vertical-align: top;\n",
       "    }\n",
       "\n",
       "    .dataframe thead th {\n",
       "        text-align: right;\n",
       "    }\n",
       "</style>\n",
       "<table border=\"1\" class=\"dataframe\">\n",
       "  <thead>\n",
       "    <tr style=\"text-align: right;\">\n",
       "      <th></th>\n",
       "      <th>title</th>\n",
       "      <th>event_date</th>\n",
       "      <th>collect_date</th>\n",
       "      <th>subject</th>\n",
       "      <th>tables</th>\n",
       "      <th>docs</th>\n",
       "      <th>vids</th>\n",
       "      <th>imgs</th>\n",
       "      <th>content</th>\n",
       "    </tr>\n",
       "  </thead>\n",
       "  <tbody>\n",
       "    <tr>\n",
       "      <th>0</th>\n",
       "      <td>2014년 브라질 월드컵</td>\n",
       "      <td>2014년 06월 13일 ~ 2014년 07월 14일</td>\n",
       "      <td>2014년 08월 01일 ~ 2014년 09월 05일</td>\n",
       "      <td>예술 &gt; 오락, 스포츠</td>\n",
       "      <td>1,402</td>\n",
       "      <td>0</td>\n",
       "      <td>180</td>\n",
       "      <td>0</td>\n",
       "      <td>2014년 6월 13일 오전 5시(한국시간) 브라질과 크로아티아 개막전으로 브라질 ...</td>\n",
       "    </tr>\n",
       "    <tr>\n",
       "      <th>1</th>\n",
       "      <td>2014년 인천아시안게임</td>\n",
       "      <td>2014년 09월 16일 ~ 2014년 10월 04일</td>\n",
       "      <td>2014년 07월 11일 ~ 2014년 11월 14일</td>\n",
       "      <td>예술 &gt; 오락, 스포츠</td>\n",
       "      <td>1,336</td>\n",
       "      <td>537</td>\n",
       "      <td>108</td>\n",
       "      <td>0</td>\n",
       "      <td>인천아시안게임은 2014년 9월 19일부터 10월 4일까지 16일간 인천광역시 일원...</td>\n",
       "    </tr>\n",
       "    <tr>\n",
       "      <th>2</th>\n",
       "      <td>2014년 동부전선 육군 GOP 소초 총기사고</td>\n",
       "      <td>2014년 06월 21일 ~ 2014년 06월 21일</td>\n",
       "      <td>2014년 07월 01일 ~ 2014년 08월 08일</td>\n",
       "      <td>사회과학 &gt; 국방, 군사학</td>\n",
       "      <td>220</td>\n",
       "      <td>0</td>\n",
       "      <td>0</td>\n",
       "      <td>0</td>\n",
       "      <td>2014년 6월21일 토요일 20시15분경, 동부전선인 강원도 고성군 22사단 GO...</td>\n",
       "    </tr>\n",
       "    <tr>\n",
       "      <th>3</th>\n",
       "      <td>2014년 6.4 지방선거</td>\n",
       "      <td>2014년 06월 04일 ~ 2014년 06월 04일</td>\n",
       "      <td>2014년 05월 30일 ~ 2014년 07월 04일</td>\n",
       "      <td>사회과학 &gt; 정치학</td>\n",
       "      <td>2,663</td>\n",
       "      <td>0</td>\n",
       "      <td>7</td>\n",
       "      <td>0</td>\n",
       "      <td>2014년 6월 4일 민선 6기를 이끌 지방자치단체장과 지방의원, 교육감 등을 선출...</td>\n",
       "    </tr>\n",
       "    <tr>\n",
       "      <th>4</th>\n",
       "      <td>광복 70주년</td>\n",
       "      <td>2015년 08월 15일 ~ 2015년 08월 15일</td>\n",
       "      <td>2015년 06월 11일 ~ 2015년 08월 14일</td>\n",
       "      <td>역사 &gt; 아시아</td>\n",
       "      <td>1</td>\n",
       "      <td>92</td>\n",
       "      <td>8</td>\n",
       "      <td>4</td>\n",
       "      <td>정부는 광복70주년을 맞이하여 축하 분위기 확산과 내수경기 진작을 위하여 2015년...</td>\n",
       "    </tr>\n",
       "    <tr>\n",
       "      <th>...</th>\n",
       "      <td>...</td>\n",
       "      <td>...</td>\n",
       "      <td>...</td>\n",
       "      <td>...</td>\n",
       "      <td>...</td>\n",
       "      <td>...</td>\n",
       "      <td>...</td>\n",
       "      <td>...</td>\n",
       "      <td>...</td>\n",
       "    </tr>\n",
       "    <tr>\n",
       "      <th>78</th>\n",
       "      <td>2021년 대한민국 재보궐선거 (4·7 재보궐선거)</td>\n",
       "      <td>2021년 07월 23일 ~ 2021년 08월 08일</td>\n",
       "      <td>2021년 07월 05일 ~ 2021년 11월 17일</td>\n",
       "      <td>사회과학 &gt; 행정학</td>\n",
       "      <td>271</td>\n",
       "      <td>0</td>\n",
       "      <td>0</td>\n",
       "      <td>0</td>\n",
       "      <td>2020년 7월 10일 박원순 전 서울시장의 임기 중 사망, 오거돈 전 부산시장 자...</td>\n",
       "    </tr>\n",
       "    <tr>\n",
       "      <th>79</th>\n",
       "      <td>문화콘텐츠</td>\n",
       "      <td>2021년 01월 01일</td>\n",
       "      <td>2022년 01월 27일 ~ 2022년 12월 31일</td>\n",
       "      <td>예술 &gt; 공연예술, 매체예술</td>\n",
       "      <td>603</td>\n",
       "      <td>0</td>\n",
       "      <td>0</td>\n",
       "      <td>0</td>\n",
       "      <td>“한류가 아시아와 그 너머 다른 국가들에서도 한국의 문화적 영향력을 확산시켜 한국을...</td>\n",
       "    </tr>\n",
       "    <tr>\n",
       "      <th>80</th>\n",
       "      <td>누리호</td>\n",
       "      <td>2020년 07월 21일</td>\n",
       "      <td>2020년 09월 08일 ~ 2022년 02월 26일</td>\n",
       "      <td>기술과학 &gt; 기계공학</td>\n",
       "      <td>38</td>\n",
       "      <td>0</td>\n",
       "      <td>0</td>\n",
       "      <td>0</td>\n",
       "      <td>1957년 소련(지금의 러시아)은 인류 최초의 인공위성인 스푸트니크 1호 발사에 성...</td>\n",
       "    </tr>\n",
       "    <tr>\n",
       "      <th>81</th>\n",
       "      <td>2022년 20대 대통령선거(20대 대선)</td>\n",
       "      <td>2022년 03월 09일</td>\n",
       "      <td>2021년 09월 01일 ~ 2022년 02월 26일</td>\n",
       "      <td>사회과학 &gt; 행정학</td>\n",
       "      <td>210</td>\n",
       "      <td>0</td>\n",
       "      <td>0</td>\n",
       "      <td>0</td>\n",
       "      <td>제20대 대통령선거가 2022년 3월 9일 실시된다. 제20대 대통령선거는 18세 ...</td>\n",
       "    </tr>\n",
       "    <tr>\n",
       "      <th>82</th>\n",
       "      <td>도서관</td>\n",
       "      <td>2000년 01월 01일</td>\n",
       "      <td>2021년 08월 01일 ~ 2022년 02월 26일</td>\n",
       "      <td>총류 &gt; 문헌정보학</td>\n",
       "      <td>329</td>\n",
       "      <td>0</td>\n",
       "      <td>0</td>\n",
       "      <td>0</td>\n",
       "      <td>도서관은 도서 및 기타 자료를 수집·정리·보존하여 독자에게 독서·조사·연구·참고·취...</td>\n",
       "    </tr>\n",
       "  </tbody>\n",
       "</table>\n",
       "<p>83 rows × 9 columns</p>\n",
       "</div>"
      ],
      "text/plain": [
       "                           title                     event_date  \\\n",
       "0                  2014년 브라질 월드컵  2014년 06월 13일 ~ 2014년 07월 14일   \n",
       "1                  2014년 인천아시안게임  2014년 09월 16일 ~ 2014년 10월 04일   \n",
       "2      2014년 동부전선 육군 GOP 소초 총기사고  2014년 06월 21일 ~ 2014년 06월 21일   \n",
       "3                 2014년 6.4 지방선거  2014년 06월 04일 ~ 2014년 06월 04일   \n",
       "4                        광복 70주년  2015년 08월 15일 ~ 2015년 08월 15일   \n",
       "..                           ...                            ...   \n",
       "78  2021년 대한민국 재보궐선거 (4·7 재보궐선거)  2021년 07월 23일 ~ 2021년 08월 08일   \n",
       "79                         문화콘텐츠                  2021년 01월 01일   \n",
       "80                           누리호                  2020년 07월 21일   \n",
       "81       2022년 20대 대통령선거(20대 대선)                  2022년 03월 09일   \n",
       "82                           도서관                  2000년 01월 01일   \n",
       "\n",
       "                     collect_date          subject tables docs vids imgs  \\\n",
       "0   2014년 08월 01일 ~ 2014년 09월 05일     예술 > 오락, 스포츠  1,402    0  180    0   \n",
       "1   2014년 07월 11일 ~ 2014년 11월 14일     예술 > 오락, 스포츠  1,336  537  108    0   \n",
       "2   2014년 07월 01일 ~ 2014년 08월 08일   사회과학 > 국방, 군사학    220    0    0    0   \n",
       "3   2014년 05월 30일 ~ 2014년 07월 04일       사회과학 > 정치학  2,663    0    7    0   \n",
       "4   2015년 06월 11일 ~ 2015년 08월 14일         역사 > 아시아      1   92    8    4   \n",
       "..                            ...              ...    ...  ...  ...  ...   \n",
       "78  2021년 07월 05일 ~ 2021년 11월 17일       사회과학 > 행정학    271    0    0    0   \n",
       "79  2022년 01월 27일 ~ 2022년 12월 31일  예술 > 공연예술, 매체예술    603    0    0    0   \n",
       "80  2020년 09월 08일 ~ 2022년 02월 26일      기술과학 > 기계공학     38    0    0    0   \n",
       "81  2021년 09월 01일 ~ 2022년 02월 26일       사회과학 > 행정학    210    0    0    0   \n",
       "82  2021년 08월 01일 ~ 2022년 02월 26일       총류 > 문헌정보학    329    0    0    0   \n",
       "\n",
       "                                              content  \n",
       "0   2014년 6월 13일 오전 5시(한국시간) 브라질과 크로아티아 개막전으로 브라질 ...  \n",
       "1   인천아시안게임은 2014년 9월 19일부터 10월 4일까지 16일간 인천광역시 일원...  \n",
       "2   2014년 6월21일 토요일 20시15분경, 동부전선인 강원도 고성군 22사단 GO...  \n",
       "3   2014년 6월 4일 민선 6기를 이끌 지방자치단체장과 지방의원, 교육감 등을 선출...  \n",
       "4   정부는 광복70주년을 맞이하여 축하 분위기 확산과 내수경기 진작을 위하여 2015년...  \n",
       "..                                                ...  \n",
       "78  2020년 7월 10일 박원순 전 서울시장의 임기 중 사망, 오거돈 전 부산시장 자...  \n",
       "79  “한류가 아시아와 그 너머 다른 국가들에서도 한국의 문화적 영향력을 확산시켜 한국을...  \n",
       "80  1957년 소련(지금의 러시아)은 인류 최초의 인공위성인 스푸트니크 1호 발사에 성...  \n",
       "81  제20대 대통령선거가 2022년 3월 9일 실시된다. 제20대 대통령선거는 18세 ...  \n",
       "82  도서관은 도서 및 기타 자료를 수집·정리·보존하여 독자에게 독서·조사·연구·참고·취...  \n",
       "\n",
       "[83 rows x 9 columns]"
      ]
     },
     "execution_count": 88,
     "metadata": {},
     "output_type": "execute_result"
    }
   ],
   "source": [
    "meta"
   ]
  },
  {
   "cell_type": "code",
   "execution_count": 76,
   "metadata": {},
   "outputs": [],
   "source": [
    "meta.to_csv('OASIS_COLLECTION_METADATA.csv')"
   ]
  },
  {
   "cell_type": "code",
   "execution_count": 91,
   "metadata": {},
   "outputs": [
    {
     "data": {
      "text/plain": [
       "0     1,402\n",
       "1     1,336\n",
       "2       220\n",
       "3     2,663\n",
       "4         1\n",
       "      ...  \n",
       "78      271\n",
       "79      603\n",
       "80       38\n",
       "81      210\n",
       "82      329\n",
       "Name: links, Length: 83, dtype: object"
      ]
     },
     "execution_count": 91,
     "metadata": {},
     "output_type": "execute_result"
    }
   ],
   "source": [
    "meta['tables'].rename('links', inplace = True)"
   ]
  },
  {
   "cell_type": "code",
   "execution_count": 93,
   "metadata": {},
   "outputs": [
    {
     "data": {
      "text/html": [
       "<div>\n",
       "<style scoped>\n",
       "    .dataframe tbody tr th:only-of-type {\n",
       "        vertical-align: middle;\n",
       "    }\n",
       "\n",
       "    .dataframe tbody tr th {\n",
       "        vertical-align: top;\n",
       "    }\n",
       "\n",
       "    .dataframe thead th {\n",
       "        text-align: right;\n",
       "    }\n",
       "</style>\n",
       "<table border=\"1\" class=\"dataframe\">\n",
       "  <thead>\n",
       "    <tr style=\"text-align: right;\">\n",
       "      <th></th>\n",
       "      <th>title</th>\n",
       "      <th>event_date</th>\n",
       "      <th>collect_date</th>\n",
       "      <th>subject</th>\n",
       "      <th>tables</th>\n",
       "      <th>docs</th>\n",
       "      <th>vids</th>\n",
       "      <th>imgs</th>\n",
       "      <th>content</th>\n",
       "    </tr>\n",
       "  </thead>\n",
       "  <tbody>\n",
       "    <tr>\n",
       "      <th>0</th>\n",
       "      <td>2014년 브라질 월드컵</td>\n",
       "      <td>2014년 06월 13일 ~ 2014년 07월 14일</td>\n",
       "      <td>2014년 08월 01일 ~ 2014년 09월 05일</td>\n",
       "      <td>예술 &gt; 오락, 스포츠</td>\n",
       "      <td>1,402</td>\n",
       "      <td>0</td>\n",
       "      <td>180</td>\n",
       "      <td>0</td>\n",
       "      <td>2014년 6월 13일 오전 5시(한국시간) 브라질과 크로아티아 개막전으로 브라질 ...</td>\n",
       "    </tr>\n",
       "    <tr>\n",
       "      <th>1</th>\n",
       "      <td>2014년 인천아시안게임</td>\n",
       "      <td>2014년 09월 16일 ~ 2014년 10월 04일</td>\n",
       "      <td>2014년 07월 11일 ~ 2014년 11월 14일</td>\n",
       "      <td>예술 &gt; 오락, 스포츠</td>\n",
       "      <td>1,336</td>\n",
       "      <td>537</td>\n",
       "      <td>108</td>\n",
       "      <td>0</td>\n",
       "      <td>인천아시안게임은 2014년 9월 19일부터 10월 4일까지 16일간 인천광역시 일원...</td>\n",
       "    </tr>\n",
       "    <tr>\n",
       "      <th>2</th>\n",
       "      <td>2014년 동부전선 육군 GOP 소초 총기사고</td>\n",
       "      <td>2014년 06월 21일 ~ 2014년 06월 21일</td>\n",
       "      <td>2014년 07월 01일 ~ 2014년 08월 08일</td>\n",
       "      <td>사회과학 &gt; 국방, 군사학</td>\n",
       "      <td>220</td>\n",
       "      <td>0</td>\n",
       "      <td>0</td>\n",
       "      <td>0</td>\n",
       "      <td>2014년 6월21일 토요일 20시15분경, 동부전선인 강원도 고성군 22사단 GO...</td>\n",
       "    </tr>\n",
       "    <tr>\n",
       "      <th>3</th>\n",
       "      <td>2014년 6.4 지방선거</td>\n",
       "      <td>2014년 06월 04일 ~ 2014년 06월 04일</td>\n",
       "      <td>2014년 05월 30일 ~ 2014년 07월 04일</td>\n",
       "      <td>사회과학 &gt; 정치학</td>\n",
       "      <td>2,663</td>\n",
       "      <td>0</td>\n",
       "      <td>7</td>\n",
       "      <td>0</td>\n",
       "      <td>2014년 6월 4일 민선 6기를 이끌 지방자치단체장과 지방의원, 교육감 등을 선출...</td>\n",
       "    </tr>\n",
       "    <tr>\n",
       "      <th>4</th>\n",
       "      <td>광복 70주년</td>\n",
       "      <td>2015년 08월 15일 ~ 2015년 08월 15일</td>\n",
       "      <td>2015년 06월 11일 ~ 2015년 08월 14일</td>\n",
       "      <td>역사 &gt; 아시아</td>\n",
       "      <td>1</td>\n",
       "      <td>92</td>\n",
       "      <td>8</td>\n",
       "      <td>4</td>\n",
       "      <td>정부는 광복70주년을 맞이하여 축하 분위기 확산과 내수경기 진작을 위하여 2015년...</td>\n",
       "    </tr>\n",
       "    <tr>\n",
       "      <th>...</th>\n",
       "      <td>...</td>\n",
       "      <td>...</td>\n",
       "      <td>...</td>\n",
       "      <td>...</td>\n",
       "      <td>...</td>\n",
       "      <td>...</td>\n",
       "      <td>...</td>\n",
       "      <td>...</td>\n",
       "      <td>...</td>\n",
       "    </tr>\n",
       "    <tr>\n",
       "      <th>78</th>\n",
       "      <td>2021년 대한민국 재보궐선거 (4·7 재보궐선거)</td>\n",
       "      <td>2021년 07월 23일 ~ 2021년 08월 08일</td>\n",
       "      <td>2021년 07월 05일 ~ 2021년 11월 17일</td>\n",
       "      <td>사회과학 &gt; 행정학</td>\n",
       "      <td>271</td>\n",
       "      <td>0</td>\n",
       "      <td>0</td>\n",
       "      <td>0</td>\n",
       "      <td>2020년 7월 10일 박원순 전 서울시장의 임기 중 사망, 오거돈 전 부산시장 자...</td>\n",
       "    </tr>\n",
       "    <tr>\n",
       "      <th>79</th>\n",
       "      <td>문화콘텐츠</td>\n",
       "      <td>2021년 01월 01일</td>\n",
       "      <td>2022년 01월 27일 ~ 2022년 12월 31일</td>\n",
       "      <td>예술 &gt; 공연예술, 매체예술</td>\n",
       "      <td>603</td>\n",
       "      <td>0</td>\n",
       "      <td>0</td>\n",
       "      <td>0</td>\n",
       "      <td>“한류가 아시아와 그 너머 다른 국가들에서도 한국의 문화적 영향력을 확산시켜 한국을...</td>\n",
       "    </tr>\n",
       "    <tr>\n",
       "      <th>80</th>\n",
       "      <td>누리호</td>\n",
       "      <td>2020년 07월 21일</td>\n",
       "      <td>2020년 09월 08일 ~ 2022년 02월 26일</td>\n",
       "      <td>기술과학 &gt; 기계공학</td>\n",
       "      <td>38</td>\n",
       "      <td>0</td>\n",
       "      <td>0</td>\n",
       "      <td>0</td>\n",
       "      <td>1957년 소련(지금의 러시아)은 인류 최초의 인공위성인 스푸트니크 1호 발사에 성...</td>\n",
       "    </tr>\n",
       "    <tr>\n",
       "      <th>81</th>\n",
       "      <td>2022년 20대 대통령선거(20대 대선)</td>\n",
       "      <td>2022년 03월 09일</td>\n",
       "      <td>2021년 09월 01일 ~ 2022년 02월 26일</td>\n",
       "      <td>사회과학 &gt; 행정학</td>\n",
       "      <td>210</td>\n",
       "      <td>0</td>\n",
       "      <td>0</td>\n",
       "      <td>0</td>\n",
       "      <td>제20대 대통령선거가 2022년 3월 9일 실시된다. 제20대 대통령선거는 18세 ...</td>\n",
       "    </tr>\n",
       "    <tr>\n",
       "      <th>82</th>\n",
       "      <td>도서관</td>\n",
       "      <td>2000년 01월 01일</td>\n",
       "      <td>2021년 08월 01일 ~ 2022년 02월 26일</td>\n",
       "      <td>총류 &gt; 문헌정보학</td>\n",
       "      <td>329</td>\n",
       "      <td>0</td>\n",
       "      <td>0</td>\n",
       "      <td>0</td>\n",
       "      <td>도서관은 도서 및 기타 자료를 수집·정리·보존하여 독자에게 독서·조사·연구·참고·취...</td>\n",
       "    </tr>\n",
       "  </tbody>\n",
       "</table>\n",
       "<p>83 rows × 9 columns</p>\n",
       "</div>"
      ],
      "text/plain": [
       "                           title                     event_date  \\\n",
       "0                  2014년 브라질 월드컵  2014년 06월 13일 ~ 2014년 07월 14일   \n",
       "1                  2014년 인천아시안게임  2014년 09월 16일 ~ 2014년 10월 04일   \n",
       "2      2014년 동부전선 육군 GOP 소초 총기사고  2014년 06월 21일 ~ 2014년 06월 21일   \n",
       "3                 2014년 6.4 지방선거  2014년 06월 04일 ~ 2014년 06월 04일   \n",
       "4                        광복 70주년  2015년 08월 15일 ~ 2015년 08월 15일   \n",
       "..                           ...                            ...   \n",
       "78  2021년 대한민국 재보궐선거 (4·7 재보궐선거)  2021년 07월 23일 ~ 2021년 08월 08일   \n",
       "79                         문화콘텐츠                  2021년 01월 01일   \n",
       "80                           누리호                  2020년 07월 21일   \n",
       "81       2022년 20대 대통령선거(20대 대선)                  2022년 03월 09일   \n",
       "82                           도서관                  2000년 01월 01일   \n",
       "\n",
       "                     collect_date          subject tables docs vids imgs  \\\n",
       "0   2014년 08월 01일 ~ 2014년 09월 05일     예술 > 오락, 스포츠  1,402    0  180    0   \n",
       "1   2014년 07월 11일 ~ 2014년 11월 14일     예술 > 오락, 스포츠  1,336  537  108    0   \n",
       "2   2014년 07월 01일 ~ 2014년 08월 08일   사회과학 > 국방, 군사학    220    0    0    0   \n",
       "3   2014년 05월 30일 ~ 2014년 07월 04일       사회과학 > 정치학  2,663    0    7    0   \n",
       "4   2015년 06월 11일 ~ 2015년 08월 14일         역사 > 아시아      1   92    8    4   \n",
       "..                            ...              ...    ...  ...  ...  ...   \n",
       "78  2021년 07월 05일 ~ 2021년 11월 17일       사회과학 > 행정학    271    0    0    0   \n",
       "79  2022년 01월 27일 ~ 2022년 12월 31일  예술 > 공연예술, 매체예술    603    0    0    0   \n",
       "80  2020년 09월 08일 ~ 2022년 02월 26일      기술과학 > 기계공학     38    0    0    0   \n",
       "81  2021년 09월 01일 ~ 2022년 02월 26일       사회과학 > 행정학    210    0    0    0   \n",
       "82  2021년 08월 01일 ~ 2022년 02월 26일       총류 > 문헌정보학    329    0    0    0   \n",
       "\n",
       "                                              content  \n",
       "0   2014년 6월 13일 오전 5시(한국시간) 브라질과 크로아티아 개막전으로 브라질 ...  \n",
       "1   인천아시안게임은 2014년 9월 19일부터 10월 4일까지 16일간 인천광역시 일원...  \n",
       "2   2014년 6월21일 토요일 20시15분경, 동부전선인 강원도 고성군 22사단 GO...  \n",
       "3   2014년 6월 4일 민선 6기를 이끌 지방자치단체장과 지방의원, 교육감 등을 선출...  \n",
       "4   정부는 광복70주년을 맞이하여 축하 분위기 확산과 내수경기 진작을 위하여 2015년...  \n",
       "..                                                ...  \n",
       "78  2020년 7월 10일 박원순 전 서울시장의 임기 중 사망, 오거돈 전 부산시장 자...  \n",
       "79  “한류가 아시아와 그 너머 다른 국가들에서도 한국의 문화적 영향력을 확산시켜 한국을...  \n",
       "80  1957년 소련(지금의 러시아)은 인류 최초의 인공위성인 스푸트니크 1호 발사에 성...  \n",
       "81  제20대 대통령선거가 2022년 3월 9일 실시된다. 제20대 대통령선거는 18세 ...  \n",
       "82  도서관은 도서 및 기타 자료를 수집·정리·보존하여 독자에게 독서·조사·연구·참고·취...  \n",
       "\n",
       "[83 rows x 9 columns]"
      ]
     },
     "execution_count": 93,
     "metadata": {},
     "output_type": "execute_result"
    }
   ],
   "source": [
    "meta"
   ]
  },
  {
   "cell_type": "code",
   "execution_count": null,
   "metadata": {},
   "outputs": [],
   "source": []
  }
 ],
 "metadata": {
  "kernelspec": {
   "display_name": "Python 3 (ipykernel)",
   "language": "python",
   "name": "python3"
  },
  "language_info": {
   "codemirror_mode": {
    "name": "ipython",
    "version": 3
   },
   "file_extension": ".py",
   "mimetype": "text/x-python",
   "name": "python",
   "nbconvert_exporter": "python",
   "pygments_lexer": "ipython3",
   "version": "3.9.12"
  },
  "vscode": {
   "interpreter": {
    "hash": "ad2bdc8ecc057115af97d19610ffacc2b4e99fae6737bb82f5d7fb13d2f2c186"
   }
  }
 },
 "nbformat": 4,
 "nbformat_minor": 2
}
