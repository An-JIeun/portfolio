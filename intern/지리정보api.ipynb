{
 "cells": [
  {
   "cell_type": "code",
   "execution_count": 1,
   "metadata": {},
   "outputs": [],
   "source": [
    "import requests\n",
    "import pprint\n",
    "import json\n",
    "import pandas as pd\n",
    "from datetime import datetime,  timedelta\n",
    "import tqdm \n",
    "from tqdm import tqdm\n",
    "\n",
    "import warnings\n",
    "warnings.filterwarnings('ignore')\n",
    "\n",
    "key = '7bBeVcu1HiKEYVutnwGstfISHvCJKzXcizQ2iFZlhBCaQobHPqOod8G%2BcwO05R81TptPWRtVcKUSqmhqOqCGXQ%3D%3D'\n"
   ]
  },
  {
   "cell_type": "markdown",
   "metadata": {},
   "source": [
    "# 1. 국토교통부_(TAGO)_버스정류소정보"
   ]
  },
  {
   "cell_type": "markdown",
   "metadata": {},
   "source": [
    "## 1-1. 도시코드 목록 조회"
   ]
  },
  {
   "cell_type": "code",
   "execution_count": 11,
   "metadata": {},
   "outputs": [],
   "source": [
    "def get_city_code(key):\n",
    "    \n",
    "    url = 'https://apis.data.go.kr/1613000/BusSttnInfoInqireService/getCtyCodeList?serviceKey=%s&_type=json'%key    \n",
    "    response = requests.get(url, verify=False)\n",
    "    contents = response.text\n",
    "    json_ob = json.loads(contents)\n",
    "    data = json_ob['response']['body']['items']['item']\n",
    "    city_code_df = pd.json_normalize(data)\n",
    "    return city_code_df"
   ]
  },
  {
   "cell_type": "code",
   "execution_count": 13,
   "metadata": {},
   "outputs": [],
   "source": [
    "city_code_df = get_city_code(key)\n",
    "city_code_df.to_csv('[버스정류소정보]도시코드_목록_조회.csv')"
   ]
  },
  {
   "cell_type": "markdown",
   "metadata": {},
   "source": [
    "## 1-2. 정류소번호 목록조회"
   ]
  },
  {
   "cell_type": "code",
   "execution_count": 24,
   "metadata": {},
   "outputs": [],
   "source": [
    "def get_api_conts_2(key,city_code):\n",
    "    \n",
    "    url = 'https://apis.data.go.kr/1613000/BusSttnInfoInqireService/getSttnNoList?serviceKey=%s&pageNo=1&numOfRows=1000000&_type=json&cityCode=%s'%(key,str(city_code) )\n",
    "    \n",
    "    response = requests.get(url, verify=False)\n",
    "    contents = response.text\n",
    "    json_ob = json.loads(contents)\n",
    "    data = json_ob['response']['body']['items']['item']\n",
    "    return data"
   ]
  },
  {
   "cell_type": "code",
   "execution_count": null,
   "metadata": {},
   "outputs": [
    {
     "name": "stderr",
     "output_type": "stream",
     "text": [
      " 36%|████████████████████████████▊                                                    | 47/132 [00:34<00:51,  1.66it/s]"
     ]
    },
    {
     "name": "stdout",
     "output_type": "stream",
     "text": [
      "32370\n"
     ]
    },
    {
     "name": "stderr",
     "output_type": "stream",
     "text": [
      " 64%|███████████████████████████████████████████████████▌                             | 84/132 [01:03<00:35,  1.33it/s]"
     ]
    }
   ],
   "source": [
    "stop_num = []\n",
    "for i in tqdm(city_code_df['citycode']):\n",
    "    try:\n",
    "        js = get_api_conts_2(key,i)\n",
    "        stop_num.append(js)\n",
    "    except:\n",
    "        print(i)\n",
    "        pass\n"
   ]
  },
  {
   "cell_type": "code",
   "execution_count": 35,
   "metadata": {},
   "outputs": [],
   "source": [
    "stop_num_li = []\n",
    "for i in range(len(stop_num)):\n",
    "    for item in stop_num[i]:\n",
    "        stop_num_li.append(item)\n",
    "        "
   ]
  },
  {
   "cell_type": "code",
   "execution_count": 37,
   "metadata": {},
   "outputs": [],
   "source": [
    "stop_num_df = pd.json_normalize(stop_num_li)\n",
    "stop_num_df.to_csv('[버스정류소정보]정류소번호_목록.csv')"
   ]
  }
 ],
 "metadata": {
  "kernelspec": {
   "display_name": "Python 3 (ipykernel)",
   "language": "python",
   "name": "python3"
  },
  "language_info": {
   "codemirror_mode": {
    "name": "ipython",
    "version": 3
   },
   "file_extension": ".py",
   "mimetype": "text/x-python",
   "name": "python",
   "nbconvert_exporter": "python",
   "pygments_lexer": "ipython3",
   "version": "3.9.12"
  },
  "vscode": {
   "interpreter": {
    "hash": "a077222d77dfe082b8f1dd562ad70e458ac2ab76993a0b248ab0476e32e9e8dd"
   }
  }
 },
 "nbformat": 4,
 "nbformat_minor": 2
}
