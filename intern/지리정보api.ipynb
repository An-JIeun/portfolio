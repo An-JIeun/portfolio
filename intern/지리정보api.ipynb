{
 "cells": [
  {
   "cell_type": "code",
   "execution_count": 1,
   "metadata": {},
   "outputs": [],
   "source": [
    "import requests\n",
    "import pprint\n",
    "import json\n",
    "import pandas as pd\n",
    "from datetime import datetime,  timedelta\n",
    "import tqdm \n",
    "from tqdm import tqdm\n",
    "\n",
    "import warnings\n",
    "warnings.filterwarnings('ignore')\n",
    "\n",
    "key = '7bBeVcu1HiKEYVutnwGstfISHvCJKzXcizQ2iFZlhBCaQobHPqOod8G%2BcwO05R81TptPWRtVcKUSqmhqOqCGXQ%3D%3D'\n"
   ]
  },
  {
   "cell_type": "markdown",
   "metadata": {},
   "source": [
    "# 1. 국토교통부_(TAGO)_버스정류소정보"
   ]
  },
  {
   "cell_type": "markdown",
   "metadata": {},
   "source": [
    "## 1-1. 도시코드 목록 조회"
   ]
  },
  {
   "cell_type": "code",
   "execution_count": 2,
   "metadata": {},
   "outputs": [],
   "source": [
    "def get_city_code(key):\n",
    "    \n",
    "    url = 'https://apis.data.go.kr/1613000/BusSttnInfoInqireService/getCtyCodeList?serviceKey=%s&_type=json'%key    \n",
    "    response = requests.get(url, verify=False)\n",
    "    contents = response.text\n",
    "    json_ob = json.loads(contents)\n",
    "    data = json_ob['response']['body']['items']['item']\n",
    "    city_code_df = pd.json_normalize(data)\n",
    "    return city_code_df"
   ]
  },
  {
   "cell_type": "code",
   "execution_count": 3,
   "metadata": {},
   "outputs": [],
   "source": [
    "city_code_df = get_city_code(key)"
   ]
  },
  {
   "cell_type": "markdown",
   "metadata": {},
   "source": [
    "## 1-2. 정류소번호 목록조회"
   ]
  },
  {
   "cell_type": "code",
   "execution_count": 4,
   "metadata": {},
   "outputs": [],
   "source": [
    "def get_api_conts_2(key,city_code):\n",
    "    \n",
    "    url = 'https://apis.data.go.kr/1613000/BusSttnInfoInqireService/getSttnNoList?serviceKey=%s&pageNo=1&numOfRows=1000000&_type=json&cityCode=%s'%(key,str(city_code) )\n",
    "    \n",
    "    response = requests.get(url, verify=False)\n",
    "    contents = response.text\n",
    "    json_ob = json.loads(contents)\n",
    "    data = json_ob['response']['body']['items']['item']\n",
    "    return data"
   ]
  },
  {
   "cell_type": "code",
   "execution_count": 5,
   "metadata": {},
   "outputs": [
    {
     "name": "stderr",
     "output_type": "stream",
     "text": [
      " 36%|████████████████████████████▊                                                    | 47/132 [00:33<00:47,  1.80it/s]"
     ]
    },
    {
     "name": "stdout",
     "output_type": "stream",
     "text": [
      "32370\n"
     ]
    },
    {
     "name": "stderr",
     "output_type": "stream",
     "text": [
      "100%|████████████████████████████████████████████████████████████████████████████████| 132/132 [01:35<00:00,  1.39it/s]\n"
     ]
    }
   ],
   "source": [
    "stop_num = []\n",
    "for i in tqdm(city_code_df['citycode']):\n",
    "    try:\n",
    "        js = get_api_conts_2(key,i)\n",
    "\n",
    "        for item in js:\n",
    "            item['citycode'] = i\n",
    "            stop_num.append(item)\n",
    "    except:\n",
    "        print(i)\n",
    "        pass\n"
   ]
  },
  {
   "cell_type": "code",
   "execution_count": 6,
   "metadata": {},
   "outputs": [],
   "source": [
    "stop_num_df = pd.json_normalize(stop_num)"
   ]
  },
  {
   "cell_type": "code",
   "execution_count": 7,
   "metadata": {},
   "outputs": [
    {
     "data": {
      "text/html": [
       "<div>\n",
       "<style scoped>\n",
       "    .dataframe tbody tr th:only-of-type {\n",
       "        vertical-align: middle;\n",
       "    }\n",
       "\n",
       "    .dataframe tbody tr th {\n",
       "        vertical-align: top;\n",
       "    }\n",
       "\n",
       "    .dataframe thead th {\n",
       "        text-align: right;\n",
       "    }\n",
       "</style>\n",
       "<table border=\"1\" class=\"dataframe\">\n",
       "  <thead>\n",
       "    <tr style=\"text-align: right;\">\n",
       "      <th></th>\n",
       "      <th>gpslati</th>\n",
       "      <th>gpslong</th>\n",
       "      <th>nodeid</th>\n",
       "      <th>nodenm</th>\n",
       "      <th>nodeno</th>\n",
       "      <th>citycode</th>\n",
       "    </tr>\n",
       "  </thead>\n",
       "  <tbody>\n",
       "    <tr>\n",
       "      <th>0</th>\n",
       "      <td>36.63289</td>\n",
       "      <td>127.49071</td>\n",
       "      <td>SJB270000013</td>\n",
       "      <td>용두사지철당간</td>\n",
       "      <td>1611</td>\n",
       "      <td>12</td>\n",
       "    </tr>\n",
       "    <tr>\n",
       "      <th>1</th>\n",
       "      <td>36.629718</td>\n",
       "      <td>127.491301</td>\n",
       "      <td>SJB270000016</td>\n",
       "      <td>육거리</td>\n",
       "      <td>1614</td>\n",
       "      <td>12</td>\n",
       "    </tr>\n",
       "    <tr>\n",
       "      <th>2</th>\n",
       "      <td>36.627695</td>\n",
       "      <td>127.491016</td>\n",
       "      <td>SJB270000017</td>\n",
       "      <td>육거리시장</td>\n",
       "      <td>1625</td>\n",
       "      <td>12</td>\n",
       "    </tr>\n",
       "    <tr>\n",
       "      <th>3</th>\n",
       "      <td>36.627554</td>\n",
       "      <td>127.490673</td>\n",
       "      <td>SJB270000018</td>\n",
       "      <td>육거리시장</td>\n",
       "      <td>1626</td>\n",
       "      <td>12</td>\n",
       "    </tr>\n",
       "    <tr>\n",
       "      <th>4</th>\n",
       "      <td>36.629626</td>\n",
       "      <td>127.491113</td>\n",
       "      <td>SJB270000019</td>\n",
       "      <td>육거리.산림조합</td>\n",
       "      <td>1613</td>\n",
       "      <td>12</td>\n",
       "    </tr>\n",
       "    <tr>\n",
       "      <th>...</th>\n",
       "      <td>...</td>\n",
       "      <td>...</td>\n",
       "      <td>...</td>\n",
       "      <td>...</td>\n",
       "      <td>...</td>\n",
       "      <td>...</td>\n",
       "    </tr>\n",
       "    <tr>\n",
       "      <th>174418</th>\n",
       "      <td>35.589753</td>\n",
       "      <td>128.007505</td>\n",
       "      <td>TSB398000166</td>\n",
       "      <td>양지저전</td>\n",
       "      <td>3980166</td>\n",
       "      <td>38400</td>\n",
       "    </tr>\n",
       "    <tr>\n",
       "      <th>174419</th>\n",
       "      <td>35.604705</td>\n",
       "      <td>128.020357</td>\n",
       "      <td>TSB398000167</td>\n",
       "      <td>고삼</td>\n",
       "      <td>3980167</td>\n",
       "      <td>38400</td>\n",
       "    </tr>\n",
       "    <tr>\n",
       "      <th>174420</th>\n",
       "      <td>35.604661</td>\n",
       "      <td>128.020068</td>\n",
       "      <td>TSB398000168</td>\n",
       "      <td>고삼</td>\n",
       "      <td>3980168</td>\n",
       "      <td>38400</td>\n",
       "    </tr>\n",
       "    <tr>\n",
       "      <th>174421</th>\n",
       "      <td>35.610534</td>\n",
       "      <td>128.024177</td>\n",
       "      <td>TSB398000169</td>\n",
       "      <td>봉계</td>\n",
       "      <td>3980169</td>\n",
       "      <td>38400</td>\n",
       "    </tr>\n",
       "    <tr>\n",
       "      <th>174422</th>\n",
       "      <td>35.610665</td>\n",
       "      <td>128.024232</td>\n",
       "      <td>TSB398000170</td>\n",
       "      <td>봉계</td>\n",
       "      <td>3980170</td>\n",
       "      <td>38400</td>\n",
       "    </tr>\n",
       "  </tbody>\n",
       "</table>\n",
       "<p>174423 rows × 6 columns</p>\n",
       "</div>"
      ],
      "text/plain": [
       "          gpslati     gpslong        nodeid    nodenm   nodeno  citycode\n",
       "0        36.63289   127.49071  SJB270000013   용두사지철당간     1611        12\n",
       "1       36.629718  127.491301  SJB270000016       육거리     1614        12\n",
       "2       36.627695  127.491016  SJB270000017     육거리시장     1625        12\n",
       "3       36.627554  127.490673  SJB270000018     육거리시장     1626        12\n",
       "4       36.629626  127.491113  SJB270000019  육거리.산림조합     1613        12\n",
       "...           ...         ...           ...       ...      ...       ...\n",
       "174418  35.589753  128.007505  TSB398000166      양지저전  3980166     38400\n",
       "174419  35.604705  128.020357  TSB398000167        고삼  3980167     38400\n",
       "174420  35.604661  128.020068  TSB398000168        고삼  3980168     38400\n",
       "174421  35.610534  128.024177  TSB398000169        봉계  3980169     38400\n",
       "174422  35.610665  128.024232  TSB398000170        봉계  3980170     38400\n",
       "\n",
       "[174423 rows x 6 columns]"
      ]
     },
     "execution_count": 7,
     "metadata": {},
     "output_type": "execute_result"
    }
   ],
   "source": [
    "stop_num_df"
   ]
  },
  {
   "cell_type": "markdown",
   "metadata": {},
   "source": [
    "## 1-3. 정류소별경유노선 목록조회"
   ]
  },
  {
   "cell_type": "code",
   "execution_count": 8,
   "metadata": {},
   "outputs": [],
   "source": [
    "stop_id = city_code_df[['citycode']] # api 조회 시 필수적으로 필요한 정류소ID\n",
    "\n",
    "def get_api_conts_3(key,city_code):\n",
    "    \n",
    "    url = 'https://apis.data.go.kr/1613000/BusSttnInfoInqireService/getSttnThrghRouteList?serviceKey=%s&pageNo=1&numOfRows=1000000&_type=json&cityCode=%s'%(key,city_code)\n",
    "    \n",
    "    response = requests.get(url, verify=False)\n",
    "    contents = response.text\n",
    "    json_ob = json.loads(contents)\n",
    "    data = json_ob['response']['body']['items']['item']\n",
    "    return data"
   ]
  },
  {
   "cell_type": "code",
   "execution_count": 9,
   "metadata": {},
   "outputs": [
    {
     "name": "stderr",
     "output_type": "stream",
     "text": [
      "100%|████████████████████████████████████████████████████████████████████████████████| 132/132 [01:49<00:00,  1.20it/s]\n"
     ]
    }
   ],
   "source": [
    "route = []\n",
    "for i in tqdm(range(len(stop_id))):\n",
    "    try:\n",
    "        js = get_api_conts_3(key,stop_id['citycode'][i])\n",
    "        for item in js:\n",
    "            route.append(item)\n",
    "    except:\n",
    "        pass\n"
   ]
  },
  {
   "cell_type": "code",
   "execution_count": 10,
   "metadata": {},
   "outputs": [
    {
     "data": {
      "text/html": [
       "<div>\n",
       "<style scoped>\n",
       "    .dataframe tbody tr th:only-of-type {\n",
       "        vertical-align: middle;\n",
       "    }\n",
       "\n",
       "    .dataframe tbody tr th {\n",
       "        vertical-align: top;\n",
       "    }\n",
       "\n",
       "    .dataframe thead th {\n",
       "        text-align: right;\n",
       "    }\n",
       "</style>\n",
       "<table border=\"1\" class=\"dataframe\">\n",
       "  <thead>\n",
       "    <tr style=\"text-align: right;\">\n",
       "      <th></th>\n",
       "      <th>endnodenm</th>\n",
       "      <th>routeid</th>\n",
       "      <th>routeno</th>\n",
       "      <th>routetp</th>\n",
       "      <th>startnodenm</th>\n",
       "    </tr>\n",
       "  </thead>\n",
       "  <tbody>\n",
       "    <tr>\n",
       "      <th>0</th>\n",
       "      <td>세종고속시외버스터미널</td>\n",
       "      <td>SJB293000024</td>\n",
       "      <td>430</td>\n",
       "      <td>간선버스</td>\n",
       "      <td>가톨릭꽃동네대학교</td>\n",
       "    </tr>\n",
       "    <tr>\n",
       "      <th>1</th>\n",
       "      <td>조치원역</td>\n",
       "      <td>SJB293000029</td>\n",
       "      <td>550</td>\n",
       "      <td>간선버스</td>\n",
       "      <td>산성동종점</td>\n",
       "    </tr>\n",
       "    <tr>\n",
       "      <th>2</th>\n",
       "      <td>산성시장</td>\n",
       "      <td>SJB293000030</td>\n",
       "      <td>551</td>\n",
       "      <td>지선버스</td>\n",
       "      <td>조치원역</td>\n",
       "    </tr>\n",
       "    <tr>\n",
       "      <th>3</th>\n",
       "      <td>조치원역</td>\n",
       "      <td>SJB293000033</td>\n",
       "      <td>601</td>\n",
       "      <td>간선버스</td>\n",
       "      <td>새나루마을9,10단지</td>\n",
       "    </tr>\n",
       "    <tr>\n",
       "      <th>4</th>\n",
       "      <td>세종고속시외버스터미널</td>\n",
       "      <td>SJB293000039</td>\n",
       "      <td>655</td>\n",
       "      <td>광역버스</td>\n",
       "      <td>충남대학교</td>\n",
       "    </tr>\n",
       "    <tr>\n",
       "      <th>...</th>\n",
       "      <td>...</td>\n",
       "      <td>...</td>\n",
       "      <td>...</td>\n",
       "      <td>...</td>\n",
       "      <td>...</td>\n",
       "    </tr>\n",
       "    <tr>\n",
       "      <th>19750</th>\n",
       "      <td>합천터미널</td>\n",
       "      <td>TSB398000169</td>\n",
       "      <td>660-1</td>\n",
       "      <td>농어촌(일반)버스</td>\n",
       "      <td>합천터미널</td>\n",
       "    </tr>\n",
       "    <tr>\n",
       "      <th>19751</th>\n",
       "      <td>합천터미널</td>\n",
       "      <td>TSB398000170</td>\n",
       "      <td>670-2</td>\n",
       "      <td>농어촌(일반)버스</td>\n",
       "      <td>합천터미널</td>\n",
       "    </tr>\n",
       "    <tr>\n",
       "      <th>19752</th>\n",
       "      <td>합천터미널</td>\n",
       "      <td>TSB398000171</td>\n",
       "      <td>810-3</td>\n",
       "      <td>농어촌(일반)버스</td>\n",
       "      <td>부림면정류장</td>\n",
       "    </tr>\n",
       "    <tr>\n",
       "      <th>19753</th>\n",
       "      <td>합천터미널</td>\n",
       "      <td>TSB398000172</td>\n",
       "      <td>110-13</td>\n",
       "      <td>농어촌(일반)버스</td>\n",
       "      <td>부림면정류장</td>\n",
       "    </tr>\n",
       "    <tr>\n",
       "      <th>19754</th>\n",
       "      <td>박곡</td>\n",
       "      <td>TSB398000173</td>\n",
       "      <td>120-7</td>\n",
       "      <td>농어촌(일반)버스</td>\n",
       "      <td>아막</td>\n",
       "    </tr>\n",
       "  </tbody>\n",
       "</table>\n",
       "<p>19755 rows × 5 columns</p>\n",
       "</div>"
      ],
      "text/plain": [
       "         endnodenm       routeid routeno    routetp  startnodenm\n",
       "0      세종고속시외버스터미널  SJB293000024     430       간선버스    가톨릭꽃동네대학교\n",
       "1             조치원역  SJB293000029     550       간선버스        산성동종점\n",
       "2             산성시장  SJB293000030     551       지선버스         조치원역\n",
       "3             조치원역  SJB293000033     601       간선버스  새나루마을9,10단지\n",
       "4      세종고속시외버스터미널  SJB293000039     655       광역버스        충남대학교\n",
       "...            ...           ...     ...        ...          ...\n",
       "19750        합천터미널  TSB398000169   660-1  농어촌(일반)버스        합천터미널\n",
       "19751        합천터미널  TSB398000170   670-2  농어촌(일반)버스        합천터미널\n",
       "19752        합천터미널  TSB398000171   810-3  농어촌(일반)버스       부림면정류장\n",
       "19753        합천터미널  TSB398000172  110-13  농어촌(일반)버스       부림면정류장\n",
       "19754           박곡  TSB398000173   120-7  농어촌(일반)버스           아막\n",
       "\n",
       "[19755 rows x 5 columns]"
      ]
     },
     "execution_count": 10,
     "metadata": {},
     "output_type": "execute_result"
    }
   ],
   "source": [
    "route_df = pd.json_normalize(route)\n",
    "route_df"
   ]
  },
  {
   "cell_type": "markdown",
   "metadata": {},
   "source": [
    "## 1-4 컬럼명 정리 후 다운로드"
   ]
  },
  {
   "cell_type": "code",
   "execution_count": 11,
   "metadata": {},
   "outputs": [
    {
     "ename": "ValueError",
     "evalue": "Length mismatch: Expected axis has 6 elements, new values have 5 elements",
     "output_type": "error",
     "traceback": [
      "\u001b[1;31m---------------------------------------------------------------------------\u001b[0m",
      "\u001b[1;31mValueError\u001b[0m                                Traceback (most recent call last)",
      "Input \u001b[1;32mIn [11]\u001b[0m, in \u001b[0;36m<cell line: 4>\u001b[1;34m()\u001b[0m\n\u001b[0;32m      1\u001b[0m city_code_df\u001b[38;5;241m.\u001b[39mcolumns \u001b[38;5;241m=\u001b[39m [\u001b[38;5;124m'\u001b[39m\u001b[38;5;124m도시코드\u001b[39m\u001b[38;5;124m'\u001b[39m,\u001b[38;5;124m'\u001b[39m\u001b[38;5;124m도시명\u001b[39m\u001b[38;5;124m'\u001b[39m]\n\u001b[0;32m      2\u001b[0m city_code_df\u001b[38;5;241m.\u001b[39mto_csv(\u001b[38;5;124m'\u001b[39m\u001b[38;5;124m[버스정류소정보]도시코드_목록_조회.csv\u001b[39m\u001b[38;5;124m'\u001b[39m)\n\u001b[1;32m----> 4\u001b[0m stop_num_df\u001b[38;5;241m.\u001b[39mcolumns \u001b[38;5;241m=\u001b[39m [\u001b[38;5;124m'\u001b[39m\u001b[38;5;124m정류소 Y좌표\u001b[39m\u001b[38;5;124m'\u001b[39m,\u001b[38;5;124m'\u001b[39m\u001b[38;5;124m정류소 X좌표\u001b[39m\u001b[38;5;124m'\u001b[39m,\u001b[38;5;124m'\u001b[39m\u001b[38;5;124m정류소 ID\u001b[39m\u001b[38;5;124m'\u001b[39m,\u001b[38;5;124m'\u001b[39m\u001b[38;5;124m정류소명\u001b[39m\u001b[38;5;124m'\u001b[39m,\u001b[38;5;124m'\u001b[39m\u001b[38;5;124m도시코드\u001b[39m\u001b[38;5;124m'\u001b[39m]\n\u001b[0;32m      5\u001b[0m stop_num_df\u001b[38;5;241m.\u001b[39mto_csv(\u001b[38;5;124m'\u001b[39m\u001b[38;5;124m[버스정류소정보]정류소번호_목록.csv\u001b[39m\u001b[38;5;124m'\u001b[39m)\n\u001b[0;32m      7\u001b[0m route_df\u001b[38;5;241m.\u001b[39mcolumns \u001b[38;5;241m=\u001b[39m [\u001b[38;5;124m'\u001b[39m\u001b[38;5;124m종점\u001b[39m\u001b[38;5;124m'\u001b[39m,\u001b[38;5;124m'\u001b[39m\u001b[38;5;124m노선ID\u001b[39m\u001b[38;5;124m'\u001b[39m,\u001b[38;5;124m'\u001b[39m\u001b[38;5;124m노선번호\u001b[39m\u001b[38;5;124m'\u001b[39m,\u001b[38;5;124m'\u001b[39m\u001b[38;5;124m노선유형\u001b[39m\u001b[38;5;124m'\u001b[39m,\u001b[38;5;124m'\u001b[39m\u001b[38;5;124m기점\u001b[39m\u001b[38;5;124m'\u001b[39m]\n",
      "File \u001b[1;32m~\\anaconda3\\lib\\site-packages\\pandas\\core\\generic.py:5588\u001b[0m, in \u001b[0;36mNDFrame.__setattr__\u001b[1;34m(self, name, value)\u001b[0m\n\u001b[0;32m   5586\u001b[0m \u001b[38;5;28;01mtry\u001b[39;00m:\n\u001b[0;32m   5587\u001b[0m     \u001b[38;5;28mobject\u001b[39m\u001b[38;5;241m.\u001b[39m\u001b[38;5;21m__getattribute__\u001b[39m(\u001b[38;5;28mself\u001b[39m, name)\n\u001b[1;32m-> 5588\u001b[0m     \u001b[38;5;28;01mreturn\u001b[39;00m \u001b[38;5;28;43mobject\u001b[39;49m\u001b[38;5;241;43m.\u001b[39;49m\u001b[38;5;21;43m__setattr__\u001b[39;49m\u001b[43m(\u001b[49m\u001b[38;5;28;43mself\u001b[39;49m\u001b[43m,\u001b[49m\u001b[43m \u001b[49m\u001b[43mname\u001b[49m\u001b[43m,\u001b[49m\u001b[43m \u001b[49m\u001b[43mvalue\u001b[49m\u001b[43m)\u001b[49m\n\u001b[0;32m   5589\u001b[0m \u001b[38;5;28;01mexcept\u001b[39;00m \u001b[38;5;167;01mAttributeError\u001b[39;00m:\n\u001b[0;32m   5590\u001b[0m     \u001b[38;5;28;01mpass\u001b[39;00m\n",
      "File \u001b[1;32m~\\anaconda3\\lib\\site-packages\\pandas\\_libs\\properties.pyx:70\u001b[0m, in \u001b[0;36mpandas._libs.properties.AxisProperty.__set__\u001b[1;34m()\u001b[0m\n",
      "File \u001b[1;32m~\\anaconda3\\lib\\site-packages\\pandas\\core\\generic.py:769\u001b[0m, in \u001b[0;36mNDFrame._set_axis\u001b[1;34m(self, axis, labels)\u001b[0m\n\u001b[0;32m    767\u001b[0m \u001b[38;5;28;01mdef\u001b[39;00m \u001b[38;5;21m_set_axis\u001b[39m(\u001b[38;5;28mself\u001b[39m, axis: \u001b[38;5;28mint\u001b[39m, labels: Index) \u001b[38;5;241m-\u001b[39m\u001b[38;5;241m>\u001b[39m \u001b[38;5;28;01mNone\u001b[39;00m:\n\u001b[0;32m    768\u001b[0m     labels \u001b[38;5;241m=\u001b[39m ensure_index(labels)\n\u001b[1;32m--> 769\u001b[0m     \u001b[38;5;28;43mself\u001b[39;49m\u001b[38;5;241;43m.\u001b[39;49m\u001b[43m_mgr\u001b[49m\u001b[38;5;241;43m.\u001b[39;49m\u001b[43mset_axis\u001b[49m\u001b[43m(\u001b[49m\u001b[43maxis\u001b[49m\u001b[43m,\u001b[49m\u001b[43m \u001b[49m\u001b[43mlabels\u001b[49m\u001b[43m)\u001b[49m\n\u001b[0;32m    770\u001b[0m     \u001b[38;5;28mself\u001b[39m\u001b[38;5;241m.\u001b[39m_clear_item_cache()\n",
      "File \u001b[1;32m~\\anaconda3\\lib\\site-packages\\pandas\\core\\internals\\managers.py:214\u001b[0m, in \u001b[0;36mBaseBlockManager.set_axis\u001b[1;34m(self, axis, new_labels)\u001b[0m\n\u001b[0;32m    212\u001b[0m \u001b[38;5;28;01mdef\u001b[39;00m \u001b[38;5;21mset_axis\u001b[39m(\u001b[38;5;28mself\u001b[39m, axis: \u001b[38;5;28mint\u001b[39m, new_labels: Index) \u001b[38;5;241m-\u001b[39m\u001b[38;5;241m>\u001b[39m \u001b[38;5;28;01mNone\u001b[39;00m:\n\u001b[0;32m    213\u001b[0m     \u001b[38;5;66;03m# Caller is responsible for ensuring we have an Index object.\u001b[39;00m\n\u001b[1;32m--> 214\u001b[0m     \u001b[38;5;28;43mself\u001b[39;49m\u001b[38;5;241;43m.\u001b[39;49m\u001b[43m_validate_set_axis\u001b[49m\u001b[43m(\u001b[49m\u001b[43maxis\u001b[49m\u001b[43m,\u001b[49m\u001b[43m \u001b[49m\u001b[43mnew_labels\u001b[49m\u001b[43m)\u001b[49m\n\u001b[0;32m    215\u001b[0m     \u001b[38;5;28mself\u001b[39m\u001b[38;5;241m.\u001b[39maxes[axis] \u001b[38;5;241m=\u001b[39m new_labels\n",
      "File \u001b[1;32m~\\anaconda3\\lib\\site-packages\\pandas\\core\\internals\\base.py:69\u001b[0m, in \u001b[0;36mDataManager._validate_set_axis\u001b[1;34m(self, axis, new_labels)\u001b[0m\n\u001b[0;32m     66\u001b[0m     \u001b[38;5;28;01mpass\u001b[39;00m\n\u001b[0;32m     68\u001b[0m \u001b[38;5;28;01melif\u001b[39;00m new_len \u001b[38;5;241m!=\u001b[39m old_len:\n\u001b[1;32m---> 69\u001b[0m     \u001b[38;5;28;01mraise\u001b[39;00m \u001b[38;5;167;01mValueError\u001b[39;00m(\n\u001b[0;32m     70\u001b[0m         \u001b[38;5;124mf\u001b[39m\u001b[38;5;124m\"\u001b[39m\u001b[38;5;124mLength mismatch: Expected axis has \u001b[39m\u001b[38;5;132;01m{\u001b[39;00mold_len\u001b[38;5;132;01m}\u001b[39;00m\u001b[38;5;124m elements, new \u001b[39m\u001b[38;5;124m\"\u001b[39m\n\u001b[0;32m     71\u001b[0m         \u001b[38;5;124mf\u001b[39m\u001b[38;5;124m\"\u001b[39m\u001b[38;5;124mvalues have \u001b[39m\u001b[38;5;132;01m{\u001b[39;00mnew_len\u001b[38;5;132;01m}\u001b[39;00m\u001b[38;5;124m elements\u001b[39m\u001b[38;5;124m\"\u001b[39m\n\u001b[0;32m     72\u001b[0m     )\n",
      "\u001b[1;31mValueError\u001b[0m: Length mismatch: Expected axis has 6 elements, new values have 5 elements"
     ]
    }
   ],
   "source": [
    "city_code_df.columns = ['도시코드','도시명']\n",
    "city_code_df.to_csv('[버스정류소정보]도시코드_목록_조회.csv')\n",
    "\n",
    "stop_num_df.columns = ['정류소 Y좌표','정류소 X좌표','정류소 ID','정류소명','도시코드']\n",
    "stop_num_df.to_csv('[버스정류소정보]정류소번호_목록.csv')\n",
    "\n",
    "route_df.columns = ['종점','노선ID','노선번호','노선유형','기점']\n",
    "route_df.to_csv('[버스정류소정보]정류소별경유노선_목록조회.csv')"
   ]
  },
  {
   "cell_type": "code",
   "execution_count": null,
   "metadata": {},
   "outputs": [],
   "source": []
  }
 ],
 "metadata": {
  "kernelspec": {
   "display_name": "Python 3 (ipykernel)",
   "language": "python",
   "name": "python3"
  },
  "language_info": {
   "codemirror_mode": {
    "name": "ipython",
    "version": 3
   },
   "file_extension": ".py",
   "mimetype": "text/x-python",
   "name": "python",
   "nbconvert_exporter": "python",
   "pygments_lexer": "ipython3",
   "version": "3.9.12"
  },
  "vscode": {
   "interpreter": {
    "hash": "a077222d77dfe082b8f1dd562ad70e458ac2ab76993a0b248ab0476e32e9e8dd"
   }
  }
 },
 "nbformat": 4,
 "nbformat_minor": 2
}
