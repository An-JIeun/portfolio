{
 "cells": [
  {
   "cell_type": "code",
   "execution_count": 1,
   "metadata": {},
   "outputs": [],
   "source": [
    "import requests\n",
    "import pprint\n",
    "import json\n",
    "import pandas as pd\n",
    "from datetime import datetime,  timedelta\n",
    "import tqdm \n",
    "from tqdm import tqdm\n",
    "\n",
    "import warnings\n",
    "warnings.filterwarnings('ignore')\n",
    "\n",
    "key = '7bBeVcu1HiKEYVutnwGstfISHvCJKzXcizQ2iFZlhBCaQobHPqOod8G%2BcwO05R81TptPWRtVcKUSqmhqOqCGXQ%3D%3D'"
   ]
  },
  {
   "cell_type": "markdown",
   "metadata": {},
   "source": [
    "#### data_type (유형별 발매 현황)\n",
    "- 발매채널별 승차권 발매 현황 : 'channel_sales'\n",
    "- SR 운영역 승차권 발매현황 : 'srt_station_sales'\n",
    "- 연도별 SR 승차권 발매현황 : 'yearly_sales'\n",
    "- 특실/일반실 승차인원 : 'room_class_passengers'"
   ]
  },
  {
   "cell_type": "code",
   "execution_count": 2,
   "metadata": {},
   "outputs": [],
   "source": [
    "# 총 데이터 수 구하는 함수\n",
    "def getTotalCnt(data_type, PK):\n",
    "    url = 'https://apis.data.go.kr/B553912/tk_sales/v1/%s?serviceKey=%s&page=1&perPage=10&returnType=JSON&cond[RUN_YMD::LT]=20220101&cond[RUN_YMD::LTE]=20220101&cond[RUN_YMD::GT]=20220101&cond[RUN_YMD::GTE]=20220101'%(data_type, PK)\n",
    "    response = requests.get(url, verify=False)\n",
    "    contents = response.text\n",
    "    json_ob = json.loads(contents)\n",
    "    cnt = int(json_ob['totalCount'])\n",
    "    return cnt"
   ]
  },
  {
   "cell_type": "markdown",
   "metadata": {},
   "source": [
    "### getAPIconts\n",
    "---\n",
    "> __객실 등급별__\n",
    "> - RUN_YM -> URL의 날짜 설정이 YMD가 아님\n",
    "\n",
    "> __연도별__\n",
    "> - 조회 사이트에서 API 링크를 구함(특수기호가 디코드되어 있음)\n",
    "\n",
    "> __기타__\n",
    "> - YMD 형식\n"
   ]
  },
  {
   "cell_type": "code",
   "execution_count": 3,
   "metadata": {},
   "outputs": [],
   "source": [
    "# api 컨텐츠(json - data) 받아오는 함수\n",
    "def getAPIconts(data_type, PK, page):\n",
    "    \n",
    "    # 최근 일자 구하기(전날)\n",
    "    yesterday = datetime.today() - timedelta(1) # 가장 최신 일자 (어제)\n",
    "    yesterday = yesterday.strftime(\"%Y%m%d\")\n",
    "    \n",
    "    # 유형별 URL 조합하기\n",
    "    if data_type == 'room_class_passengers':\n",
    "        url = 'https://apis.data.go.kr/B553912/tk_sales/v1/%s?serviceKey=%s&page=%s&perPage=10000&returnType=JSON&cond[RUN_YM::LT]=%s&cond[RUN_YM::LTE]=%s&cond[RUN_YM::GT]=20220801&cond[RUN_YM::GTE]=20220801'%(data_type, key,str(page), yesterday, yesterday) \n",
    "    elif data_type == 'yearly_sales':\n",
    "        url = 'https://apis.data.go.kr/B553912/tk_sales/v1/yearly_sales?page=1&perPage=10000&cond%5BRUN_YR%3A%3AGTE%5D=2022&cond%5BRUN_YR%3A%3ALTE%5D=2023&serviceKey=B7y6mnXwYiqT8J24zK9IAyF7EGDjLktqZMwR%2F0h8yg6Tq6Scw%2Fj5naZkQIInZ6b2iM%2B6Ndvk%2FFrG4qoTK3gK1Q%3D%3D' \n",
    "    else:\n",
    "        url = 'https://apis.data.go.kr/B553912/tk_sales/v1/%s?serviceKey=%s&page=%s&perPage=10000&returnType=JSON&cond[RUN_YMD::LT]=%s&cond[RUN_YMD::LTE]=%s&cond[RUN_YMD::GT]=20220801&cond[RUN_YMD::GTE]=20220801'%(data_type, key,str(page),yesterday, yesterday)\n",
    "    \n",
    "    # API 호출하기\n",
    "    response = requests.get(url, verify=False)\n",
    "    contents = response.text\n",
    "    json_ob = json.loads(contents)\n",
    "    data = json_ob['data']\n",
    "    \n",
    "    return data"
   ]
  },
  {
   "cell_type": "markdown",
   "metadata": {},
   "source": [
    "### API 가져오기\n",
    "---\n",
    "> __발매 채널별 / SR 운영역 별 - 10000개 이상 데이터__ \n",
    ">    - 위에서 구한 총 데이터 수량으로 페이지 수 구함\n",
    "\n",
    "> __연도별 / 객실 등급별__\n",
    "> - 페이지 1로 고정\n",
    "\n",
    "> __공통__\n",
    ">    - 한 페이지 당  10000개 씩 로드\n",
    ">    - 최근 데이터 : 기준일로부터 이틀 전"
   ]
  },
  {
   "cell_type": "code",
   "execution_count": 4,
   "metadata": {},
   "outputs": [],
   "source": [
    "# 발매 채널별\n",
    "channel_sale = []\n",
    "cnt = getTotalCnt('channel_sales', key)\n",
    "page = int(cnt/10000) + 1\n",
    "for i in range(1,page+1):\n",
    "    js = getAPIconts('channel_sales', key,i)\n",
    "    for item in js:\n",
    "        channel_sale.append(item)\n",
    "\n",
    "# SR 운영역별        \n",
    "sr_station_sale = []\n",
    "cnt = getTotalCnt('srt_station_sales', key)\n",
    "page = int(cnt/10000) + 1\n",
    "for i in range(1, page+1):\n",
    "    js = getAPIconts('srt_station_sales', key,i)\n",
    "    for item in js:\n",
    "        sr_station_sale.append(item)\n",
    "\n",
    "# 연도별\n",
    "yearly_sale = getAPIconts('yearly_sales', key, 1)\n",
    "\n",
    "# 좌석 등급별\n",
    "roomclass_sale = getAPIconts('room_class_passengers', key,1)"
   ]
  },
  {
   "cell_type": "markdown",
   "metadata": {},
   "source": [
    "### 데이터 프레임 변환"
   ]
  },
  {
   "cell_type": "code",
   "execution_count": 5,
   "metadata": {},
   "outputs": [],
   "source": [
    "channel_sale_df = pd.json_normalize(channel_sale)\n",
    "sr_station_sale_df = pd.json_normalize(sr_station_sale)\n",
    "yearly_sale_df = pd.json_normalize(yearly_sale)\n",
    "roomclass_sale_df = pd.json_normalize(roomclass_sale)\n"
   ]
  }
 ],
 "metadata": {
  "kernelspec": {
   "display_name": "base",
   "language": "python",
   "name": "python3"
  },
  "language_info": {
   "codemirror_mode": {
    "name": "ipython",
    "version": 3
   },
   "file_extension": ".py",
   "mimetype": "text/x-python",
   "name": "python",
   "nbconvert_exporter": "python",
   "pygments_lexer": "ipython3",
   "version": "3.9.12"
  },
  "vscode": {
   "interpreter": {
    "hash": "a077222d77dfe082b8f1dd562ad70e458ac2ab76993a0b248ab0476e32e9e8dd"
   }
  }
 },
 "nbformat": 4,
 "nbformat_minor": 2
}
